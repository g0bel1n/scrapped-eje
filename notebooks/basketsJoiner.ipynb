{
 "cells": [
  {
   "cell_type": "code",
   "execution_count": 10,
   "metadata": {},
   "outputs": [],
   "source": [
    "import pandas as pd\n",
    "import seaborn as sns\n",
    "import matplotlib.pyplot as plt\n",
    "import itertools\n",
    "import os\n",
    "from pathlib import Path\n",
    "\n",
    "\n",
    "\n",
    "import numpy as np\n",
    "\n",
    "if \"root\" not in locals():\n",
    "    current_path = Path(os.getcwd())\n",
    "    root = current_path.parent.absolute()\n",
    "os.chdir(root)\n",
    "\n",
    "from src.preprocessing import preprocessVesCoDf, preprocessVintedDf, dropWrongArticles, categoriseMarque\n",
    "sns.set_style('whitegrid')\n",
    "\n",
    "import matplotlib.pyplot as plt\n",
    "sns.set(rc={'figure.figsize':(10,5)})"
   ]
  },
  {
   "cell_type": "code",
   "execution_count": 11,
   "metadata": {},
   "outputs": [],
   "source": [
    "df_vinted = pd.read_csv('src/data/raw/vintedBaskets.csv').drop(['Unnamed: 0'], axis=1, inplace=False)\n",
    "df_vesco = pd.read_csv('src/data/raw/VestCoBaskets.csv').drop(['Unnamed: 0'], axis=1, inplace=False)"
   ]
  },
  {
   "cell_type": "code",
   "execution_count": 12,
   "metadata": {},
   "outputs": [],
   "source": [
    "df_vesco = preprocessVesCoDf(df_vesco)\n",
    "df_vinted = preprocessVintedDf(df_vinted)"
   ]
  },
  {
   "cell_type": "code",
   "execution_count": 13,
   "metadata": {},
   "outputs": [],
   "source": [
    "df_vinted = dropWrongArticles(['baskets', 'Baskets'], ['Description', 'nom'], df_vinted)\n",
    "df_vesco = dropWrongArticles(['baskets', 'Baskets', 'basket', 'sneakers'], ['Description'], df_vesco)"
   ]
  },
  {
   "cell_type": "code",
   "execution_count": 14,
   "metadata": {},
   "outputs": [],
   "source": [
    "df = pd.concat([df_vinted , df_vesco])"
   ]
  },
  {
   "cell_type": "code",
   "execution_count": 16,
   "metadata": {},
   "outputs": [],
   "source": [
    "df.Marque = df.Marque.apply(lambda x: x[:-1] if x[-1]==' ' else x)"
   ]
  },
  {
   "cell_type": "code",
   "execution_count": 17,
   "metadata": {},
   "outputs": [
    {
     "data": {
      "text/plain": [
       "array(['PLEIN SPORT', 'KAPPA', 'BALENCIAGA', 'ADIDAS', 'HEELYS', 'NIKE',\n",
       "       'GEOX', 'BONS BAISERS DE PANAME', 'KIDS BY GÉMO',\n",
       "       'MARC BY MARC JACOBS', 'ÉRAM', 'VANESSA WU', 'STEVE MADDEN',\n",
       "       'LE TEMPS DES CERISES', 'LACOSTE', 'MOLLY BRACKEN', 'PUMA',\n",
       "       'SKECHERS', 'CONVERSE', 'GLOBE', 'AUTRE TON', 'REMONTE SOFT',\n",
       "       'FOREVER FOLIE', 'CETTI', 'LOTTO', 'ANDRÉ', 'GOLA',\n",
       "       'BOUTIQUE PARISIENNE', 'ELLESSE', \"TOD'S\", 'VANS', 'LE LISSIER',\n",
       "       'KARL LAGERFELD', 'K-SWISS', 'AIR FORCE', 'ARTENGO', 'NIKE AIR',\n",
       "       'TOMMY SPORT', 'REEBOK', 'SANDRO', 'NEW BALANCE', 'BIANCO',\n",
       "       'DIESEL', 'LIBERTO', 'PHILIPP PLEIN', 'JORDAN', 'JIM RICKEY',\n",
       "       'FILA', 'IDEAL SHOES', 'W6YZ', 'ASICS', 'CATWALK',\n",
       "       'ADIDAS ORIGINALS', 'STUDIO CELESTE', 'ALEXANDER MCQUEEN',\n",
       "       'VALENTINO GARAVANI', 'BURBERRY', 'CELINE', 'LANVIN', 'PRADA',\n",
       "       'JIMMY CHOO', 'HOGAN', 'VEJA', 'DISNEY X GUCCI', 'FURLA',\n",
       "       'MOSCHINO LOVE', 'CESARE PACIOTTI', 'BABY DIOR', 'BALLY',\n",
       "       'SANTONI', 'MIU MIU', 'SAINT LAURENT', 'POLO RALPH LAUREN',\n",
       "       'PIERRE HARDY', 'PHILIPPE MODEL', 'HARRYS OF LONDON', 'DIOR HOMME',\n",
       "       'DC SHOES', 'KENZO', 'GUCCI', 'LOUIS VUITTON', 'ACNE STUDIOS',\n",
       "       'COACH', 'PAUL&SHARK', 'SERGIO ROSSI', 'GIUSEPPE ZANOTTI',\n",
       "       'CHRISTIAN LOUBOUTIN', 'CANDICE COOPER', 'LIVIANA CONTI',\n",
       "       'TORY BURCH', 'DOLCE & GABBANA', 'MOSCHINO', 'YOHJI YAMAMOTO',\n",
       "       'MAISON MARTIN MARGIELA', 'P448', 'NON SIGNÉ / UNSIGNED',\n",
       "       'BOTTEGA VENETA', 'DR. MARTENS', 'CARVEN', 'LOEFFLER RANDALL',\n",
       "       'THE ROW'], dtype=object)"
      ]
     },
     "execution_count": 17,
     "metadata": {},
     "output_type": "execute_result"
    }
   ],
   "source": [
    "df.Marque.unique()"
   ]
  },
  {
   "cell_type": "code",
   "execution_count": 18,
   "metadata": {},
   "outputs": [],
   "source": [
    "df['cat'] = df.apply(categoriseMarque, axis=1)"
   ]
  },
  {
   "cell_type": "code",
   "execution_count": 19,
   "metadata": {},
   "outputs": [
    {
     "data": {
      "text/plain": [
       "État           156\n",
       "Marque         156\n",
       "Date           156\n",
       "nom             78\n",
       "Prix           156\n",
       "Description    156\n",
       "cat            156\n",
       "dtype: int64"
      ]
     },
     "execution_count": 19,
     "metadata": {},
     "output_type": "execute_result"
    }
   ],
   "source": [
    "df[df.cat != 'Undefined'].count()"
   ]
  },
  {
   "cell_type": "code",
   "execution_count": 44,
   "metadata": {},
   "outputs": [
    {
     "data": {
      "text/plain": [
       "45.0"
      ]
     },
     "execution_count": 44,
     "metadata": {},
     "output_type": "execute_result"
    }
   ],
   "source": [
    "df.Prix.quantile(1/3)"
   ]
  },
  {
   "cell_type": "code",
   "execution_count": 45,
   "metadata": {},
   "outputs": [
    {
     "data": {
      "text/plain": [
       "80.0"
      ]
     },
     "execution_count": 45,
     "metadata": {},
     "output_type": "execute_result"
    }
   ],
   "source": [
    "df.Prix.quantile(2/3)"
   ]
  },
  {
   "cell_type": "code",
   "execution_count": 21,
   "metadata": {},
   "outputs": [
    {
     "data": {
      "text/plain": [
       "160.0"
      ]
     },
     "execution_count": 21,
     "metadata": {},
     "output_type": "execute_result"
    }
   ],
   "source": [
    "df.Prix.quantile(0.84)"
   ]
  },
  {
   "cell_type": "code",
   "execution_count": 20,
   "metadata": {},
   "outputs": [],
   "source": [
    "df.to_csv('src/data/treated/baskets.csv')"
   ]
  },
  {
   "cell_type": "code",
   "execution_count": 1,
   "metadata": {},
   "outputs": [
    {
     "name": "stdout",
     "output_type": "stream",
     "text": [
      "Collecting gsheets\n",
      "  Downloading gsheets-0.6-py3-none-any.whl (19 kB)\n",
      "Collecting oauth2client>=1.5.0\n",
      "  Downloading oauth2client-4.1.3-py2.py3-none-any.whl (98 kB)\n",
      "\u001b[2K     \u001b[90m━━━━━━━━━━━━━━━━━━━━━━━━━━━━━━━━━━━━━━━\u001b[0m \u001b[32m98.2/98.2 KB\u001b[0m \u001b[31m291.8 kB/s\u001b[0m eta \u001b[36m0:00:00\u001b[0ma \u001b[36m0:00:01\u001b[0m\n",
      "\u001b[?25hCollecting google-api-python-client\n",
      "  Downloading google_api_python_client-2.45.0-py2.py3-none-any.whl (8.4 MB)\n",
      "\u001b[2K     \u001b[90m━━━━━━━━━━━━━━━━━━━━━━━━━━━━━━━━━━━━━━━━\u001b[0m \u001b[32m8.4/8.4 MB\u001b[0m \u001b[31m215.4 kB/s\u001b[0m eta \u001b[36m0:00:00\u001b[0m00:01\u001b[0m00:01\u001b[0m\n",
      "\u001b[?25hCollecting rsa>=3.1.4\n",
      "  Using cached rsa-4.8-py3-none-any.whl (39 kB)\n",
      "Collecting pyasn1>=0.1.7\n",
      "  Using cached pyasn1-0.4.8-py2.py3-none-any.whl (77 kB)\n",
      "Requirement already satisfied: six>=1.6.1 in /Users/g0bel1n/scrapped/.scrapped-env/lib/python3.9/site-packages (from oauth2client>=1.5.0->gsheets) (1.16.0)\n",
      "Collecting httplib2>=0.9.1\n",
      "  Downloading httplib2-0.20.4-py3-none-any.whl (96 kB)\n",
      "\u001b[2K     \u001b[90m━━━━━━━━━━━━━━━━━━━━━━━━━━━━━━━━━━━━━━━\u001b[0m \u001b[32m96.6/96.6 KB\u001b[0m \u001b[31m264.8 kB/s\u001b[0m eta \u001b[36m0:00:00\u001b[0ma \u001b[36m0:00:01\u001b[0m\n",
      "\u001b[?25hCollecting pyasn1-modules>=0.0.5\n",
      "  Using cached pyasn1_modules-0.2.8-py2.py3-none-any.whl (155 kB)\n",
      "Collecting google-auth<3.0.0dev,>=1.16.0\n",
      "  Using cached google_auth-2.6.6-py2.py3-none-any.whl (156 kB)\n",
      "Collecting google-api-core!=2.0.*,!=2.1.*,!=2.2.*,!=2.3.0,<3.0.0dev,>=1.31.5\n",
      "  Downloading google_api_core-2.7.2-py3-none-any.whl (114 kB)\n",
      "\u001b[2K     \u001b[90m━━━━━━━━━━━━━━━━━━━━━━━━━━━━━━━━━━━━━\u001b[0m \u001b[32m114.6/114.6 KB\u001b[0m \u001b[31m237.1 kB/s\u001b[0m eta \u001b[36m0:00:00\u001b[0ma \u001b[36m0:00:01\u001b[0m\n",
      "\u001b[?25hCollecting uritemplate<5,>=3.0.1\n",
      "  Downloading uritemplate-4.1.1-py2.py3-none-any.whl (10 kB)\n",
      "Collecting google-auth-httplib2>=0.1.0\n",
      "  Downloading google_auth_httplib2-0.1.0-py2.py3-none-any.whl (9.3 kB)\n",
      "Collecting googleapis-common-protos<2.0dev,>=1.52.0\n",
      "  Downloading googleapis_common_protos-1.56.0-py2.py3-none-any.whl (241 kB)\n",
      "\u001b[2K     \u001b[90m━━━━━━━━━━━━━━━━━━━━━━━━━━━━━━━━━━━━━\u001b[0m \u001b[32m241.5/241.5 KB\u001b[0m \u001b[31m164.1 kB/s\u001b[0m eta \u001b[36m0:00:00\u001b[0m00:01\u001b[0m00:01\u001b[0m\n",
      "\u001b[?25hRequirement already satisfied: requests<3.0.0dev,>=2.18.0 in /Users/g0bel1n/scrapped/.scrapped-env/lib/python3.9/site-packages (from google-api-core!=2.0.*,!=2.1.*,!=2.2.*,!=2.3.0,<3.0.0dev,>=1.31.5->google-api-python-client->gsheets) (2.27.1)\n",
      "Collecting protobuf>=3.12.0\n",
      "  Using cached protobuf-3.20.1-cp39-cp39-macosx_10_9_x86_64.whl (962 kB)\n",
      "Collecting cachetools<6.0,>=2.0.0\n",
      "  Using cached cachetools-5.0.0-py3-none-any.whl (9.1 kB)\n",
      "Requirement already satisfied: pyparsing!=3.0.0,!=3.0.1,!=3.0.2,!=3.0.3,<4,>=2.4.2 in /Users/g0bel1n/scrapped/.scrapped-env/lib/python3.9/site-packages (from httplib2>=0.9.1->oauth2client>=1.5.0->gsheets) (3.0.7)\n",
      "Requirement already satisfied: urllib3<1.27,>=1.21.1 in /Users/g0bel1n/scrapped/.scrapped-env/lib/python3.9/site-packages (from requests<3.0.0dev,>=2.18.0->google-api-core!=2.0.*,!=2.1.*,!=2.2.*,!=2.3.0,<3.0.0dev,>=1.31.5->google-api-python-client->gsheets) (1.26.9)\n",
      "Requirement already satisfied: idna<4,>=2.5 in /Users/g0bel1n/scrapped/.scrapped-env/lib/python3.9/site-packages (from requests<3.0.0dev,>=2.18.0->google-api-core!=2.0.*,!=2.1.*,!=2.2.*,!=2.3.0,<3.0.0dev,>=1.31.5->google-api-python-client->gsheets) (3.3)\n",
      "Requirement already satisfied: certifi>=2017.4.17 in /Users/g0bel1n/scrapped/.scrapped-env/lib/python3.9/site-packages (from requests<3.0.0dev,>=2.18.0->google-api-core!=2.0.*,!=2.1.*,!=2.2.*,!=2.3.0,<3.0.0dev,>=1.31.5->google-api-python-client->gsheets) (2021.10.8)\n",
      "Requirement already satisfied: charset-normalizer~=2.0.0 in /Users/g0bel1n/scrapped/.scrapped-env/lib/python3.9/site-packages (from requests<3.0.0dev,>=2.18.0->google-api-core!=2.0.*,!=2.1.*,!=2.2.*,!=2.3.0,<3.0.0dev,>=1.31.5->google-api-python-client->gsheets) (2.0.12)\n",
      "Installing collected packages: pyasn1, uritemplate, rsa, pyasn1-modules, protobuf, httplib2, cachetools, oauth2client, googleapis-common-protos, google-auth, google-auth-httplib2, google-api-core, google-api-python-client, gsheets\n",
      "Successfully installed cachetools-5.0.0 google-api-core-2.7.2 google-api-python-client-2.45.0 google-auth-2.6.6 google-auth-httplib2-0.1.0 googleapis-common-protos-1.56.0 gsheets-0.6 httplib2-0.20.4 oauth2client-4.1.3 protobuf-3.20.1 pyasn1-0.4.8 pyasn1-modules-0.2.8 rsa-4.8 uritemplate-4.1.1\n"
     ]
    }
   ],
   "source": [
    "!pip install gsheets"
   ]
  },
  {
   "cell_type": "code",
   "execution_count": 2,
   "metadata": {},
   "outputs": [
    {
     "name": "stdout",
     "output_type": "stream",
     "text": [
      "Collecting Pyyaml\n",
      "  Using cached PyYAML-6.0-cp39-cp39-macosx_10_9_x86_64.whl (197 kB)\n",
      "Installing collected packages: Pyyaml\n",
      "Successfully installed Pyyaml-6.0\n"
     ]
    }
   ],
   "source": [
    "%pip install Pyyaml"
   ]
  },
  {
   "cell_type": "code",
   "execution_count": 45,
   "metadata": {},
   "outputs": [],
   "source": [
    "import yaml\n",
    "with open('../config.yml','r') as yml_file:\n",
    "    config = yaml.safe_load(yml_file)\n",
    "\n"
   ]
  },
  {
   "cell_type": "code",
   "execution_count": 46,
   "metadata": {},
   "outputs": [
    {
     "data": {
      "text/plain": [
       "'1atcd9sRCeFGaGzf4JQXL8vENBLjIGQSIgqBWz3BoUs8'"
      ]
     },
     "execution_count": 46,
     "metadata": {},
     "output_type": "execute_result"
    }
   ],
   "source": [
    "config['gsheet_id']"
   ]
  },
  {
   "cell_type": "code",
   "execution_count": 47,
   "metadata": {},
   "outputs": [],
   "source": [
    "from gsheets import Sheets"
   ]
  },
  {
   "cell_type": "code",
   "execution_count": 48,
   "metadata": {},
   "outputs": [],
   "source": [
    "sheets = Sheets.from_files('client_secrets.json')"
   ]
  },
  {
   "cell_type": "code",
   "execution_count": 51,
   "metadata": {},
   "outputs": [],
   "source": [
    "s = sheets[config['gsheet_id']]"
   ]
  },
  {
   "cell_type": "code",
   "execution_count": 85,
   "metadata": {},
   "outputs": [],
   "source": [
    "import numpy as np"
   ]
  },
  {
   "cell_type": "code",
   "execution_count": 115,
   "metadata": {},
   "outputs": [],
   "source": [
    "a = s.sheets[0]['A1':]"
   ]
  },
  {
   "cell_type": "code",
   "execution_count": 118,
   "metadata": {},
   "outputs": [
    {
     "data": {
      "text/plain": [
       "47"
      ]
     },
     "execution_count": 118,
     "metadata": {},
     "output_type": "execute_result"
    }
   ],
   "source": [
    "n_max = len(a)"
   ]
  },
  {
   "cell_type": "code",
   "execution_count": 87,
   "metadata": {},
   "outputs": [
    {
     "ename": "IndexError",
     "evalue": "too many indices for array: array is 1-dimensional, but 2 were indexed",
     "output_type": "error",
     "traceback": [
      "\u001b[0;31m---------------------------------------------------------------------------\u001b[0m",
      "\u001b[0;31mIndexError\u001b[0m                                Traceback (most recent call last)",
      "\u001b[1;32m/Users/g0bel1n/scrapped/notebooks/basketsJoiner.ipynb Cell 23'\u001b[0m in \u001b[0;36m<cell line: 1>\u001b[0;34m()\u001b[0m\n\u001b[0;32m----> <a href='vscode-notebook-cell:/Users/g0bel1n/scrapped/notebooks/basketsJoiner.ipynb#ch0000021?line=0'>1</a>\u001b[0m dico \u001b[39m=\u001b[39m {a[\u001b[39m0\u001b[39m,i] : a[\u001b[39m1\u001b[39m:,i] \u001b[39mfor\u001b[39;00m i \u001b[39min\u001b[39;00m \u001b[39mrange\u001b[39m(\u001b[39m4\u001b[39m) }\n",
      "\u001b[1;32m/Users/g0bel1n/scrapped/notebooks/basketsJoiner.ipynb Cell 23'\u001b[0m in \u001b[0;36m<dictcomp>\u001b[0;34m(.0)\u001b[0m\n\u001b[0;32m----> <a href='vscode-notebook-cell:/Users/g0bel1n/scrapped/notebooks/basketsJoiner.ipynb#ch0000021?line=0'>1</a>\u001b[0m dico \u001b[39m=\u001b[39m {a[\u001b[39m0\u001b[39;49m,i] : a[\u001b[39m1\u001b[39m:,i] \u001b[39mfor\u001b[39;00m i \u001b[39min\u001b[39;00m \u001b[39mrange\u001b[39m(\u001b[39m4\u001b[39m) }\n",
      "\u001b[0;31mIndexError\u001b[0m: too many indices for array: array is 1-dimensional, but 2 were indexed"
     ]
    }
   ],
   "source": [
    "dico = {a[0,i] : a[1:,i] for i in range(n_max) }"
   ]
  },
  {
   "cell_type": "code",
   "execution_count": 129,
   "metadata": {},
   "outputs": [],
   "source": [
    "Marques = []\n",
    "\n",
    "data={}\n",
    "for col in 'ABCDE':\n",
    "    col_name = s.sheets[0][f'{col}{1}']\n",
    "    data[col_name]=[]\n",
    "\n",
    "for col in 'ABCDE':\n",
    "    row = 2\n",
    "    col_name = s.sheets[0][f'{col}{1}']\n",
    "    marque = s.sheets[0][f'{col}{row}']\n",
    "    while marque != '':\n",
    "        Marques.append(marque)\n",
    "        for col_name_, col_values in data.items():\n",
    "            col_values.append(col_name == col_name_ )\n",
    "        row+=1\n",
    "        try :\n",
    "            marque = s.sheets[0][f'{col}{row}']\n",
    "        except IndexError:\n",
    "            marque=''\n",
    "\n",
    "\n"
   ]
  },
  {
   "cell_type": "code",
   "execution_count": 131,
   "metadata": {},
   "outputs": [],
   "source": [
    "data4df = {'Marques':Marques, **data}"
   ]
  },
  {
   "cell_type": "code",
   "execution_count": 74,
   "metadata": {},
   "outputs": [],
   "source": [
    "import pandas as pd"
   ]
  },
  {
   "cell_type": "code",
   "execution_count": 135,
   "metadata": {},
   "outputs": [],
   "source": [
    "df = pd.DataFrame(data4df)"
   ]
  },
  {
   "cell_type": "code",
   "execution_count": 136,
   "metadata": {},
   "outputs": [],
   "source": [
    "new_cols = s.sheets[0]['G4':'G8']"
   ]
  },
  {
   "cell_type": "code",
   "execution_count": 138,
   "metadata": {},
   "outputs": [],
   "source": [
    "df.columns = ['Marques']+new_cols"
   ]
  },
  {
   "cell_type": "code",
   "execution_count": null,
   "metadata": {},
   "outputs": [],
   "source": []
  },
  {
   "cell_type": "code",
   "execution_count": 139,
   "metadata": {},
   "outputs": [
    {
     "data": {
      "text/html": [
       "<div>\n",
       "<style scoped>\n",
       "    .dataframe tbody tr th:only-of-type {\n",
       "        vertical-align: middle;\n",
       "    }\n",
       "\n",
       "    .dataframe tbody tr th {\n",
       "        vertical-align: top;\n",
       "    }\n",
       "\n",
       "    .dataframe thead th {\n",
       "        text-align: right;\n",
       "    }\n",
       "</style>\n",
       "<table border=\"1\" class=\"dataframe\">\n",
       "  <thead>\n",
       "    <tr style=\"text-align: right;\">\n",
       "      <th></th>\n",
       "      <th>Marques</th>\n",
       "      <th>Ultra fast fashion</th>\n",
       "      <th>Fast fashion</th>\n",
       "      <th>Sportswear</th>\n",
       "      <th>Premium</th>\n",
       "      <th>Designers brands &amp; luxury</th>\n",
       "    </tr>\n",
       "  </thead>\n",
       "  <tbody>\n",
       "    <tr>\n",
       "      <th>0</th>\n",
       "      <td>SHEIN</td>\n",
       "      <td>True</td>\n",
       "      <td>False</td>\n",
       "      <td>False</td>\n",
       "      <td>False</td>\n",
       "      <td>False</td>\n",
       "    </tr>\n",
       "    <tr>\n",
       "      <th>1</th>\n",
       "      <td>FASHION NOVA</td>\n",
       "      <td>True</td>\n",
       "      <td>False</td>\n",
       "      <td>False</td>\n",
       "      <td>False</td>\n",
       "      <td>False</td>\n",
       "    </tr>\n",
       "    <tr>\n",
       "      <th>2</th>\n",
       "      <td>PRETTYLITTLETHING</td>\n",
       "      <td>True</td>\n",
       "      <td>False</td>\n",
       "      <td>False</td>\n",
       "      <td>False</td>\n",
       "      <td>False</td>\n",
       "    </tr>\n",
       "    <tr>\n",
       "      <th>3</th>\n",
       "      <td>CIDER</td>\n",
       "      <td>True</td>\n",
       "      <td>False</td>\n",
       "      <td>False</td>\n",
       "      <td>False</td>\n",
       "      <td>False</td>\n",
       "    </tr>\n",
       "    <tr>\n",
       "      <th>4</th>\n",
       "      <td>BOOHOO</td>\n",
       "      <td>True</td>\n",
       "      <td>False</td>\n",
       "      <td>False</td>\n",
       "      <td>False</td>\n",
       "      <td>False</td>\n",
       "    </tr>\n",
       "    <tr>\n",
       "      <th>...</th>\n",
       "      <td>...</td>\n",
       "      <td>...</td>\n",
       "      <td>...</td>\n",
       "      <td>...</td>\n",
       "      <td>...</td>\n",
       "      <td>...</td>\n",
       "    </tr>\n",
       "    <tr>\n",
       "      <th>111</th>\n",
       "      <td>YVES SAINT LAURENT</td>\n",
       "      <td>False</td>\n",
       "      <td>False</td>\n",
       "      <td>False</td>\n",
       "      <td>False</td>\n",
       "      <td>True</td>\n",
       "    </tr>\n",
       "    <tr>\n",
       "      <th>112</th>\n",
       "      <td>BALMAIN</td>\n",
       "      <td>False</td>\n",
       "      <td>False</td>\n",
       "      <td>False</td>\n",
       "      <td>False</td>\n",
       "      <td>True</td>\n",
       "    </tr>\n",
       "    <tr>\n",
       "      <th>113</th>\n",
       "      <td>DSQUARED2</td>\n",
       "      <td>False</td>\n",
       "      <td>False</td>\n",
       "      <td>False</td>\n",
       "      <td>False</td>\n",
       "      <td>True</td>\n",
       "    </tr>\n",
       "    <tr>\n",
       "      <th>114</th>\n",
       "      <td>AMIIRI</td>\n",
       "      <td>False</td>\n",
       "      <td>False</td>\n",
       "      <td>False</td>\n",
       "      <td>False</td>\n",
       "      <td>True</td>\n",
       "    </tr>\n",
       "    <tr>\n",
       "      <th>115</th>\n",
       "      <td>Y/PROJECT</td>\n",
       "      <td>False</td>\n",
       "      <td>False</td>\n",
       "      <td>False</td>\n",
       "      <td>False</td>\n",
       "      <td>True</td>\n",
       "    </tr>\n",
       "  </tbody>\n",
       "</table>\n",
       "<p>116 rows × 6 columns</p>\n",
       "</div>"
      ],
      "text/plain": [
       "                Marques  Ultra fast fashion  Fast fashion  Sportswear  \\\n",
       "0                 SHEIN                True         False       False   \n",
       "1          FASHION NOVA                True         False       False   \n",
       "2     PRETTYLITTLETHING                True         False       False   \n",
       "3                 CIDER                True         False       False   \n",
       "4                BOOHOO                True         False       False   \n",
       "..                  ...                 ...           ...         ...   \n",
       "111  YVES SAINT LAURENT               False         False       False   \n",
       "112             BALMAIN               False         False       False   \n",
       "113           DSQUARED2               False         False       False   \n",
       "114              AMIIRI               False         False       False   \n",
       "115           Y/PROJECT               False         False       False   \n",
       "\n",
       "     Premium  Designers brands & luxury  \n",
       "0      False                      False  \n",
       "1      False                      False  \n",
       "2      False                      False  \n",
       "3      False                      False  \n",
       "4      False                      False  \n",
       "..       ...                        ...  \n",
       "111    False                       True  \n",
       "112    False                       True  \n",
       "113    False                       True  \n",
       "114    False                       True  \n",
       "115    False                       True  \n",
       "\n",
       "[116 rows x 6 columns]"
      ]
     },
     "execution_count": 139,
     "metadata": {},
     "output_type": "execute_result"
    }
   ],
   "source": [
    "df"
   ]
  },
  {
   "cell_type": "code",
   "execution_count": null,
   "metadata": {},
   "outputs": [],
   "source": []
  }
 ],
 "metadata": {
  "interpreter": {
   "hash": "2ef5e293defde336e18effedfb280f0d11005b401f1b516e6e8aa19f195a036f"
  },
  "kernelspec": {
   "display_name": "Python 3.9.12 ('.scrapped-env': venv)",
   "language": "python",
   "name": "python3"
  },
  "language_info": {
   "codemirror_mode": {
    "name": "ipython",
    "version": 3
   },
   "file_extension": ".py",
   "mimetype": "text/x-python",
   "name": "python",
   "nbconvert_exporter": "python",
   "pygments_lexer": "ipython3",
   "version": "3.9.12"
  },
  "orig_nbformat": 4
 },
 "nbformat": 4,
 "nbformat_minor": 2
}

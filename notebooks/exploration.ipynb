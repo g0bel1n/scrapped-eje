{
 "cells": [
  {
   "cell_type": "code",
   "execution_count": 540,
   "metadata": {},
   "outputs": [],
   "source": [
    "import pandas as pd\n",
    "import seaborn as sns\n",
    "import matplotlib.pyplot as plt\n",
    "import itertools\n",
    "import os\n",
    "from pathlib import Path\n",
    "\n",
    "\n",
    "\n",
    "import numpy as np\n",
    "\n",
    "if \"root\" not in locals():\n",
    "    current_path = Path(os.getcwd())\n",
    "    root = current_path.parent.absolute()\n",
    "os.chdir(root)\n",
    "\n",
    "sns.set_style('whitegrid')\n",
    "\n",
    "import matplotlib.pyplot as plt\n",
    "sns.set(rc={'figure.figsize':(10,5)})"
   ]
  },
  {
   "cell_type": "code",
   "execution_count": 589,
   "metadata": {},
   "outputs": [],
   "source": [
    "df = pd.read_csv('src/data/treated/baskets.csv').drop(['Unnamed: 0'], axis=1, inplace=False)\n",
    "df = df[df['cat']!='Undefined']"
   ]
  },
  {
   "cell_type": "code",
   "execution_count": 590,
   "metadata": {},
   "outputs": [],
   "source": [
    "meanPrice = {'Fashion':270, 'UltraFastFashion':50, 'FastFashion':100, 'UltraFashion':600}\n",
    "\n",
    "def computeReduction(row: pd.Series):\n",
    "    return (meanPrice[row['cat']] - row.Prix)/meanPrice[row['cat']]"
   ]
  },
  {
   "cell_type": "code",
   "execution_count": 591,
   "metadata": {},
   "outputs": [],
   "source": [
    "df['promo'] = df.apply(computeReduction, axis=1)"
   ]
  },
  {
   "cell_type": "code",
   "execution_count": 592,
   "metadata": {},
   "outputs": [
    {
     "data": {
      "text/plain": [
       "cat\n",
       "Fashion             0.334286\n",
       "FastFashion         0.516266\n",
       "UltraFastFashion    0.551765\n",
       "Name: promo, dtype: float64"
      ]
     },
     "execution_count": 592,
     "metadata": {},
     "output_type": "execute_result"
    }
   ],
   "source": [
    "df.groupby(by='cat')['promo'].mean()"
   ]
  },
  {
   "cell_type": "code",
   "execution_count": 593,
   "metadata": {},
   "outputs": [],
   "source": [
    "df = df[df.promo>0]"
   ]
  },
  {
   "cell_type": "code",
   "execution_count": 594,
   "metadata": {},
   "outputs": [
    {
     "data": {
      "text/html": [
       "<div>\n",
       "<style scoped>\n",
       "    .dataframe tbody tr th:only-of-type {\n",
       "        vertical-align: middle;\n",
       "    }\n",
       "\n",
       "    .dataframe tbody tr th {\n",
       "        vertical-align: top;\n",
       "    }\n",
       "\n",
       "    .dataframe thead th {\n",
       "        text-align: right;\n",
       "    }\n",
       "</style>\n",
       "<table border=\"1\" class=\"dataframe\">\n",
       "  <thead>\n",
       "    <tr style=\"text-align: right;\">\n",
       "      <th></th>\n",
       "      <th>État</th>\n",
       "      <th>Marque</th>\n",
       "      <th>Date</th>\n",
       "      <th>nom</th>\n",
       "      <th>Prix</th>\n",
       "      <th>Description</th>\n",
       "      <th>promo</th>\n",
       "    </tr>\n",
       "    <tr>\n",
       "      <th>cat</th>\n",
       "      <th></th>\n",
       "      <th></th>\n",
       "      <th></th>\n",
       "      <th></th>\n",
       "      <th></th>\n",
       "      <th></th>\n",
       "      <th></th>\n",
       "    </tr>\n",
       "  </thead>\n",
       "  <tbody>\n",
       "    <tr>\n",
       "      <th>Fashion</th>\n",
       "      <td>60</td>\n",
       "      <td>60</td>\n",
       "      <td>60</td>\n",
       "      <td>16</td>\n",
       "      <td>60</td>\n",
       "      <td>60</td>\n",
       "      <td>60</td>\n",
       "    </tr>\n",
       "    <tr>\n",
       "      <th>FastFashion</th>\n",
       "      <td>62</td>\n",
       "      <td>62</td>\n",
       "      <td>62</td>\n",
       "      <td>46</td>\n",
       "      <td>62</td>\n",
       "      <td>62</td>\n",
       "      <td>62</td>\n",
       "    </tr>\n",
       "    <tr>\n",
       "      <th>UltraFastFashion</th>\n",
       "      <td>17</td>\n",
       "      <td>17</td>\n",
       "      <td>17</td>\n",
       "      <td>15</td>\n",
       "      <td>17</td>\n",
       "      <td>17</td>\n",
       "      <td>17</td>\n",
       "    </tr>\n",
       "  </tbody>\n",
       "</table>\n",
       "</div>"
      ],
      "text/plain": [
       "                  État  Marque  Date  nom  Prix  Description  promo\n",
       "cat                                                                \n",
       "Fashion             60      60    60   16    60           60     60\n",
       "FastFashion         62      62    62   46    62           62     62\n",
       "UltraFastFashion    17      17    17   15    17           17     17"
      ]
     },
     "execution_count": 594,
     "metadata": {},
     "output_type": "execute_result"
    }
   ],
   "source": [
    "df.groupby(by=['cat']).count()"
   ]
  },
  {
   "cell_type": "code",
   "execution_count": null,
   "metadata": {},
   "outputs": [],
   "source": []
  },
  {
   "cell_type": "code",
   "execution_count": 595,
   "metadata": {},
   "outputs": [],
   "source": [
    "df['IsUFashion'] = (df.cat == \"UltraFashion\").astype('int')\n",
    "df['isFashion'] = (df.cat == \"Fashion\").astype('int')\n",
    "df['IsFF'] = (df.cat == \"FastFashion\").astype('int')\n",
    "df['IsUFF'] = (df.cat == \"UltraFastFashion\").astype('int')\n",
    "\n"
   ]
  },
  {
   "cell_type": "code",
   "execution_count": 599,
   "metadata": {},
   "outputs": [],
   "source": [
    "df = df.drop(['nom', 'Marque', 'Description', 'Date', 'cat'], axis=1)"
   ]
  },
  {
   "cell_type": "code",
   "execution_count": 600,
   "metadata": {},
   "outputs": [],
   "source": [
    "df['etat']= 1*(df['État']=='NEUF AVEC ÉTIQUETTE') + 2*(df['État']=='NEUF SANS ÉTIQUETTE') + 3*(df['État']=='TRÈS BON ÉTAT') + 4*(df['État']=='BON ÉTAT') + 5*(df['État']=='SATISFAISANT')"
   ]
  },
  {
   "cell_type": "code",
   "execution_count": 601,
   "metadata": {},
   "outputs": [],
   "source": [
    "X, y  = df.drop(['État','promo', 'Prix'], axis=1), df.promo"
   ]
  },
  {
   "cell_type": "code",
   "execution_count": 602,
   "metadata": {},
   "outputs": [],
   "source": [
    "cols = X.columns"
   ]
  },
  {
   "cell_type": "code",
   "execution_count": 603,
   "metadata": {},
   "outputs": [],
   "source": [
    "import statsmodels.api as sm\n",
    "exog =  X"
   ]
  },
  {
   "cell_type": "code",
   "execution_count": 604,
   "metadata": {},
   "outputs": [],
   "source": [
    "mod = sm.OLS(np.log(y.to_numpy()), exog=exog)\n",
    "res = mod.fit()\n"
   ]
  },
  {
   "cell_type": "code",
   "execution_count": 605,
   "metadata": {},
   "outputs": [
    {
     "name": "stderr",
     "output_type": "stream",
     "text": [
      "/Users/g0bel1n/scrapped/.scrapped-env/lib/python3.9/site-packages/statsmodels/regression/linear_model.py:1918: RuntimeWarning: divide by zero encountered in double_scalars\n",
      "  return np.sqrt(eigvals[0]/eigvals[-1])\n"
     ]
    },
    {
     "data": {
      "text/html": [
       "<table class=\"simpletable\">\n",
       "<caption>OLS Regression Results</caption>\n",
       "<tr>\n",
       "  <th>Dep. Variable:</th>            <td>y</td>        <th>  R-squared:         </th> <td>   0.076</td>\n",
       "</tr>\n",
       "<tr>\n",
       "  <th>Model:</th>                   <td>OLS</td>       <th>  Adj. R-squared:    </th> <td>   0.056</td>\n",
       "</tr>\n",
       "<tr>\n",
       "  <th>Method:</th>             <td>Least Squares</td>  <th>  F-statistic:       </th> <td>   3.719</td>\n",
       "</tr>\n",
       "<tr>\n",
       "  <th>Date:</th>             <td>Sat, 09 Apr 2022</td> <th>  Prob (F-statistic):</th>  <td>0.0131</td> \n",
       "</tr>\n",
       "<tr>\n",
       "  <th>Time:</th>                 <td>21:38:18</td>     <th>  Log-Likelihood:    </th> <td> -125.39</td>\n",
       "</tr>\n",
       "<tr>\n",
       "  <th>No. Observations:</th>      <td>   139</td>      <th>  AIC:               </th> <td>   258.8</td>\n",
       "</tr>\n",
       "<tr>\n",
       "  <th>Df Residuals:</th>          <td>   135</td>      <th>  BIC:               </th> <td>   270.5</td>\n",
       "</tr>\n",
       "<tr>\n",
       "  <th>Df Model:</th>              <td>     3</td>      <th>                     </th>     <td> </td>   \n",
       "</tr>\n",
       "<tr>\n",
       "  <th>Covariance Type:</th>      <td>nonrobust</td>    <th>                     </th>     <td> </td>   \n",
       "</tr>\n",
       "</table>\n",
       "<table class=\"simpletable\">\n",
       "<tr>\n",
       "       <td></td>         <th>coef</th>     <th>std err</th>      <th>t</th>      <th>P>|t|</th>  <th>[0.025</th>    <th>0.975]</th>  \n",
       "</tr>\n",
       "<tr>\n",
       "  <th>IsUFashion</th> <td>         0</td> <td>        0</td> <td>      nan</td> <td>   nan</td> <td>        0</td> <td>        0</td>\n",
       "</tr>\n",
       "<tr>\n",
       "  <th>isFashion</th>  <td>   -1.1878</td> <td>    0.176</td> <td>   -6.742</td> <td> 0.000</td> <td>   -1.536</td> <td>   -0.839</td>\n",
       "</tr>\n",
       "<tr>\n",
       "  <th>IsFF</th>       <td>   -1.0816</td> <td>    0.151</td> <td>   -7.152</td> <td> 0.000</td> <td>   -1.381</td> <td>   -0.783</td>\n",
       "</tr>\n",
       "<tr>\n",
       "  <th>IsUFF</th>      <td>   -1.2192</td> <td>    0.207</td> <td>   -5.896</td> <td> 0.000</td> <td>   -1.628</td> <td>   -0.810</td>\n",
       "</tr>\n",
       "<tr>\n",
       "  <th>etat</th>       <td>    0.1776</td> <td>    0.054</td> <td>    3.299</td> <td> 0.001</td> <td>    0.071</td> <td>    0.284</td>\n",
       "</tr>\n",
       "</table>\n",
       "<table class=\"simpletable\">\n",
       "<tr>\n",
       "  <th>Omnibus:</th>       <td>77.232</td> <th>  Durbin-Watson:     </th> <td>   1.783</td>\n",
       "</tr>\n",
       "<tr>\n",
       "  <th>Prob(Omnibus):</th> <td> 0.000</td> <th>  Jarque-Bera (JB):  </th> <td> 316.833</td>\n",
       "</tr>\n",
       "<tr>\n",
       "  <th>Skew:</th>          <td>-2.087</td> <th>  Prob(JB):          </th> <td>1.59e-69</td>\n",
       "</tr>\n",
       "<tr>\n",
       "  <th>Kurtosis:</th>      <td> 9.105</td> <th>  Cond. No.          </th> <td>     inf</td>\n",
       "</tr>\n",
       "</table><br/><br/>Notes:<br/>[1] Standard Errors assume that the covariance matrix of the errors is correctly specified.<br/>[2] The smallest eigenvalue is      0. This might indicate that there are<br/>strong multicollinearity problems or that the design matrix is singular."
      ],
      "text/plain": [
       "<class 'statsmodels.iolib.summary.Summary'>\n",
       "\"\"\"\n",
       "                            OLS Regression Results                            \n",
       "==============================================================================\n",
       "Dep. Variable:                      y   R-squared:                       0.076\n",
       "Model:                            OLS   Adj. R-squared:                  0.056\n",
       "Method:                 Least Squares   F-statistic:                     3.719\n",
       "Date:                Sat, 09 Apr 2022   Prob (F-statistic):             0.0131\n",
       "Time:                        21:38:18   Log-Likelihood:                -125.39\n",
       "No. Observations:                 139   AIC:                             258.8\n",
       "Df Residuals:                     135   BIC:                             270.5\n",
       "Df Model:                           3                                         \n",
       "Covariance Type:            nonrobust                                         \n",
       "==============================================================================\n",
       "                 coef    std err          t      P>|t|      [0.025      0.975]\n",
       "------------------------------------------------------------------------------\n",
       "IsUFashion          0          0        nan        nan           0           0\n",
       "isFashion     -1.1878      0.176     -6.742      0.000      -1.536      -0.839\n",
       "IsFF          -1.0816      0.151     -7.152      0.000      -1.381      -0.783\n",
       "IsUFF         -1.2192      0.207     -5.896      0.000      -1.628      -0.810\n",
       "etat           0.1776      0.054      3.299      0.001       0.071       0.284\n",
       "==============================================================================\n",
       "Omnibus:                       77.232   Durbin-Watson:                   1.783\n",
       "Prob(Omnibus):                  0.000   Jarque-Bera (JB):              316.833\n",
       "Skew:                          -2.087   Prob(JB):                     1.59e-69\n",
       "Kurtosis:                       9.105   Cond. No.                          inf\n",
       "==============================================================================\n",
       "\n",
       "Notes:\n",
       "[1] Standard Errors assume that the covariance matrix of the errors is correctly specified.\n",
       "[2] The smallest eigenvalue is      0. This might indicate that there are\n",
       "strong multicollinearity problems or that the design matrix is singular.\n",
       "\"\"\""
      ]
     },
     "execution_count": 605,
     "metadata": {},
     "output_type": "execute_result"
    }
   ],
   "source": [
    "res.summary()"
   ]
  },
  {
   "cell_type": "code",
   "execution_count": 485,
   "metadata": {},
   "outputs": [
    {
     "ename": "KeyError",
     "evalue": "'cat'",
     "output_type": "error",
     "traceback": [
      "\u001b[0;31m---------------------------------------------------------------------------\u001b[0m",
      "\u001b[0;31mKeyError\u001b[0m                                  Traceback (most recent call last)",
      "\u001b[1;32m/Users/g0bel1n/scrapped/notebooks/exploration.ipynb Cell 17'\u001b[0m in \u001b[0;36m<cell line: 1>\u001b[0;34m()\u001b[0m\n\u001b[0;32m----> <a href='vscode-notebook-cell:/Users/g0bel1n/scrapped/notebooks/exploration.ipynb#ch0000020?line=0'>1</a>\u001b[0m df\u001b[39m.\u001b[39;49mgroupby(by\u001b[39m=\u001b[39;49m\u001b[39m'\u001b[39;49m\u001b[39mcat\u001b[39;49m\u001b[39m'\u001b[39;49m)\u001b[39m.\u001b[39mmean()\n",
      "File \u001b[0;32m~/scrapped/.scrapped-env/lib/python3.9/site-packages/pandas/core/frame.py:7712\u001b[0m, in \u001b[0;36mDataFrame.groupby\u001b[0;34m(self, by, axis, level, as_index, sort, group_keys, squeeze, observed, dropna)\u001b[0m\n\u001b[1;32m   <a href='file:///Users/g0bel1n/scrapped/.scrapped-env/lib/python3.9/site-packages/pandas/core/frame.py?line=7706'>7707</a>\u001b[0m axis \u001b[39m=\u001b[39m \u001b[39mself\u001b[39m\u001b[39m.\u001b[39m_get_axis_number(axis)\n\u001b[1;32m   <a href='file:///Users/g0bel1n/scrapped/.scrapped-env/lib/python3.9/site-packages/pandas/core/frame.py?line=7708'>7709</a>\u001b[0m \u001b[39m# https://github.com/python/mypy/issues/7642\u001b[39;00m\n\u001b[1;32m   <a href='file:///Users/g0bel1n/scrapped/.scrapped-env/lib/python3.9/site-packages/pandas/core/frame.py?line=7709'>7710</a>\u001b[0m \u001b[39m# error: Argument \"squeeze\" to \"DataFrameGroupBy\" has incompatible type\u001b[39;00m\n\u001b[1;32m   <a href='file:///Users/g0bel1n/scrapped/.scrapped-env/lib/python3.9/site-packages/pandas/core/frame.py?line=7710'>7711</a>\u001b[0m \u001b[39m# \"Union[bool, NoDefault]\"; expected \"bool\"\u001b[39;00m\n\u001b[0;32m-> <a href='file:///Users/g0bel1n/scrapped/.scrapped-env/lib/python3.9/site-packages/pandas/core/frame.py?line=7711'>7712</a>\u001b[0m \u001b[39mreturn\u001b[39;00m DataFrameGroupBy(\n\u001b[1;32m   <a href='file:///Users/g0bel1n/scrapped/.scrapped-env/lib/python3.9/site-packages/pandas/core/frame.py?line=7712'>7713</a>\u001b[0m     obj\u001b[39m=\u001b[39;49m\u001b[39mself\u001b[39;49m,\n\u001b[1;32m   <a href='file:///Users/g0bel1n/scrapped/.scrapped-env/lib/python3.9/site-packages/pandas/core/frame.py?line=7713'>7714</a>\u001b[0m     keys\u001b[39m=\u001b[39;49mby,\n\u001b[1;32m   <a href='file:///Users/g0bel1n/scrapped/.scrapped-env/lib/python3.9/site-packages/pandas/core/frame.py?line=7714'>7715</a>\u001b[0m     axis\u001b[39m=\u001b[39;49maxis,\n\u001b[1;32m   <a href='file:///Users/g0bel1n/scrapped/.scrapped-env/lib/python3.9/site-packages/pandas/core/frame.py?line=7715'>7716</a>\u001b[0m     level\u001b[39m=\u001b[39;49mlevel,\n\u001b[1;32m   <a href='file:///Users/g0bel1n/scrapped/.scrapped-env/lib/python3.9/site-packages/pandas/core/frame.py?line=7716'>7717</a>\u001b[0m     as_index\u001b[39m=\u001b[39;49mas_index,\n\u001b[1;32m   <a href='file:///Users/g0bel1n/scrapped/.scrapped-env/lib/python3.9/site-packages/pandas/core/frame.py?line=7717'>7718</a>\u001b[0m     sort\u001b[39m=\u001b[39;49msort,\n\u001b[1;32m   <a href='file:///Users/g0bel1n/scrapped/.scrapped-env/lib/python3.9/site-packages/pandas/core/frame.py?line=7718'>7719</a>\u001b[0m     group_keys\u001b[39m=\u001b[39;49mgroup_keys,\n\u001b[1;32m   <a href='file:///Users/g0bel1n/scrapped/.scrapped-env/lib/python3.9/site-packages/pandas/core/frame.py?line=7719'>7720</a>\u001b[0m     squeeze\u001b[39m=\u001b[39;49msqueeze,  \u001b[39m# type: ignore[arg-type]\u001b[39;49;00m\n\u001b[1;32m   <a href='file:///Users/g0bel1n/scrapped/.scrapped-env/lib/python3.9/site-packages/pandas/core/frame.py?line=7720'>7721</a>\u001b[0m     observed\u001b[39m=\u001b[39;49mobserved,\n\u001b[1;32m   <a href='file:///Users/g0bel1n/scrapped/.scrapped-env/lib/python3.9/site-packages/pandas/core/frame.py?line=7721'>7722</a>\u001b[0m     dropna\u001b[39m=\u001b[39;49mdropna,\n\u001b[1;32m   <a href='file:///Users/g0bel1n/scrapped/.scrapped-env/lib/python3.9/site-packages/pandas/core/frame.py?line=7722'>7723</a>\u001b[0m )\n",
      "File \u001b[0;32m~/scrapped/.scrapped-env/lib/python3.9/site-packages/pandas/core/groupby/groupby.py:882\u001b[0m, in \u001b[0;36mGroupBy.__init__\u001b[0;34m(self, obj, keys, axis, level, grouper, exclusions, selection, as_index, sort, group_keys, squeeze, observed, mutated, dropna)\u001b[0m\n\u001b[1;32m    <a href='file:///Users/g0bel1n/scrapped/.scrapped-env/lib/python3.9/site-packages/pandas/core/groupby/groupby.py?line=878'>879</a>\u001b[0m \u001b[39mif\u001b[39;00m grouper \u001b[39mis\u001b[39;00m \u001b[39mNone\u001b[39;00m:\n\u001b[1;32m    <a href='file:///Users/g0bel1n/scrapped/.scrapped-env/lib/python3.9/site-packages/pandas/core/groupby/groupby.py?line=879'>880</a>\u001b[0m     \u001b[39mfrom\u001b[39;00m \u001b[39mpandas\u001b[39;00m\u001b[39m.\u001b[39;00m\u001b[39mcore\u001b[39;00m\u001b[39m.\u001b[39;00m\u001b[39mgroupby\u001b[39;00m\u001b[39m.\u001b[39;00m\u001b[39mgrouper\u001b[39;00m \u001b[39mimport\u001b[39;00m get_grouper\n\u001b[0;32m--> <a href='file:///Users/g0bel1n/scrapped/.scrapped-env/lib/python3.9/site-packages/pandas/core/groupby/groupby.py?line=881'>882</a>\u001b[0m     grouper, exclusions, obj \u001b[39m=\u001b[39m get_grouper(\n\u001b[1;32m    <a href='file:///Users/g0bel1n/scrapped/.scrapped-env/lib/python3.9/site-packages/pandas/core/groupby/groupby.py?line=882'>883</a>\u001b[0m         obj,\n\u001b[1;32m    <a href='file:///Users/g0bel1n/scrapped/.scrapped-env/lib/python3.9/site-packages/pandas/core/groupby/groupby.py?line=883'>884</a>\u001b[0m         keys,\n\u001b[1;32m    <a href='file:///Users/g0bel1n/scrapped/.scrapped-env/lib/python3.9/site-packages/pandas/core/groupby/groupby.py?line=884'>885</a>\u001b[0m         axis\u001b[39m=\u001b[39;49maxis,\n\u001b[1;32m    <a href='file:///Users/g0bel1n/scrapped/.scrapped-env/lib/python3.9/site-packages/pandas/core/groupby/groupby.py?line=885'>886</a>\u001b[0m         level\u001b[39m=\u001b[39;49mlevel,\n\u001b[1;32m    <a href='file:///Users/g0bel1n/scrapped/.scrapped-env/lib/python3.9/site-packages/pandas/core/groupby/groupby.py?line=886'>887</a>\u001b[0m         sort\u001b[39m=\u001b[39;49msort,\n\u001b[1;32m    <a href='file:///Users/g0bel1n/scrapped/.scrapped-env/lib/python3.9/site-packages/pandas/core/groupby/groupby.py?line=887'>888</a>\u001b[0m         observed\u001b[39m=\u001b[39;49mobserved,\n\u001b[1;32m    <a href='file:///Users/g0bel1n/scrapped/.scrapped-env/lib/python3.9/site-packages/pandas/core/groupby/groupby.py?line=888'>889</a>\u001b[0m         mutated\u001b[39m=\u001b[39;49m\u001b[39mself\u001b[39;49m\u001b[39m.\u001b[39;49mmutated,\n\u001b[1;32m    <a href='file:///Users/g0bel1n/scrapped/.scrapped-env/lib/python3.9/site-packages/pandas/core/groupby/groupby.py?line=889'>890</a>\u001b[0m         dropna\u001b[39m=\u001b[39;49m\u001b[39mself\u001b[39;49m\u001b[39m.\u001b[39;49mdropna,\n\u001b[1;32m    <a href='file:///Users/g0bel1n/scrapped/.scrapped-env/lib/python3.9/site-packages/pandas/core/groupby/groupby.py?line=890'>891</a>\u001b[0m     )\n\u001b[1;32m    <a href='file:///Users/g0bel1n/scrapped/.scrapped-env/lib/python3.9/site-packages/pandas/core/groupby/groupby.py?line=892'>893</a>\u001b[0m \u001b[39mself\u001b[39m\u001b[39m.\u001b[39mobj \u001b[39m=\u001b[39m obj\n\u001b[1;32m    <a href='file:///Users/g0bel1n/scrapped/.scrapped-env/lib/python3.9/site-packages/pandas/core/groupby/groupby.py?line=893'>894</a>\u001b[0m \u001b[39mself\u001b[39m\u001b[39m.\u001b[39maxis \u001b[39m=\u001b[39m obj\u001b[39m.\u001b[39m_get_axis_number(axis)\n",
      "File \u001b[0;32m~/scrapped/.scrapped-env/lib/python3.9/site-packages/pandas/core/groupby/grouper.py:882\u001b[0m, in \u001b[0;36mget_grouper\u001b[0;34m(obj, key, axis, level, sort, observed, mutated, validate, dropna)\u001b[0m\n\u001b[1;32m    <a href='file:///Users/g0bel1n/scrapped/.scrapped-env/lib/python3.9/site-packages/pandas/core/groupby/grouper.py?line=879'>880</a>\u001b[0m         in_axis, level, gpr \u001b[39m=\u001b[39m \u001b[39mFalse\u001b[39;00m, gpr, \u001b[39mNone\u001b[39;00m\n\u001b[1;32m    <a href='file:///Users/g0bel1n/scrapped/.scrapped-env/lib/python3.9/site-packages/pandas/core/groupby/grouper.py?line=880'>881</a>\u001b[0m     \u001b[39melse\u001b[39;00m:\n\u001b[0;32m--> <a href='file:///Users/g0bel1n/scrapped/.scrapped-env/lib/python3.9/site-packages/pandas/core/groupby/grouper.py?line=881'>882</a>\u001b[0m         \u001b[39mraise\u001b[39;00m \u001b[39mKeyError\u001b[39;00m(gpr)\n\u001b[1;32m    <a href='file:///Users/g0bel1n/scrapped/.scrapped-env/lib/python3.9/site-packages/pandas/core/groupby/grouper.py?line=882'>883</a>\u001b[0m \u001b[39melif\u001b[39;00m \u001b[39misinstance\u001b[39m(gpr, Grouper) \u001b[39mand\u001b[39;00m gpr\u001b[39m.\u001b[39mkey \u001b[39mis\u001b[39;00m \u001b[39mnot\u001b[39;00m \u001b[39mNone\u001b[39;00m:\n\u001b[1;32m    <a href='file:///Users/g0bel1n/scrapped/.scrapped-env/lib/python3.9/site-packages/pandas/core/groupby/grouper.py?line=883'>884</a>\u001b[0m     \u001b[39m# Add key to exclusions\u001b[39;00m\n\u001b[1;32m    <a href='file:///Users/g0bel1n/scrapped/.scrapped-env/lib/python3.9/site-packages/pandas/core/groupby/grouper.py?line=884'>885</a>\u001b[0m     exclusions\u001b[39m.\u001b[39madd(gpr\u001b[39m.\u001b[39mkey)\n",
      "\u001b[0;31mKeyError\u001b[0m: 'cat'"
     ]
    }
   ],
   "source": [
    "df.groupby(by='cat').mean()"
   ]
  },
  {
   "cell_type": "code",
   "execution_count": 437,
   "metadata": {},
   "outputs": [
    {
     "data": {
      "text/plain": [
       "3      0.166667\n",
       "4      0.700000\n",
       "5      0.425000\n",
       "6      0.350000\n",
       "8      0.233333\n",
       "         ...   \n",
       "797    0.175000\n",
       "798    0.112500\n",
       "799    0.220000\n",
       "800    0.200000\n",
       "801    0.950000\n",
       "Name: delta, Length: 417, dtype: float64"
      ]
     },
     "execution_count": 437,
     "metadata": {},
     "output_type": "execute_result"
    }
   ],
   "source": [
    "y"
   ]
  },
  {
   "cell_type": "code",
   "execution_count": null,
   "metadata": {},
   "outputs": [],
   "source": []
  },
  {
   "cell_type": "code",
   "execution_count": null,
   "metadata": {},
   "outputs": [],
   "source": []
  }
 ],
 "metadata": {
  "interpreter": {
   "hash": "2ef5e293defde336e18effedfb280f0d11005b401f1b516e6e8aa19f195a036f"
  },
  "kernelspec": {
   "display_name": "Python 3.9.12 ('.scrapped-env': venv)",
   "language": "python",
   "name": "python3"
  },
  "language_info": {
   "codemirror_mode": {
    "name": "ipython",
    "version": 3
   },
   "file_extension": ".py",
   "mimetype": "text/x-python",
   "name": "python",
   "nbconvert_exporter": "python",
   "pygments_lexer": "ipython3",
   "version": "3.9.12"
  },
  "orig_nbformat": 4
 },
 "nbformat": 4,
 "nbformat_minor": 2
}

{
 "cells": [
  {
   "cell_type": "markdown",
   "metadata": {},
   "source": [
    "<h1 align='center'>Présentation du 13 mai</h1>"
   ]
  },
  {
   "cell_type": "code",
   "execution_count": 93,
   "metadata": {},
   "outputs": [
    {
     "name": "stdout",
     "output_type": "stream",
     "text": [
      "Nombre de produits : 661\n"
     ]
    }
   ],
   "source": [
    "import pandas as pd\n",
    "import plotly.express as px\n",
    "\n",
    "category_orders = {\"Niveau de prix\" : ['Discount','Bas', 'Moyen-Bas', 'Moyen', 'Moyen-Haut', 'Haut', 'Premium Luxury', 'Luxe'], \"Segment de marché\" : [\n",
    "        \"ultra fast fashion / discount\",\n",
    "        \"entrée de gamme / mass market\",\n",
    "        \"milieu de gamme\",\n",
    "        \"premium / luxe abordable\",\n",
    "        \"luxe & création\",\n",
    "    ], \"État\" :[\n",
    "        \"BON ÉTAT\",\n",
    "        \"NEUF AVEC ÉTIQUETTE\",\n",
    "        \"NEUF SANS ÉTIQUETTE\",\n",
    "        \"SATISFAISANT\",\n",
    "        \"TRÈS BON ÉTAT\",\n",
    "    ] }\n",
    "pd.options.plotting.backend = \"plotly\"\n",
    "\n",
    "filtered_df_shirt = pd.read_csv('../data/final/final_shirts.csv')\n",
    "print(f'Nombre de produits : {filtered_df_shirt.shape[0]}')"
   ]
  },
  {
   "cell_type": "code",
   "execution_count": 94,
   "metadata": {},
   "outputs": [
    {
     "data": {
      "text/html": [
       "<div>\n",
       "<style scoped>\n",
       "    .dataframe tbody tr th:only-of-type {\n",
       "        vertical-align: middle;\n",
       "    }\n",
       "\n",
       "    .dataframe tbody tr th {\n",
       "        vertical-align: top;\n",
       "    }\n",
       "\n",
       "    .dataframe thead th {\n",
       "        text-align: right;\n",
       "    }\n",
       "</style>\n",
       "<table border=\"1\" class=\"dataframe\">\n",
       "  <thead>\n",
       "    <tr style=\"text-align: right;\">\n",
       "      <th></th>\n",
       "      <th>Marque</th>\n",
       "      <th>Niveau de prix</th>\n",
       "      <th>Prix</th>\n",
       "      <th>État</th>\n",
       "    </tr>\n",
       "    <tr>\n",
       "      <th>Segment de marché</th>\n",
       "      <th></th>\n",
       "      <th></th>\n",
       "      <th></th>\n",
       "      <th></th>\n",
       "    </tr>\n",
       "  </thead>\n",
       "  <tbody>\n",
       "    <tr>\n",
       "      <th>entrée de gamme / mass market</th>\n",
       "      <td>121</td>\n",
       "      <td>121</td>\n",
       "      <td>121</td>\n",
       "      <td>121</td>\n",
       "    </tr>\n",
       "    <tr>\n",
       "      <th>luxe &amp; création</th>\n",
       "      <td>136</td>\n",
       "      <td>136</td>\n",
       "      <td>136</td>\n",
       "      <td>136</td>\n",
       "    </tr>\n",
       "    <tr>\n",
       "      <th>milieu de gamme</th>\n",
       "      <td>146</td>\n",
       "      <td>146</td>\n",
       "      <td>146</td>\n",
       "      <td>146</td>\n",
       "    </tr>\n",
       "    <tr>\n",
       "      <th>premium / luxe abordable</th>\n",
       "      <td>137</td>\n",
       "      <td>137</td>\n",
       "      <td>137</td>\n",
       "      <td>137</td>\n",
       "    </tr>\n",
       "    <tr>\n",
       "      <th>ultra fast fashion / discount</th>\n",
       "      <td>121</td>\n",
       "      <td>121</td>\n",
       "      <td>121</td>\n",
       "      <td>121</td>\n",
       "    </tr>\n",
       "  </tbody>\n",
       "</table>\n",
       "</div>"
      ],
      "text/plain": [
       "                               Marque  Niveau de prix  Prix  État\n",
       "Segment de marché                                                \n",
       "entrée de gamme / mass market     121             121   121   121\n",
       "luxe & création                   136             136   136   136\n",
       "milieu de gamme                   146             146   146   146\n",
       "premium / luxe abordable          137             137   137   137\n",
       "ultra fast fashion / discount     121             121   121   121"
      ]
     },
     "execution_count": 94,
     "metadata": {},
     "output_type": "execute_result"
    }
   ],
   "source": [
    "filtered_df_shirt.groupby(by='Segment de marché').count()"
   ]
  },
  {
   "cell_type": "code",
   "execution_count": 95,
   "metadata": {},
   "outputs": [
    {
     "data": {
      "application/vnd.plotly.v1+json": {
       "config": {
        "plotlyServerURL": "https://plot.ly"
       },
       "data": [
        {
         "alignmentgroup": "True",
         "bingroup": "x",
         "hovertemplate": "Marque=%{x}<br>count=%{y}<extra></extra>",
         "legendgroup": "",
         "marker": {
          "color": "#636efa",
          "pattern": {
           "shape": ""
          }
         },
         "name": "",
         "offsetgroup": "",
         "orientation": "v",
         "showlegend": false,
         "type": "histogram",
         "x": [
          "ZARA",
          "CHEVIGNON",
          "THE KOOPLES",
          "RALPH LAUREN",
          "NIKE",
          "RALPH LAUREN",
          "LEVI'S",
          "THE KOOPLES",
          "SHEIN",
          "SUPERDRY",
          "GUCCI",
          "RALPH LAUREN",
          "SUPERDRY",
          "RALPH LAUREN",
          "PULL & BEAR",
          "& OTHER STORIES",
          "& OTHER STORIES",
          "THE KOOPLES",
          "ADIDAS",
          "BALENCIAGA",
          "ADIDAS",
          "H&M",
          "GIVENCHY",
          "VALENTINO",
          "LEVI'S",
          "PIMKIE",
          "BALMAIN",
          "GIVENCHY",
          "JACK & JONES",
          "SAINT LAURENT",
          "TOMMY HILFIGER",
          "JACK & JONES",
          "NIKE",
          "LACOSTE",
          "RALPH LAUREN",
          "SUPERDRY",
          "RALPH LAUREN",
          "RALPH LAUREN",
          "LACOSTE",
          "RALPH LAUREN",
          "CARHARTT",
          "NIKE",
          "RALPH LAUREN",
          "ADIDAS",
          "ADIDAS",
          "LACOSTE",
          "RALPH LAUREN",
          "TOMMY HILFIGER",
          "TOMMY HILFIGER",
          "NIKE",
          "NIKE",
          "RALPH LAUREN",
          "RALPH LAUREN",
          "ZARA",
          "CARHARTT",
          "REEBOK",
          "LACOSTE",
          "TOMMY HILFIGER",
          "TOMMY HILFIGER",
          "RALPH LAUREN",
          "RALPH LAUREN",
          "NAPAPIJRI",
          "TOMMY HILFIGER",
          "VANS",
          "TOMMY HILFIGER",
          "JENNYFER",
          "H&M",
          "RALPH LAUREN",
          "TOMMY HILFIGER",
          "KENZO",
          "H&M",
          "PEPE JEANS",
          "GUESS",
          "LEVI'S",
          "TOMMY HILFIGER",
          "SCOTCH & SODA",
          "TOMMY HILFIGER",
          "LEVI'S",
          "NIKE",
          "MICHAEL KORS",
          "NIKE",
          "NIKE",
          "TOMMY HILFIGER",
          "RALPH LAUREN",
          "KAPORAL",
          "GUESS",
          "ZARA",
          "STRADIVARIUS",
          "CAMAÏEU",
          "RALPH LAUREN",
          "TOMMY HILFIGER",
          "BERSHKA",
          "JACK & JONES",
          "LACOSTE",
          "LEVI'S",
          "IZAC",
          "MONCLER",
          "LEVI'S",
          "TOMMY HILFIGER",
          "ADIDAS",
          "RALPH LAUREN",
          "ADIDAS",
          "CARHARTT",
          "JACADI",
          "NIKE",
          "CALVIN KLEIN",
          "GUESS",
          "NIKE",
          "TOMMY HILFIGER",
          "LACOSTE",
          "MANGO",
          "IKKS",
          "KENZO",
          "NIKE",
          "NIKE",
          "ORCHESTRA",
          "CHEVIGNON",
          "LEVI'S",
          "MANGO",
          "ZARA",
          "VALENTINO",
          "ADIDAS",
          "TOMMY HILFIGER",
          "CACHE CACHE",
          "GÉMO",
          "H&M",
          "AZZARO",
          "MAJE",
          "SANDRO",
          "NIKE",
          "IKKS",
          "NIKE",
          "HUGO BOSS",
          "BOTTEGA VENETA",
          "NIKE",
          "BURBERRY",
          "SHEIN",
          "SHEIN",
          "SHEIN",
          "SHEIN",
          "SHEIN",
          "SHEIN",
          "SHEIN",
          "SHEIN",
          "SHEIN",
          "SHEIN",
          "SHEIN",
          "SHEIN",
          "SHEIN",
          "SHEIN",
          "SHEIN",
          "SHEIN",
          "SHEIN",
          "SHEIN",
          "SHEIN",
          "SHEIN",
          "SHEIN",
          "SHEIN",
          "SHEIN",
          "SHEIN",
          "SHEIN",
          "SHEIN",
          "SHEIN",
          "SHEIN",
          "SHEIN",
          "SHEIN",
          "SHEIN",
          "SHEIN",
          "SHEIN",
          "SHEIN",
          "SHEIN",
          "SHEIN",
          "SHEIN",
          "SHEIN",
          "SHEIN",
          "SHEIN",
          "SHEIN",
          "SHEIN",
          "SHEIN",
          "PRETTYLITTLETHING",
          "PRETTYLITTLETHING",
          "PRETTYLITTLETHING",
          "BERSHKA",
          "BERSHKA",
          "PRETTYLITTLETHING",
          "PRETTYLITTLETHING",
          "PRETTYLITTLETHING",
          "PRETTYLITTLETHING",
          "PRETTYLITTLETHING",
          "PRETTYLITTLETHING",
          "PRETTYLITTLETHING",
          "PRETTYLITTLETHING",
          "LEVI'S",
          "PULL & BEAR",
          "GAP",
          "PRETTYLITTLETHING",
          "PRETTYLITTLETHING",
          "PRETTYLITTLETHING",
          "PRETTYLITTLETHING",
          "PRETTYLITTLETHING",
          "PRETTYLITTLETHING",
          "PRETTYLITTLETHING",
          "PRETTYLITTLETHING",
          "LACOSTE",
          "LEVI'S",
          "MISSGUIDED",
          "MISSGUIDED",
          "MISSGUIDED",
          "MISSGUIDED",
          "MISSGUIDED",
          "MISSGUIDED",
          "MISSGUIDED",
          "MISSGUIDED",
          "MISSGUIDED",
          "MISSGUIDED",
          "MISSGUIDED",
          "MISSGUIDED",
          "MISSGUIDED",
          "MISSGUIDED",
          "MISSGUIDED",
          "MISSGUIDED",
          "MISSGUIDED",
          "MISSGUIDED",
          "MISSGUIDED",
          "MISSGUIDED",
          "MISSGUIDED",
          "MISSGUIDED",
          "MISSGUIDED",
          "MISSGUIDED",
          "MISSGUIDED",
          "MISSGUIDED",
          "MISSGUIDED",
          "MISSGUIDED",
          "MISSGUIDED",
          "MISSGUIDED",
          "MISSGUIDED",
          "MISSGUIDED",
          "MISSGUIDED",
          "MISSGUIDED",
          "MISSGUIDED",
          "MISSGUIDED",
          "MISSGUIDED",
          "MISSGUIDED",
          "MISSGUIDED",
          "MISSGUIDED",
          "MISSGUIDED",
          "MISSGUIDED",
          "MISSGUIDED",
          "MISSGUIDED",
          "MISSGUIDED",
          "MISSGUIDED",
          "MISSGUIDED",
          "MISSGUIDED",
          "MISSGUIDED",
          "MISSGUIDED",
          "MISSGUIDED",
          "MISSGUIDED",
          "MISSGUIDED",
          "MISSGUIDED",
          "MISSGUIDED",
          "MISSGUIDED",
          "MISSGUIDED",
          "MISSGUIDED",
          "ZARA",
          "ZARA",
          "ZARA",
          "ZARA",
          "ZARA",
          "ZARA",
          "ZARA",
          "ZARA",
          "ZARA",
          "ZARA",
          "ZARA",
          "ZARA",
          "ZARA",
          "ZARA",
          "ZARA",
          "ZARA",
          "ZARA",
          "ZARA",
          "ZARA",
          "ZARA",
          "ZARA",
          "ZARA",
          "ZARA",
          "ZARA",
          "ZARA",
          "ZARA",
          "ZARA",
          "UNIQLO",
          "UNIQLO",
          "UNIQLO",
          "UNIQLO",
          "UNIQLO",
          "UNIQLO",
          "UNIQLO",
          "UNIQLO",
          "UNIQLO",
          "UNIQLO",
          "UNIQLO",
          "UNIQLO",
          "UNIQLO",
          "UNIQLO",
          "UNIQLO",
          "UNIQLO",
          "UNIQLO",
          "UNIQLO",
          "UNIQLO",
          "UNIQLO",
          "UNIQLO",
          "UNIQLO",
          "UNIQLO",
          "UNIQLO",
          "UNIQLO",
          "UNIQLO",
          "UNIQLO",
          "UNIQLO",
          "UNIQLO",
          "UNIQLO",
          "MANGO",
          "MANGO",
          "MANGO",
          "MANGO",
          "MANGO",
          "MANGO",
          "MANGO",
          "MANGO",
          "MANGO",
          "MANGO",
          "MANGO",
          "MANGO",
          "MANGO",
          "MANGO",
          "MANGO",
          "MANGO",
          "MANGO",
          "MANGO",
          "MANGO",
          "MANGO",
          "MANGO",
          "MANGO",
          "MANGO",
          "MANGO",
          "MANGO",
          "MANGO",
          "KENZO",
          "KENZO",
          "KENZO",
          "KENZO",
          "KENZO",
          "KENZO",
          "KENZO",
          "KENZO",
          "KENZO",
          "KENZO",
          "KENZO",
          "KENZO",
          "KENZO",
          "KENZO",
          "KENZO",
          "KENZO",
          "KENZO",
          "KENZO",
          "KENZO",
          "KENZO",
          "KENZO",
          "KENZO",
          "KENZO",
          "KENZO",
          "KENZO",
          "KENZO",
          "KENZO",
          "KENZO",
          "KENZO",
          "KENZO",
          "KENZO",
          "KENZO",
          "KENZO",
          "KENZO",
          "KENZO",
          "LACOSTE",
          "LACOSTE",
          "LACOSTE",
          "LACOSTE",
          "LACOSTE",
          "LACOSTE",
          "LACOSTE",
          "LACOSTE",
          "LACOSTE",
          "LACOSTE",
          "LACOSTE",
          "LACOSTE",
          "LACOSTE",
          "LACOSTE",
          "LACOSTE",
          "LACOSTE",
          "LACOSTE",
          "LACOSTE",
          "LACOSTE",
          "LACOSTE",
          "LACOSTE",
          "LACOSTE",
          "LACOSTE",
          "LACOSTE",
          "LACOSTE",
          "PAUL SMITH",
          "PAUL SMITH",
          "PAUL SMITH",
          "PAUL SMITH",
          "PAUL SMITH",
          "PAUL SMITH",
          "PAUL SMITH",
          "PAUL SMITH",
          "PAUL SMITH",
          "PAUL SMITH",
          "PAUL SMITH",
          "PAUL SMITH",
          "PAUL SMITH",
          "PAUL SMITH",
          "PAUL SMITH",
          "PAUL SMITH",
          "PAUL SMITH",
          "PAUL SMITH",
          "PAUL SMITH",
          "PAUL SMITH",
          "PAUL SMITH",
          "PAUL SMITH",
          "PAUL SMITH",
          "PAUL SMITH",
          "PAUL SMITH",
          "ADIDAS",
          "ADIDAS",
          "ADIDAS",
          "ADIDAS",
          "ADIDAS",
          "ADIDAS",
          "ADIDAS",
          "ADIDAS",
          "ADIDAS",
          "ADIDAS",
          "ADIDAS",
          "ADIDAS",
          "ADIDAS",
          "ADIDAS",
          "ADIDAS",
          "ADIDAS",
          "ADIDAS",
          "ADIDAS",
          "ADIDAS",
          "ADIDAS",
          "ADIDAS",
          "ADIDAS",
          "ADIDAS",
          "GUESS",
          "GUESS",
          "GUESS",
          "GUESS",
          "GUESS",
          "GUESS",
          "GUESS",
          "GUESS",
          "GUESS",
          "GUESS",
          "GUESS",
          "GUESS",
          "GUESS",
          "TOMMY HILFIGER",
          "TOMMY HILFIGER",
          "TOMMY HILFIGER",
          "TOMMY HILFIGER",
          "TOMMY HILFIGER",
          "TOMMY HILFIGER",
          "TOMMY HILFIGER",
          "TOMMY HILFIGER",
          "TOMMY HILFIGER",
          "TOMMY HILFIGER",
          "TOMMY HILFIGER",
          "TOMMY HILFIGER",
          "TOMMY HILFIGER",
          "TOMMY HILFIGER",
          "TOMMY HILFIGER",
          "TOMMY HILFIGER",
          "TOMMY HILFIGER",
          "TOMMY HILFIGER",
          "TOMMY HILFIGER",
          "TOMMY HILFIGER",
          "TOMMY HILFIGER",
          "TOMMY HILFIGER",
          "TOMMY HILFIGER",
          "TOMMY HILFIGER",
          "TOMMY HILFIGER",
          "TOMMY HILFIGER",
          "TOMMY HILFIGER",
          "TOMMY HILFIGER",
          "TOMMY HILFIGER",
          "BALENCIAGA",
          "BURBERRY",
          "SANDRO",
          "BALENCIAGA",
          "GIVENCHY",
          "CARVEN",
          "GIVENCHY",
          "YVES SAINT LAURENT",
          "BURBERRY",
          "CALVIN KLEIN",
          "IRO",
          "GIVENCHY",
          "BALMAIN",
          "GIVENCHY",
          "BALMAIN",
          "MIU MIU",
          "EMANUEL UNGARO",
          "BONPOINT",
          "KENZO",
          "GERARD DAREL",
          "PINKO",
          "COMPTOIR DES COTONNIERS",
          "GUCCI",
          "BALENCIAGA",
          "GIVENCHY",
          "DIOR",
          "ZADIG & VOLTAIRE",
          "ZADIG & VOLTAIRE",
          "GIVENCHY",
          "ZADIG & VOLTAIRE",
          "ADIDAS",
          "ADIDAS",
          "GIVENCHY",
          "NIKE",
          "ADIDAS",
          "UNDERCOVER",
          "MICHAEL KORS",
          "GIVENCHY",
          "GUESS",
          "BURBERRY",
          "ADIDAS",
          "MORGAN",
          "POLO RALPH LAUREN",
          "ALEXANDER MCQUEEN",
          "PEPE JEANS",
          "GIVENCHY",
          "MORGAN",
          "POLO RALPH LAUREN",
          "ALEXANDER MCQUEEN",
          "PEPE JEANS",
          "GIVENCHY",
          "LACOSTE",
          "DESIGUAL",
          "ARMAND THIERY",
          "POLO RALPH LAUREN",
          "ARMAND THIERY",
          "GUCCI",
          "PINKO",
          "CALVIN KLEIN",
          "BALENCIAGA",
          "GUCCI",
          "GUCCI",
          "DIOR HOMME",
          "BALENCIAGA",
          "BALENCIAGA",
          "VIVIENNE WESTWOOD",
          "GUCCI",
          "GIVENCHY",
          "BALENCIAGA",
          "GIVENCHY",
          "BURBERRY",
          "LOEWE",
          "GIVENCHY",
          "PRADA",
          "GUCCI",
          "NIKE",
          "DIOR",
          "GIVENCHY",
          "SAINT LAURENT",
          "GIVENCHY",
          "SAINT LAURENT",
          "GIVENCHY",
          "GIVENCHY",
          "YVES SAINT LAURENT",
          "JACQUEMUS",
          "GUCCI",
          "PRADA",
          "BALENCIAGA",
          "ADIDAS",
          "LOUIS VUITTON",
          "DIOR",
          "PRADA",
          "BALENCIAGA",
          "GIVENCHY",
          "PRADA",
          "DIOR HOMME",
          "SAINT LAURENT",
          "GUCCI",
          "BALENCIAGA",
          "PRADA",
          "PRADA",
          "SAINT LAURENT",
          "GUCCI",
          "PRADA",
          "BALENCIAGA",
          "DIOR HOMME",
          "BALENCIAGA",
          "DIOR",
          "PRADA",
          "BALENCIAGA",
          "PRADA",
          "VIVIENNE WESTWOOD",
          "BALENCIAGA",
          "PRADA",
          "NIKE",
          "PRADA",
          "GUCCI",
          "BURBERRY",
          "KENZO",
          "SAINT LAURENT",
          "PRADA",
          "NIKE",
          "CHANEL",
          "GUCCI",
          "BALENCIAGA",
          "ALEXANDER MCQUEEN",
          "PRADA",
          "CALVIN KLEIN",
          "VIVIENNE WESTWOOD",
          "SAINT LAURENT",
          "PRADA",
          "NIKE",
          "CHANEL",
          "GUCCI",
          "BALENCIAGA",
          "ALEXANDER MCQUEEN",
          "PRADA",
          "CALVIN KLEIN",
          "VIVIENNE WESTWOOD",
          "GUCCI",
          "GUCCI",
          "ISABEL MARANT",
          "BALENCIAGA",
          "GUCCI",
          "PRADA",
          "RALPH LAUREN",
          "SONIA RYKIEL",
          "BALENCIAGA",
          "BALENCIAGA",
          "SAINT LAURENT",
          "SAINT LAURENT",
          "CALVIN KLEIN",
          "SAINT LAURENT",
          "VIVIENNE WESTWOOD",
          "ZADIG & VOLTAIRE",
          "MONCLER",
          "SAINT LAURENT",
          "GUCCI",
          "YVES SAINT LAURENT",
          "SAINT LAURENT",
          "PRADA",
          "BALENCIAGA",
          "BURBERRY",
          "GIVENCHY",
          "BALENCIAGA"
         ],
         "xaxis": "x",
         "yaxis": "y"
        }
       ],
       "layout": {
        "barmode": "relative",
        "legend": {
         "tracegroupgap": 0
        },
        "template": {
         "data": {
          "bar": [
           {
            "error_x": {
             "color": "#2a3f5f"
            },
            "error_y": {
             "color": "#2a3f5f"
            },
            "marker": {
             "line": {
              "color": "#E5ECF6",
              "width": 0.5
             },
             "pattern": {
              "fillmode": "overlay",
              "size": 10,
              "solidity": 0.2
             }
            },
            "type": "bar"
           }
          ],
          "barpolar": [
           {
            "marker": {
             "line": {
              "color": "#E5ECF6",
              "width": 0.5
             },
             "pattern": {
              "fillmode": "overlay",
              "size": 10,
              "solidity": 0.2
             }
            },
            "type": "barpolar"
           }
          ],
          "carpet": [
           {
            "aaxis": {
             "endlinecolor": "#2a3f5f",
             "gridcolor": "white",
             "linecolor": "white",
             "minorgridcolor": "white",
             "startlinecolor": "#2a3f5f"
            },
            "baxis": {
             "endlinecolor": "#2a3f5f",
             "gridcolor": "white",
             "linecolor": "white",
             "minorgridcolor": "white",
             "startlinecolor": "#2a3f5f"
            },
            "type": "carpet"
           }
          ],
          "choropleth": [
           {
            "colorbar": {
             "outlinewidth": 0,
             "ticks": ""
            },
            "type": "choropleth"
           }
          ],
          "contour": [
           {
            "colorbar": {
             "outlinewidth": 0,
             "ticks": ""
            },
            "colorscale": [
             [
              0,
              "#0d0887"
             ],
             [
              0.1111111111111111,
              "#46039f"
             ],
             [
              0.2222222222222222,
              "#7201a8"
             ],
             [
              0.3333333333333333,
              "#9c179e"
             ],
             [
              0.4444444444444444,
              "#bd3786"
             ],
             [
              0.5555555555555556,
              "#d8576b"
             ],
             [
              0.6666666666666666,
              "#ed7953"
             ],
             [
              0.7777777777777778,
              "#fb9f3a"
             ],
             [
              0.8888888888888888,
              "#fdca26"
             ],
             [
              1,
              "#f0f921"
             ]
            ],
            "type": "contour"
           }
          ],
          "contourcarpet": [
           {
            "colorbar": {
             "outlinewidth": 0,
             "ticks": ""
            },
            "type": "contourcarpet"
           }
          ],
          "heatmap": [
           {
            "colorbar": {
             "outlinewidth": 0,
             "ticks": ""
            },
            "colorscale": [
             [
              0,
              "#0d0887"
             ],
             [
              0.1111111111111111,
              "#46039f"
             ],
             [
              0.2222222222222222,
              "#7201a8"
             ],
             [
              0.3333333333333333,
              "#9c179e"
             ],
             [
              0.4444444444444444,
              "#bd3786"
             ],
             [
              0.5555555555555556,
              "#d8576b"
             ],
             [
              0.6666666666666666,
              "#ed7953"
             ],
             [
              0.7777777777777778,
              "#fb9f3a"
             ],
             [
              0.8888888888888888,
              "#fdca26"
             ],
             [
              1,
              "#f0f921"
             ]
            ],
            "type": "heatmap"
           }
          ],
          "heatmapgl": [
           {
            "colorbar": {
             "outlinewidth": 0,
             "ticks": ""
            },
            "colorscale": [
             [
              0,
              "#0d0887"
             ],
             [
              0.1111111111111111,
              "#46039f"
             ],
             [
              0.2222222222222222,
              "#7201a8"
             ],
             [
              0.3333333333333333,
              "#9c179e"
             ],
             [
              0.4444444444444444,
              "#bd3786"
             ],
             [
              0.5555555555555556,
              "#d8576b"
             ],
             [
              0.6666666666666666,
              "#ed7953"
             ],
             [
              0.7777777777777778,
              "#fb9f3a"
             ],
             [
              0.8888888888888888,
              "#fdca26"
             ],
             [
              1,
              "#f0f921"
             ]
            ],
            "type": "heatmapgl"
           }
          ],
          "histogram": [
           {
            "marker": {
             "pattern": {
              "fillmode": "overlay",
              "size": 10,
              "solidity": 0.2
             }
            },
            "type": "histogram"
           }
          ],
          "histogram2d": [
           {
            "colorbar": {
             "outlinewidth": 0,
             "ticks": ""
            },
            "colorscale": [
             [
              0,
              "#0d0887"
             ],
             [
              0.1111111111111111,
              "#46039f"
             ],
             [
              0.2222222222222222,
              "#7201a8"
             ],
             [
              0.3333333333333333,
              "#9c179e"
             ],
             [
              0.4444444444444444,
              "#bd3786"
             ],
             [
              0.5555555555555556,
              "#d8576b"
             ],
             [
              0.6666666666666666,
              "#ed7953"
             ],
             [
              0.7777777777777778,
              "#fb9f3a"
             ],
             [
              0.8888888888888888,
              "#fdca26"
             ],
             [
              1,
              "#f0f921"
             ]
            ],
            "type": "histogram2d"
           }
          ],
          "histogram2dcontour": [
           {
            "colorbar": {
             "outlinewidth": 0,
             "ticks": ""
            },
            "colorscale": [
             [
              0,
              "#0d0887"
             ],
             [
              0.1111111111111111,
              "#46039f"
             ],
             [
              0.2222222222222222,
              "#7201a8"
             ],
             [
              0.3333333333333333,
              "#9c179e"
             ],
             [
              0.4444444444444444,
              "#bd3786"
             ],
             [
              0.5555555555555556,
              "#d8576b"
             ],
             [
              0.6666666666666666,
              "#ed7953"
             ],
             [
              0.7777777777777778,
              "#fb9f3a"
             ],
             [
              0.8888888888888888,
              "#fdca26"
             ],
             [
              1,
              "#f0f921"
             ]
            ],
            "type": "histogram2dcontour"
           }
          ],
          "mesh3d": [
           {
            "colorbar": {
             "outlinewidth": 0,
             "ticks": ""
            },
            "type": "mesh3d"
           }
          ],
          "parcoords": [
           {
            "line": {
             "colorbar": {
              "outlinewidth": 0,
              "ticks": ""
             }
            },
            "type": "parcoords"
           }
          ],
          "pie": [
           {
            "automargin": true,
            "type": "pie"
           }
          ],
          "scatter": [
           {
            "fillpattern": {
             "fillmode": "overlay",
             "size": 10,
             "solidity": 0.2
            },
            "type": "scatter"
           }
          ],
          "scatter3d": [
           {
            "line": {
             "colorbar": {
              "outlinewidth": 0,
              "ticks": ""
             }
            },
            "marker": {
             "colorbar": {
              "outlinewidth": 0,
              "ticks": ""
             }
            },
            "type": "scatter3d"
           }
          ],
          "scattercarpet": [
           {
            "marker": {
             "colorbar": {
              "outlinewidth": 0,
              "ticks": ""
             }
            },
            "type": "scattercarpet"
           }
          ],
          "scattergeo": [
           {
            "marker": {
             "colorbar": {
              "outlinewidth": 0,
              "ticks": ""
             }
            },
            "type": "scattergeo"
           }
          ],
          "scattergl": [
           {
            "marker": {
             "colorbar": {
              "outlinewidth": 0,
              "ticks": ""
             }
            },
            "type": "scattergl"
           }
          ],
          "scattermapbox": [
           {
            "marker": {
             "colorbar": {
              "outlinewidth": 0,
              "ticks": ""
             }
            },
            "type": "scattermapbox"
           }
          ],
          "scatterpolar": [
           {
            "marker": {
             "colorbar": {
              "outlinewidth": 0,
              "ticks": ""
             }
            },
            "type": "scatterpolar"
           }
          ],
          "scatterpolargl": [
           {
            "marker": {
             "colorbar": {
              "outlinewidth": 0,
              "ticks": ""
             }
            },
            "type": "scatterpolargl"
           }
          ],
          "scatterternary": [
           {
            "marker": {
             "colorbar": {
              "outlinewidth": 0,
              "ticks": ""
             }
            },
            "type": "scatterternary"
           }
          ],
          "surface": [
           {
            "colorbar": {
             "outlinewidth": 0,
             "ticks": ""
            },
            "colorscale": [
             [
              0,
              "#0d0887"
             ],
             [
              0.1111111111111111,
              "#46039f"
             ],
             [
              0.2222222222222222,
              "#7201a8"
             ],
             [
              0.3333333333333333,
              "#9c179e"
             ],
             [
              0.4444444444444444,
              "#bd3786"
             ],
             [
              0.5555555555555556,
              "#d8576b"
             ],
             [
              0.6666666666666666,
              "#ed7953"
             ],
             [
              0.7777777777777778,
              "#fb9f3a"
             ],
             [
              0.8888888888888888,
              "#fdca26"
             ],
             [
              1,
              "#f0f921"
             ]
            ],
            "type": "surface"
           }
          ],
          "table": [
           {
            "cells": {
             "fill": {
              "color": "#EBF0F8"
             },
             "line": {
              "color": "white"
             }
            },
            "header": {
             "fill": {
              "color": "#C8D4E3"
             },
             "line": {
              "color": "white"
             }
            },
            "type": "table"
           }
          ]
         },
         "layout": {
          "annotationdefaults": {
           "arrowcolor": "#2a3f5f",
           "arrowhead": 0,
           "arrowwidth": 1
          },
          "autotypenumbers": "strict",
          "coloraxis": {
           "colorbar": {
            "outlinewidth": 0,
            "ticks": ""
           }
          },
          "colorscale": {
           "diverging": [
            [
             0,
             "#8e0152"
            ],
            [
             0.1,
             "#c51b7d"
            ],
            [
             0.2,
             "#de77ae"
            ],
            [
             0.3,
             "#f1b6da"
            ],
            [
             0.4,
             "#fde0ef"
            ],
            [
             0.5,
             "#f7f7f7"
            ],
            [
             0.6,
             "#e6f5d0"
            ],
            [
             0.7,
             "#b8e186"
            ],
            [
             0.8,
             "#7fbc41"
            ],
            [
             0.9,
             "#4d9221"
            ],
            [
             1,
             "#276419"
            ]
           ],
           "sequential": [
            [
             0,
             "#0d0887"
            ],
            [
             0.1111111111111111,
             "#46039f"
            ],
            [
             0.2222222222222222,
             "#7201a8"
            ],
            [
             0.3333333333333333,
             "#9c179e"
            ],
            [
             0.4444444444444444,
             "#bd3786"
            ],
            [
             0.5555555555555556,
             "#d8576b"
            ],
            [
             0.6666666666666666,
             "#ed7953"
            ],
            [
             0.7777777777777778,
             "#fb9f3a"
            ],
            [
             0.8888888888888888,
             "#fdca26"
            ],
            [
             1,
             "#f0f921"
            ]
           ],
           "sequentialminus": [
            [
             0,
             "#0d0887"
            ],
            [
             0.1111111111111111,
             "#46039f"
            ],
            [
             0.2222222222222222,
             "#7201a8"
            ],
            [
             0.3333333333333333,
             "#9c179e"
            ],
            [
             0.4444444444444444,
             "#bd3786"
            ],
            [
             0.5555555555555556,
             "#d8576b"
            ],
            [
             0.6666666666666666,
             "#ed7953"
            ],
            [
             0.7777777777777778,
             "#fb9f3a"
            ],
            [
             0.8888888888888888,
             "#fdca26"
            ],
            [
             1,
             "#f0f921"
            ]
           ]
          },
          "colorway": [
           "#636efa",
           "#EF553B",
           "#00cc96",
           "#ab63fa",
           "#FFA15A",
           "#19d3f3",
           "#FF6692",
           "#B6E880",
           "#FF97FF",
           "#FECB52"
          ],
          "font": {
           "color": "#2a3f5f"
          },
          "geo": {
           "bgcolor": "white",
           "lakecolor": "white",
           "landcolor": "#E5ECF6",
           "showlakes": true,
           "showland": true,
           "subunitcolor": "white"
          },
          "hoverlabel": {
           "align": "left"
          },
          "hovermode": "closest",
          "mapbox": {
           "style": "light"
          },
          "paper_bgcolor": "white",
          "plot_bgcolor": "#E5ECF6",
          "polar": {
           "angularaxis": {
            "gridcolor": "white",
            "linecolor": "white",
            "ticks": ""
           },
           "bgcolor": "#E5ECF6",
           "radialaxis": {
            "gridcolor": "white",
            "linecolor": "white",
            "ticks": ""
           }
          },
          "scene": {
           "xaxis": {
            "backgroundcolor": "#E5ECF6",
            "gridcolor": "white",
            "gridwidth": 2,
            "linecolor": "white",
            "showbackground": true,
            "ticks": "",
            "zerolinecolor": "white"
           },
           "yaxis": {
            "backgroundcolor": "#E5ECF6",
            "gridcolor": "white",
            "gridwidth": 2,
            "linecolor": "white",
            "showbackground": true,
            "ticks": "",
            "zerolinecolor": "white"
           },
           "zaxis": {
            "backgroundcolor": "#E5ECF6",
            "gridcolor": "white",
            "gridwidth": 2,
            "linecolor": "white",
            "showbackground": true,
            "ticks": "",
            "zerolinecolor": "white"
           }
          },
          "shapedefaults": {
           "line": {
            "color": "#2a3f5f"
           }
          },
          "ternary": {
           "aaxis": {
            "gridcolor": "white",
            "linecolor": "white",
            "ticks": ""
           },
           "baxis": {
            "gridcolor": "white",
            "linecolor": "white",
            "ticks": ""
           },
           "bgcolor": "#E5ECF6",
           "caxis": {
            "gridcolor": "white",
            "linecolor": "white",
            "ticks": ""
           }
          },
          "title": {
           "x": 0.05
          },
          "xaxis": {
           "automargin": true,
           "gridcolor": "white",
           "linecolor": "white",
           "ticks": "",
           "title": {
            "standoff": 15
           },
           "zerolinecolor": "white",
           "zerolinewidth": 2
          },
          "yaxis": {
           "automargin": true,
           "gridcolor": "white",
           "linecolor": "white",
           "ticks": "",
           "title": {
            "standoff": 15
           },
           "zerolinecolor": "white",
           "zerolinewidth": 2
          }
         }
        },
        "title": {
         "text": "Produits par marque"
        },
        "xaxis": {
         "anchor": "y",
         "categoryorder": "total ascending",
         "domain": [
          0,
          1
         ],
         "title": {
          "text": "Marque"
         }
        },
        "yaxis": {
         "anchor": "x",
         "domain": [
          0,
          1
         ],
         "title": {
          "text": "count"
         }
        }
       }
      }
     },
     "metadata": {},
     "output_type": "display_data"
    }
   ],
   "source": [
    "px.histogram(filtered_df_shirt, x='Marque', title='Produits par marque').update_xaxes(categoryorder='total ascending')"
   ]
  },
  {
   "cell_type": "code",
   "execution_count": 96,
   "metadata": {},
   "outputs": [
    {
     "data": {
      "application/vnd.plotly.v1+json": {
       "config": {
        "plotlyServerURL": "https://plot.ly"
       },
       "data": [
        {
         "alignmentgroup": "True",
         "hovertemplate": "variable=SATISFAISANT<br>index=%{x}<br>value=%{y}<extra></extra>",
         "legendgroup": "SATISFAISANT",
         "marker": {
          "color": "#636efa",
          "pattern": {
           "shape": ""
          }
         },
         "name": "SATISFAISANT",
         "offsetgroup": "SATISFAISANT",
         "orientation": "v",
         "showlegend": true,
         "textposition": "auto",
         "type": "bar",
         "x": [
          "ultra fast fashion / discount",
          "entrée de gamme / mass market",
          "milieu de gamme",
          "premium / luxe abordable",
          "luxe & création"
         ],
         "xaxis": "x",
         "y": [
          0,
          1,
          2,
          0,
          0
         ],
         "yaxis": "y"
        },
        {
         "alignmentgroup": "True",
         "hovertemplate": "variable=BON ÉTAT<br>index=%{x}<br>value=%{y}<extra></extra>",
         "legendgroup": "BON ÉTAT",
         "marker": {
          "color": "#EF553B",
          "pattern": {
           "shape": ""
          }
         },
         "name": "BON ÉTAT",
         "offsetgroup": "BON ÉTAT",
         "orientation": "v",
         "showlegend": true,
         "textposition": "auto",
         "type": "bar",
         "x": [
          "ultra fast fashion / discount",
          "entrée de gamme / mass market",
          "milieu de gamme",
          "premium / luxe abordable",
          "luxe & création"
         ],
         "xaxis": "x",
         "y": [
          9,
          7,
          13,
          10,
          11
         ],
         "yaxis": "y"
        },
        {
         "alignmentgroup": "True",
         "hovertemplate": "variable=TRÈS BON ÉTAT<br>index=%{x}<br>value=%{y}<extra></extra>",
         "legendgroup": "TRÈS BON ÉTAT",
         "marker": {
          "color": "#00cc96",
          "pattern": {
           "shape": ""
          }
         },
         "name": "TRÈS BON ÉTAT",
         "offsetgroup": "TRÈS BON ÉTAT",
         "orientation": "v",
         "showlegend": true,
         "textposition": "auto",
         "type": "bar",
         "x": [
          "ultra fast fashion / discount",
          "entrée de gamme / mass market",
          "milieu de gamme",
          "premium / luxe abordable",
          "luxe & création"
         ],
         "xaxis": "x",
         "y": [
          42,
          61,
          49,
          61,
          53
         ],
         "yaxis": "y"
        },
        {
         "alignmentgroup": "True",
         "hovertemplate": "variable=NEUF SANS ÉTIQUETTE<br>index=%{x}<br>value=%{y}<extra></extra>",
         "legendgroup": "NEUF SANS ÉTIQUETTE",
         "marker": {
          "color": "#ab63fa",
          "pattern": {
           "shape": ""
          }
         },
         "name": "NEUF SANS ÉTIQUETTE",
         "offsetgroup": "NEUF SANS ÉTIQUETTE",
         "orientation": "v",
         "showlegend": true,
         "textposition": "auto",
         "type": "bar",
         "x": [
          "ultra fast fashion / discount",
          "entrée de gamme / mass market",
          "milieu de gamme",
          "premium / luxe abordable",
          "luxe & création"
         ],
         "xaxis": "x",
         "y": [
          38,
          19,
          19,
          13,
          22
         ],
         "yaxis": "y"
        },
        {
         "alignmentgroup": "True",
         "hovertemplate": "variable=NEUF AVEC ÉTIQUETTE<br>index=%{x}<br>value=%{y}<extra></extra>",
         "legendgroup": "NEUF AVEC ÉTIQUETTE",
         "marker": {
          "color": "#FFA15A",
          "pattern": {
           "shape": ""
          }
         },
         "name": "NEUF AVEC ÉTIQUETTE",
         "offsetgroup": "NEUF AVEC ÉTIQUETTE",
         "orientation": "v",
         "showlegend": true,
         "textposition": "auto",
         "type": "bar",
         "x": [
          "ultra fast fashion / discount",
          "entrée de gamme / mass market",
          "milieu de gamme",
          "premium / luxe abordable",
          "luxe & création"
         ],
         "xaxis": "x",
         "y": [
          9,
          9,
          15,
          13,
          11
         ],
         "yaxis": "y"
        }
       ],
       "layout": {
        "barmode": "relative",
        "legend": {
         "title": {
          "text": "variable"
         },
         "tracegroupgap": 0
        },
        "template": {
         "data": {
          "bar": [
           {
            "error_x": {
             "color": "#2a3f5f"
            },
            "error_y": {
             "color": "#2a3f5f"
            },
            "marker": {
             "line": {
              "color": "#E5ECF6",
              "width": 0.5
             },
             "pattern": {
              "fillmode": "overlay",
              "size": 10,
              "solidity": 0.2
             }
            },
            "type": "bar"
           }
          ],
          "barpolar": [
           {
            "marker": {
             "line": {
              "color": "#E5ECF6",
              "width": 0.5
             },
             "pattern": {
              "fillmode": "overlay",
              "size": 10,
              "solidity": 0.2
             }
            },
            "type": "barpolar"
           }
          ],
          "carpet": [
           {
            "aaxis": {
             "endlinecolor": "#2a3f5f",
             "gridcolor": "white",
             "linecolor": "white",
             "minorgridcolor": "white",
             "startlinecolor": "#2a3f5f"
            },
            "baxis": {
             "endlinecolor": "#2a3f5f",
             "gridcolor": "white",
             "linecolor": "white",
             "minorgridcolor": "white",
             "startlinecolor": "#2a3f5f"
            },
            "type": "carpet"
           }
          ],
          "choropleth": [
           {
            "colorbar": {
             "outlinewidth": 0,
             "ticks": ""
            },
            "type": "choropleth"
           }
          ],
          "contour": [
           {
            "colorbar": {
             "outlinewidth": 0,
             "ticks": ""
            },
            "colorscale": [
             [
              0,
              "#0d0887"
             ],
             [
              0.1111111111111111,
              "#46039f"
             ],
             [
              0.2222222222222222,
              "#7201a8"
             ],
             [
              0.3333333333333333,
              "#9c179e"
             ],
             [
              0.4444444444444444,
              "#bd3786"
             ],
             [
              0.5555555555555556,
              "#d8576b"
             ],
             [
              0.6666666666666666,
              "#ed7953"
             ],
             [
              0.7777777777777778,
              "#fb9f3a"
             ],
             [
              0.8888888888888888,
              "#fdca26"
             ],
             [
              1,
              "#f0f921"
             ]
            ],
            "type": "contour"
           }
          ],
          "contourcarpet": [
           {
            "colorbar": {
             "outlinewidth": 0,
             "ticks": ""
            },
            "type": "contourcarpet"
           }
          ],
          "heatmap": [
           {
            "colorbar": {
             "outlinewidth": 0,
             "ticks": ""
            },
            "colorscale": [
             [
              0,
              "#0d0887"
             ],
             [
              0.1111111111111111,
              "#46039f"
             ],
             [
              0.2222222222222222,
              "#7201a8"
             ],
             [
              0.3333333333333333,
              "#9c179e"
             ],
             [
              0.4444444444444444,
              "#bd3786"
             ],
             [
              0.5555555555555556,
              "#d8576b"
             ],
             [
              0.6666666666666666,
              "#ed7953"
             ],
             [
              0.7777777777777778,
              "#fb9f3a"
             ],
             [
              0.8888888888888888,
              "#fdca26"
             ],
             [
              1,
              "#f0f921"
             ]
            ],
            "type": "heatmap"
           }
          ],
          "heatmapgl": [
           {
            "colorbar": {
             "outlinewidth": 0,
             "ticks": ""
            },
            "colorscale": [
             [
              0,
              "#0d0887"
             ],
             [
              0.1111111111111111,
              "#46039f"
             ],
             [
              0.2222222222222222,
              "#7201a8"
             ],
             [
              0.3333333333333333,
              "#9c179e"
             ],
             [
              0.4444444444444444,
              "#bd3786"
             ],
             [
              0.5555555555555556,
              "#d8576b"
             ],
             [
              0.6666666666666666,
              "#ed7953"
             ],
             [
              0.7777777777777778,
              "#fb9f3a"
             ],
             [
              0.8888888888888888,
              "#fdca26"
             ],
             [
              1,
              "#f0f921"
             ]
            ],
            "type": "heatmapgl"
           }
          ],
          "histogram": [
           {
            "marker": {
             "pattern": {
              "fillmode": "overlay",
              "size": 10,
              "solidity": 0.2
             }
            },
            "type": "histogram"
           }
          ],
          "histogram2d": [
           {
            "colorbar": {
             "outlinewidth": 0,
             "ticks": ""
            },
            "colorscale": [
             [
              0,
              "#0d0887"
             ],
             [
              0.1111111111111111,
              "#46039f"
             ],
             [
              0.2222222222222222,
              "#7201a8"
             ],
             [
              0.3333333333333333,
              "#9c179e"
             ],
             [
              0.4444444444444444,
              "#bd3786"
             ],
             [
              0.5555555555555556,
              "#d8576b"
             ],
             [
              0.6666666666666666,
              "#ed7953"
             ],
             [
              0.7777777777777778,
              "#fb9f3a"
             ],
             [
              0.8888888888888888,
              "#fdca26"
             ],
             [
              1,
              "#f0f921"
             ]
            ],
            "type": "histogram2d"
           }
          ],
          "histogram2dcontour": [
           {
            "colorbar": {
             "outlinewidth": 0,
             "ticks": ""
            },
            "colorscale": [
             [
              0,
              "#0d0887"
             ],
             [
              0.1111111111111111,
              "#46039f"
             ],
             [
              0.2222222222222222,
              "#7201a8"
             ],
             [
              0.3333333333333333,
              "#9c179e"
             ],
             [
              0.4444444444444444,
              "#bd3786"
             ],
             [
              0.5555555555555556,
              "#d8576b"
             ],
             [
              0.6666666666666666,
              "#ed7953"
             ],
             [
              0.7777777777777778,
              "#fb9f3a"
             ],
             [
              0.8888888888888888,
              "#fdca26"
             ],
             [
              1,
              "#f0f921"
             ]
            ],
            "type": "histogram2dcontour"
           }
          ],
          "mesh3d": [
           {
            "colorbar": {
             "outlinewidth": 0,
             "ticks": ""
            },
            "type": "mesh3d"
           }
          ],
          "parcoords": [
           {
            "line": {
             "colorbar": {
              "outlinewidth": 0,
              "ticks": ""
             }
            },
            "type": "parcoords"
           }
          ],
          "pie": [
           {
            "automargin": true,
            "type": "pie"
           }
          ],
          "scatter": [
           {
            "fillpattern": {
             "fillmode": "overlay",
             "size": 10,
             "solidity": 0.2
            },
            "type": "scatter"
           }
          ],
          "scatter3d": [
           {
            "line": {
             "colorbar": {
              "outlinewidth": 0,
              "ticks": ""
             }
            },
            "marker": {
             "colorbar": {
              "outlinewidth": 0,
              "ticks": ""
             }
            },
            "type": "scatter3d"
           }
          ],
          "scattercarpet": [
           {
            "marker": {
             "colorbar": {
              "outlinewidth": 0,
              "ticks": ""
             }
            },
            "type": "scattercarpet"
           }
          ],
          "scattergeo": [
           {
            "marker": {
             "colorbar": {
              "outlinewidth": 0,
              "ticks": ""
             }
            },
            "type": "scattergeo"
           }
          ],
          "scattergl": [
           {
            "marker": {
             "colorbar": {
              "outlinewidth": 0,
              "ticks": ""
             }
            },
            "type": "scattergl"
           }
          ],
          "scattermapbox": [
           {
            "marker": {
             "colorbar": {
              "outlinewidth": 0,
              "ticks": ""
             }
            },
            "type": "scattermapbox"
           }
          ],
          "scatterpolar": [
           {
            "marker": {
             "colorbar": {
              "outlinewidth": 0,
              "ticks": ""
             }
            },
            "type": "scatterpolar"
           }
          ],
          "scatterpolargl": [
           {
            "marker": {
             "colorbar": {
              "outlinewidth": 0,
              "ticks": ""
             }
            },
            "type": "scatterpolargl"
           }
          ],
          "scatterternary": [
           {
            "marker": {
             "colorbar": {
              "outlinewidth": 0,
              "ticks": ""
             }
            },
            "type": "scatterternary"
           }
          ],
          "surface": [
           {
            "colorbar": {
             "outlinewidth": 0,
             "ticks": ""
            },
            "colorscale": [
             [
              0,
              "#0d0887"
             ],
             [
              0.1111111111111111,
              "#46039f"
             ],
             [
              0.2222222222222222,
              "#7201a8"
             ],
             [
              0.3333333333333333,
              "#9c179e"
             ],
             [
              0.4444444444444444,
              "#bd3786"
             ],
             [
              0.5555555555555556,
              "#d8576b"
             ],
             [
              0.6666666666666666,
              "#ed7953"
             ],
             [
              0.7777777777777778,
              "#fb9f3a"
             ],
             [
              0.8888888888888888,
              "#fdca26"
             ],
             [
              1,
              "#f0f921"
             ]
            ],
            "type": "surface"
           }
          ],
          "table": [
           {
            "cells": {
             "fill": {
              "color": "#EBF0F8"
             },
             "line": {
              "color": "white"
             }
            },
            "header": {
             "fill": {
              "color": "#C8D4E3"
             },
             "line": {
              "color": "white"
             }
            },
            "type": "table"
           }
          ]
         },
         "layout": {
          "annotationdefaults": {
           "arrowcolor": "#2a3f5f",
           "arrowhead": 0,
           "arrowwidth": 1
          },
          "autotypenumbers": "strict",
          "coloraxis": {
           "colorbar": {
            "outlinewidth": 0,
            "ticks": ""
           }
          },
          "colorscale": {
           "diverging": [
            [
             0,
             "#8e0152"
            ],
            [
             0.1,
             "#c51b7d"
            ],
            [
             0.2,
             "#de77ae"
            ],
            [
             0.3,
             "#f1b6da"
            ],
            [
             0.4,
             "#fde0ef"
            ],
            [
             0.5,
             "#f7f7f7"
            ],
            [
             0.6,
             "#e6f5d0"
            ],
            [
             0.7,
             "#b8e186"
            ],
            [
             0.8,
             "#7fbc41"
            ],
            [
             0.9,
             "#4d9221"
            ],
            [
             1,
             "#276419"
            ]
           ],
           "sequential": [
            [
             0,
             "#0d0887"
            ],
            [
             0.1111111111111111,
             "#46039f"
            ],
            [
             0.2222222222222222,
             "#7201a8"
            ],
            [
             0.3333333333333333,
             "#9c179e"
            ],
            [
             0.4444444444444444,
             "#bd3786"
            ],
            [
             0.5555555555555556,
             "#d8576b"
            ],
            [
             0.6666666666666666,
             "#ed7953"
            ],
            [
             0.7777777777777778,
             "#fb9f3a"
            ],
            [
             0.8888888888888888,
             "#fdca26"
            ],
            [
             1,
             "#f0f921"
            ]
           ],
           "sequentialminus": [
            [
             0,
             "#0d0887"
            ],
            [
             0.1111111111111111,
             "#46039f"
            ],
            [
             0.2222222222222222,
             "#7201a8"
            ],
            [
             0.3333333333333333,
             "#9c179e"
            ],
            [
             0.4444444444444444,
             "#bd3786"
            ],
            [
             0.5555555555555556,
             "#d8576b"
            ],
            [
             0.6666666666666666,
             "#ed7953"
            ],
            [
             0.7777777777777778,
             "#fb9f3a"
            ],
            [
             0.8888888888888888,
             "#fdca26"
            ],
            [
             1,
             "#f0f921"
            ]
           ]
          },
          "colorway": [
           "#636efa",
           "#EF553B",
           "#00cc96",
           "#ab63fa",
           "#FFA15A",
           "#19d3f3",
           "#FF6692",
           "#B6E880",
           "#FF97FF",
           "#FECB52"
          ],
          "font": {
           "color": "#2a3f5f"
          },
          "geo": {
           "bgcolor": "white",
           "lakecolor": "white",
           "landcolor": "#E5ECF6",
           "showlakes": true,
           "showland": true,
           "subunitcolor": "white"
          },
          "hoverlabel": {
           "align": "left"
          },
          "hovermode": "closest",
          "mapbox": {
           "style": "light"
          },
          "paper_bgcolor": "white",
          "plot_bgcolor": "#E5ECF6",
          "polar": {
           "angularaxis": {
            "gridcolor": "white",
            "linecolor": "white",
            "ticks": ""
           },
           "bgcolor": "#E5ECF6",
           "radialaxis": {
            "gridcolor": "white",
            "linecolor": "white",
            "ticks": ""
           }
          },
          "scene": {
           "xaxis": {
            "backgroundcolor": "#E5ECF6",
            "gridcolor": "white",
            "gridwidth": 2,
            "linecolor": "white",
            "showbackground": true,
            "ticks": "",
            "zerolinecolor": "white"
           },
           "yaxis": {
            "backgroundcolor": "#E5ECF6",
            "gridcolor": "white",
            "gridwidth": 2,
            "linecolor": "white",
            "showbackground": true,
            "ticks": "",
            "zerolinecolor": "white"
           },
           "zaxis": {
            "backgroundcolor": "#E5ECF6",
            "gridcolor": "white",
            "gridwidth": 2,
            "linecolor": "white",
            "showbackground": true,
            "ticks": "",
            "zerolinecolor": "white"
           }
          },
          "shapedefaults": {
           "line": {
            "color": "#2a3f5f"
           }
          },
          "ternary": {
           "aaxis": {
            "gridcolor": "white",
            "linecolor": "white",
            "ticks": ""
           },
           "baxis": {
            "gridcolor": "white",
            "linecolor": "white",
            "ticks": ""
           },
           "bgcolor": "#E5ECF6",
           "caxis": {
            "gridcolor": "white",
            "linecolor": "white",
            "ticks": ""
           }
          },
          "title": {
           "x": 0.05
          },
          "xaxis": {
           "automargin": true,
           "gridcolor": "white",
           "linecolor": "white",
           "ticks": "",
           "title": {
            "standoff": 15
           },
           "zerolinecolor": "white",
           "zerolinewidth": 2
          },
          "yaxis": {
           "automargin": true,
           "gridcolor": "white",
           "linecolor": "white",
           "ticks": "",
           "title": {
            "standoff": 15
           },
           "zerolinecolor": "white",
           "zerolinewidth": 2
          }
         }
        },
        "title": {
         "text": "Composition des segments de marché : État"
        },
        "xaxis": {
         "anchor": "y",
         "domain": [
          0,
          1
         ],
         "title": {
          "text": "index"
         }
        },
        "yaxis": {
         "anchor": "x",
         "domain": [
          0,
          1
         ],
         "title": {
          "text": "value"
         }
        }
       }
      }
     },
     "metadata": {},
     "output_type": "display_data"
    }
   ],
   "source": [
    "df = filtered_df_shirt.groupby(by=['Segment de marché', 'État']).count()\n",
    "hist_val = {}\n",
    "for ind in df.index:\n",
    "    hist_val[ind[0]] = []\n",
    "\n",
    "for ind in df.index:\n",
    "    hist_val[ind[0]].append(df.loc[ind].iloc[0])\n",
    "\n",
    "for el in hist_val:\n",
    "    hist_val[el] /= sum(hist_val[el])\n",
    "\n",
    "hist_df = pd.DataFrame(\n",
    "    hist_val,\n",
    "    index=[\n",
    "        \"BON ÉTAT\",\n",
    "        \"NEUF AVEC ÉTIQUETTE\",\n",
    "        \"NEUF SANS ÉTIQUETTE\",\n",
    "        \"SATISFAISANT\",\n",
    "        \"TRÈS BON ÉTAT\",\n",
    "    ],\n",
    ")\n",
    "\n",
    "hist_df = (\n",
    "    (hist_df * 100)\n",
    "    .astype(int)\n",
    "    .reindex(\n",
    "        [\n",
    "            \"SATISFAISANT\",\n",
    "            \"BON ÉTAT\",\n",
    "            \"TRÈS BON ÉTAT\",\n",
    "            \"NEUF SANS ÉTIQUETTE\",\n",
    "            \"NEUF AVEC ÉTIQUETTE\",\n",
    "        ]\n",
    "    )\n",
    ")\n",
    "hist_df = hist_df.reindex(\n",
    "    columns=[\n",
    "        \"ultra fast fashion / discount\",\n",
    "        \"entrée de gamme / mass market\",\n",
    "        \"milieu de gamme\",\n",
    "        \"premium / luxe abordable\",\n",
    "        \"luxe & création\",\n",
    "    ]\n",
    ")\n",
    "\n",
    "fig = hist_df.transpose().plot(kind=\"bar\", title='Composition des segments de marché : État')\n",
    "fig.show()"
   ]
  },
  {
   "cell_type": "markdown",
   "metadata": {},
   "source": [
    "Les t-shirts fast-fashion ne sont probablement plus revendables une fois utilisés, en état autre que neuf."
   ]
  },
  {
   "cell_type": "code",
   "execution_count": 97,
   "metadata": {},
   "outputs": [
    {
     "data": {
      "application/vnd.plotly.v1+json": {
       "config": {
        "plotlyServerURL": "https://plot.ly"
       },
       "data": [
        {
         "alignmentgroup": "True",
         "bingroup": "x",
         "hovertemplate": "Segment de marché=ultra fast fashion / discount<br>Prix=%{x}<br>count=%{y}<extra></extra>",
         "legendgroup": "ultra fast fashion / discount",
         "marker": {
          "color": "#636efa",
          "opacity": 0.5,
          "pattern": {
           "shape": ""
          }
         },
         "name": "ultra fast fashion / discount",
         "nbinsx": 100,
         "offsetgroup": "ultra fast fashion / discount",
         "orientation": "v",
         "showlegend": true,
         "type": "histogram",
         "x": [
          5,
          5,
          5,
          15,
          2,
          2,
          15,
          4,
          4,
          2,
          4,
          3,
          10,
          2,
          5,
          3,
          3,
          5,
          4,
          5,
          2,
          5,
          3,
          3,
          3,
          2,
          3,
          5,
          1,
          1,
          3.5,
          2,
          3.5,
          2,
          6.5,
          15,
          3,
          2,
          4.5,
          8,
          10,
          5,
          1,
          2,
          8,
          3,
          7,
          3,
          5,
          5,
          8,
          2,
          8,
          8,
          7.5,
          1,
          3,
          5,
          9,
          7,
          9,
          5,
          9,
          2,
          2,
          4,
          2.5,
          4,
          4,
          3,
          4.99,
          5,
          7,
          12,
          11,
          5,
          16,
          8,
          7,
          10,
          7,
          5,
          5,
          5,
          6,
          5,
          5,
          4,
          5,
          4,
          3,
          4,
          5,
          3.5,
          5,
          10,
          5,
          10,
          4,
          5,
          5,
          4,
          6,
          10,
          4,
          7,
          5,
          3,
          3,
          6,
          4,
          9,
          8.5,
          1,
          5,
          4,
          6.5,
          7,
          5,
          10,
          8
         ],
         "xaxis": "x",
         "yaxis": "y"
        },
        {
         "alignmentgroup": "True",
         "hovertemplate": "Segment de marché=ultra fast fashion / discount<br>Prix=%{x}<extra></extra>",
         "legendgroup": "ultra fast fashion / discount",
         "marker": {
          "color": "#636efa"
         },
         "name": "ultra fast fashion / discount",
         "notched": true,
         "offsetgroup": "ultra fast fashion / discount",
         "showlegend": false,
         "type": "box",
         "x": [
          5,
          5,
          5,
          15,
          2,
          2,
          15,
          4,
          4,
          2,
          4,
          3,
          10,
          2,
          5,
          3,
          3,
          5,
          4,
          5,
          2,
          5,
          3,
          3,
          3,
          2,
          3,
          5,
          1,
          1,
          3.5,
          2,
          3.5,
          2,
          6.5,
          15,
          3,
          2,
          4.5,
          8,
          10,
          5,
          1,
          2,
          8,
          3,
          7,
          3,
          5,
          5,
          8,
          2,
          8,
          8,
          7.5,
          1,
          3,
          5,
          9,
          7,
          9,
          5,
          9,
          2,
          2,
          4,
          2.5,
          4,
          4,
          3,
          4.99,
          5,
          7,
          12,
          11,
          5,
          16,
          8,
          7,
          10,
          7,
          5,
          5,
          5,
          6,
          5,
          5,
          4,
          5,
          4,
          3,
          4,
          5,
          3.5,
          5,
          10,
          5,
          10,
          4,
          5,
          5,
          4,
          6,
          10,
          4,
          7,
          5,
          3,
          3,
          6,
          4,
          9,
          8.5,
          1,
          5,
          4,
          6.5,
          7,
          5,
          10,
          8
         ],
         "xaxis": "x2",
         "yaxis": "y2"
        },
        {
         "alignmentgroup": "True",
         "bingroup": "x",
         "hovertemplate": "Segment de marché=entrée de gamme / mass market<br>Prix=%{x}<br>count=%{y}<extra></extra>",
         "legendgroup": "entrée de gamme / mass market",
         "marker": {
          "color": "#EF553B",
          "opacity": 0.5,
          "pattern": {
           "shape": ""
          }
         },
         "name": "entrée de gamme / mass market",
         "nbinsx": 100,
         "offsetgroup": "entrée de gamme / mass market",
         "orientation": "v",
         "showlegend": true,
         "type": "histogram",
         "x": [
          5,
          28,
          11.5,
          10,
          7,
          3,
          4,
          3,
          3,
          28,
          2,
          8,
          3.99,
          3.99,
          1,
          15,
          2,
          2,
          3.5,
          16,
          8.5,
          19.99,
          2,
          22,
          12,
          13,
          5,
          1,
          4,
          3.5,
          4.5,
          3,
          2,
          2,
          15,
          5,
          10,
          5,
          3.5,
          2.5,
          2.5,
          2,
          10,
          3,
          5.99,
          5,
          4,
          5,
          4,
          6,
          5,
          2.5,
          6,
          3,
          8,
          8,
          7,
          5,
          8,
          6.5,
          20,
          1,
          39.99,
          1,
          3,
          5,
          10,
          6,
          60,
          25,
          6,
          6,
          19,
          15,
          5,
          5,
          3.99,
          3.49,
          6,
          47.5,
          1,
          9,
          4,
          9,
          4,
          9,
          8,
          2.5,
          10,
          5,
          2,
          8,
          7,
          12,
          9,
          4,
          3.5,
          8,
          5,
          2.5,
          5,
          8,
          3,
          5,
          2,
          4,
          3,
          5,
          3,
          3,
          9,
          2,
          3,
          3,
          2,
          4,
          20,
          20,
          25,
          17,
          17
         ],
         "xaxis": "x",
         "yaxis": "y"
        },
        {
         "alignmentgroup": "True",
         "hovertemplate": "Segment de marché=entrée de gamme / mass market<br>Prix=%{x}<extra></extra>",
         "legendgroup": "entrée de gamme / mass market",
         "marker": {
          "color": "#EF553B"
         },
         "name": "entrée de gamme / mass market",
         "notched": true,
         "offsetgroup": "entrée de gamme / mass market",
         "showlegend": false,
         "type": "box",
         "x": [
          5,
          28,
          11.5,
          10,
          7,
          3,
          4,
          3,
          3,
          28,
          2,
          8,
          3.99,
          3.99,
          1,
          15,
          2,
          2,
          3.5,
          16,
          8.5,
          19.99,
          2,
          22,
          12,
          13,
          5,
          1,
          4,
          3.5,
          4.5,
          3,
          2,
          2,
          15,
          5,
          10,
          5,
          3.5,
          2.5,
          2.5,
          2,
          10,
          3,
          5.99,
          5,
          4,
          5,
          4,
          6,
          5,
          2.5,
          6,
          3,
          8,
          8,
          7,
          5,
          8,
          6.5,
          20,
          1,
          39.99,
          1,
          3,
          5,
          10,
          6,
          60,
          25,
          6,
          6,
          19,
          15,
          5,
          5,
          3.99,
          3.49,
          6,
          47.5,
          1,
          9,
          4,
          9,
          4,
          9,
          8,
          2.5,
          10,
          5,
          2,
          8,
          7,
          12,
          9,
          4,
          3.5,
          8,
          5,
          2.5,
          5,
          8,
          3,
          5,
          2,
          4,
          3,
          5,
          3,
          3,
          9,
          2,
          3,
          3,
          2,
          4,
          20,
          20,
          25,
          17,
          17
         ],
         "xaxis": "x2",
         "yaxis": "y2"
        },
        {
         "alignmentgroup": "True",
         "bingroup": "x",
         "hovertemplate": "Segment de marché=milieu de gamme<br>Prix=%{x}<br>count=%{y}<extra></extra>",
         "legendgroup": "milieu de gamme",
         "marker": {
          "color": "#00cc96",
          "opacity": 0.5,
          "pattern": {
           "shape": ""
          }
         },
         "name": "milieu de gamme",
         "nbinsx": 100,
         "offsetgroup": "milieu de gamme",
         "orientation": "v",
         "showlegend": true,
         "type": "histogram",
         "x": [
          17,
          25,
          20,
          20,
          10,
          25,
          10,
          13,
          43,
          30,
          3,
          7.5,
          12,
          28,
          25,
          25,
          10,
          24.99,
          35,
          29.99,
          28,
          28,
          28,
          5,
          34.5,
          25,
          19.99,
          12,
          10,
          18,
          12,
          35,
          22,
          29.9,
          25,
          20,
          2,
          10,
          16,
          13,
          29.99,
          13,
          13,
          18,
          9,
          20,
          8,
          20,
          15,
          32.5,
          8,
          38,
          10,
          12,
          35,
          32.5,
          15,
          10,
          13,
          10,
          16,
          15,
          5,
          12.5,
          10,
          4,
          4,
          15,
          8,
          9,
          17,
          15,
          15,
          17,
          15,
          10,
          15,
          5,
          5,
          7.5,
          15,
          11,
          10,
          17,
          15,
          7,
          4,
          2,
          4,
          10,
          18,
          15,
          8,
          8,
          1,
          4,
          13,
          6,
          20,
          28,
          20,
          12,
          12,
          12,
          7,
          7,
          10,
          10,
          10,
          6,
          7,
          6,
          20,
          15,
          5,
          20,
          20,
          35,
          2,
          5,
          30,
          10,
          4,
          25,
          7,
          20,
          12,
          26,
          47,
          32,
          25,
          25,
          20,
          20,
          22,
          35,
          37,
          28,
          25,
          20,
          28,
          20,
          20,
          20,
          20,
          20
         ],
         "xaxis": "x",
         "yaxis": "y"
        },
        {
         "alignmentgroup": "True",
         "hovertemplate": "Segment de marché=milieu de gamme<br>Prix=%{x}<extra></extra>",
         "legendgroup": "milieu de gamme",
         "marker": {
          "color": "#00cc96"
         },
         "name": "milieu de gamme",
         "notched": true,
         "offsetgroup": "milieu de gamme",
         "showlegend": false,
         "type": "box",
         "x": [
          17,
          25,
          20,
          20,
          10,
          25,
          10,
          13,
          43,
          30,
          3,
          7.5,
          12,
          28,
          25,
          25,
          10,
          24.99,
          35,
          29.99,
          28,
          28,
          28,
          5,
          34.5,
          25,
          19.99,
          12,
          10,
          18,
          12,
          35,
          22,
          29.9,
          25,
          20,
          2,
          10,
          16,
          13,
          29.99,
          13,
          13,
          18,
          9,
          20,
          8,
          20,
          15,
          32.5,
          8,
          38,
          10,
          12,
          35,
          32.5,
          15,
          10,
          13,
          10,
          16,
          15,
          5,
          12.5,
          10,
          4,
          4,
          15,
          8,
          9,
          17,
          15,
          15,
          17,
          15,
          10,
          15,
          5,
          5,
          7.5,
          15,
          11,
          10,
          17,
          15,
          7,
          4,
          2,
          4,
          10,
          18,
          15,
          8,
          8,
          1,
          4,
          13,
          6,
          20,
          28,
          20,
          12,
          12,
          12,
          7,
          7,
          10,
          10,
          10,
          6,
          7,
          6,
          20,
          15,
          5,
          20,
          20,
          35,
          2,
          5,
          30,
          10,
          4,
          25,
          7,
          20,
          12,
          26,
          47,
          32,
          25,
          25,
          20,
          20,
          22,
          35,
          37,
          28,
          25,
          20,
          28,
          20,
          20,
          20,
          20,
          20
         ],
         "xaxis": "x2",
         "yaxis": "y2"
        },
        {
         "alignmentgroup": "True",
         "bingroup": "x",
         "hovertemplate": "Segment de marché=premium / luxe abordable<br>Prix=%{x}<br>count=%{y}<extra></extra>",
         "legendgroup": "premium / luxe abordable",
         "marker": {
          "color": "#ab63fa",
          "opacity": 0.5,
          "pattern": {
           "shape": ""
          }
         },
         "name": "premium / luxe abordable",
         "nbinsx": 100,
         "offsetgroup": "premium / luxe abordable",
         "orientation": "v",
         "showlegend": true,
         "type": "histogram",
         "x": [
          45,
          18,
          24.9,
          45,
          30,
          30,
          80,
          28,
          28,
          28,
          28,
          35,
          28,
          28,
          15,
          28,
          28,
          29,
          28,
          28,
          28,
          28,
          39,
          15,
          27,
          30,
          24,
          28,
          35,
          45,
          40,
          30,
          35,
          30,
          30,
          25,
          35,
          45,
          4,
          55,
          50,
          55,
          15,
          10,
          20,
          17,
          24,
          55,
          45,
          55,
          55,
          18,
          45,
          18,
          60,
          30,
          35,
          40,
          10,
          25,
          95,
          8,
          12,
          20,
          30,
          20,
          30,
          60,
          40,
          20,
          12,
          15,
          25,
          15,
          20,
          12,
          15,
          15,
          20,
          38,
          18,
          40,
          15,
          15,
          20,
          38,
          18,
          40,
          15,
          30,
          20,
          13,
          25,
          25,
          15,
          25,
          6,
          30,
          5,
          5,
          5,
          5,
          5,
          10,
          2,
          33,
          10,
          59,
          5,
          33,
          5,
          55,
          9,
          10,
          5,
          5,
          12,
          10,
          2,
          15,
          29,
          35,
          57,
          120,
          59,
          30,
          27,
          36,
          35,
          16,
          35,
          16,
          25,
          24,
          50,
          28,
          30
         ],
         "xaxis": "x",
         "yaxis": "y"
        },
        {
         "alignmentgroup": "True",
         "hovertemplate": "Segment de marché=premium / luxe abordable<br>Prix=%{x}<extra></extra>",
         "legendgroup": "premium / luxe abordable",
         "marker": {
          "color": "#ab63fa"
         },
         "name": "premium / luxe abordable",
         "notched": true,
         "offsetgroup": "premium / luxe abordable",
         "showlegend": false,
         "type": "box",
         "x": [
          45,
          18,
          24.9,
          45,
          30,
          30,
          80,
          28,
          28,
          28,
          28,
          35,
          28,
          28,
          15,
          28,
          28,
          29,
          28,
          28,
          28,
          28,
          39,
          15,
          27,
          30,
          24,
          28,
          35,
          45,
          40,
          30,
          35,
          30,
          30,
          25,
          35,
          45,
          4,
          55,
          50,
          55,
          15,
          10,
          20,
          17,
          24,
          55,
          45,
          55,
          55,
          18,
          45,
          18,
          60,
          30,
          35,
          40,
          10,
          25,
          95,
          8,
          12,
          20,
          30,
          20,
          30,
          60,
          40,
          20,
          12,
          15,
          25,
          15,
          20,
          12,
          15,
          15,
          20,
          38,
          18,
          40,
          15,
          15,
          20,
          38,
          18,
          40,
          15,
          30,
          20,
          13,
          25,
          25,
          15,
          25,
          6,
          30,
          5,
          5,
          5,
          5,
          5,
          10,
          2,
          33,
          10,
          59,
          5,
          33,
          5,
          55,
          9,
          10,
          5,
          5,
          12,
          10,
          2,
          15,
          29,
          35,
          57,
          120,
          59,
          30,
          27,
          36,
          35,
          16,
          35,
          16,
          25,
          24,
          50,
          28,
          30
         ],
         "xaxis": "x2",
         "yaxis": "y2"
        },
        {
         "alignmentgroup": "True",
         "bingroup": "x",
         "hovertemplate": "Segment de marché=luxe & création<br>Prix=%{x}<br>count=%{y}<extra></extra>",
         "legendgroup": "luxe & création",
         "marker": {
          "color": "#FFA15A",
          "opacity": 0.5,
          "pattern": {
           "shape": ""
          }
         },
         "name": "luxe & création",
         "nbinsx": 100,
         "offsetgroup": "luxe & création",
         "orientation": "v",
         "showlegend": true,
         "type": "histogram",
         "x": [
          130,
          130,
          149,
          230,
          65,
          140,
          170,
          20,
          20,
          30,
          110,
          75,
          57,
          26,
          55,
          68,
          44,
          200,
          92.94,
          30,
          348.53,
          240,
          220.33,
          214.12,
          79,
          120,
          24,
          230,
          160,
          45,
          200,
          232.57,
          115,
          59,
          55,
          44,
          240,
          290,
          240,
          290,
          215,
          154,
          99,
          264,
          135,
          130,
          170,
          71,
          67,
          135,
          118,
          125,
          42,
          180,
          125,
          115,
          199,
          90,
          200,
          96.91,
          90,
          96.91,
          90,
          99,
          67.19,
          100,
          234,
          47,
          360,
          160,
          350,
          40,
          258.41,
          83.98,
          45,
          122,
          150,
          148.59,
          300,
          110,
          110,
          96.91,
          240,
          63,
          96,
          270,
          240,
          199,
          72,
          72,
          77,
          65,
          153,
          72,
          133.51,
          170,
          91.74,
          90,
          72,
          231.28,
          155.05,
          116.29,
          60,
          72,
          60,
          90,
          72,
          231.28,
          155.05,
          116.29,
          60,
          72,
          60,
          236,
          90.44,
          99,
          250,
          321.72,
          108,
          45,
          90,
          170,
          130,
          195,
          180.89,
          45,
          49,
          180.89,
          210,
          50.56,
          129.21,
          115,
          70,
          45,
          88,
          380
         ],
         "xaxis": "x",
         "yaxis": "y"
        },
        {
         "alignmentgroup": "True",
         "hovertemplate": "Segment de marché=luxe & création<br>Prix=%{x}<extra></extra>",
         "legendgroup": "luxe & création",
         "marker": {
          "color": "#FFA15A"
         },
         "name": "luxe & création",
         "notched": true,
         "offsetgroup": "luxe & création",
         "showlegend": false,
         "type": "box",
         "x": [
          130,
          130,
          149,
          230,
          65,
          140,
          170,
          20,
          20,
          30,
          110,
          75,
          57,
          26,
          55,
          68,
          44,
          200,
          92.94,
          30,
          348.53,
          240,
          220.33,
          214.12,
          79,
          120,
          24,
          230,
          160,
          45,
          200,
          232.57,
          115,
          59,
          55,
          44,
          240,
          290,
          240,
          290,
          215,
          154,
          99,
          264,
          135,
          130,
          170,
          71,
          67,
          135,
          118,
          125,
          42,
          180,
          125,
          115,
          199,
          90,
          200,
          96.91,
          90,
          96.91,
          90,
          99,
          67.19,
          100,
          234,
          47,
          360,
          160,
          350,
          40,
          258.41,
          83.98,
          45,
          122,
          150,
          148.59,
          300,
          110,
          110,
          96.91,
          240,
          63,
          96,
          270,
          240,
          199,
          72,
          72,
          77,
          65,
          153,
          72,
          133.51,
          170,
          91.74,
          90,
          72,
          231.28,
          155.05,
          116.29,
          60,
          72,
          60,
          90,
          72,
          231.28,
          155.05,
          116.29,
          60,
          72,
          60,
          236,
          90.44,
          99,
          250,
          321.72,
          108,
          45,
          90,
          170,
          130,
          195,
          180.89,
          45,
          49,
          180.89,
          210,
          50.56,
          129.21,
          115,
          70,
          45,
          88,
          380
         ],
         "xaxis": "x2",
         "yaxis": "y2"
        }
       ],
       "layout": {
        "barmode": "overlay",
        "legend": {
         "title": {
          "text": "Segment de marché"
         },
         "tracegroupgap": 0
        },
        "margin": {
         "t": 60
        },
        "template": {
         "data": {
          "bar": [
           {
            "error_x": {
             "color": "#2a3f5f"
            },
            "error_y": {
             "color": "#2a3f5f"
            },
            "marker": {
             "line": {
              "color": "#E5ECF6",
              "width": 0.5
             },
             "pattern": {
              "fillmode": "overlay",
              "size": 10,
              "solidity": 0.2
             }
            },
            "type": "bar"
           }
          ],
          "barpolar": [
           {
            "marker": {
             "line": {
              "color": "#E5ECF6",
              "width": 0.5
             },
             "pattern": {
              "fillmode": "overlay",
              "size": 10,
              "solidity": 0.2
             }
            },
            "type": "barpolar"
           }
          ],
          "carpet": [
           {
            "aaxis": {
             "endlinecolor": "#2a3f5f",
             "gridcolor": "white",
             "linecolor": "white",
             "minorgridcolor": "white",
             "startlinecolor": "#2a3f5f"
            },
            "baxis": {
             "endlinecolor": "#2a3f5f",
             "gridcolor": "white",
             "linecolor": "white",
             "minorgridcolor": "white",
             "startlinecolor": "#2a3f5f"
            },
            "type": "carpet"
           }
          ],
          "choropleth": [
           {
            "colorbar": {
             "outlinewidth": 0,
             "ticks": ""
            },
            "type": "choropleth"
           }
          ],
          "contour": [
           {
            "colorbar": {
             "outlinewidth": 0,
             "ticks": ""
            },
            "colorscale": [
             [
              0,
              "#0d0887"
             ],
             [
              0.1111111111111111,
              "#46039f"
             ],
             [
              0.2222222222222222,
              "#7201a8"
             ],
             [
              0.3333333333333333,
              "#9c179e"
             ],
             [
              0.4444444444444444,
              "#bd3786"
             ],
             [
              0.5555555555555556,
              "#d8576b"
             ],
             [
              0.6666666666666666,
              "#ed7953"
             ],
             [
              0.7777777777777778,
              "#fb9f3a"
             ],
             [
              0.8888888888888888,
              "#fdca26"
             ],
             [
              1,
              "#f0f921"
             ]
            ],
            "type": "contour"
           }
          ],
          "contourcarpet": [
           {
            "colorbar": {
             "outlinewidth": 0,
             "ticks": ""
            },
            "type": "contourcarpet"
           }
          ],
          "heatmap": [
           {
            "colorbar": {
             "outlinewidth": 0,
             "ticks": ""
            },
            "colorscale": [
             [
              0,
              "#0d0887"
             ],
             [
              0.1111111111111111,
              "#46039f"
             ],
             [
              0.2222222222222222,
              "#7201a8"
             ],
             [
              0.3333333333333333,
              "#9c179e"
             ],
             [
              0.4444444444444444,
              "#bd3786"
             ],
             [
              0.5555555555555556,
              "#d8576b"
             ],
             [
              0.6666666666666666,
              "#ed7953"
             ],
             [
              0.7777777777777778,
              "#fb9f3a"
             ],
             [
              0.8888888888888888,
              "#fdca26"
             ],
             [
              1,
              "#f0f921"
             ]
            ],
            "type": "heatmap"
           }
          ],
          "heatmapgl": [
           {
            "colorbar": {
             "outlinewidth": 0,
             "ticks": ""
            },
            "colorscale": [
             [
              0,
              "#0d0887"
             ],
             [
              0.1111111111111111,
              "#46039f"
             ],
             [
              0.2222222222222222,
              "#7201a8"
             ],
             [
              0.3333333333333333,
              "#9c179e"
             ],
             [
              0.4444444444444444,
              "#bd3786"
             ],
             [
              0.5555555555555556,
              "#d8576b"
             ],
             [
              0.6666666666666666,
              "#ed7953"
             ],
             [
              0.7777777777777778,
              "#fb9f3a"
             ],
             [
              0.8888888888888888,
              "#fdca26"
             ],
             [
              1,
              "#f0f921"
             ]
            ],
            "type": "heatmapgl"
           }
          ],
          "histogram": [
           {
            "marker": {
             "pattern": {
              "fillmode": "overlay",
              "size": 10,
              "solidity": 0.2
             }
            },
            "type": "histogram"
           }
          ],
          "histogram2d": [
           {
            "colorbar": {
             "outlinewidth": 0,
             "ticks": ""
            },
            "colorscale": [
             [
              0,
              "#0d0887"
             ],
             [
              0.1111111111111111,
              "#46039f"
             ],
             [
              0.2222222222222222,
              "#7201a8"
             ],
             [
              0.3333333333333333,
              "#9c179e"
             ],
             [
              0.4444444444444444,
              "#bd3786"
             ],
             [
              0.5555555555555556,
              "#d8576b"
             ],
             [
              0.6666666666666666,
              "#ed7953"
             ],
             [
              0.7777777777777778,
              "#fb9f3a"
             ],
             [
              0.8888888888888888,
              "#fdca26"
             ],
             [
              1,
              "#f0f921"
             ]
            ],
            "type": "histogram2d"
           }
          ],
          "histogram2dcontour": [
           {
            "colorbar": {
             "outlinewidth": 0,
             "ticks": ""
            },
            "colorscale": [
             [
              0,
              "#0d0887"
             ],
             [
              0.1111111111111111,
              "#46039f"
             ],
             [
              0.2222222222222222,
              "#7201a8"
             ],
             [
              0.3333333333333333,
              "#9c179e"
             ],
             [
              0.4444444444444444,
              "#bd3786"
             ],
             [
              0.5555555555555556,
              "#d8576b"
             ],
             [
              0.6666666666666666,
              "#ed7953"
             ],
             [
              0.7777777777777778,
              "#fb9f3a"
             ],
             [
              0.8888888888888888,
              "#fdca26"
             ],
             [
              1,
              "#f0f921"
             ]
            ],
            "type": "histogram2dcontour"
           }
          ],
          "mesh3d": [
           {
            "colorbar": {
             "outlinewidth": 0,
             "ticks": ""
            },
            "type": "mesh3d"
           }
          ],
          "parcoords": [
           {
            "line": {
             "colorbar": {
              "outlinewidth": 0,
              "ticks": ""
             }
            },
            "type": "parcoords"
           }
          ],
          "pie": [
           {
            "automargin": true,
            "type": "pie"
           }
          ],
          "scatter": [
           {
            "fillpattern": {
             "fillmode": "overlay",
             "size": 10,
             "solidity": 0.2
            },
            "type": "scatter"
           }
          ],
          "scatter3d": [
           {
            "line": {
             "colorbar": {
              "outlinewidth": 0,
              "ticks": ""
             }
            },
            "marker": {
             "colorbar": {
              "outlinewidth": 0,
              "ticks": ""
             }
            },
            "type": "scatter3d"
           }
          ],
          "scattercarpet": [
           {
            "marker": {
             "colorbar": {
              "outlinewidth": 0,
              "ticks": ""
             }
            },
            "type": "scattercarpet"
           }
          ],
          "scattergeo": [
           {
            "marker": {
             "colorbar": {
              "outlinewidth": 0,
              "ticks": ""
             }
            },
            "type": "scattergeo"
           }
          ],
          "scattergl": [
           {
            "marker": {
             "colorbar": {
              "outlinewidth": 0,
              "ticks": ""
             }
            },
            "type": "scattergl"
           }
          ],
          "scattermapbox": [
           {
            "marker": {
             "colorbar": {
              "outlinewidth": 0,
              "ticks": ""
             }
            },
            "type": "scattermapbox"
           }
          ],
          "scatterpolar": [
           {
            "marker": {
             "colorbar": {
              "outlinewidth": 0,
              "ticks": ""
             }
            },
            "type": "scatterpolar"
           }
          ],
          "scatterpolargl": [
           {
            "marker": {
             "colorbar": {
              "outlinewidth": 0,
              "ticks": ""
             }
            },
            "type": "scatterpolargl"
           }
          ],
          "scatterternary": [
           {
            "marker": {
             "colorbar": {
              "outlinewidth": 0,
              "ticks": ""
             }
            },
            "type": "scatterternary"
           }
          ],
          "surface": [
           {
            "colorbar": {
             "outlinewidth": 0,
             "ticks": ""
            },
            "colorscale": [
             [
              0,
              "#0d0887"
             ],
             [
              0.1111111111111111,
              "#46039f"
             ],
             [
              0.2222222222222222,
              "#7201a8"
             ],
             [
              0.3333333333333333,
              "#9c179e"
             ],
             [
              0.4444444444444444,
              "#bd3786"
             ],
             [
              0.5555555555555556,
              "#d8576b"
             ],
             [
              0.6666666666666666,
              "#ed7953"
             ],
             [
              0.7777777777777778,
              "#fb9f3a"
             ],
             [
              0.8888888888888888,
              "#fdca26"
             ],
             [
              1,
              "#f0f921"
             ]
            ],
            "type": "surface"
           }
          ],
          "table": [
           {
            "cells": {
             "fill": {
              "color": "#EBF0F8"
             },
             "line": {
              "color": "white"
             }
            },
            "header": {
             "fill": {
              "color": "#C8D4E3"
             },
             "line": {
              "color": "white"
             }
            },
            "type": "table"
           }
          ]
         },
         "layout": {
          "annotationdefaults": {
           "arrowcolor": "#2a3f5f",
           "arrowhead": 0,
           "arrowwidth": 1
          },
          "autotypenumbers": "strict",
          "coloraxis": {
           "colorbar": {
            "outlinewidth": 0,
            "ticks": ""
           }
          },
          "colorscale": {
           "diverging": [
            [
             0,
             "#8e0152"
            ],
            [
             0.1,
             "#c51b7d"
            ],
            [
             0.2,
             "#de77ae"
            ],
            [
             0.3,
             "#f1b6da"
            ],
            [
             0.4,
             "#fde0ef"
            ],
            [
             0.5,
             "#f7f7f7"
            ],
            [
             0.6,
             "#e6f5d0"
            ],
            [
             0.7,
             "#b8e186"
            ],
            [
             0.8,
             "#7fbc41"
            ],
            [
             0.9,
             "#4d9221"
            ],
            [
             1,
             "#276419"
            ]
           ],
           "sequential": [
            [
             0,
             "#0d0887"
            ],
            [
             0.1111111111111111,
             "#46039f"
            ],
            [
             0.2222222222222222,
             "#7201a8"
            ],
            [
             0.3333333333333333,
             "#9c179e"
            ],
            [
             0.4444444444444444,
             "#bd3786"
            ],
            [
             0.5555555555555556,
             "#d8576b"
            ],
            [
             0.6666666666666666,
             "#ed7953"
            ],
            [
             0.7777777777777778,
             "#fb9f3a"
            ],
            [
             0.8888888888888888,
             "#fdca26"
            ],
            [
             1,
             "#f0f921"
            ]
           ],
           "sequentialminus": [
            [
             0,
             "#0d0887"
            ],
            [
             0.1111111111111111,
             "#46039f"
            ],
            [
             0.2222222222222222,
             "#7201a8"
            ],
            [
             0.3333333333333333,
             "#9c179e"
            ],
            [
             0.4444444444444444,
             "#bd3786"
            ],
            [
             0.5555555555555556,
             "#d8576b"
            ],
            [
             0.6666666666666666,
             "#ed7953"
            ],
            [
             0.7777777777777778,
             "#fb9f3a"
            ],
            [
             0.8888888888888888,
             "#fdca26"
            ],
            [
             1,
             "#f0f921"
            ]
           ]
          },
          "colorway": [
           "#636efa",
           "#EF553B",
           "#00cc96",
           "#ab63fa",
           "#FFA15A",
           "#19d3f3",
           "#FF6692",
           "#B6E880",
           "#FF97FF",
           "#FECB52"
          ],
          "font": {
           "color": "#2a3f5f"
          },
          "geo": {
           "bgcolor": "white",
           "lakecolor": "white",
           "landcolor": "#E5ECF6",
           "showlakes": true,
           "showland": true,
           "subunitcolor": "white"
          },
          "hoverlabel": {
           "align": "left"
          },
          "hovermode": "closest",
          "mapbox": {
           "style": "light"
          },
          "paper_bgcolor": "white",
          "plot_bgcolor": "#E5ECF6",
          "polar": {
           "angularaxis": {
            "gridcolor": "white",
            "linecolor": "white",
            "ticks": ""
           },
           "bgcolor": "#E5ECF6",
           "radialaxis": {
            "gridcolor": "white",
            "linecolor": "white",
            "ticks": ""
           }
          },
          "scene": {
           "xaxis": {
            "backgroundcolor": "#E5ECF6",
            "gridcolor": "white",
            "gridwidth": 2,
            "linecolor": "white",
            "showbackground": true,
            "ticks": "",
            "zerolinecolor": "white"
           },
           "yaxis": {
            "backgroundcolor": "#E5ECF6",
            "gridcolor": "white",
            "gridwidth": 2,
            "linecolor": "white",
            "showbackground": true,
            "ticks": "",
            "zerolinecolor": "white"
           },
           "zaxis": {
            "backgroundcolor": "#E5ECF6",
            "gridcolor": "white",
            "gridwidth": 2,
            "linecolor": "white",
            "showbackground": true,
            "ticks": "",
            "zerolinecolor": "white"
           }
          },
          "shapedefaults": {
           "line": {
            "color": "#2a3f5f"
           }
          },
          "ternary": {
           "aaxis": {
            "gridcolor": "white",
            "linecolor": "white",
            "ticks": ""
           },
           "baxis": {
            "gridcolor": "white",
            "linecolor": "white",
            "ticks": ""
           },
           "bgcolor": "#E5ECF6",
           "caxis": {
            "gridcolor": "white",
            "linecolor": "white",
            "ticks": ""
           }
          },
          "title": {
           "x": 0.05
          },
          "xaxis": {
           "automargin": true,
           "gridcolor": "white",
           "linecolor": "white",
           "ticks": "",
           "title": {
            "standoff": 15
           },
           "zerolinecolor": "white",
           "zerolinewidth": 2
          },
          "yaxis": {
           "automargin": true,
           "gridcolor": "white",
           "linecolor": "white",
           "ticks": "",
           "title": {
            "standoff": 15
           },
           "zerolinecolor": "white",
           "zerolinewidth": 2
          }
         }
        },
        "xaxis": {
         "anchor": "y",
         "domain": [
          0,
          1
         ],
         "title": {
          "text": "Prix"
         }
        },
        "xaxis2": {
         "anchor": "y2",
         "domain": [
          0,
          1
         ],
         "matches": "x",
         "showgrid": true,
         "showticklabels": false
        },
        "yaxis": {
         "anchor": "x",
         "domain": [
          0,
          0.7326
         ],
         "title": {
          "text": "count"
         }
        },
        "yaxis2": {
         "anchor": "x2",
         "domain": [
          0.7426,
          1
         ],
         "matches": "y2",
         "showgrid": false,
         "showline": false,
         "showticklabels": false,
         "ticks": ""
        }
       }
      }
     },
     "metadata": {},
     "output_type": "display_data"
    }
   ],
   "source": [
    "px.histogram(filtered_df_shirt, x='Prix', color='Segment de marché', barmode='overlay', marginal='box', category_orders=category_orders, nbins=100)"
   ]
  },
  {
   "cell_type": "code",
   "execution_count": 98,
   "metadata": {},
   "outputs": [
    {
     "data": {
      "application/vnd.plotly.v1+json": {
       "config": {
        "plotlyServerURL": "https://plot.ly"
       },
       "data": [
        {
         "hovertemplate": "Segment de marché=ultra fast fashion / discount<br>État=%{x}<br>Niveau de prix=%{y}<br>Prix=%{z}<extra></extra>",
         "legendgroup": "ultra fast fashion / discount",
         "marker": {
          "color": "#636efa",
          "symbol": "circle"
         },
         "mode": "markers",
         "name": "ultra fast fashion / discount",
         "scene": "scene",
         "showlegend": true,
         "type": "scatter3d",
         "x": [
          "NEUF SANS ÉTIQUETTE",
          "NEUF SANS ÉTIQUETTE",
          "TRÈS BON ÉTAT",
          "TRÈS BON ÉTAT",
          "TRÈS BON ÉTAT",
          "TRÈS BON ÉTAT",
          "NEUF SANS ÉTIQUETTE",
          "NEUF AVEC ÉTIQUETTE",
          "NEUF SANS ÉTIQUETTE",
          "TRÈS BON ÉTAT",
          "NEUF SANS ÉTIQUETTE",
          "NEUF SANS ÉTIQUETTE",
          "TRÈS BON ÉTAT",
          "BON ÉTAT",
          "NEUF SANS ÉTIQUETTE",
          "TRÈS BON ÉTAT",
          "TRÈS BON ÉTAT",
          "NEUF SANS ÉTIQUETTE",
          "NEUF SANS ÉTIQUETTE",
          "NEUF SANS ÉTIQUETTE",
          "BON ÉTAT",
          "NEUF SANS ÉTIQUETTE",
          "TRÈS BON ÉTAT",
          "TRÈS BON ÉTAT",
          "NEUF SANS ÉTIQUETTE",
          "TRÈS BON ÉTAT",
          "NEUF SANS ÉTIQUETTE",
          "NEUF SANS ÉTIQUETTE",
          "BON ÉTAT",
          "TRÈS BON ÉTAT",
          "TRÈS BON ÉTAT",
          "TRÈS BON ÉTAT",
          "TRÈS BON ÉTAT",
          "TRÈS BON ÉTAT",
          "NEUF AVEC ÉTIQUETTE",
          "NEUF SANS ÉTIQUETTE",
          "NEUF SANS ÉTIQUETTE",
          "NEUF SANS ÉTIQUETTE",
          "TRÈS BON ÉTAT",
          "NEUF AVEC ÉTIQUETTE",
          "NEUF SANS ÉTIQUETTE",
          "TRÈS BON ÉTAT",
          "NEUF SANS ÉTIQUETTE",
          "NEUF SANS ÉTIQUETTE",
          "NEUF AVEC ÉTIQUETTE",
          "TRÈS BON ÉTAT",
          "NEUF AVEC ÉTIQUETTE",
          "SATISFAISANT",
          "NEUF AVEC ÉTIQUETTE",
          "BON ÉTAT",
          "TRÈS BON ÉTAT",
          "BON ÉTAT",
          "TRÈS BON ÉTAT",
          "TRÈS BON ÉTAT",
          "NEUF SANS ÉTIQUETTE",
          "TRÈS BON ÉTAT",
          "NEUF SANS ÉTIQUETTE",
          "NEUF SANS ÉTIQUETTE",
          "NEUF SANS ÉTIQUETTE",
          "NEUF SANS ÉTIQUETTE",
          "TRÈS BON ÉTAT",
          "NEUF SANS ÉTIQUETTE",
          "BON ÉTAT",
          "NEUF SANS ÉTIQUETTE",
          "NEUF SANS ÉTIQUETTE",
          "TRÈS BON ÉTAT",
          "NEUF AVEC ÉTIQUETTE",
          "TRÈS BON ÉTAT",
          "TRÈS BON ÉTAT",
          "TRÈS BON ÉTAT",
          "TRÈS BON ÉTAT",
          "NEUF SANS ÉTIQUETTE",
          "NEUF AVEC ÉTIQUETTE",
          "NEUF SANS ÉTIQUETTE",
          "NEUF SANS ÉTIQUETTE",
          "NEUF SANS ÉTIQUETTE",
          "NEUF AVEC ÉTIQUETTE",
          "NEUF SANS ÉTIQUETTE",
          "NEUF SANS ÉTIQUETTE",
          "NEUF SANS ÉTIQUETTE",
          "TRÈS BON ÉTAT",
          "NEUF SANS ÉTIQUETTE",
          "TRÈS BON ÉTAT",
          "NEUF SANS ÉTIQUETTE",
          "TRÈS BON ÉTAT",
          "TRÈS BON ÉTAT",
          "BON ÉTAT",
          "TRÈS BON ÉTAT",
          "TRÈS BON ÉTAT",
          "BON ÉTAT",
          "TRÈS BON ÉTAT",
          "BON ÉTAT",
          "BON ÉTAT",
          "TRÈS BON ÉTAT",
          "TRÈS BON ÉTAT",
          "TRÈS BON ÉTAT",
          "TRÈS BON ÉTAT",
          "NEUF SANS ÉTIQUETTE",
          "TRÈS BON ÉTAT",
          "NEUF SANS ÉTIQUETTE",
          "NEUF SANS ÉTIQUETTE",
          "TRÈS BON ÉTAT",
          "TRÈS BON ÉTAT",
          "NEUF SANS ÉTIQUETTE",
          "TRÈS BON ÉTAT",
          "NEUF AVEC ÉTIQUETTE",
          "NEUF AVEC ÉTIQUETTE",
          "TRÈS BON ÉTAT",
          "TRÈS BON ÉTAT",
          "TRÈS BON ÉTAT",
          "NEUF SANS ÉTIQUETTE",
          "TRÈS BON ÉTAT",
          "NEUF SANS ÉTIQUETTE",
          "BON ÉTAT",
          "NEUF SANS ÉTIQUETTE",
          "NEUF SANS ÉTIQUETTE",
          "TRÈS BON ÉTAT",
          "TRÈS BON ÉTAT",
          "NEUF SANS ÉTIQUETTE",
          "TRÈS BON ÉTAT",
          "TRÈS BON ÉTAT"
         ],
         "y": [
          "Discount",
          "Discount",
          "Discount",
          "Discount",
          "Discount",
          "Discount",
          "Discount",
          "Discount",
          "Discount",
          "Discount",
          "Discount",
          "Discount",
          "Discount",
          "Discount",
          "Discount",
          "Discount",
          "Discount",
          "Discount",
          "Discount",
          "Discount",
          "Discount",
          "Discount",
          "Discount",
          "Discount",
          "Discount",
          "Discount",
          "Discount",
          "Discount",
          "Discount",
          "Discount",
          "Discount",
          "Discount",
          "Discount",
          "Discount",
          "Discount",
          "Discount",
          "Discount",
          "Discount",
          "Discount",
          "Discount",
          "Discount",
          "Discount",
          "Discount",
          "Discount",
          "Discount",
          "Discount",
          "Discount",
          "Discount",
          "Discount",
          "Discount",
          "Discount",
          "Discount",
          "Discount",
          "Discount",
          "Discount",
          "Discount",
          "Discount",
          "Discount",
          "Discount",
          "Discount",
          "Discount",
          "Discount",
          "Discount",
          "Discount",
          "Discount",
          "Discount",
          "Discount",
          "Discount",
          "Discount",
          "Discount",
          "Discount",
          "Discount",
          "Discount",
          "Discount",
          "Discount",
          "Discount",
          "Discount",
          "Discount",
          "Discount",
          "Discount",
          "Discount",
          "Discount",
          "Discount",
          "Discount",
          "Discount",
          "Discount",
          "Discount",
          "Discount",
          "Discount",
          "Discount",
          "Discount",
          "Discount",
          "Discount",
          "Discount",
          "Discount",
          "Discount",
          "Discount",
          "Discount",
          "Discount",
          "Discount",
          "Discount",
          "Discount",
          "Discount",
          "Discount",
          "Discount",
          "Discount",
          "Discount",
          "Discount",
          "Discount",
          "Discount",
          "Discount",
          "Discount",
          "Discount",
          "Discount",
          "Discount",
          "Discount",
          "Discount",
          "Discount",
          "Discount",
          "Discount",
          "Discount"
         ],
         "z": [
          5,
          5,
          5,
          15,
          2,
          2,
          15,
          4,
          4,
          2,
          4,
          3,
          10,
          2,
          5,
          3,
          3,
          5,
          4,
          5,
          2,
          5,
          3,
          3,
          3,
          2,
          3,
          5,
          1,
          1,
          3.5,
          2,
          3.5,
          2,
          6.5,
          15,
          3,
          2,
          4.5,
          8,
          10,
          5,
          1,
          2,
          8,
          3,
          7,
          3,
          5,
          5,
          8,
          2,
          8,
          8,
          7.5,
          1,
          3,
          5,
          9,
          7,
          9,
          5,
          9,
          2,
          2,
          4,
          2.5,
          4,
          4,
          3,
          4.99,
          5,
          7,
          12,
          11,
          5,
          16,
          8,
          7,
          10,
          7,
          5,
          5,
          5,
          6,
          5,
          5,
          4,
          5,
          4,
          3,
          4,
          5,
          3.5,
          5,
          10,
          5,
          10,
          4,
          5,
          5,
          4,
          6,
          10,
          4,
          7,
          5,
          3,
          3,
          6,
          4,
          9,
          8.5,
          1,
          5,
          4,
          6.5,
          7,
          5,
          10,
          8
         ]
        },
        {
         "hovertemplate": "Segment de marché=entrée de gamme / mass market<br>État=%{x}<br>Niveau de prix=%{y}<br>Prix=%{z}<extra></extra>",
         "legendgroup": "entrée de gamme / mass market",
         "marker": {
          "color": "#EF553B",
          "symbol": "circle"
         },
         "mode": "markers",
         "name": "entrée de gamme / mass market",
         "scene": "scene",
         "showlegend": true,
         "type": "scatter3d",
         "x": [
          "TRÈS BON ÉTAT",
          "NEUF AVEC ÉTIQUETTE",
          "TRÈS BON ÉTAT",
          "TRÈS BON ÉTAT",
          "TRÈS BON ÉTAT",
          "TRÈS BON ÉTAT",
          "NEUF SANS ÉTIQUETTE",
          "NEUF SANS ÉTIQUETTE",
          "NEUF SANS ÉTIQUETTE",
          "TRÈS BON ÉTAT",
          "TRÈS BON ÉTAT",
          "NEUF SANS ÉTIQUETTE",
          "TRÈS BON ÉTAT",
          "TRÈS BON ÉTAT",
          "TRÈS BON ÉTAT",
          "TRÈS BON ÉTAT",
          "TRÈS BON ÉTAT",
          "TRÈS BON ÉTAT",
          "NEUF SANS ÉTIQUETTE",
          "NEUF SANS ÉTIQUETTE",
          "TRÈS BON ÉTAT",
          "NEUF AVEC ÉTIQUETTE",
          "TRÈS BON ÉTAT",
          "TRÈS BON ÉTAT",
          "NEUF AVEC ÉTIQUETTE",
          "TRÈS BON ÉTAT",
          "TRÈS BON ÉTAT",
          "TRÈS BON ÉTAT",
          "TRÈS BON ÉTAT",
          "NEUF AVEC ÉTIQUETTE",
          "NEUF AVEC ÉTIQUETTE",
          "SATISFAISANT",
          "TRÈS BON ÉTAT",
          "TRÈS BON ÉTAT",
          "NEUF SANS ÉTIQUETTE",
          "TRÈS BON ÉTAT",
          "TRÈS BON ÉTAT",
          "TRÈS BON ÉTAT",
          "NEUF SANS ÉTIQUETTE",
          "TRÈS BON ÉTAT",
          "TRÈS BON ÉTAT",
          "TRÈS BON ÉTAT",
          "TRÈS BON ÉTAT",
          "TRÈS BON ÉTAT",
          "TRÈS BON ÉTAT",
          "TRÈS BON ÉTAT",
          "TRÈS BON ÉTAT",
          "TRÈS BON ÉTAT",
          "TRÈS BON ÉTAT",
          "TRÈS BON ÉTAT",
          "BON ÉTAT",
          "BON ÉTAT",
          "TRÈS BON ÉTAT",
          "TRÈS BON ÉTAT",
          "BON ÉTAT",
          "TRÈS BON ÉTAT",
          "TRÈS BON ÉTAT",
          "NEUF SANS ÉTIQUETTE",
          "NEUF SANS ÉTIQUETTE",
          "TRÈS BON ÉTAT",
          "NEUF SANS ÉTIQUETTE",
          "NEUF AVEC ÉTIQUETTE",
          "NEUF AVEC ÉTIQUETTE",
          "TRÈS BON ÉTAT",
          "BON ÉTAT",
          "TRÈS BON ÉTAT",
          "NEUF SANS ÉTIQUETTE",
          "TRÈS BON ÉTAT",
          "NEUF SANS ÉTIQUETTE",
          "TRÈS BON ÉTAT",
          "NEUF SANS ÉTIQUETTE",
          "NEUF SANS ÉTIQUETTE",
          "NEUF SANS ÉTIQUETTE",
          "TRÈS BON ÉTAT",
          "TRÈS BON ÉTAT",
          "TRÈS BON ÉTAT",
          "TRÈS BON ÉTAT",
          "TRÈS BON ÉTAT",
          "NEUF AVEC ÉTIQUETTE",
          "TRÈS BON ÉTAT",
          "TRÈS BON ÉTAT",
          "NEUF SANS ÉTIQUETTE",
          "TRÈS BON ÉTAT",
          "NEUF SANS ÉTIQUETTE",
          "TRÈS BON ÉTAT",
          "NEUF SANS ÉTIQUETTE",
          "TRÈS BON ÉTAT",
          "TRÈS BON ÉTAT",
          "NEUF AVEC ÉTIQUETTE",
          "TRÈS BON ÉTAT",
          "TRÈS BON ÉTAT",
          "NEUF SANS ÉTIQUETTE",
          "TRÈS BON ÉTAT",
          "TRÈS BON ÉTAT",
          "TRÈS BON ÉTAT",
          "TRÈS BON ÉTAT",
          "TRÈS BON ÉTAT",
          "TRÈS BON ÉTAT",
          "NEUF SANS ÉTIQUETTE",
          "NEUF SANS ÉTIQUETTE",
          "BON ÉTAT",
          "TRÈS BON ÉTAT",
          "TRÈS BON ÉTAT",
          "TRÈS BON ÉTAT",
          "BON ÉTAT",
          "NEUF AVEC ÉTIQUETTE",
          "BON ÉTAT",
          "NEUF SANS ÉTIQUETTE",
          "BON ÉTAT",
          "TRÈS BON ÉTAT",
          "NEUF AVEC ÉTIQUETTE",
          "SATISFAISANT",
          "TRÈS BON ÉTAT",
          "BON ÉTAT",
          "TRÈS BON ÉTAT",
          "TRÈS BON ÉTAT",
          "TRÈS BON ÉTAT",
          "TRÈS BON ÉTAT",
          "NEUF SANS ÉTIQUETTE",
          "TRÈS BON ÉTAT",
          "TRÈS BON ÉTAT"
         ],
         "y": [
          "Moyen",
          "Moyen",
          "Moyen",
          "Moyen",
          "Bas",
          "Bas",
          "Bas",
          "Bas",
          "Bas",
          "Moyen",
          "Moyen",
          "Moyen",
          "Bas",
          "Bas",
          "Bas",
          "Moyen",
          "Moyen",
          "Bas",
          "Bas",
          "Bas",
          "Moyen",
          "Moyen-Bas",
          "Bas",
          "Moyen",
          "Moyen-Bas",
          "Moyen",
          "Bas",
          "Bas",
          "Bas",
          "Bas",
          "Bas",
          "Bas",
          "Moyen",
          "Moyen",
          "Moyen",
          "Moyen",
          "Moyen",
          "Moyen",
          "Moyen",
          "Moyen",
          "Moyen",
          "Moyen",
          "Moyen",
          "Moyen",
          "Moyen",
          "Moyen",
          "Moyen",
          "Moyen",
          "Moyen",
          "Moyen",
          "Moyen",
          "Moyen",
          "Moyen",
          "Moyen",
          "Moyen",
          "Moyen",
          "Moyen",
          "Moyen",
          "Moyen",
          "Moyen",
          "Moyen",
          "Moyen",
          "Moyen",
          "Moyen",
          "Moyen",
          "Moyen",
          "Moyen",
          "Moyen",
          "Moyen",
          "Moyen",
          "Moyen",
          "Moyen",
          "Moyen",
          "Moyen",
          "Moyen",
          "Moyen",
          "Moyen",
          "Moyen",
          "Moyen",
          "Moyen",
          "Moyen",
          "Moyen",
          "Moyen",
          "Moyen",
          "Moyen",
          "Moyen",
          "Moyen",
          "Moyen",
          "Moyen",
          "Moyen",
          "Moyen-Bas",
          "Moyen-Bas",
          "Moyen-Bas",
          "Moyen-Bas",
          "Moyen-Bas",
          "Moyen-Bas",
          "Moyen-Bas",
          "Moyen-Bas",
          "Moyen-Bas",
          "Moyen-Bas",
          "Moyen-Bas",
          "Moyen-Bas",
          "Moyen-Bas",
          "Moyen-Bas",
          "Moyen-Bas",
          "Moyen-Bas",
          "Moyen-Bas",
          "Moyen-Bas",
          "Moyen-Bas",
          "Moyen-Bas",
          "Moyen-Bas",
          "Moyen-Bas",
          "Moyen-Bas",
          "Moyen-Bas",
          "Moyen-Bas",
          "Moyen-Bas",
          "Moyen",
          "Moyen",
          "Moyen",
          "Moyen-Bas",
          "Moyen-Bas"
         ],
         "z": [
          5,
          28,
          11.5,
          10,
          7,
          3,
          4,
          3,
          3,
          28,
          2,
          8,
          3.99,
          3.99,
          1,
          15,
          2,
          2,
          3.5,
          16,
          8.5,
          19.99,
          2,
          22,
          12,
          13,
          5,
          1,
          4,
          3.5,
          4.5,
          3,
          2,
          2,
          15,
          5,
          10,
          5,
          3.5,
          2.5,
          2.5,
          2,
          10,
          3,
          5.99,
          5,
          4,
          5,
          4,
          6,
          5,
          2.5,
          6,
          3,
          8,
          8,
          7,
          5,
          8,
          6.5,
          20,
          1,
          39.99,
          1,
          3,
          5,
          10,
          6,
          60,
          25,
          6,
          6,
          19,
          15,
          5,
          5,
          3.99,
          3.49,
          6,
          47.5,
          1,
          9,
          4,
          9,
          4,
          9,
          8,
          2.5,
          10,
          5,
          2,
          8,
          7,
          12,
          9,
          4,
          3.5,
          8,
          5,
          2.5,
          5,
          8,
          3,
          5,
          2,
          4,
          3,
          5,
          3,
          3,
          9,
          2,
          3,
          3,
          2,
          4,
          20,
          20,
          25,
          17,
          17
         ]
        },
        {
         "hovertemplate": "Segment de marché=milieu de gamme<br>État=%{x}<br>Niveau de prix=%{y}<br>Prix=%{z}<extra></extra>",
         "legendgroup": "milieu de gamme",
         "marker": {
          "color": "#00cc96",
          "symbol": "circle"
         },
         "mode": "markers",
         "name": "milieu de gamme",
         "scene": "scene",
         "showlegend": true,
         "type": "scatter3d",
         "x": [
          "NEUF AVEC ÉTIQUETTE",
          "NEUF SANS ÉTIQUETTE",
          "TRÈS BON ÉTAT",
          "TRÈS BON ÉTAT",
          "TRÈS BON ÉTAT",
          "NEUF SANS ÉTIQUETTE",
          "TRÈS BON ÉTAT",
          "TRÈS BON ÉTAT",
          "TRÈS BON ÉTAT",
          "TRÈS BON ÉTAT",
          "NEUF SANS ÉTIQUETTE",
          "TRÈS BON ÉTAT",
          "TRÈS BON ÉTAT",
          "NEUF AVEC ÉTIQUETTE",
          "NEUF AVEC ÉTIQUETTE",
          "NEUF SANS ÉTIQUETTE",
          "TRÈS BON ÉTAT",
          "NEUF SANS ÉTIQUETTE",
          "TRÈS BON ÉTAT",
          "TRÈS BON ÉTAT",
          "TRÈS BON ÉTAT",
          "TRÈS BON ÉTAT",
          "TRÈS BON ÉTAT",
          "TRÈS BON ÉTAT",
          "NEUF AVEC ÉTIQUETTE",
          "NEUF AVEC ÉTIQUETTE",
          "NEUF AVEC ÉTIQUETTE",
          "TRÈS BON ÉTAT",
          "TRÈS BON ÉTAT",
          "TRÈS BON ÉTAT",
          "TRÈS BON ÉTAT",
          "TRÈS BON ÉTAT",
          "TRÈS BON ÉTAT",
          "NEUF AVEC ÉTIQUETTE",
          "NEUF SANS ÉTIQUETTE",
          "TRÈS BON ÉTAT",
          "TRÈS BON ÉTAT",
          "TRÈS BON ÉTAT",
          "NEUF AVEC ÉTIQUETTE",
          "TRÈS BON ÉTAT",
          "NEUF AVEC ÉTIQUETTE",
          "NEUF SANS ÉTIQUETTE",
          "TRÈS BON ÉTAT",
          "TRÈS BON ÉTAT",
          "NEUF AVEC ÉTIQUETTE",
          "NEUF AVEC ÉTIQUETTE",
          "TRÈS BON ÉTAT",
          "NEUF AVEC ÉTIQUETTE",
          "NEUF SANS ÉTIQUETTE",
          "NEUF AVEC ÉTIQUETTE",
          "TRÈS BON ÉTAT",
          "TRÈS BON ÉTAT",
          "TRÈS BON ÉTAT",
          "TRÈS BON ÉTAT",
          "NEUF AVEC ÉTIQUETTE",
          "NEUF AVEC ÉTIQUETTE",
          "NEUF AVEC ÉTIQUETTE",
          "TRÈS BON ÉTAT",
          "NEUF SANS ÉTIQUETTE",
          "NEUF SANS ÉTIQUETTE",
          "BON ÉTAT",
          "BON ÉTAT",
          "TRÈS BON ÉTAT",
          "NEUF SANS ÉTIQUETTE",
          "TRÈS BON ÉTAT",
          "SATISFAISANT",
          "BON ÉTAT",
          "NEUF SANS ÉTIQUETTE",
          "TRÈS BON ÉTAT",
          "NEUF SANS ÉTIQUETTE",
          "TRÈS BON ÉTAT",
          "TRÈS BON ÉTAT",
          "NEUF SANS ÉTIQUETTE",
          "TRÈS BON ÉTAT",
          "TRÈS BON ÉTAT",
          "TRÈS BON ÉTAT",
          "TRÈS BON ÉTAT",
          "BON ÉTAT",
          "BON ÉTAT",
          "TRÈS BON ÉTAT",
          "TRÈS BON ÉTAT",
          "NEUF SANS ÉTIQUETTE",
          "BON ÉTAT",
          "BON ÉTAT",
          "TRÈS BON ÉTAT",
          "BON ÉTAT",
          "BON ÉTAT",
          "BON ÉTAT",
          "BON ÉTAT",
          "TRÈS BON ÉTAT",
          "TRÈS BON ÉTAT",
          "TRÈS BON ÉTAT",
          "TRÈS BON ÉTAT",
          "TRÈS BON ÉTAT",
          "TRÈS BON ÉTAT",
          "BON ÉTAT",
          "NEUF AVEC ÉTIQUETTE",
          "NEUF SANS ÉTIQUETTE",
          "NEUF AVEC ÉTIQUETTE",
          "NEUF AVEC ÉTIQUETTE",
          "NEUF SANS ÉTIQUETTE",
          "TRÈS BON ÉTAT",
          "BON ÉTAT",
          "BON ÉTAT",
          "TRÈS BON ÉTAT",
          "BON ÉTAT",
          "TRÈS BON ÉTAT",
          "TRÈS BON ÉTAT",
          "NEUF SANS ÉTIQUETTE",
          "BON ÉTAT",
          "SATISFAISANT",
          "BON ÉTAT",
          "TRÈS BON ÉTAT",
          "TRÈS BON ÉTAT",
          "TRÈS BON ÉTAT",
          "TRÈS BON ÉTAT",
          "NEUF SANS ÉTIQUETTE",
          "NEUF SANS ÉTIQUETTE",
          "SATISFAISANT",
          "BON ÉTAT",
          "NEUF SANS ÉTIQUETTE",
          "TRÈS BON ÉTAT",
          "TRÈS BON ÉTAT",
          "TRÈS BON ÉTAT",
          "TRÈS BON ÉTAT",
          "BON ÉTAT",
          "TRÈS BON ÉTAT",
          "TRÈS BON ÉTAT",
          "TRÈS BON ÉTAT",
          "TRÈS BON ÉTAT",
          "NEUF SANS ÉTIQUETTE",
          "NEUF SANS ÉTIQUETTE",
          "SATISFAISANT",
          "TRÈS BON ÉTAT",
          "TRÈS BON ÉTAT",
          "NEUF SANS ÉTIQUETTE",
          "NEUF SANS ÉTIQUETTE",
          "NEUF SANS ÉTIQUETTE",
          "TRÈS BON ÉTAT",
          "TRÈS BON ÉTAT",
          "NEUF AVEC ÉTIQUETTE",
          "NEUF AVEC ÉTIQUETTE",
          "NEUF SANS ÉTIQUETTE",
          "NEUF AVEC ÉTIQUETTE",
          "NEUF SANS ÉTIQUETTE",
          "NEUF SANS ÉTIQUETTE"
         ],
         "y": [
          "Moyen-Haut",
          "Moyen-Haut",
          "Moyen",
          "Moyen",
          "Moyen-Haut",
          "Moyen-Haut",
          "Moyen-Haut",
          "Moyen-Haut",
          "Moyen-Haut",
          "Moyen-Haut",
          "Moyen-Haut",
          "Moyen-Haut",
          "Moyen-Haut",
          "Moyen-Haut",
          "Moyen-Haut",
          "Moyen-Haut",
          "Moyen-Haut",
          "Moyen-Haut",
          "Moyen-Haut",
          "Moyen-Haut",
          "Moyen-Haut",
          "Moyen-Haut",
          "Moyen-Haut",
          "Moyen-Haut",
          "Moyen-Haut",
          "Moyen-Haut",
          "Moyen-Haut",
          "Moyen-Haut",
          "Moyen-Haut",
          "Moyen-Haut",
          "Moyen-Haut",
          "Moyen-Haut",
          "Moyen-Haut",
          "Moyen-Haut",
          "Moyen-Haut",
          "Moyen-Haut",
          "Moyen-Haut",
          "Moyen-Haut",
          "Moyen-Haut",
          "Moyen-Haut",
          "Moyen-Haut",
          "Moyen-Haut",
          "Moyen-Haut",
          "Moyen-Haut",
          "Moyen-Haut",
          "Moyen-Haut",
          "Moyen-Haut",
          "Moyen-Haut",
          "Moyen-Haut",
          "Moyen-Haut",
          "Moyen-Haut",
          "Moyen-Haut",
          "Moyen-Haut",
          "Moyen-Haut",
          "Moyen-Haut",
          "Moyen-Haut",
          "Moyen-Haut",
          "Moyen-Haut",
          "Moyen-Haut",
          "Moyen-Haut",
          "Moyen-Haut",
          "Moyen-Haut",
          "Moyen-Haut",
          "Moyen-Haut",
          "Moyen-Haut",
          "Moyen-Haut",
          "Moyen-Haut",
          "Moyen-Haut",
          "Moyen-Haut",
          "Moyen-Haut",
          "Moyen-Haut",
          "Moyen-Haut",
          "Moyen-Haut",
          "Moyen-Haut",
          "Moyen-Haut",
          "Moyen-Haut",
          "Moyen-Haut",
          "Moyen-Haut",
          "Moyen-Haut",
          "Moyen-Haut",
          "Moyen-Haut",
          "Moyen-Haut",
          "Moyen-Haut",
          "Moyen-Haut",
          "Moyen-Haut",
          "Moyen-Haut",
          "Moyen-Haut",
          "Moyen-Haut",
          "Moyen-Haut",
          "Moyen-Haut",
          "Moyen-Haut",
          "Moyen-Haut",
          "Moyen-Haut",
          "Moyen-Haut",
          "Moyen-Haut",
          "Moyen-Haut",
          "Moyen-Haut",
          "Moyen-Haut",
          "Moyen-Haut",
          "Moyen-Haut",
          "Moyen-Haut",
          "Moyen-Haut",
          "Moyen-Haut",
          "Moyen-Haut",
          "Moyen-Haut",
          "Moyen-Haut",
          "Moyen-Haut",
          "Moyen-Haut",
          "Moyen-Haut",
          "Moyen-Haut",
          "Moyen-Haut",
          "Moyen-Haut",
          "Moyen-Haut",
          "Moyen-Haut",
          "Moyen-Haut",
          "Moyen-Haut",
          "Moyen-Haut",
          "Moyen-Haut",
          "Moyen-Haut",
          "Moyen-Haut",
          "Moyen-Haut",
          "Moyen-Haut",
          "Moyen-Haut",
          "Moyen-Haut",
          "Moyen-Haut",
          "Moyen-Haut",
          "Moyen-Haut",
          "Moyen-Haut",
          "Moyen-Haut",
          "Moyen-Haut",
          "Moyen-Haut",
          "Moyen-Haut",
          "Moyen-Haut",
          "Moyen-Haut",
          "Moyen-Haut",
          "Moyen-Haut",
          "Moyen-Haut",
          "Moyen-Haut",
          "Moyen-Haut",
          "Moyen-Haut",
          "Moyen-Haut",
          "Moyen-Haut",
          "Moyen-Haut",
          "Moyen-Haut",
          "Moyen-Haut",
          "Moyen-Haut"
         ],
         "z": [
          17,
          25,
          20,
          20,
          10,
          25,
          10,
          13,
          43,
          30,
          3,
          7.5,
          12,
          28,
          25,
          25,
          10,
          24.99,
          35,
          29.99,
          28,
          28,
          28,
          5,
          34.5,
          25,
          19.99,
          12,
          10,
          18,
          12,
          35,
          22,
          29.9,
          25,
          20,
          2,
          10,
          16,
          13,
          29.99,
          13,
          13,
          18,
          9,
          20,
          8,
          20,
          15,
          32.5,
          8,
          38,
          10,
          12,
          35,
          32.5,
          15,
          10,
          13,
          10,
          16,
          15,
          5,
          12.5,
          10,
          4,
          4,
          15,
          8,
          9,
          17,
          15,
          15,
          17,
          15,
          10,
          15,
          5,
          5,
          7.5,
          15,
          11,
          10,
          17,
          15,
          7,
          4,
          2,
          4,
          10,
          18,
          15,
          8,
          8,
          1,
          4,
          13,
          6,
          20,
          28,
          20,
          12,
          12,
          12,
          7,
          7,
          10,
          10,
          10,
          6,
          7,
          6,
          20,
          15,
          5,
          20,
          20,
          35,
          2,
          5,
          30,
          10,
          4,
          25,
          7,
          20,
          12,
          26,
          47,
          32,
          25,
          25,
          20,
          20,
          22,
          35,
          37,
          28,
          25,
          20,
          28,
          20,
          20,
          20,
          20,
          20
         ]
        },
        {
         "hovertemplate": "Segment de marché=premium / luxe abordable<br>État=%{x}<br>Niveau de prix=%{y}<br>Prix=%{z}<extra></extra>",
         "legendgroup": "premium / luxe abordable",
         "marker": {
          "color": "#ab63fa",
          "symbol": "circle"
         },
         "mode": "markers",
         "name": "premium / luxe abordable",
         "scene": "scene",
         "showlegend": true,
         "type": "scatter3d",
         "x": [
          "TRÈS BON ÉTAT",
          "TRÈS BON ÉTAT",
          "TRÈS BON ÉTAT",
          "TRÈS BON ÉTAT",
          "NEUF AVEC ÉTIQUETTE",
          "NEUF AVEC ÉTIQUETTE",
          "NEUF AVEC ÉTIQUETTE",
          "TRÈS BON ÉTAT",
          "TRÈS BON ÉTAT",
          "TRÈS BON ÉTAT",
          "TRÈS BON ÉTAT",
          "NEUF SANS ÉTIQUETTE",
          "TRÈS BON ÉTAT",
          "TRÈS BON ÉTAT",
          "TRÈS BON ÉTAT",
          "TRÈS BON ÉTAT",
          "TRÈS BON ÉTAT",
          "TRÈS BON ÉTAT",
          "TRÈS BON ÉTAT",
          "TRÈS BON ÉTAT",
          "TRÈS BON ÉTAT",
          "TRÈS BON ÉTAT",
          "NEUF SANS ÉTIQUETTE",
          "NEUF AVEC ÉTIQUETTE",
          "TRÈS BON ÉTAT",
          "NEUF SANS ÉTIQUETTE",
          "TRÈS BON ÉTAT",
          "TRÈS BON ÉTAT",
          "TRÈS BON ÉTAT",
          "TRÈS BON ÉTAT",
          "NEUF AVEC ÉTIQUETTE",
          "NEUF SANS ÉTIQUETTE",
          "TRÈS BON ÉTAT",
          "NEUF AVEC ÉTIQUETTE",
          "NEUF AVEC ÉTIQUETTE",
          "TRÈS BON ÉTAT",
          "TRÈS BON ÉTAT",
          "TRÈS BON ÉTAT",
          "BON ÉTAT",
          "NEUF SANS ÉTIQUETTE",
          "NEUF SANS ÉTIQUETTE",
          "NEUF SANS ÉTIQUETTE",
          "BON ÉTAT",
          "BON ÉTAT",
          "TRÈS BON ÉTAT",
          "TRÈS BON ÉTAT",
          "TRÈS BON ÉTAT",
          "NEUF AVEC ÉTIQUETTE",
          "NEUF SANS ÉTIQUETTE",
          "NEUF AVEC ÉTIQUETTE",
          "TRÈS BON ÉTAT",
          "NEUF SANS ÉTIQUETTE",
          "NEUF SANS ÉTIQUETTE",
          "NEUF SANS ÉTIQUETTE",
          "NEUF AVEC ÉTIQUETTE",
          "TRÈS BON ÉTAT",
          "TRÈS BON ÉTAT",
          "TRÈS BON ÉTAT",
          "BON ÉTAT",
          "BON ÉTAT",
          "NEUF AVEC ÉTIQUETTE",
          "BON ÉTAT",
          "BON ÉTAT",
          "TRÈS BON ÉTAT",
          "TRÈS BON ÉTAT",
          "TRÈS BON ÉTAT",
          "TRÈS BON ÉTAT",
          "NEUF SANS ÉTIQUETTE",
          "NEUF SANS ÉTIQUETTE",
          "TRÈS BON ÉTAT",
          "TRÈS BON ÉTAT",
          "TRÈS BON ÉTAT",
          "BON ÉTAT",
          "TRÈS BON ÉTAT",
          "TRÈS BON ÉTAT",
          "TRÈS BON ÉTAT",
          "TRÈS BON ÉTAT",
          "NEUF SANS ÉTIQUETTE",
          "TRÈS BON ÉTAT",
          "NEUF AVEC ÉTIQUETTE",
          "TRÈS BON ÉTAT",
          "NEUF AVEC ÉTIQUETTE",
          "TRÈS BON ÉTAT",
          "NEUF SANS ÉTIQUETTE",
          "TRÈS BON ÉTAT",
          "NEUF AVEC ÉTIQUETTE",
          "TRÈS BON ÉTAT",
          "NEUF AVEC ÉTIQUETTE",
          "TRÈS BON ÉTAT",
          "TRÈS BON ÉTAT",
          "TRÈS BON ÉTAT",
          "TRÈS BON ÉTAT",
          "NEUF SANS ÉTIQUETTE",
          "TRÈS BON ÉTAT",
          "TRÈS BON ÉTAT",
          "TRÈS BON ÉTAT",
          "NEUF SANS ÉTIQUETTE",
          "TRÈS BON ÉTAT",
          "TRÈS BON ÉTAT",
          "TRÈS BON ÉTAT",
          "TRÈS BON ÉTAT",
          "TRÈS BON ÉTAT",
          "TRÈS BON ÉTAT",
          "TRÈS BON ÉTAT",
          "BON ÉTAT",
          "NEUF AVEC ÉTIQUETTE",
          "TRÈS BON ÉTAT",
          "NEUF SANS ÉTIQUETTE",
          "TRÈS BON ÉTAT",
          "NEUF AVEC ÉTIQUETTE",
          "TRÈS BON ÉTAT",
          "NEUF SANS ÉTIQUETTE",
          "BON ÉTAT",
          "TRÈS BON ÉTAT",
          "BON ÉTAT",
          "TRÈS BON ÉTAT",
          "TRÈS BON ÉTAT",
          "TRÈS BON ÉTAT",
          "SATISFAISANT",
          "TRÈS BON ÉTAT",
          "TRÈS BON ÉTAT",
          "TRÈS BON ÉTAT",
          "BON ÉTAT",
          "TRÈS BON ÉTAT",
          "NEUF AVEC ÉTIQUETTE",
          "TRÈS BON ÉTAT",
          "BON ÉTAT",
          "TRÈS BON ÉTAT",
          "TRÈS BON ÉTAT",
          "TRÈS BON ÉTAT",
          "TRÈS BON ÉTAT",
          "TRÈS BON ÉTAT",
          "BON ÉTAT",
          "TRÈS BON ÉTAT",
          "NEUF AVEC ÉTIQUETTE",
          "TRÈS BON ÉTAT",
          "TRÈS BON ÉTAT"
         ],
         "y": [
          "Haut",
          "Haut",
          "Haut",
          "Haut",
          "Haut",
          "Haut",
          "Haut",
          "Haut",
          "Haut",
          "Haut",
          "Haut",
          "Haut",
          "Haut",
          "Haut",
          "Haut",
          "Haut",
          "Haut",
          "Haut",
          "Haut",
          "Haut",
          "Haut",
          "Haut",
          "Haut",
          "Haut",
          "Haut",
          "Haut",
          "Haut",
          "Haut",
          "Haut",
          "Haut",
          "Haut",
          "Haut",
          "Haut",
          "Haut",
          "Haut",
          "Haut",
          "Haut",
          "Haut",
          "Haut",
          "Haut",
          "Haut",
          "Haut",
          "Haut",
          "Haut",
          "Haut",
          "Haut",
          "Haut",
          "Haut",
          "Haut",
          "Haut",
          "Haut",
          "Haut",
          "Haut",
          "Haut",
          "Haut",
          "Haut",
          "Haut",
          "Haut",
          "Haut",
          "Haut",
          "Haut",
          "Haut",
          "Haut",
          "Haut",
          "Haut",
          "Haut",
          "Haut",
          "Haut",
          "Haut",
          "Haut",
          "Haut",
          "Haut",
          "Haut",
          "Haut",
          "Haut",
          "Haut",
          "Haut",
          "Haut",
          "Haut",
          "Haut",
          "Haut",
          "Haut",
          "Haut",
          "Haut",
          "Haut",
          "Haut",
          "Haut",
          "Haut",
          "Haut",
          "Haut",
          "Haut",
          "Haut",
          "Haut",
          "Haut",
          "Haut",
          "Haut",
          "Haut",
          "Haut",
          "Haut",
          "Haut",
          "Haut",
          "Haut",
          "Haut",
          "Haut",
          "Haut",
          "Haut",
          "Haut",
          "Haut",
          "Haut",
          "Haut",
          "Haut",
          "Haut",
          "Haut",
          "Haut",
          "Haut",
          "Haut",
          "Haut",
          "Haut",
          "Haut",
          "Haut",
          "Haut",
          "Haut",
          "Haut",
          "Haut",
          "Haut",
          "Haut",
          "Haut",
          "Haut",
          "Haut",
          "Haut",
          "Haut",
          "Haut",
          "Haut",
          "Haut",
          "Haut",
          "Haut",
          "Haut"
         ],
         "z": [
          45,
          18,
          24.9,
          45,
          30,
          30,
          80,
          28,
          28,
          28,
          28,
          35,
          28,
          28,
          15,
          28,
          28,
          29,
          28,
          28,
          28,
          28,
          39,
          15,
          27,
          30,
          24,
          28,
          35,
          45,
          40,
          30,
          35,
          30,
          30,
          25,
          35,
          45,
          4,
          55,
          50,
          55,
          15,
          10,
          20,
          17,
          24,
          55,
          45,
          55,
          55,
          18,
          45,
          18,
          60,
          30,
          35,
          40,
          10,
          25,
          95,
          8,
          12,
          20,
          30,
          20,
          30,
          60,
          40,
          20,
          12,
          15,
          25,
          15,
          20,
          12,
          15,
          15,
          20,
          38,
          18,
          40,
          15,
          15,
          20,
          38,
          18,
          40,
          15,
          30,
          20,
          13,
          25,
          25,
          15,
          25,
          6,
          30,
          5,
          5,
          5,
          5,
          5,
          10,
          2,
          33,
          10,
          59,
          5,
          33,
          5,
          55,
          9,
          10,
          5,
          5,
          12,
          10,
          2,
          15,
          29,
          35,
          57,
          120,
          59,
          30,
          27,
          36,
          35,
          16,
          35,
          16,
          25,
          24,
          50,
          28,
          30
         ]
        },
        {
         "hovertemplate": "Segment de marché=luxe & création<br>État=%{x}<br>Niveau de prix=%{y}<br>Prix=%{z}<extra></extra>",
         "legendgroup": "luxe & création",
         "marker": {
          "color": "#FFA15A",
          "symbol": "circle"
         },
         "mode": "markers",
         "name": "luxe & création",
         "scene": "scene",
         "showlegend": true,
         "type": "scatter3d",
         "x": [
          "NEUF AVEC ÉTIQUETTE",
          "NEUF AVEC ÉTIQUETTE",
          "TRÈS BON ÉTAT",
          "NEUF AVEC ÉTIQUETTE",
          "BON ÉTAT",
          "BON ÉTAT",
          "NEUF AVEC ÉTIQUETTE",
          "TRÈS BON ÉTAT",
          "BON ÉTAT",
          "BON ÉTAT",
          "TRÈS BON ÉTAT",
          "TRÈS BON ÉTAT",
          "TRÈS BON ÉTAT",
          "TRÈS BON ÉTAT",
          "BON ÉTAT",
          "TRÈS BON ÉTAT",
          "TRÈS BON ÉTAT",
          "TRÈS BON ÉTAT",
          "TRÈS BON ÉTAT",
          "TRÈS BON ÉTAT",
          "TRÈS BON ÉTAT",
          "TRÈS BON ÉTAT",
          "TRÈS BON ÉTAT",
          "TRÈS BON ÉTAT",
          "TRÈS BON ÉTAT",
          "TRÈS BON ÉTAT",
          "TRÈS BON ÉTAT",
          "NEUF AVEC ÉTIQUETTE",
          "NEUF SANS ÉTIQUETTE",
          "NEUF SANS ÉTIQUETTE",
          "TRÈS BON ÉTAT",
          "BON ÉTAT",
          "TRÈS BON ÉTAT",
          "TRÈS BON ÉTAT",
          "TRÈS BON ÉTAT",
          "SATISFAISANT",
          "NEUF SANS ÉTIQUETTE",
          "TRÈS BON ÉTAT",
          "NEUF SANS ÉTIQUETTE",
          "TRÈS BON ÉTAT",
          "NEUF AVEC ÉTIQUETTE",
          "TRÈS BON ÉTAT",
          "TRÈS BON ÉTAT",
          "NEUF SANS ÉTIQUETTE",
          "TRÈS BON ÉTAT",
          "TRÈS BON ÉTAT",
          "TRÈS BON ÉTAT",
          "TRÈS BON ÉTAT",
          "BON ÉTAT",
          "NEUF SANS ÉTIQUETTE",
          "TRÈS BON ÉTAT",
          "NEUF SANS ÉTIQUETTE",
          "TRÈS BON ÉTAT",
          "TRÈS BON ÉTAT",
          "NEUF SANS ÉTIQUETTE",
          "NEUF AVEC ÉTIQUETTE",
          "NEUF SANS ÉTIQUETTE",
          "TRÈS BON ÉTAT",
          "NEUF AVEC ÉTIQUETTE",
          "BON ÉTAT",
          "TRÈS BON ÉTAT",
          "BON ÉTAT",
          "TRÈS BON ÉTAT",
          "TRÈS BON ÉTAT",
          "TRÈS BON ÉTAT",
          "TRÈS BON ÉTAT",
          "NEUF SANS ÉTIQUETTE",
          "TRÈS BON ÉTAT",
          "NEUF SANS ÉTIQUETTE",
          "NEUF AVEC ÉTIQUETTE",
          "NEUF SANS ÉTIQUETTE",
          "TRÈS BON ÉTAT",
          "NEUF SANS ÉTIQUETTE",
          "BON ÉTAT",
          "TRÈS BON ÉTAT",
          "TRÈS BON ÉTAT",
          "NEUF SANS ÉTIQUETTE",
          "NEUF AVEC ÉTIQUETTE",
          "NEUF SANS ÉTIQUETTE",
          "NEUF SANS ÉTIQUETTE",
          "NEUF SANS ÉTIQUETTE",
          "TRÈS BON ÉTAT",
          "NEUF SANS ÉTIQUETTE",
          "BON ÉTAT",
          "BON ÉTAT",
          "TRÈS BON ÉTAT",
          "NEUF SANS ÉTIQUETTE",
          "TRÈS BON ÉTAT",
          "TRÈS BON ÉTAT",
          "TRÈS BON ÉTAT",
          "NEUF AVEC ÉTIQUETTE",
          "TRÈS BON ÉTAT",
          "TRÈS BON ÉTAT",
          "TRÈS BON ÉTAT",
          "NEUF SANS ÉTIQUETTE",
          "TRÈS BON ÉTAT",
          "NEUF AVEC ÉTIQUETTE",
          "TRÈS BON ÉTAT",
          "TRÈS BON ÉTAT",
          "TRÈS BON ÉTAT",
          "NEUF SANS ÉTIQUETTE",
          "TRÈS BON ÉTAT",
          "BON ÉTAT",
          "TRÈS BON ÉTAT",
          "TRÈS BON ÉTAT",
          "TRÈS BON ÉTAT",
          "TRÈS BON ÉTAT",
          "TRÈS BON ÉTAT",
          "NEUF SANS ÉTIQUETTE",
          "TRÈS BON ÉTAT",
          "BON ÉTAT",
          "TRÈS BON ÉTAT",
          "TRÈS BON ÉTAT",
          "TRÈS BON ÉTAT",
          "NEUF AVEC ÉTIQUETTE",
          "NEUF AVEC ÉTIQUETTE",
          "NEUF AVEC ÉTIQUETTE",
          "NEUF AVEC ÉTIQUETTE",
          "NEUF SANS ÉTIQUETTE",
          "NEUF SANS ÉTIQUETTE",
          "TRÈS BON ÉTAT",
          "NEUF SANS ÉTIQUETTE",
          "NEUF SANS ÉTIQUETTE",
          "NEUF SANS ÉTIQUETTE",
          "TRÈS BON ÉTAT",
          "BON ÉTAT",
          "TRÈS BON ÉTAT",
          "TRÈS BON ÉTAT",
          "NEUF SANS ÉTIQUETTE",
          "TRÈS BON ÉTAT",
          "TRÈS BON ÉTAT",
          "NEUF SANS ÉTIQUETTE",
          "BON ÉTAT",
          "TRÈS BON ÉTAT",
          "TRÈS BON ÉTAT",
          "NEUF SANS ÉTIQUETTE"
         ],
         "y": [
          "Luxe",
          "Luxe",
          "Luxe",
          "Luxe",
          "Luxe",
          "Luxe",
          "Luxe",
          "Luxe",
          "Luxe",
          "Luxe",
          "Luxe",
          "Luxe",
          "Luxe",
          "Luxe",
          "Luxe",
          "Luxe",
          "Luxe",
          "Luxe",
          "Luxe",
          "Luxe",
          "Luxe",
          "Luxe",
          "Luxe",
          "Luxe",
          "Luxe",
          "Luxe",
          "Luxe",
          "Luxe",
          "Luxe",
          "Luxe",
          "Luxe",
          "Luxe",
          "Luxe",
          "Luxe",
          "Luxe",
          "Luxe",
          "Luxe",
          "Luxe",
          "Luxe",
          "Luxe",
          "Luxe",
          "Luxe",
          "Luxe",
          "Luxe",
          "Luxe",
          "Luxe",
          "Luxe",
          "Luxe",
          "Luxe",
          "Luxe",
          "Luxe",
          "Luxe",
          "Luxe",
          "Luxe",
          "Luxe",
          "Luxe",
          "Luxe",
          "Luxe",
          "Luxe",
          "Luxe",
          "Luxe",
          "Luxe",
          "Luxe",
          "Luxe",
          "Luxe",
          "Luxe",
          "Luxe",
          "Luxe",
          "Luxe",
          "Luxe",
          "Luxe",
          "Luxe",
          "Luxe",
          "Luxe",
          "Luxe",
          "Luxe",
          "Luxe",
          "Luxe",
          "Luxe",
          "Luxe",
          "Luxe",
          "Luxe",
          "Luxe",
          "Luxe",
          "Luxe",
          "Luxe",
          "Luxe",
          "Luxe",
          "Luxe",
          "Luxe",
          "Luxe",
          "Luxe",
          "Luxe",
          "Luxe",
          "Luxe",
          "Luxe",
          "Luxe",
          "Luxe",
          "Luxe",
          "Luxe",
          "Luxe",
          "Luxe",
          "Luxe",
          "Luxe",
          "Luxe",
          "Luxe",
          "Luxe",
          "Luxe",
          "Luxe",
          "Luxe",
          "Luxe",
          "Luxe",
          "Luxe",
          "Luxe",
          "Luxe",
          "Premium Luxury",
          "Luxe",
          "Luxe",
          "Luxe",
          "Luxe",
          "Luxe",
          "Luxe",
          "Luxe",
          "Luxe",
          "Luxe",
          "Luxe",
          "Luxe",
          "Luxe",
          "Luxe",
          "Luxe",
          "Luxe",
          "Luxe",
          "Luxe",
          "Luxe",
          "Luxe",
          "Luxe"
         ],
         "z": [
          130,
          130,
          149,
          230,
          65,
          140,
          170,
          20,
          20,
          30,
          110,
          75,
          57,
          26,
          55,
          68,
          44,
          200,
          92.94,
          30,
          348.53,
          240,
          220.33,
          214.12,
          79,
          120,
          24,
          230,
          160,
          45,
          200,
          232.57,
          115,
          59,
          55,
          44,
          240,
          290,
          240,
          290,
          215,
          154,
          99,
          264,
          135,
          130,
          170,
          71,
          67,
          135,
          118,
          125,
          42,
          180,
          125,
          115,
          199,
          90,
          200,
          96.91,
          90,
          96.91,
          90,
          99,
          67.19,
          100,
          234,
          47,
          360,
          160,
          350,
          40,
          258.41,
          83.98,
          45,
          122,
          150,
          148.59,
          300,
          110,
          110,
          96.91,
          240,
          63,
          96,
          270,
          240,
          199,
          72,
          72,
          77,
          65,
          153,
          72,
          133.51,
          170,
          91.74,
          90,
          72,
          231.28,
          155.05,
          116.29,
          60,
          72,
          60,
          90,
          72,
          231.28,
          155.05,
          116.29,
          60,
          72,
          60,
          236,
          90.44,
          99,
          250,
          321.72,
          108,
          45,
          90,
          170,
          130,
          195,
          180.89,
          45,
          49,
          180.89,
          210,
          50.56,
          129.21,
          115,
          70,
          45,
          88,
          380
         ]
        }
       ],
       "layout": {
        "legend": {
         "title": {
          "text": "Segment de marché"
         },
         "tracegroupgap": 0
        },
        "margin": {
         "t": 60
        },
        "scene": {
         "domain": {
          "x": [
           0,
           1
          ],
          "y": [
           0,
           1
          ]
         },
         "xaxis": {
          "categoryarray": [
           "BON ÉTAT",
           "NEUF AVEC ÉTIQUETTE",
           "NEUF SANS ÉTIQUETTE",
           "SATISFAISANT",
           "TRÈS BON ÉTAT"
          ],
          "categoryorder": "array",
          "title": {
           "text": "État"
          }
         },
         "yaxis": {
          "categoryarray": [
           "Discount",
           "Bas",
           "Moyen-Bas",
           "Moyen",
           "Moyen-Haut",
           "Haut",
           "Premium Luxury",
           "Luxe"
          ],
          "categoryorder": "array",
          "title": {
           "text": "Niveau de prix"
          }
         },
         "zaxis": {
          "title": {
           "text": "Prix"
          }
         }
        },
        "template": {
         "data": {
          "bar": [
           {
            "error_x": {
             "color": "#2a3f5f"
            },
            "error_y": {
             "color": "#2a3f5f"
            },
            "marker": {
             "line": {
              "color": "#E5ECF6",
              "width": 0.5
             },
             "pattern": {
              "fillmode": "overlay",
              "size": 10,
              "solidity": 0.2
             }
            },
            "type": "bar"
           }
          ],
          "barpolar": [
           {
            "marker": {
             "line": {
              "color": "#E5ECF6",
              "width": 0.5
             },
             "pattern": {
              "fillmode": "overlay",
              "size": 10,
              "solidity": 0.2
             }
            },
            "type": "barpolar"
           }
          ],
          "carpet": [
           {
            "aaxis": {
             "endlinecolor": "#2a3f5f",
             "gridcolor": "white",
             "linecolor": "white",
             "minorgridcolor": "white",
             "startlinecolor": "#2a3f5f"
            },
            "baxis": {
             "endlinecolor": "#2a3f5f",
             "gridcolor": "white",
             "linecolor": "white",
             "minorgridcolor": "white",
             "startlinecolor": "#2a3f5f"
            },
            "type": "carpet"
           }
          ],
          "choropleth": [
           {
            "colorbar": {
             "outlinewidth": 0,
             "ticks": ""
            },
            "type": "choropleth"
           }
          ],
          "contour": [
           {
            "colorbar": {
             "outlinewidth": 0,
             "ticks": ""
            },
            "colorscale": [
             [
              0,
              "#0d0887"
             ],
             [
              0.1111111111111111,
              "#46039f"
             ],
             [
              0.2222222222222222,
              "#7201a8"
             ],
             [
              0.3333333333333333,
              "#9c179e"
             ],
             [
              0.4444444444444444,
              "#bd3786"
             ],
             [
              0.5555555555555556,
              "#d8576b"
             ],
             [
              0.6666666666666666,
              "#ed7953"
             ],
             [
              0.7777777777777778,
              "#fb9f3a"
             ],
             [
              0.8888888888888888,
              "#fdca26"
             ],
             [
              1,
              "#f0f921"
             ]
            ],
            "type": "contour"
           }
          ],
          "contourcarpet": [
           {
            "colorbar": {
             "outlinewidth": 0,
             "ticks": ""
            },
            "type": "contourcarpet"
           }
          ],
          "heatmap": [
           {
            "colorbar": {
             "outlinewidth": 0,
             "ticks": ""
            },
            "colorscale": [
             [
              0,
              "#0d0887"
             ],
             [
              0.1111111111111111,
              "#46039f"
             ],
             [
              0.2222222222222222,
              "#7201a8"
             ],
             [
              0.3333333333333333,
              "#9c179e"
             ],
             [
              0.4444444444444444,
              "#bd3786"
             ],
             [
              0.5555555555555556,
              "#d8576b"
             ],
             [
              0.6666666666666666,
              "#ed7953"
             ],
             [
              0.7777777777777778,
              "#fb9f3a"
             ],
             [
              0.8888888888888888,
              "#fdca26"
             ],
             [
              1,
              "#f0f921"
             ]
            ],
            "type": "heatmap"
           }
          ],
          "heatmapgl": [
           {
            "colorbar": {
             "outlinewidth": 0,
             "ticks": ""
            },
            "colorscale": [
             [
              0,
              "#0d0887"
             ],
             [
              0.1111111111111111,
              "#46039f"
             ],
             [
              0.2222222222222222,
              "#7201a8"
             ],
             [
              0.3333333333333333,
              "#9c179e"
             ],
             [
              0.4444444444444444,
              "#bd3786"
             ],
             [
              0.5555555555555556,
              "#d8576b"
             ],
             [
              0.6666666666666666,
              "#ed7953"
             ],
             [
              0.7777777777777778,
              "#fb9f3a"
             ],
             [
              0.8888888888888888,
              "#fdca26"
             ],
             [
              1,
              "#f0f921"
             ]
            ],
            "type": "heatmapgl"
           }
          ],
          "histogram": [
           {
            "marker": {
             "pattern": {
              "fillmode": "overlay",
              "size": 10,
              "solidity": 0.2
             }
            },
            "type": "histogram"
           }
          ],
          "histogram2d": [
           {
            "colorbar": {
             "outlinewidth": 0,
             "ticks": ""
            },
            "colorscale": [
             [
              0,
              "#0d0887"
             ],
             [
              0.1111111111111111,
              "#46039f"
             ],
             [
              0.2222222222222222,
              "#7201a8"
             ],
             [
              0.3333333333333333,
              "#9c179e"
             ],
             [
              0.4444444444444444,
              "#bd3786"
             ],
             [
              0.5555555555555556,
              "#d8576b"
             ],
             [
              0.6666666666666666,
              "#ed7953"
             ],
             [
              0.7777777777777778,
              "#fb9f3a"
             ],
             [
              0.8888888888888888,
              "#fdca26"
             ],
             [
              1,
              "#f0f921"
             ]
            ],
            "type": "histogram2d"
           }
          ],
          "histogram2dcontour": [
           {
            "colorbar": {
             "outlinewidth": 0,
             "ticks": ""
            },
            "colorscale": [
             [
              0,
              "#0d0887"
             ],
             [
              0.1111111111111111,
              "#46039f"
             ],
             [
              0.2222222222222222,
              "#7201a8"
             ],
             [
              0.3333333333333333,
              "#9c179e"
             ],
             [
              0.4444444444444444,
              "#bd3786"
             ],
             [
              0.5555555555555556,
              "#d8576b"
             ],
             [
              0.6666666666666666,
              "#ed7953"
             ],
             [
              0.7777777777777778,
              "#fb9f3a"
             ],
             [
              0.8888888888888888,
              "#fdca26"
             ],
             [
              1,
              "#f0f921"
             ]
            ],
            "type": "histogram2dcontour"
           }
          ],
          "mesh3d": [
           {
            "colorbar": {
             "outlinewidth": 0,
             "ticks": ""
            },
            "type": "mesh3d"
           }
          ],
          "parcoords": [
           {
            "line": {
             "colorbar": {
              "outlinewidth": 0,
              "ticks": ""
             }
            },
            "type": "parcoords"
           }
          ],
          "pie": [
           {
            "automargin": true,
            "type": "pie"
           }
          ],
          "scatter": [
           {
            "fillpattern": {
             "fillmode": "overlay",
             "size": 10,
             "solidity": 0.2
            },
            "type": "scatter"
           }
          ],
          "scatter3d": [
           {
            "line": {
             "colorbar": {
              "outlinewidth": 0,
              "ticks": ""
             }
            },
            "marker": {
             "colorbar": {
              "outlinewidth": 0,
              "ticks": ""
             }
            },
            "type": "scatter3d"
           }
          ],
          "scattercarpet": [
           {
            "marker": {
             "colorbar": {
              "outlinewidth": 0,
              "ticks": ""
             }
            },
            "type": "scattercarpet"
           }
          ],
          "scattergeo": [
           {
            "marker": {
             "colorbar": {
              "outlinewidth": 0,
              "ticks": ""
             }
            },
            "type": "scattergeo"
           }
          ],
          "scattergl": [
           {
            "marker": {
             "colorbar": {
              "outlinewidth": 0,
              "ticks": ""
             }
            },
            "type": "scattergl"
           }
          ],
          "scattermapbox": [
           {
            "marker": {
             "colorbar": {
              "outlinewidth": 0,
              "ticks": ""
             }
            },
            "type": "scattermapbox"
           }
          ],
          "scatterpolar": [
           {
            "marker": {
             "colorbar": {
              "outlinewidth": 0,
              "ticks": ""
             }
            },
            "type": "scatterpolar"
           }
          ],
          "scatterpolargl": [
           {
            "marker": {
             "colorbar": {
              "outlinewidth": 0,
              "ticks": ""
             }
            },
            "type": "scatterpolargl"
           }
          ],
          "scatterternary": [
           {
            "marker": {
             "colorbar": {
              "outlinewidth": 0,
              "ticks": ""
             }
            },
            "type": "scatterternary"
           }
          ],
          "surface": [
           {
            "colorbar": {
             "outlinewidth": 0,
             "ticks": ""
            },
            "colorscale": [
             [
              0,
              "#0d0887"
             ],
             [
              0.1111111111111111,
              "#46039f"
             ],
             [
              0.2222222222222222,
              "#7201a8"
             ],
             [
              0.3333333333333333,
              "#9c179e"
             ],
             [
              0.4444444444444444,
              "#bd3786"
             ],
             [
              0.5555555555555556,
              "#d8576b"
             ],
             [
              0.6666666666666666,
              "#ed7953"
             ],
             [
              0.7777777777777778,
              "#fb9f3a"
             ],
             [
              0.8888888888888888,
              "#fdca26"
             ],
             [
              1,
              "#f0f921"
             ]
            ],
            "type": "surface"
           }
          ],
          "table": [
           {
            "cells": {
             "fill": {
              "color": "#EBF0F8"
             },
             "line": {
              "color": "white"
             }
            },
            "header": {
             "fill": {
              "color": "#C8D4E3"
             },
             "line": {
              "color": "white"
             }
            },
            "type": "table"
           }
          ]
         },
         "layout": {
          "annotationdefaults": {
           "arrowcolor": "#2a3f5f",
           "arrowhead": 0,
           "arrowwidth": 1
          },
          "autotypenumbers": "strict",
          "coloraxis": {
           "colorbar": {
            "outlinewidth": 0,
            "ticks": ""
           }
          },
          "colorscale": {
           "diverging": [
            [
             0,
             "#8e0152"
            ],
            [
             0.1,
             "#c51b7d"
            ],
            [
             0.2,
             "#de77ae"
            ],
            [
             0.3,
             "#f1b6da"
            ],
            [
             0.4,
             "#fde0ef"
            ],
            [
             0.5,
             "#f7f7f7"
            ],
            [
             0.6,
             "#e6f5d0"
            ],
            [
             0.7,
             "#b8e186"
            ],
            [
             0.8,
             "#7fbc41"
            ],
            [
             0.9,
             "#4d9221"
            ],
            [
             1,
             "#276419"
            ]
           ],
           "sequential": [
            [
             0,
             "#0d0887"
            ],
            [
             0.1111111111111111,
             "#46039f"
            ],
            [
             0.2222222222222222,
             "#7201a8"
            ],
            [
             0.3333333333333333,
             "#9c179e"
            ],
            [
             0.4444444444444444,
             "#bd3786"
            ],
            [
             0.5555555555555556,
             "#d8576b"
            ],
            [
             0.6666666666666666,
             "#ed7953"
            ],
            [
             0.7777777777777778,
             "#fb9f3a"
            ],
            [
             0.8888888888888888,
             "#fdca26"
            ],
            [
             1,
             "#f0f921"
            ]
           ],
           "sequentialminus": [
            [
             0,
             "#0d0887"
            ],
            [
             0.1111111111111111,
             "#46039f"
            ],
            [
             0.2222222222222222,
             "#7201a8"
            ],
            [
             0.3333333333333333,
             "#9c179e"
            ],
            [
             0.4444444444444444,
             "#bd3786"
            ],
            [
             0.5555555555555556,
             "#d8576b"
            ],
            [
             0.6666666666666666,
             "#ed7953"
            ],
            [
             0.7777777777777778,
             "#fb9f3a"
            ],
            [
             0.8888888888888888,
             "#fdca26"
            ],
            [
             1,
             "#f0f921"
            ]
           ]
          },
          "colorway": [
           "#636efa",
           "#EF553B",
           "#00cc96",
           "#ab63fa",
           "#FFA15A",
           "#19d3f3",
           "#FF6692",
           "#B6E880",
           "#FF97FF",
           "#FECB52"
          ],
          "font": {
           "color": "#2a3f5f"
          },
          "geo": {
           "bgcolor": "white",
           "lakecolor": "white",
           "landcolor": "#E5ECF6",
           "showlakes": true,
           "showland": true,
           "subunitcolor": "white"
          },
          "hoverlabel": {
           "align": "left"
          },
          "hovermode": "closest",
          "mapbox": {
           "style": "light"
          },
          "paper_bgcolor": "white",
          "plot_bgcolor": "#E5ECF6",
          "polar": {
           "angularaxis": {
            "gridcolor": "white",
            "linecolor": "white",
            "ticks": ""
           },
           "bgcolor": "#E5ECF6",
           "radialaxis": {
            "gridcolor": "white",
            "linecolor": "white",
            "ticks": ""
           }
          },
          "scene": {
           "xaxis": {
            "backgroundcolor": "#E5ECF6",
            "gridcolor": "white",
            "gridwidth": 2,
            "linecolor": "white",
            "showbackground": true,
            "ticks": "",
            "zerolinecolor": "white"
           },
           "yaxis": {
            "backgroundcolor": "#E5ECF6",
            "gridcolor": "white",
            "gridwidth": 2,
            "linecolor": "white",
            "showbackground": true,
            "ticks": "",
            "zerolinecolor": "white"
           },
           "zaxis": {
            "backgroundcolor": "#E5ECF6",
            "gridcolor": "white",
            "gridwidth": 2,
            "linecolor": "white",
            "showbackground": true,
            "ticks": "",
            "zerolinecolor": "white"
           }
          },
          "shapedefaults": {
           "line": {
            "color": "#2a3f5f"
           }
          },
          "ternary": {
           "aaxis": {
            "gridcolor": "white",
            "linecolor": "white",
            "ticks": ""
           },
           "baxis": {
            "gridcolor": "white",
            "linecolor": "white",
            "ticks": ""
           },
           "bgcolor": "#E5ECF6",
           "caxis": {
            "gridcolor": "white",
            "linecolor": "white",
            "ticks": ""
           }
          },
          "title": {
           "x": 0.05
          },
          "xaxis": {
           "automargin": true,
           "gridcolor": "white",
           "linecolor": "white",
           "ticks": "",
           "title": {
            "standoff": 15
           },
           "zerolinecolor": "white",
           "zerolinewidth": 2
          },
          "yaxis": {
           "automargin": true,
           "gridcolor": "white",
           "linecolor": "white",
           "ticks": "",
           "title": {
            "standoff": 15
           },
           "zerolinecolor": "white",
           "zerolinewidth": 2
          }
         }
        }
       }
      }
     },
     "metadata": {},
     "output_type": "display_data"
    }
   ],
   "source": [
    "px.scatter_3d(filtered_df_shirt, x='État', y='Niveau de prix', z='Prix', color='Segment de marché', category_orders=category_orders)"
   ]
  },
  {
   "cell_type": "code",
   "execution_count": 99,
   "metadata": {},
   "outputs": [
    {
     "data": {
      "application/vnd.plotly.v1+json": {
       "config": {
        "plotlyServerURL": "https://plot.ly"
       },
       "data": [
        {
         "alignmentgroup": "True",
         "hovertemplate": "Prix=%{x}<br>Niveau de prix=%{y}<extra></extra>",
         "legendgroup": "",
         "marker": {
          "color": "#636efa"
         },
         "name": "",
         "notched": false,
         "offsetgroup": "",
         "orientation": "h",
         "showlegend": false,
         "type": "box",
         "x": [
          5,
          28,
          45,
          18,
          17,
          24.9,
          25,
          45,
          5,
          11.5,
          130,
          30,
          10,
          30,
          7,
          20,
          20,
          80,
          10,
          130,
          25,
          3,
          149,
          230,
          10,
          4,
          65,
          140,
          3,
          170,
          13,
          3,
          43,
          28,
          28,
          28,
          28,
          28,
          35,
          28,
          30,
          3,
          28,
          7.5,
          12,
          15,
          28,
          28,
          25,
          25,
          10,
          28,
          29,
          2,
          24.99,
          35,
          28,
          29.99,
          28,
          28,
          28,
          28,
          28,
          8,
          5,
          3.99,
          3.99,
          28,
          34.5,
          39,
          1,
          15,
          25,
          19.99,
          12,
          10,
          18,
          12,
          35,
          27,
          22,
          29.9,
          25,
          30,
          15,
          20,
          2,
          2,
          2,
          24,
          10,
          3.5,
          16,
          28,
          16,
          8.5,
          20,
          13,
          29.99,
          13,
          35,
          13,
          18,
          9,
          20,
          8,
          20,
          15,
          32.5,
          45,
          19.99,
          8,
          40,
          38,
          10,
          2,
          22,
          12,
          12,
          13,
          20,
          35,
          32.5,
          5,
          1,
          4,
          30,
          30,
          35,
          15,
          10,
          13,
          30,
          110,
          10,
          75,
          5,
          5,
          15,
          2,
          2,
          15,
          4,
          4,
          2,
          4,
          3,
          10,
          2,
          5,
          3,
          3,
          5,
          4,
          5,
          2,
          5,
          3,
          3,
          3,
          2,
          3,
          5,
          1,
          1,
          3.5,
          2,
          3.5,
          2,
          6.5,
          15,
          3,
          2,
          4.5,
          8,
          10,
          5,
          1,
          2,
          8,
          3,
          7,
          3.5,
          4.5,
          3,
          5,
          5,
          8,
          2,
          8,
          8,
          7.5,
          16,
          3,
          2,
          1,
          3,
          5,
          9,
          7,
          9,
          5,
          9,
          30,
          15,
          2,
          2,
          4,
          2.5,
          4,
          4,
          3,
          4.99,
          5,
          7,
          12,
          11,
          5,
          16,
          8,
          7,
          10,
          7,
          5,
          5,
          5,
          6,
          5,
          5,
          4,
          5,
          4,
          3,
          4,
          5,
          3.5,
          5,
          10,
          5,
          10,
          4,
          5,
          5,
          4,
          6,
          10,
          4,
          7,
          5,
          3,
          3,
          6,
          4,
          9,
          8.5,
          1,
          5,
          4,
          6.5,
          7,
          5,
          10,
          8,
          2,
          15,
          5,
          10,
          5,
          3.5,
          2.5,
          2.5,
          2,
          10,
          3,
          5.99,
          5,
          4,
          5,
          4,
          6,
          5,
          2.5,
          6,
          3,
          8,
          8,
          7,
          5,
          8,
          6.5,
          20,
          1,
          39.99,
          1,
          3,
          5,
          10,
          6,
          60,
          25,
          6,
          6,
          19,
          15,
          5,
          5,
          3.99,
          3.49,
          6,
          47.5,
          1,
          9,
          4,
          9,
          4,
          9,
          8,
          2.5,
          10,
          5,
          2,
          8,
          7,
          12,
          9,
          4,
          3.5,
          8,
          5,
          2.5,
          5,
          8,
          3,
          5,
          2,
          4,
          3,
          5,
          3,
          3,
          9,
          2,
          3,
          3,
          2,
          4,
          25,
          35,
          45,
          4,
          55,
          50,
          55,
          15,
          10,
          20,
          17,
          24,
          55,
          45,
          55,
          55,
          18,
          45,
          18,
          60,
          30,
          35,
          40,
          10,
          25,
          95,
          8,
          12,
          20,
          30,
          20,
          30,
          60,
          40,
          20,
          12,
          15,
          25,
          15,
          20,
          12,
          15,
          15,
          20,
          38,
          18,
          40,
          15,
          15,
          20,
          38,
          18,
          40,
          15,
          30,
          20,
          13,
          25,
          25,
          15,
          25,
          6,
          30,
          5,
          5,
          5,
          5,
          5,
          10,
          2,
          33,
          10,
          59,
          5,
          33,
          5,
          55,
          9,
          10,
          5,
          5,
          12,
          10,
          2,
          15,
          5,
          12.5,
          10,
          4,
          4,
          15,
          8,
          9,
          17,
          15,
          15,
          17,
          15,
          10,
          15,
          5,
          5,
          7.5,
          15,
          11,
          10,
          17,
          15,
          7,
          4,
          2,
          4,
          10,
          18,
          15,
          8,
          8,
          1,
          4,
          13,
          6,
          20,
          28,
          20,
          12,
          12,
          12,
          7,
          7,
          10,
          10,
          10,
          6,
          7,
          6,
          20,
          15,
          5,
          20,
          20,
          35,
          2,
          5,
          30,
          10,
          4,
          25,
          7,
          20,
          12,
          57,
          26,
          29,
          55,
          68,
          44,
          200,
          92.94,
          30,
          26,
          35,
          348.53,
          240,
          220.33,
          214.12,
          79,
          120,
          24,
          57,
          120,
          47,
          32,
          230,
          160,
          45,
          200,
          59,
          30,
          232.57,
          27,
          25,
          25,
          115,
          20,
          20,
          59,
          36,
          55,
          22,
          44,
          35,
          20,
          35,
          240,
          16,
          290,
          20,
          35,
          240,
          16,
          290,
          25,
          25,
          17,
          24,
          17,
          215,
          37,
          28,
          154,
          99,
          264,
          135,
          130,
          170,
          71,
          67,
          135,
          118,
          125,
          42,
          180,
          125,
          115,
          199,
          25,
          90,
          200,
          96.91,
          90,
          96.91,
          90,
          99,
          67.19,
          100,
          234,
          47,
          360,
          20,
          160,
          350,
          40,
          258.41,
          83.98,
          45,
          122,
          150,
          148.59,
          300,
          110,
          110,
          96.91,
          240,
          63,
          96,
          270,
          240,
          199,
          72,
          72,
          77,
          65,
          153,
          72,
          28,
          133.51,
          170,
          91.74,
          50,
          90,
          72,
          20,
          231.28,
          155.05,
          116.29,
          60,
          72,
          20,
          60,
          90,
          72,
          20,
          231.28,
          155.05,
          116.29,
          60,
          72,
          20,
          60,
          236,
          90.44,
          99,
          250,
          321.72,
          108,
          28,
          45,
          90,
          170,
          130,
          195,
          20,
          180.89,
          45,
          30,
          49,
          180.89,
          210,
          50.56,
          129.21,
          115,
          70,
          45,
          88,
          380
         ],
         "x0": " ",
         "xaxis": "x",
         "y": [
          "Moyen",
          "Moyen",
          "Haut",
          "Haut",
          "Moyen-Haut",
          "Haut",
          "Moyen-Haut",
          "Haut",
          "Discount",
          "Moyen",
          "Luxe",
          "Haut",
          "Moyen",
          "Haut",
          "Bas",
          "Moyen",
          "Moyen",
          "Haut",
          "Moyen-Haut",
          "Luxe",
          "Moyen-Haut",
          "Bas",
          "Luxe",
          "Luxe",
          "Moyen-Haut",
          "Bas",
          "Luxe",
          "Luxe",
          "Bas",
          "Luxe",
          "Moyen-Haut",
          "Bas",
          "Moyen-Haut",
          "Haut",
          "Haut",
          "Moyen",
          "Haut",
          "Haut",
          "Haut",
          "Haut",
          "Moyen-Haut",
          "Moyen-Haut",
          "Haut",
          "Moyen-Haut",
          "Moyen-Haut",
          "Haut",
          "Haut",
          "Moyen-Haut",
          "Moyen-Haut",
          "Moyen-Haut",
          "Moyen-Haut",
          "Haut",
          "Haut",
          "Moyen",
          "Moyen-Haut",
          "Moyen-Haut",
          "Haut",
          "Moyen-Haut",
          "Moyen-Haut",
          "Haut",
          "Haut",
          "Moyen-Haut",
          "Moyen-Haut",
          "Moyen",
          "Moyen-Haut",
          "Bas",
          "Bas",
          "Haut",
          "Moyen-Haut",
          "Haut",
          "Bas",
          "Haut",
          "Moyen-Haut",
          "Moyen-Haut",
          "Moyen-Haut",
          "Moyen-Haut",
          "Moyen-Haut",
          "Moyen-Haut",
          "Moyen-Haut",
          "Haut",
          "Moyen-Haut",
          "Moyen-Haut",
          "Moyen-Haut",
          "Haut",
          "Moyen",
          "Moyen-Haut",
          "Moyen",
          "Moyen-Haut",
          "Bas",
          "Haut",
          "Moyen-Haut",
          "Bas",
          "Bas",
          "Haut",
          "Moyen-Haut",
          "Moyen",
          "Luxe",
          "Moyen-Haut",
          "Moyen-Haut",
          "Moyen-Haut",
          "Haut",
          "Moyen-Haut",
          "Moyen-Haut",
          "Moyen-Haut",
          "Moyen-Haut",
          "Moyen-Haut",
          "Moyen-Haut",
          "Moyen-Haut",
          "Moyen-Haut",
          "Haut",
          "Moyen-Bas",
          "Moyen-Haut",
          "Haut",
          "Moyen-Haut",
          "Moyen-Haut",
          "Bas",
          "Moyen",
          "Moyen-Haut",
          "Moyen-Bas",
          "Moyen",
          "Luxe",
          "Moyen-Haut",
          "Moyen-Haut",
          "Bas",
          "Bas",
          "Bas",
          "Luxe",
          "Haut",
          "Haut",
          "Moyen-Haut",
          "Moyen-Haut",
          "Moyen-Haut",
          "Haut",
          "Luxe",
          "Moyen-Haut",
          "Luxe",
          "Discount",
          "Discount",
          "Discount",
          "Discount",
          "Discount",
          "Discount",
          "Discount",
          "Discount",
          "Discount",
          "Discount",
          "Discount",
          "Discount",
          "Discount",
          "Discount",
          "Discount",
          "Discount",
          "Discount",
          "Discount",
          "Discount",
          "Discount",
          "Discount",
          "Discount",
          "Discount",
          "Discount",
          "Discount",
          "Discount",
          "Discount",
          "Discount",
          "Discount",
          "Discount",
          "Discount",
          "Discount",
          "Discount",
          "Discount",
          "Discount",
          "Discount",
          "Discount",
          "Discount",
          "Discount",
          "Discount",
          "Discount",
          "Discount",
          "Discount",
          "Discount",
          "Discount",
          "Discount",
          "Bas",
          "Bas",
          "Discount",
          "Discount",
          "Discount",
          "Discount",
          "Discount",
          "Discount",
          "Discount",
          "Discount",
          "Moyen-Haut",
          "Bas",
          "Moyen",
          "Discount",
          "Discount",
          "Discount",
          "Discount",
          "Discount",
          "Discount",
          "Discount",
          "Discount",
          "Haut",
          "Moyen-Haut",
          "Discount",
          "Discount",
          "Discount",
          "Discount",
          "Discount",
          "Discount",
          "Discount",
          "Discount",
          "Discount",
          "Discount",
          "Discount",
          "Discount",
          "Discount",
          "Discount",
          "Discount",
          "Discount",
          "Discount",
          "Discount",
          "Discount",
          "Discount",
          "Discount",
          "Discount",
          "Discount",
          "Discount",
          "Discount",
          "Discount",
          "Discount",
          "Discount",
          "Discount",
          "Discount",
          "Discount",
          "Discount",
          "Discount",
          "Discount",
          "Discount",
          "Discount",
          "Discount",
          "Discount",
          "Discount",
          "Discount",
          "Discount",
          "Discount",
          "Discount",
          "Discount",
          "Discount",
          "Discount",
          "Discount",
          "Discount",
          "Discount",
          "Discount",
          "Discount",
          "Discount",
          "Discount",
          "Discount",
          "Discount",
          "Discount",
          "Discount",
          "Discount",
          "Moyen",
          "Moyen",
          "Moyen",
          "Moyen",
          "Moyen",
          "Moyen",
          "Moyen",
          "Moyen",
          "Moyen",
          "Moyen",
          "Moyen",
          "Moyen",
          "Moyen",
          "Moyen",
          "Moyen",
          "Moyen",
          "Moyen",
          "Moyen",
          "Moyen",
          "Moyen",
          "Moyen",
          "Moyen",
          "Moyen",
          "Moyen",
          "Moyen",
          "Moyen",
          "Moyen",
          "Moyen",
          "Moyen",
          "Moyen",
          "Moyen",
          "Moyen",
          "Moyen",
          "Moyen",
          "Moyen",
          "Moyen",
          "Moyen",
          "Moyen",
          "Moyen",
          "Moyen",
          "Moyen",
          "Moyen",
          "Moyen",
          "Moyen",
          "Moyen",
          "Moyen",
          "Moyen",
          "Moyen",
          "Moyen",
          "Moyen",
          "Moyen",
          "Moyen",
          "Moyen",
          "Moyen",
          "Moyen",
          "Moyen",
          "Moyen",
          "Moyen-Bas",
          "Moyen-Bas",
          "Moyen-Bas",
          "Moyen-Bas",
          "Moyen-Bas",
          "Moyen-Bas",
          "Moyen-Bas",
          "Moyen-Bas",
          "Moyen-Bas",
          "Moyen-Bas",
          "Moyen-Bas",
          "Moyen-Bas",
          "Moyen-Bas",
          "Moyen-Bas",
          "Moyen-Bas",
          "Moyen-Bas",
          "Moyen-Bas",
          "Moyen-Bas",
          "Moyen-Bas",
          "Moyen-Bas",
          "Moyen-Bas",
          "Moyen-Bas",
          "Moyen-Bas",
          "Moyen-Bas",
          "Moyen-Bas",
          "Moyen-Bas",
          "Haut",
          "Haut",
          "Haut",
          "Haut",
          "Haut",
          "Haut",
          "Haut",
          "Haut",
          "Haut",
          "Haut",
          "Haut",
          "Haut",
          "Haut",
          "Haut",
          "Haut",
          "Haut",
          "Haut",
          "Haut",
          "Haut",
          "Haut",
          "Haut",
          "Haut",
          "Haut",
          "Haut",
          "Haut",
          "Haut",
          "Haut",
          "Haut",
          "Haut",
          "Haut",
          "Haut",
          "Haut",
          "Haut",
          "Haut",
          "Haut",
          "Haut",
          "Haut",
          "Haut",
          "Haut",
          "Haut",
          "Haut",
          "Haut",
          "Haut",
          "Haut",
          "Haut",
          "Haut",
          "Haut",
          "Haut",
          "Haut",
          "Haut",
          "Haut",
          "Haut",
          "Haut",
          "Haut",
          "Haut",
          "Haut",
          "Haut",
          "Haut",
          "Haut",
          "Haut",
          "Haut",
          "Haut",
          "Haut",
          "Haut",
          "Haut",
          "Haut",
          "Haut",
          "Haut",
          "Haut",
          "Haut",
          "Haut",
          "Haut",
          "Haut",
          "Haut",
          "Haut",
          "Haut",
          "Haut",
          "Haut",
          "Haut",
          "Haut",
          "Haut",
          "Haut",
          "Haut",
          "Haut",
          "Haut",
          "Moyen-Haut",
          "Moyen-Haut",
          "Moyen-Haut",
          "Moyen-Haut",
          "Moyen-Haut",
          "Moyen-Haut",
          "Moyen-Haut",
          "Moyen-Haut",
          "Moyen-Haut",
          "Moyen-Haut",
          "Moyen-Haut",
          "Moyen-Haut",
          "Moyen-Haut",
          "Moyen-Haut",
          "Moyen-Haut",
          "Moyen-Haut",
          "Moyen-Haut",
          "Moyen-Haut",
          "Moyen-Haut",
          "Moyen-Haut",
          "Moyen-Haut",
          "Moyen-Haut",
          "Moyen-Haut",
          "Moyen-Haut",
          "Moyen-Haut",
          "Moyen-Haut",
          "Moyen-Haut",
          "Moyen-Haut",
          "Moyen-Haut",
          "Moyen-Haut",
          "Moyen-Haut",
          "Moyen-Haut",
          "Moyen-Haut",
          "Moyen-Haut",
          "Moyen-Haut",
          "Moyen-Haut",
          "Moyen-Haut",
          "Moyen-Haut",
          "Moyen-Haut",
          "Moyen-Haut",
          "Moyen-Haut",
          "Moyen-Haut",
          "Moyen-Haut",
          "Moyen-Haut",
          "Moyen-Haut",
          "Moyen-Haut",
          "Moyen-Haut",
          "Moyen-Haut",
          "Moyen-Haut",
          "Moyen-Haut",
          "Moyen-Haut",
          "Moyen-Haut",
          "Moyen-Haut",
          "Moyen-Haut",
          "Moyen-Haut",
          "Moyen-Haut",
          "Moyen-Haut",
          "Moyen-Haut",
          "Moyen-Haut",
          "Moyen-Haut",
          "Moyen-Haut",
          "Moyen-Haut",
          "Moyen-Haut",
          "Moyen-Haut",
          "Moyen-Haut",
          "Luxe",
          "Luxe",
          "Haut",
          "Luxe",
          "Luxe",
          "Luxe",
          "Luxe",
          "Luxe",
          "Luxe",
          "Moyen-Haut",
          "Haut",
          "Luxe",
          "Luxe",
          "Luxe",
          "Luxe",
          "Luxe",
          "Luxe",
          "Luxe",
          "Haut",
          "Haut",
          "Moyen-Haut",
          "Moyen-Haut",
          "Luxe",
          "Luxe",
          "Luxe",
          "Luxe",
          "Haut",
          "Haut",
          "Luxe",
          "Haut",
          "Moyen-Haut",
          "Moyen-Haut",
          "Luxe",
          "Moyen-Haut",
          "Moyen-Haut",
          "Luxe",
          "Haut",
          "Luxe",
          "Moyen-Haut",
          "Luxe",
          "Moyen-Haut",
          "Moyen",
          "Haut",
          "Luxe",
          "Haut",
          "Luxe",
          "Moyen",
          "Haut",
          "Luxe",
          "Haut",
          "Luxe",
          "Haut",
          "Moyen",
          "Moyen-Bas",
          "Haut",
          "Moyen-Bas",
          "Luxe",
          "Moyen-Haut",
          "Moyen-Haut",
          "Luxe",
          "Luxe",
          "Luxe",
          "Luxe",
          "Luxe",
          "Luxe",
          "Luxe",
          "Luxe",
          "Luxe",
          "Luxe",
          "Luxe",
          "Luxe",
          "Luxe",
          "Luxe",
          "Luxe",
          "Luxe",
          "Moyen-Haut",
          "Luxe",
          "Luxe",
          "Luxe",
          "Luxe",
          "Luxe",
          "Luxe",
          "Luxe",
          "Luxe",
          "Luxe",
          "Luxe",
          "Luxe",
          "Luxe",
          "Moyen-Haut",
          "Luxe",
          "Luxe",
          "Luxe",
          "Luxe",
          "Luxe",
          "Luxe",
          "Luxe",
          "Luxe",
          "Luxe",
          "Luxe",
          "Luxe",
          "Luxe",
          "Luxe",
          "Luxe",
          "Luxe",
          "Luxe",
          "Luxe",
          "Luxe",
          "Luxe",
          "Luxe",
          "Luxe",
          "Luxe",
          "Luxe",
          "Luxe",
          "Luxe",
          "Moyen-Haut",
          "Luxe",
          "Luxe",
          "Luxe",
          "Haut",
          "Luxe",
          "Luxe",
          "Moyen-Haut",
          "Luxe",
          "Luxe",
          "Luxe",
          "Luxe",
          "Luxe",
          "Moyen-Haut",
          "Luxe",
          "Luxe",
          "Luxe",
          "Moyen-Haut",
          "Luxe",
          "Luxe",
          "Luxe",
          "Luxe",
          "Luxe",
          "Moyen-Haut",
          "Luxe",
          "Luxe",
          "Luxe",
          "Premium Luxury",
          "Luxe",
          "Luxe",
          "Luxe",
          "Haut",
          "Luxe",
          "Luxe",
          "Luxe",
          "Luxe",
          "Luxe",
          "Moyen-Haut",
          "Luxe",
          "Luxe",
          "Haut",
          "Luxe",
          "Luxe",
          "Luxe",
          "Luxe",
          "Luxe",
          "Luxe",
          "Luxe",
          "Luxe",
          "Luxe",
          "Luxe"
         ],
         "y0": " ",
         "yaxis": "y"
        }
       ],
       "layout": {
        "boxmode": "group",
        "legend": {
         "tracegroupgap": 0
        },
        "margin": {
         "t": 60
        },
        "template": {
         "data": {
          "bar": [
           {
            "error_x": {
             "color": "#2a3f5f"
            },
            "error_y": {
             "color": "#2a3f5f"
            },
            "marker": {
             "line": {
              "color": "#E5ECF6",
              "width": 0.5
             },
             "pattern": {
              "fillmode": "overlay",
              "size": 10,
              "solidity": 0.2
             }
            },
            "type": "bar"
           }
          ],
          "barpolar": [
           {
            "marker": {
             "line": {
              "color": "#E5ECF6",
              "width": 0.5
             },
             "pattern": {
              "fillmode": "overlay",
              "size": 10,
              "solidity": 0.2
             }
            },
            "type": "barpolar"
           }
          ],
          "carpet": [
           {
            "aaxis": {
             "endlinecolor": "#2a3f5f",
             "gridcolor": "white",
             "linecolor": "white",
             "minorgridcolor": "white",
             "startlinecolor": "#2a3f5f"
            },
            "baxis": {
             "endlinecolor": "#2a3f5f",
             "gridcolor": "white",
             "linecolor": "white",
             "minorgridcolor": "white",
             "startlinecolor": "#2a3f5f"
            },
            "type": "carpet"
           }
          ],
          "choropleth": [
           {
            "colorbar": {
             "outlinewidth": 0,
             "ticks": ""
            },
            "type": "choropleth"
           }
          ],
          "contour": [
           {
            "colorbar": {
             "outlinewidth": 0,
             "ticks": ""
            },
            "colorscale": [
             [
              0,
              "#0d0887"
             ],
             [
              0.1111111111111111,
              "#46039f"
             ],
             [
              0.2222222222222222,
              "#7201a8"
             ],
             [
              0.3333333333333333,
              "#9c179e"
             ],
             [
              0.4444444444444444,
              "#bd3786"
             ],
             [
              0.5555555555555556,
              "#d8576b"
             ],
             [
              0.6666666666666666,
              "#ed7953"
             ],
             [
              0.7777777777777778,
              "#fb9f3a"
             ],
             [
              0.8888888888888888,
              "#fdca26"
             ],
             [
              1,
              "#f0f921"
             ]
            ],
            "type": "contour"
           }
          ],
          "contourcarpet": [
           {
            "colorbar": {
             "outlinewidth": 0,
             "ticks": ""
            },
            "type": "contourcarpet"
           }
          ],
          "heatmap": [
           {
            "colorbar": {
             "outlinewidth": 0,
             "ticks": ""
            },
            "colorscale": [
             [
              0,
              "#0d0887"
             ],
             [
              0.1111111111111111,
              "#46039f"
             ],
             [
              0.2222222222222222,
              "#7201a8"
             ],
             [
              0.3333333333333333,
              "#9c179e"
             ],
             [
              0.4444444444444444,
              "#bd3786"
             ],
             [
              0.5555555555555556,
              "#d8576b"
             ],
             [
              0.6666666666666666,
              "#ed7953"
             ],
             [
              0.7777777777777778,
              "#fb9f3a"
             ],
             [
              0.8888888888888888,
              "#fdca26"
             ],
             [
              1,
              "#f0f921"
             ]
            ],
            "type": "heatmap"
           }
          ],
          "heatmapgl": [
           {
            "colorbar": {
             "outlinewidth": 0,
             "ticks": ""
            },
            "colorscale": [
             [
              0,
              "#0d0887"
             ],
             [
              0.1111111111111111,
              "#46039f"
             ],
             [
              0.2222222222222222,
              "#7201a8"
             ],
             [
              0.3333333333333333,
              "#9c179e"
             ],
             [
              0.4444444444444444,
              "#bd3786"
             ],
             [
              0.5555555555555556,
              "#d8576b"
             ],
             [
              0.6666666666666666,
              "#ed7953"
             ],
             [
              0.7777777777777778,
              "#fb9f3a"
             ],
             [
              0.8888888888888888,
              "#fdca26"
             ],
             [
              1,
              "#f0f921"
             ]
            ],
            "type": "heatmapgl"
           }
          ],
          "histogram": [
           {
            "marker": {
             "pattern": {
              "fillmode": "overlay",
              "size": 10,
              "solidity": 0.2
             }
            },
            "type": "histogram"
           }
          ],
          "histogram2d": [
           {
            "colorbar": {
             "outlinewidth": 0,
             "ticks": ""
            },
            "colorscale": [
             [
              0,
              "#0d0887"
             ],
             [
              0.1111111111111111,
              "#46039f"
             ],
             [
              0.2222222222222222,
              "#7201a8"
             ],
             [
              0.3333333333333333,
              "#9c179e"
             ],
             [
              0.4444444444444444,
              "#bd3786"
             ],
             [
              0.5555555555555556,
              "#d8576b"
             ],
             [
              0.6666666666666666,
              "#ed7953"
             ],
             [
              0.7777777777777778,
              "#fb9f3a"
             ],
             [
              0.8888888888888888,
              "#fdca26"
             ],
             [
              1,
              "#f0f921"
             ]
            ],
            "type": "histogram2d"
           }
          ],
          "histogram2dcontour": [
           {
            "colorbar": {
             "outlinewidth": 0,
             "ticks": ""
            },
            "colorscale": [
             [
              0,
              "#0d0887"
             ],
             [
              0.1111111111111111,
              "#46039f"
             ],
             [
              0.2222222222222222,
              "#7201a8"
             ],
             [
              0.3333333333333333,
              "#9c179e"
             ],
             [
              0.4444444444444444,
              "#bd3786"
             ],
             [
              0.5555555555555556,
              "#d8576b"
             ],
             [
              0.6666666666666666,
              "#ed7953"
             ],
             [
              0.7777777777777778,
              "#fb9f3a"
             ],
             [
              0.8888888888888888,
              "#fdca26"
             ],
             [
              1,
              "#f0f921"
             ]
            ],
            "type": "histogram2dcontour"
           }
          ],
          "mesh3d": [
           {
            "colorbar": {
             "outlinewidth": 0,
             "ticks": ""
            },
            "type": "mesh3d"
           }
          ],
          "parcoords": [
           {
            "line": {
             "colorbar": {
              "outlinewidth": 0,
              "ticks": ""
             }
            },
            "type": "parcoords"
           }
          ],
          "pie": [
           {
            "automargin": true,
            "type": "pie"
           }
          ],
          "scatter": [
           {
            "fillpattern": {
             "fillmode": "overlay",
             "size": 10,
             "solidity": 0.2
            },
            "type": "scatter"
           }
          ],
          "scatter3d": [
           {
            "line": {
             "colorbar": {
              "outlinewidth": 0,
              "ticks": ""
             }
            },
            "marker": {
             "colorbar": {
              "outlinewidth": 0,
              "ticks": ""
             }
            },
            "type": "scatter3d"
           }
          ],
          "scattercarpet": [
           {
            "marker": {
             "colorbar": {
              "outlinewidth": 0,
              "ticks": ""
             }
            },
            "type": "scattercarpet"
           }
          ],
          "scattergeo": [
           {
            "marker": {
             "colorbar": {
              "outlinewidth": 0,
              "ticks": ""
             }
            },
            "type": "scattergeo"
           }
          ],
          "scattergl": [
           {
            "marker": {
             "colorbar": {
              "outlinewidth": 0,
              "ticks": ""
             }
            },
            "type": "scattergl"
           }
          ],
          "scattermapbox": [
           {
            "marker": {
             "colorbar": {
              "outlinewidth": 0,
              "ticks": ""
             }
            },
            "type": "scattermapbox"
           }
          ],
          "scatterpolar": [
           {
            "marker": {
             "colorbar": {
              "outlinewidth": 0,
              "ticks": ""
             }
            },
            "type": "scatterpolar"
           }
          ],
          "scatterpolargl": [
           {
            "marker": {
             "colorbar": {
              "outlinewidth": 0,
              "ticks": ""
             }
            },
            "type": "scatterpolargl"
           }
          ],
          "scatterternary": [
           {
            "marker": {
             "colorbar": {
              "outlinewidth": 0,
              "ticks": ""
             }
            },
            "type": "scatterternary"
           }
          ],
          "surface": [
           {
            "colorbar": {
             "outlinewidth": 0,
             "ticks": ""
            },
            "colorscale": [
             [
              0,
              "#0d0887"
             ],
             [
              0.1111111111111111,
              "#46039f"
             ],
             [
              0.2222222222222222,
              "#7201a8"
             ],
             [
              0.3333333333333333,
              "#9c179e"
             ],
             [
              0.4444444444444444,
              "#bd3786"
             ],
             [
              0.5555555555555556,
              "#d8576b"
             ],
             [
              0.6666666666666666,
              "#ed7953"
             ],
             [
              0.7777777777777778,
              "#fb9f3a"
             ],
             [
              0.8888888888888888,
              "#fdca26"
             ],
             [
              1,
              "#f0f921"
             ]
            ],
            "type": "surface"
           }
          ],
          "table": [
           {
            "cells": {
             "fill": {
              "color": "#EBF0F8"
             },
             "line": {
              "color": "white"
             }
            },
            "header": {
             "fill": {
              "color": "#C8D4E3"
             },
             "line": {
              "color": "white"
             }
            },
            "type": "table"
           }
          ]
         },
         "layout": {
          "annotationdefaults": {
           "arrowcolor": "#2a3f5f",
           "arrowhead": 0,
           "arrowwidth": 1
          },
          "autotypenumbers": "strict",
          "coloraxis": {
           "colorbar": {
            "outlinewidth": 0,
            "ticks": ""
           }
          },
          "colorscale": {
           "diverging": [
            [
             0,
             "#8e0152"
            ],
            [
             0.1,
             "#c51b7d"
            ],
            [
             0.2,
             "#de77ae"
            ],
            [
             0.3,
             "#f1b6da"
            ],
            [
             0.4,
             "#fde0ef"
            ],
            [
             0.5,
             "#f7f7f7"
            ],
            [
             0.6,
             "#e6f5d0"
            ],
            [
             0.7,
             "#b8e186"
            ],
            [
             0.8,
             "#7fbc41"
            ],
            [
             0.9,
             "#4d9221"
            ],
            [
             1,
             "#276419"
            ]
           ],
           "sequential": [
            [
             0,
             "#0d0887"
            ],
            [
             0.1111111111111111,
             "#46039f"
            ],
            [
             0.2222222222222222,
             "#7201a8"
            ],
            [
             0.3333333333333333,
             "#9c179e"
            ],
            [
             0.4444444444444444,
             "#bd3786"
            ],
            [
             0.5555555555555556,
             "#d8576b"
            ],
            [
             0.6666666666666666,
             "#ed7953"
            ],
            [
             0.7777777777777778,
             "#fb9f3a"
            ],
            [
             0.8888888888888888,
             "#fdca26"
            ],
            [
             1,
             "#f0f921"
            ]
           ],
           "sequentialminus": [
            [
             0,
             "#0d0887"
            ],
            [
             0.1111111111111111,
             "#46039f"
            ],
            [
             0.2222222222222222,
             "#7201a8"
            ],
            [
             0.3333333333333333,
             "#9c179e"
            ],
            [
             0.4444444444444444,
             "#bd3786"
            ],
            [
             0.5555555555555556,
             "#d8576b"
            ],
            [
             0.6666666666666666,
             "#ed7953"
            ],
            [
             0.7777777777777778,
             "#fb9f3a"
            ],
            [
             0.8888888888888888,
             "#fdca26"
            ],
            [
             1,
             "#f0f921"
            ]
           ]
          },
          "colorway": [
           "#636efa",
           "#EF553B",
           "#00cc96",
           "#ab63fa",
           "#FFA15A",
           "#19d3f3",
           "#FF6692",
           "#B6E880",
           "#FF97FF",
           "#FECB52"
          ],
          "font": {
           "color": "#2a3f5f"
          },
          "geo": {
           "bgcolor": "white",
           "lakecolor": "white",
           "landcolor": "#E5ECF6",
           "showlakes": true,
           "showland": true,
           "subunitcolor": "white"
          },
          "hoverlabel": {
           "align": "left"
          },
          "hovermode": "closest",
          "mapbox": {
           "style": "light"
          },
          "paper_bgcolor": "white",
          "plot_bgcolor": "#E5ECF6",
          "polar": {
           "angularaxis": {
            "gridcolor": "white",
            "linecolor": "white",
            "ticks": ""
           },
           "bgcolor": "#E5ECF6",
           "radialaxis": {
            "gridcolor": "white",
            "linecolor": "white",
            "ticks": ""
           }
          },
          "scene": {
           "xaxis": {
            "backgroundcolor": "#E5ECF6",
            "gridcolor": "white",
            "gridwidth": 2,
            "linecolor": "white",
            "showbackground": true,
            "ticks": "",
            "zerolinecolor": "white"
           },
           "yaxis": {
            "backgroundcolor": "#E5ECF6",
            "gridcolor": "white",
            "gridwidth": 2,
            "linecolor": "white",
            "showbackground": true,
            "ticks": "",
            "zerolinecolor": "white"
           },
           "zaxis": {
            "backgroundcolor": "#E5ECF6",
            "gridcolor": "white",
            "gridwidth": 2,
            "linecolor": "white",
            "showbackground": true,
            "ticks": "",
            "zerolinecolor": "white"
           }
          },
          "shapedefaults": {
           "line": {
            "color": "#2a3f5f"
           }
          },
          "ternary": {
           "aaxis": {
            "gridcolor": "white",
            "linecolor": "white",
            "ticks": ""
           },
           "baxis": {
            "gridcolor": "white",
            "linecolor": "white",
            "ticks": ""
           },
           "bgcolor": "#E5ECF6",
           "caxis": {
            "gridcolor": "white",
            "linecolor": "white",
            "ticks": ""
           }
          },
          "title": {
           "x": 0.05
          },
          "xaxis": {
           "automargin": true,
           "gridcolor": "white",
           "linecolor": "white",
           "ticks": "",
           "title": {
            "standoff": 15
           },
           "zerolinecolor": "white",
           "zerolinewidth": 2
          },
          "yaxis": {
           "automargin": true,
           "gridcolor": "white",
           "linecolor": "white",
           "ticks": "",
           "title": {
            "standoff": 15
           },
           "zerolinecolor": "white",
           "zerolinewidth": 2
          }
         }
        },
        "xaxis": {
         "anchor": "y",
         "domain": [
          0,
          1
         ],
         "title": {
          "text": "Prix"
         }
        },
        "yaxis": {
         "anchor": "x",
         "categoryarray": [
          "Luxe",
          "Premium Luxury",
          "Haut",
          "Moyen-Haut",
          "Moyen",
          "Moyen-Bas",
          "Bas",
          "Discount"
         ],
         "categoryorder": "array",
         "domain": [
          0,
          1
         ],
         "title": {
          "text": "Niveau de prix"
         }
        }
       }
      }
     },
     "metadata": {},
     "output_type": "display_data"
    }
   ],
   "source": [
    "px.box(filtered_df_shirt, y='Niveau de prix', x='Prix', category_orders=category_orders)"
   ]
  },
  {
   "cell_type": "code",
   "execution_count": 100,
   "metadata": {},
   "outputs": [
    {
     "data": {
      "application/vnd.plotly.v1+json": {
       "config": {
        "plotlyServerURL": "https://plot.ly"
       },
       "data": [
        {
         "alignmentgroup": "True",
         "hovertemplate": "Segment de marché=%{x}<br>Prix=%{y}<extra></extra>",
         "legendgroup": "",
         "marker": {
          "color": "#636efa"
         },
         "name": "",
         "notched": false,
         "offsetgroup": "",
         "orientation": "v",
         "showlegend": false,
         "type": "box",
         "x": [
          "entrée de gamme / mass market",
          "entrée de gamme / mass market",
          "premium / luxe abordable",
          "premium / luxe abordable",
          "milieu de gamme",
          "premium / luxe abordable",
          "milieu de gamme",
          "premium / luxe abordable",
          "ultra fast fashion / discount",
          "entrée de gamme / mass market",
          "luxe & création",
          "premium / luxe abordable",
          "entrée de gamme / mass market",
          "premium / luxe abordable",
          "entrée de gamme / mass market",
          "milieu de gamme",
          "milieu de gamme",
          "premium / luxe abordable",
          "milieu de gamme",
          "luxe & création",
          "milieu de gamme",
          "entrée de gamme / mass market",
          "luxe & création",
          "luxe & création",
          "milieu de gamme",
          "entrée de gamme / mass market",
          "luxe & création",
          "luxe & création",
          "entrée de gamme / mass market",
          "luxe & création",
          "milieu de gamme",
          "entrée de gamme / mass market",
          "milieu de gamme",
          "premium / luxe abordable",
          "premium / luxe abordable",
          "entrée de gamme / mass market",
          "premium / luxe abordable",
          "premium / luxe abordable",
          "premium / luxe abordable",
          "premium / luxe abordable",
          "milieu de gamme",
          "milieu de gamme",
          "premium / luxe abordable",
          "milieu de gamme",
          "milieu de gamme",
          "premium / luxe abordable",
          "premium / luxe abordable",
          "milieu de gamme",
          "milieu de gamme",
          "milieu de gamme",
          "milieu de gamme",
          "premium / luxe abordable",
          "premium / luxe abordable",
          "entrée de gamme / mass market",
          "milieu de gamme",
          "milieu de gamme",
          "premium / luxe abordable",
          "milieu de gamme",
          "milieu de gamme",
          "premium / luxe abordable",
          "premium / luxe abordable",
          "milieu de gamme",
          "milieu de gamme",
          "entrée de gamme / mass market",
          "milieu de gamme",
          "entrée de gamme / mass market",
          "entrée de gamme / mass market",
          "premium / luxe abordable",
          "milieu de gamme",
          "premium / luxe abordable",
          "entrée de gamme / mass market",
          "premium / luxe abordable",
          "milieu de gamme",
          "milieu de gamme",
          "milieu de gamme",
          "milieu de gamme",
          "milieu de gamme",
          "milieu de gamme",
          "milieu de gamme",
          "premium / luxe abordable",
          "milieu de gamme",
          "milieu de gamme",
          "milieu de gamme",
          "premium / luxe abordable",
          "entrée de gamme / mass market",
          "milieu de gamme",
          "entrée de gamme / mass market",
          "milieu de gamme",
          "entrée de gamme / mass market",
          "premium / luxe abordable",
          "milieu de gamme",
          "entrée de gamme / mass market",
          "entrée de gamme / mass market",
          "premium / luxe abordable",
          "milieu de gamme",
          "entrée de gamme / mass market",
          "luxe & création",
          "milieu de gamme",
          "milieu de gamme",
          "milieu de gamme",
          "premium / luxe abordable",
          "milieu de gamme",
          "milieu de gamme",
          "milieu de gamme",
          "milieu de gamme",
          "milieu de gamme",
          "milieu de gamme",
          "milieu de gamme",
          "milieu de gamme",
          "premium / luxe abordable",
          "entrée de gamme / mass market",
          "milieu de gamme",
          "premium / luxe abordable",
          "milieu de gamme",
          "milieu de gamme",
          "entrée de gamme / mass market",
          "entrée de gamme / mass market",
          "milieu de gamme",
          "entrée de gamme / mass market",
          "entrée de gamme / mass market",
          "luxe & création",
          "milieu de gamme",
          "milieu de gamme",
          "entrée de gamme / mass market",
          "entrée de gamme / mass market",
          "entrée de gamme / mass market",
          "luxe & création",
          "premium / luxe abordable",
          "premium / luxe abordable",
          "milieu de gamme",
          "milieu de gamme",
          "milieu de gamme",
          "premium / luxe abordable",
          "luxe & création",
          "milieu de gamme",
          "luxe & création",
          "ultra fast fashion / discount",
          "ultra fast fashion / discount",
          "ultra fast fashion / discount",
          "ultra fast fashion / discount",
          "ultra fast fashion / discount",
          "ultra fast fashion / discount",
          "ultra fast fashion / discount",
          "ultra fast fashion / discount",
          "ultra fast fashion / discount",
          "ultra fast fashion / discount",
          "ultra fast fashion / discount",
          "ultra fast fashion / discount",
          "ultra fast fashion / discount",
          "ultra fast fashion / discount",
          "ultra fast fashion / discount",
          "ultra fast fashion / discount",
          "ultra fast fashion / discount",
          "ultra fast fashion / discount",
          "ultra fast fashion / discount",
          "ultra fast fashion / discount",
          "ultra fast fashion / discount",
          "ultra fast fashion / discount",
          "ultra fast fashion / discount",
          "ultra fast fashion / discount",
          "ultra fast fashion / discount",
          "ultra fast fashion / discount",
          "ultra fast fashion / discount",
          "ultra fast fashion / discount",
          "ultra fast fashion / discount",
          "ultra fast fashion / discount",
          "ultra fast fashion / discount",
          "ultra fast fashion / discount",
          "ultra fast fashion / discount",
          "ultra fast fashion / discount",
          "ultra fast fashion / discount",
          "ultra fast fashion / discount",
          "ultra fast fashion / discount",
          "ultra fast fashion / discount",
          "ultra fast fashion / discount",
          "ultra fast fashion / discount",
          "ultra fast fashion / discount",
          "ultra fast fashion / discount",
          "ultra fast fashion / discount",
          "ultra fast fashion / discount",
          "ultra fast fashion / discount",
          "ultra fast fashion / discount",
          "entrée de gamme / mass market",
          "entrée de gamme / mass market",
          "ultra fast fashion / discount",
          "ultra fast fashion / discount",
          "ultra fast fashion / discount",
          "ultra fast fashion / discount",
          "ultra fast fashion / discount",
          "ultra fast fashion / discount",
          "ultra fast fashion / discount",
          "ultra fast fashion / discount",
          "milieu de gamme",
          "entrée de gamme / mass market",
          "entrée de gamme / mass market",
          "ultra fast fashion / discount",
          "ultra fast fashion / discount",
          "ultra fast fashion / discount",
          "ultra fast fashion / discount",
          "ultra fast fashion / discount",
          "ultra fast fashion / discount",
          "ultra fast fashion / discount",
          "ultra fast fashion / discount",
          "premium / luxe abordable",
          "milieu de gamme",
          "ultra fast fashion / discount",
          "ultra fast fashion / discount",
          "ultra fast fashion / discount",
          "ultra fast fashion / discount",
          "ultra fast fashion / discount",
          "ultra fast fashion / discount",
          "ultra fast fashion / discount",
          "ultra fast fashion / discount",
          "ultra fast fashion / discount",
          "ultra fast fashion / discount",
          "ultra fast fashion / discount",
          "ultra fast fashion / discount",
          "ultra fast fashion / discount",
          "ultra fast fashion / discount",
          "ultra fast fashion / discount",
          "ultra fast fashion / discount",
          "ultra fast fashion / discount",
          "ultra fast fashion / discount",
          "ultra fast fashion / discount",
          "ultra fast fashion / discount",
          "ultra fast fashion / discount",
          "ultra fast fashion / discount",
          "ultra fast fashion / discount",
          "ultra fast fashion / discount",
          "ultra fast fashion / discount",
          "ultra fast fashion / discount",
          "ultra fast fashion / discount",
          "ultra fast fashion / discount",
          "ultra fast fashion / discount",
          "ultra fast fashion / discount",
          "ultra fast fashion / discount",
          "ultra fast fashion / discount",
          "ultra fast fashion / discount",
          "ultra fast fashion / discount",
          "ultra fast fashion / discount",
          "ultra fast fashion / discount",
          "ultra fast fashion / discount",
          "ultra fast fashion / discount",
          "ultra fast fashion / discount",
          "ultra fast fashion / discount",
          "ultra fast fashion / discount",
          "ultra fast fashion / discount",
          "ultra fast fashion / discount",
          "ultra fast fashion / discount",
          "ultra fast fashion / discount",
          "ultra fast fashion / discount",
          "ultra fast fashion / discount",
          "ultra fast fashion / discount",
          "ultra fast fashion / discount",
          "ultra fast fashion / discount",
          "ultra fast fashion / discount",
          "ultra fast fashion / discount",
          "ultra fast fashion / discount",
          "ultra fast fashion / discount",
          "ultra fast fashion / discount",
          "ultra fast fashion / discount",
          "ultra fast fashion / discount",
          "ultra fast fashion / discount",
          "entrée de gamme / mass market",
          "entrée de gamme / mass market",
          "entrée de gamme / mass market",
          "entrée de gamme / mass market",
          "entrée de gamme / mass market",
          "entrée de gamme / mass market",
          "entrée de gamme / mass market",
          "entrée de gamme / mass market",
          "entrée de gamme / mass market",
          "entrée de gamme / mass market",
          "entrée de gamme / mass market",
          "entrée de gamme / mass market",
          "entrée de gamme / mass market",
          "entrée de gamme / mass market",
          "entrée de gamme / mass market",
          "entrée de gamme / mass market",
          "entrée de gamme / mass market",
          "entrée de gamme / mass market",
          "entrée de gamme / mass market",
          "entrée de gamme / mass market",
          "entrée de gamme / mass market",
          "entrée de gamme / mass market",
          "entrée de gamme / mass market",
          "entrée de gamme / mass market",
          "entrée de gamme / mass market",
          "entrée de gamme / mass market",
          "entrée de gamme / mass market",
          "entrée de gamme / mass market",
          "entrée de gamme / mass market",
          "entrée de gamme / mass market",
          "entrée de gamme / mass market",
          "entrée de gamme / mass market",
          "entrée de gamme / mass market",
          "entrée de gamme / mass market",
          "entrée de gamme / mass market",
          "entrée de gamme / mass market",
          "entrée de gamme / mass market",
          "entrée de gamme / mass market",
          "entrée de gamme / mass market",
          "entrée de gamme / mass market",
          "entrée de gamme / mass market",
          "entrée de gamme / mass market",
          "entrée de gamme / mass market",
          "entrée de gamme / mass market",
          "entrée de gamme / mass market",
          "entrée de gamme / mass market",
          "entrée de gamme / mass market",
          "entrée de gamme / mass market",
          "entrée de gamme / mass market",
          "entrée de gamme / mass market",
          "entrée de gamme / mass market",
          "entrée de gamme / mass market",
          "entrée de gamme / mass market",
          "entrée de gamme / mass market",
          "entrée de gamme / mass market",
          "entrée de gamme / mass market",
          "entrée de gamme / mass market",
          "entrée de gamme / mass market",
          "entrée de gamme / mass market",
          "entrée de gamme / mass market",
          "entrée de gamme / mass market",
          "entrée de gamme / mass market",
          "entrée de gamme / mass market",
          "entrée de gamme / mass market",
          "entrée de gamme / mass market",
          "entrée de gamme / mass market",
          "entrée de gamme / mass market",
          "entrée de gamme / mass market",
          "entrée de gamme / mass market",
          "entrée de gamme / mass market",
          "entrée de gamme / mass market",
          "entrée de gamme / mass market",
          "entrée de gamme / mass market",
          "entrée de gamme / mass market",
          "entrée de gamme / mass market",
          "entrée de gamme / mass market",
          "entrée de gamme / mass market",
          "entrée de gamme / mass market",
          "entrée de gamme / mass market",
          "entrée de gamme / mass market",
          "entrée de gamme / mass market",
          "entrée de gamme / mass market",
          "entrée de gamme / mass market",
          "premium / luxe abordable",
          "premium / luxe abordable",
          "premium / luxe abordable",
          "premium / luxe abordable",
          "premium / luxe abordable",
          "premium / luxe abordable",
          "premium / luxe abordable",
          "premium / luxe abordable",
          "premium / luxe abordable",
          "premium / luxe abordable",
          "premium / luxe abordable",
          "premium / luxe abordable",
          "premium / luxe abordable",
          "premium / luxe abordable",
          "premium / luxe abordable",
          "premium / luxe abordable",
          "premium / luxe abordable",
          "premium / luxe abordable",
          "premium / luxe abordable",
          "premium / luxe abordable",
          "premium / luxe abordable",
          "premium / luxe abordable",
          "premium / luxe abordable",
          "premium / luxe abordable",
          "premium / luxe abordable",
          "premium / luxe abordable",
          "premium / luxe abordable",
          "premium / luxe abordable",
          "premium / luxe abordable",
          "premium / luxe abordable",
          "premium / luxe abordable",
          "premium / luxe abordable",
          "premium / luxe abordable",
          "premium / luxe abordable",
          "premium / luxe abordable",
          "premium / luxe abordable",
          "premium / luxe abordable",
          "premium / luxe abordable",
          "premium / luxe abordable",
          "premium / luxe abordable",
          "premium / luxe abordable",
          "premium / luxe abordable",
          "premium / luxe abordable",
          "premium / luxe abordable",
          "premium / luxe abordable",
          "premium / luxe abordable",
          "premium / luxe abordable",
          "premium / luxe abordable",
          "premium / luxe abordable",
          "premium / luxe abordable",
          "premium / luxe abordable",
          "premium / luxe abordable",
          "premium / luxe abordable",
          "premium / luxe abordable",
          "premium / luxe abordable",
          "premium / luxe abordable",
          "premium / luxe abordable",
          "premium / luxe abordable",
          "premium / luxe abordable",
          "premium / luxe abordable",
          "premium / luxe abordable",
          "premium / luxe abordable",
          "premium / luxe abordable",
          "premium / luxe abordable",
          "premium / luxe abordable",
          "premium / luxe abordable",
          "premium / luxe abordable",
          "premium / luxe abordable",
          "premium / luxe abordable",
          "premium / luxe abordable",
          "premium / luxe abordable",
          "premium / luxe abordable",
          "premium / luxe abordable",
          "premium / luxe abordable",
          "premium / luxe abordable",
          "premium / luxe abordable",
          "premium / luxe abordable",
          "premium / luxe abordable",
          "premium / luxe abordable",
          "premium / luxe abordable",
          "premium / luxe abordable",
          "premium / luxe abordable",
          "premium / luxe abordable",
          "premium / luxe abordable",
          "premium / luxe abordable",
          "milieu de gamme",
          "milieu de gamme",
          "milieu de gamme",
          "milieu de gamme",
          "milieu de gamme",
          "milieu de gamme",
          "milieu de gamme",
          "milieu de gamme",
          "milieu de gamme",
          "milieu de gamme",
          "milieu de gamme",
          "milieu de gamme",
          "milieu de gamme",
          "milieu de gamme",
          "milieu de gamme",
          "milieu de gamme",
          "milieu de gamme",
          "milieu de gamme",
          "milieu de gamme",
          "milieu de gamme",
          "milieu de gamme",
          "milieu de gamme",
          "milieu de gamme",
          "milieu de gamme",
          "milieu de gamme",
          "milieu de gamme",
          "milieu de gamme",
          "milieu de gamme",
          "milieu de gamme",
          "milieu de gamme",
          "milieu de gamme",
          "milieu de gamme",
          "milieu de gamme",
          "milieu de gamme",
          "milieu de gamme",
          "milieu de gamme",
          "milieu de gamme",
          "milieu de gamme",
          "milieu de gamme",
          "milieu de gamme",
          "milieu de gamme",
          "milieu de gamme",
          "milieu de gamme",
          "milieu de gamme",
          "milieu de gamme",
          "milieu de gamme",
          "milieu de gamme",
          "milieu de gamme",
          "milieu de gamme",
          "milieu de gamme",
          "milieu de gamme",
          "milieu de gamme",
          "milieu de gamme",
          "milieu de gamme",
          "milieu de gamme",
          "milieu de gamme",
          "milieu de gamme",
          "milieu de gamme",
          "milieu de gamme",
          "milieu de gamme",
          "milieu de gamme",
          "milieu de gamme",
          "milieu de gamme",
          "milieu de gamme",
          "milieu de gamme",
          "luxe & création",
          "luxe & création",
          "premium / luxe abordable",
          "luxe & création",
          "luxe & création",
          "luxe & création",
          "luxe & création",
          "luxe & création",
          "luxe & création",
          "milieu de gamme",
          "premium / luxe abordable",
          "luxe & création",
          "luxe & création",
          "luxe & création",
          "luxe & création",
          "luxe & création",
          "luxe & création",
          "luxe & création",
          "premium / luxe abordable",
          "premium / luxe abordable",
          "milieu de gamme",
          "milieu de gamme",
          "luxe & création",
          "luxe & création",
          "luxe & création",
          "luxe & création",
          "premium / luxe abordable",
          "premium / luxe abordable",
          "luxe & création",
          "premium / luxe abordable",
          "milieu de gamme",
          "milieu de gamme",
          "luxe & création",
          "milieu de gamme",
          "milieu de gamme",
          "luxe & création",
          "premium / luxe abordable",
          "luxe & création",
          "milieu de gamme",
          "luxe & création",
          "milieu de gamme",
          "entrée de gamme / mass market",
          "premium / luxe abordable",
          "luxe & création",
          "premium / luxe abordable",
          "luxe & création",
          "entrée de gamme / mass market",
          "premium / luxe abordable",
          "luxe & création",
          "premium / luxe abordable",
          "luxe & création",
          "premium / luxe abordable",
          "entrée de gamme / mass market",
          "entrée de gamme / mass market",
          "premium / luxe abordable",
          "entrée de gamme / mass market",
          "luxe & création",
          "milieu de gamme",
          "milieu de gamme",
          "luxe & création",
          "luxe & création",
          "luxe & création",
          "luxe & création",
          "luxe & création",
          "luxe & création",
          "luxe & création",
          "luxe & création",
          "luxe & création",
          "luxe & création",
          "luxe & création",
          "luxe & création",
          "luxe & création",
          "luxe & création",
          "luxe & création",
          "luxe & création",
          "milieu de gamme",
          "luxe & création",
          "luxe & création",
          "luxe & création",
          "luxe & création",
          "luxe & création",
          "luxe & création",
          "luxe & création",
          "luxe & création",
          "luxe & création",
          "luxe & création",
          "luxe & création",
          "luxe & création",
          "milieu de gamme",
          "luxe & création",
          "luxe & création",
          "luxe & création",
          "luxe & création",
          "luxe & création",
          "luxe & création",
          "luxe & création",
          "luxe & création",
          "luxe & création",
          "luxe & création",
          "luxe & création",
          "luxe & création",
          "luxe & création",
          "luxe & création",
          "luxe & création",
          "luxe & création",
          "luxe & création",
          "luxe & création",
          "luxe & création",
          "luxe & création",
          "luxe & création",
          "luxe & création",
          "luxe & création",
          "luxe & création",
          "luxe & création",
          "milieu de gamme",
          "luxe & création",
          "luxe & création",
          "luxe & création",
          "premium / luxe abordable",
          "luxe & création",
          "luxe & création",
          "milieu de gamme",
          "luxe & création",
          "luxe & création",
          "luxe & création",
          "luxe & création",
          "luxe & création",
          "milieu de gamme",
          "luxe & création",
          "luxe & création",
          "luxe & création",
          "milieu de gamme",
          "luxe & création",
          "luxe & création",
          "luxe & création",
          "luxe & création",
          "luxe & création",
          "milieu de gamme",
          "luxe & création",
          "luxe & création",
          "luxe & création",
          "luxe & création",
          "luxe & création",
          "luxe & création",
          "luxe & création",
          "premium / luxe abordable",
          "luxe & création",
          "luxe & création",
          "luxe & création",
          "luxe & création",
          "luxe & création",
          "milieu de gamme",
          "luxe & création",
          "luxe & création",
          "premium / luxe abordable",
          "luxe & création",
          "luxe & création",
          "luxe & création",
          "luxe & création",
          "luxe & création",
          "luxe & création",
          "luxe & création",
          "luxe & création",
          "luxe & création",
          "luxe & création"
         ],
         "x0": " ",
         "xaxis": "x",
         "y": [
          5,
          28,
          45,
          18,
          17,
          24.9,
          25,
          45,
          5,
          11.5,
          130,
          30,
          10,
          30,
          7,
          20,
          20,
          80,
          10,
          130,
          25,
          3,
          149,
          230,
          10,
          4,
          65,
          140,
          3,
          170,
          13,
          3,
          43,
          28,
          28,
          28,
          28,
          28,
          35,
          28,
          30,
          3,
          28,
          7.5,
          12,
          15,
          28,
          28,
          25,
          25,
          10,
          28,
          29,
          2,
          24.99,
          35,
          28,
          29.99,
          28,
          28,
          28,
          28,
          28,
          8,
          5,
          3.99,
          3.99,
          28,
          34.5,
          39,
          1,
          15,
          25,
          19.99,
          12,
          10,
          18,
          12,
          35,
          27,
          22,
          29.9,
          25,
          30,
          15,
          20,
          2,
          2,
          2,
          24,
          10,
          3.5,
          16,
          28,
          16,
          8.5,
          20,
          13,
          29.99,
          13,
          35,
          13,
          18,
          9,
          20,
          8,
          20,
          15,
          32.5,
          45,
          19.99,
          8,
          40,
          38,
          10,
          2,
          22,
          12,
          12,
          13,
          20,
          35,
          32.5,
          5,
          1,
          4,
          30,
          30,
          35,
          15,
          10,
          13,
          30,
          110,
          10,
          75,
          5,
          5,
          15,
          2,
          2,
          15,
          4,
          4,
          2,
          4,
          3,
          10,
          2,
          5,
          3,
          3,
          5,
          4,
          5,
          2,
          5,
          3,
          3,
          3,
          2,
          3,
          5,
          1,
          1,
          3.5,
          2,
          3.5,
          2,
          6.5,
          15,
          3,
          2,
          4.5,
          8,
          10,
          5,
          1,
          2,
          8,
          3,
          7,
          3.5,
          4.5,
          3,
          5,
          5,
          8,
          2,
          8,
          8,
          7.5,
          16,
          3,
          2,
          1,
          3,
          5,
          9,
          7,
          9,
          5,
          9,
          30,
          15,
          2,
          2,
          4,
          2.5,
          4,
          4,
          3,
          4.99,
          5,
          7,
          12,
          11,
          5,
          16,
          8,
          7,
          10,
          7,
          5,
          5,
          5,
          6,
          5,
          5,
          4,
          5,
          4,
          3,
          4,
          5,
          3.5,
          5,
          10,
          5,
          10,
          4,
          5,
          5,
          4,
          6,
          10,
          4,
          7,
          5,
          3,
          3,
          6,
          4,
          9,
          8.5,
          1,
          5,
          4,
          6.5,
          7,
          5,
          10,
          8,
          2,
          15,
          5,
          10,
          5,
          3.5,
          2.5,
          2.5,
          2,
          10,
          3,
          5.99,
          5,
          4,
          5,
          4,
          6,
          5,
          2.5,
          6,
          3,
          8,
          8,
          7,
          5,
          8,
          6.5,
          20,
          1,
          39.99,
          1,
          3,
          5,
          10,
          6,
          60,
          25,
          6,
          6,
          19,
          15,
          5,
          5,
          3.99,
          3.49,
          6,
          47.5,
          1,
          9,
          4,
          9,
          4,
          9,
          8,
          2.5,
          10,
          5,
          2,
          8,
          7,
          12,
          9,
          4,
          3.5,
          8,
          5,
          2.5,
          5,
          8,
          3,
          5,
          2,
          4,
          3,
          5,
          3,
          3,
          9,
          2,
          3,
          3,
          2,
          4,
          25,
          35,
          45,
          4,
          55,
          50,
          55,
          15,
          10,
          20,
          17,
          24,
          55,
          45,
          55,
          55,
          18,
          45,
          18,
          60,
          30,
          35,
          40,
          10,
          25,
          95,
          8,
          12,
          20,
          30,
          20,
          30,
          60,
          40,
          20,
          12,
          15,
          25,
          15,
          20,
          12,
          15,
          15,
          20,
          38,
          18,
          40,
          15,
          15,
          20,
          38,
          18,
          40,
          15,
          30,
          20,
          13,
          25,
          25,
          15,
          25,
          6,
          30,
          5,
          5,
          5,
          5,
          5,
          10,
          2,
          33,
          10,
          59,
          5,
          33,
          5,
          55,
          9,
          10,
          5,
          5,
          12,
          10,
          2,
          15,
          5,
          12.5,
          10,
          4,
          4,
          15,
          8,
          9,
          17,
          15,
          15,
          17,
          15,
          10,
          15,
          5,
          5,
          7.5,
          15,
          11,
          10,
          17,
          15,
          7,
          4,
          2,
          4,
          10,
          18,
          15,
          8,
          8,
          1,
          4,
          13,
          6,
          20,
          28,
          20,
          12,
          12,
          12,
          7,
          7,
          10,
          10,
          10,
          6,
          7,
          6,
          20,
          15,
          5,
          20,
          20,
          35,
          2,
          5,
          30,
          10,
          4,
          25,
          7,
          20,
          12,
          57,
          26,
          29,
          55,
          68,
          44,
          200,
          92.94,
          30,
          26,
          35,
          348.53,
          240,
          220.33,
          214.12,
          79,
          120,
          24,
          57,
          120,
          47,
          32,
          230,
          160,
          45,
          200,
          59,
          30,
          232.57,
          27,
          25,
          25,
          115,
          20,
          20,
          59,
          36,
          55,
          22,
          44,
          35,
          20,
          35,
          240,
          16,
          290,
          20,
          35,
          240,
          16,
          290,
          25,
          25,
          17,
          24,
          17,
          215,
          37,
          28,
          154,
          99,
          264,
          135,
          130,
          170,
          71,
          67,
          135,
          118,
          125,
          42,
          180,
          125,
          115,
          199,
          25,
          90,
          200,
          96.91,
          90,
          96.91,
          90,
          99,
          67.19,
          100,
          234,
          47,
          360,
          20,
          160,
          350,
          40,
          258.41,
          83.98,
          45,
          122,
          150,
          148.59,
          300,
          110,
          110,
          96.91,
          240,
          63,
          96,
          270,
          240,
          199,
          72,
          72,
          77,
          65,
          153,
          72,
          28,
          133.51,
          170,
          91.74,
          50,
          90,
          72,
          20,
          231.28,
          155.05,
          116.29,
          60,
          72,
          20,
          60,
          90,
          72,
          20,
          231.28,
          155.05,
          116.29,
          60,
          72,
          20,
          60,
          236,
          90.44,
          99,
          250,
          321.72,
          108,
          28,
          45,
          90,
          170,
          130,
          195,
          20,
          180.89,
          45,
          30,
          49,
          180.89,
          210,
          50.56,
          129.21,
          115,
          70,
          45,
          88,
          380
         ],
         "y0": " ",
         "yaxis": "y"
        }
       ],
       "layout": {
        "boxmode": "group",
        "legend": {
         "tracegroupgap": 0
        },
        "margin": {
         "t": 60
        },
        "template": {
         "data": {
          "bar": [
           {
            "error_x": {
             "color": "#2a3f5f"
            },
            "error_y": {
             "color": "#2a3f5f"
            },
            "marker": {
             "line": {
              "color": "#E5ECF6",
              "width": 0.5
             },
             "pattern": {
              "fillmode": "overlay",
              "size": 10,
              "solidity": 0.2
             }
            },
            "type": "bar"
           }
          ],
          "barpolar": [
           {
            "marker": {
             "line": {
              "color": "#E5ECF6",
              "width": 0.5
             },
             "pattern": {
              "fillmode": "overlay",
              "size": 10,
              "solidity": 0.2
             }
            },
            "type": "barpolar"
           }
          ],
          "carpet": [
           {
            "aaxis": {
             "endlinecolor": "#2a3f5f",
             "gridcolor": "white",
             "linecolor": "white",
             "minorgridcolor": "white",
             "startlinecolor": "#2a3f5f"
            },
            "baxis": {
             "endlinecolor": "#2a3f5f",
             "gridcolor": "white",
             "linecolor": "white",
             "minorgridcolor": "white",
             "startlinecolor": "#2a3f5f"
            },
            "type": "carpet"
           }
          ],
          "choropleth": [
           {
            "colorbar": {
             "outlinewidth": 0,
             "ticks": ""
            },
            "type": "choropleth"
           }
          ],
          "contour": [
           {
            "colorbar": {
             "outlinewidth": 0,
             "ticks": ""
            },
            "colorscale": [
             [
              0,
              "#0d0887"
             ],
             [
              0.1111111111111111,
              "#46039f"
             ],
             [
              0.2222222222222222,
              "#7201a8"
             ],
             [
              0.3333333333333333,
              "#9c179e"
             ],
             [
              0.4444444444444444,
              "#bd3786"
             ],
             [
              0.5555555555555556,
              "#d8576b"
             ],
             [
              0.6666666666666666,
              "#ed7953"
             ],
             [
              0.7777777777777778,
              "#fb9f3a"
             ],
             [
              0.8888888888888888,
              "#fdca26"
             ],
             [
              1,
              "#f0f921"
             ]
            ],
            "type": "contour"
           }
          ],
          "contourcarpet": [
           {
            "colorbar": {
             "outlinewidth": 0,
             "ticks": ""
            },
            "type": "contourcarpet"
           }
          ],
          "heatmap": [
           {
            "colorbar": {
             "outlinewidth": 0,
             "ticks": ""
            },
            "colorscale": [
             [
              0,
              "#0d0887"
             ],
             [
              0.1111111111111111,
              "#46039f"
             ],
             [
              0.2222222222222222,
              "#7201a8"
             ],
             [
              0.3333333333333333,
              "#9c179e"
             ],
             [
              0.4444444444444444,
              "#bd3786"
             ],
             [
              0.5555555555555556,
              "#d8576b"
             ],
             [
              0.6666666666666666,
              "#ed7953"
             ],
             [
              0.7777777777777778,
              "#fb9f3a"
             ],
             [
              0.8888888888888888,
              "#fdca26"
             ],
             [
              1,
              "#f0f921"
             ]
            ],
            "type": "heatmap"
           }
          ],
          "heatmapgl": [
           {
            "colorbar": {
             "outlinewidth": 0,
             "ticks": ""
            },
            "colorscale": [
             [
              0,
              "#0d0887"
             ],
             [
              0.1111111111111111,
              "#46039f"
             ],
             [
              0.2222222222222222,
              "#7201a8"
             ],
             [
              0.3333333333333333,
              "#9c179e"
             ],
             [
              0.4444444444444444,
              "#bd3786"
             ],
             [
              0.5555555555555556,
              "#d8576b"
             ],
             [
              0.6666666666666666,
              "#ed7953"
             ],
             [
              0.7777777777777778,
              "#fb9f3a"
             ],
             [
              0.8888888888888888,
              "#fdca26"
             ],
             [
              1,
              "#f0f921"
             ]
            ],
            "type": "heatmapgl"
           }
          ],
          "histogram": [
           {
            "marker": {
             "pattern": {
              "fillmode": "overlay",
              "size": 10,
              "solidity": 0.2
             }
            },
            "type": "histogram"
           }
          ],
          "histogram2d": [
           {
            "colorbar": {
             "outlinewidth": 0,
             "ticks": ""
            },
            "colorscale": [
             [
              0,
              "#0d0887"
             ],
             [
              0.1111111111111111,
              "#46039f"
             ],
             [
              0.2222222222222222,
              "#7201a8"
             ],
             [
              0.3333333333333333,
              "#9c179e"
             ],
             [
              0.4444444444444444,
              "#bd3786"
             ],
             [
              0.5555555555555556,
              "#d8576b"
             ],
             [
              0.6666666666666666,
              "#ed7953"
             ],
             [
              0.7777777777777778,
              "#fb9f3a"
             ],
             [
              0.8888888888888888,
              "#fdca26"
             ],
             [
              1,
              "#f0f921"
             ]
            ],
            "type": "histogram2d"
           }
          ],
          "histogram2dcontour": [
           {
            "colorbar": {
             "outlinewidth": 0,
             "ticks": ""
            },
            "colorscale": [
             [
              0,
              "#0d0887"
             ],
             [
              0.1111111111111111,
              "#46039f"
             ],
             [
              0.2222222222222222,
              "#7201a8"
             ],
             [
              0.3333333333333333,
              "#9c179e"
             ],
             [
              0.4444444444444444,
              "#bd3786"
             ],
             [
              0.5555555555555556,
              "#d8576b"
             ],
             [
              0.6666666666666666,
              "#ed7953"
             ],
             [
              0.7777777777777778,
              "#fb9f3a"
             ],
             [
              0.8888888888888888,
              "#fdca26"
             ],
             [
              1,
              "#f0f921"
             ]
            ],
            "type": "histogram2dcontour"
           }
          ],
          "mesh3d": [
           {
            "colorbar": {
             "outlinewidth": 0,
             "ticks": ""
            },
            "type": "mesh3d"
           }
          ],
          "parcoords": [
           {
            "line": {
             "colorbar": {
              "outlinewidth": 0,
              "ticks": ""
             }
            },
            "type": "parcoords"
           }
          ],
          "pie": [
           {
            "automargin": true,
            "type": "pie"
           }
          ],
          "scatter": [
           {
            "fillpattern": {
             "fillmode": "overlay",
             "size": 10,
             "solidity": 0.2
            },
            "type": "scatter"
           }
          ],
          "scatter3d": [
           {
            "line": {
             "colorbar": {
              "outlinewidth": 0,
              "ticks": ""
             }
            },
            "marker": {
             "colorbar": {
              "outlinewidth": 0,
              "ticks": ""
             }
            },
            "type": "scatter3d"
           }
          ],
          "scattercarpet": [
           {
            "marker": {
             "colorbar": {
              "outlinewidth": 0,
              "ticks": ""
             }
            },
            "type": "scattercarpet"
           }
          ],
          "scattergeo": [
           {
            "marker": {
             "colorbar": {
              "outlinewidth": 0,
              "ticks": ""
             }
            },
            "type": "scattergeo"
           }
          ],
          "scattergl": [
           {
            "marker": {
             "colorbar": {
              "outlinewidth": 0,
              "ticks": ""
             }
            },
            "type": "scattergl"
           }
          ],
          "scattermapbox": [
           {
            "marker": {
             "colorbar": {
              "outlinewidth": 0,
              "ticks": ""
             }
            },
            "type": "scattermapbox"
           }
          ],
          "scatterpolar": [
           {
            "marker": {
             "colorbar": {
              "outlinewidth": 0,
              "ticks": ""
             }
            },
            "type": "scatterpolar"
           }
          ],
          "scatterpolargl": [
           {
            "marker": {
             "colorbar": {
              "outlinewidth": 0,
              "ticks": ""
             }
            },
            "type": "scatterpolargl"
           }
          ],
          "scatterternary": [
           {
            "marker": {
             "colorbar": {
              "outlinewidth": 0,
              "ticks": ""
             }
            },
            "type": "scatterternary"
           }
          ],
          "surface": [
           {
            "colorbar": {
             "outlinewidth": 0,
             "ticks": ""
            },
            "colorscale": [
             [
              0,
              "#0d0887"
             ],
             [
              0.1111111111111111,
              "#46039f"
             ],
             [
              0.2222222222222222,
              "#7201a8"
             ],
             [
              0.3333333333333333,
              "#9c179e"
             ],
             [
              0.4444444444444444,
              "#bd3786"
             ],
             [
              0.5555555555555556,
              "#d8576b"
             ],
             [
              0.6666666666666666,
              "#ed7953"
             ],
             [
              0.7777777777777778,
              "#fb9f3a"
             ],
             [
              0.8888888888888888,
              "#fdca26"
             ],
             [
              1,
              "#f0f921"
             ]
            ],
            "type": "surface"
           }
          ],
          "table": [
           {
            "cells": {
             "fill": {
              "color": "#EBF0F8"
             },
             "line": {
              "color": "white"
             }
            },
            "header": {
             "fill": {
              "color": "#C8D4E3"
             },
             "line": {
              "color": "white"
             }
            },
            "type": "table"
           }
          ]
         },
         "layout": {
          "annotationdefaults": {
           "arrowcolor": "#2a3f5f",
           "arrowhead": 0,
           "arrowwidth": 1
          },
          "autotypenumbers": "strict",
          "coloraxis": {
           "colorbar": {
            "outlinewidth": 0,
            "ticks": ""
           }
          },
          "colorscale": {
           "diverging": [
            [
             0,
             "#8e0152"
            ],
            [
             0.1,
             "#c51b7d"
            ],
            [
             0.2,
             "#de77ae"
            ],
            [
             0.3,
             "#f1b6da"
            ],
            [
             0.4,
             "#fde0ef"
            ],
            [
             0.5,
             "#f7f7f7"
            ],
            [
             0.6,
             "#e6f5d0"
            ],
            [
             0.7,
             "#b8e186"
            ],
            [
             0.8,
             "#7fbc41"
            ],
            [
             0.9,
             "#4d9221"
            ],
            [
             1,
             "#276419"
            ]
           ],
           "sequential": [
            [
             0,
             "#0d0887"
            ],
            [
             0.1111111111111111,
             "#46039f"
            ],
            [
             0.2222222222222222,
             "#7201a8"
            ],
            [
             0.3333333333333333,
             "#9c179e"
            ],
            [
             0.4444444444444444,
             "#bd3786"
            ],
            [
             0.5555555555555556,
             "#d8576b"
            ],
            [
             0.6666666666666666,
             "#ed7953"
            ],
            [
             0.7777777777777778,
             "#fb9f3a"
            ],
            [
             0.8888888888888888,
             "#fdca26"
            ],
            [
             1,
             "#f0f921"
            ]
           ],
           "sequentialminus": [
            [
             0,
             "#0d0887"
            ],
            [
             0.1111111111111111,
             "#46039f"
            ],
            [
             0.2222222222222222,
             "#7201a8"
            ],
            [
             0.3333333333333333,
             "#9c179e"
            ],
            [
             0.4444444444444444,
             "#bd3786"
            ],
            [
             0.5555555555555556,
             "#d8576b"
            ],
            [
             0.6666666666666666,
             "#ed7953"
            ],
            [
             0.7777777777777778,
             "#fb9f3a"
            ],
            [
             0.8888888888888888,
             "#fdca26"
            ],
            [
             1,
             "#f0f921"
            ]
           ]
          },
          "colorway": [
           "#636efa",
           "#EF553B",
           "#00cc96",
           "#ab63fa",
           "#FFA15A",
           "#19d3f3",
           "#FF6692",
           "#B6E880",
           "#FF97FF",
           "#FECB52"
          ],
          "font": {
           "color": "#2a3f5f"
          },
          "geo": {
           "bgcolor": "white",
           "lakecolor": "white",
           "landcolor": "#E5ECF6",
           "showlakes": true,
           "showland": true,
           "subunitcolor": "white"
          },
          "hoverlabel": {
           "align": "left"
          },
          "hovermode": "closest",
          "mapbox": {
           "style": "light"
          },
          "paper_bgcolor": "white",
          "plot_bgcolor": "#E5ECF6",
          "polar": {
           "angularaxis": {
            "gridcolor": "white",
            "linecolor": "white",
            "ticks": ""
           },
           "bgcolor": "#E5ECF6",
           "radialaxis": {
            "gridcolor": "white",
            "linecolor": "white",
            "ticks": ""
           }
          },
          "scene": {
           "xaxis": {
            "backgroundcolor": "#E5ECF6",
            "gridcolor": "white",
            "gridwidth": 2,
            "linecolor": "white",
            "showbackground": true,
            "ticks": "",
            "zerolinecolor": "white"
           },
           "yaxis": {
            "backgroundcolor": "#E5ECF6",
            "gridcolor": "white",
            "gridwidth": 2,
            "linecolor": "white",
            "showbackground": true,
            "ticks": "",
            "zerolinecolor": "white"
           },
           "zaxis": {
            "backgroundcolor": "#E5ECF6",
            "gridcolor": "white",
            "gridwidth": 2,
            "linecolor": "white",
            "showbackground": true,
            "ticks": "",
            "zerolinecolor": "white"
           }
          },
          "shapedefaults": {
           "line": {
            "color": "#2a3f5f"
           }
          },
          "ternary": {
           "aaxis": {
            "gridcolor": "white",
            "linecolor": "white",
            "ticks": ""
           },
           "baxis": {
            "gridcolor": "white",
            "linecolor": "white",
            "ticks": ""
           },
           "bgcolor": "#E5ECF6",
           "caxis": {
            "gridcolor": "white",
            "linecolor": "white",
            "ticks": ""
           }
          },
          "title": {
           "x": 0.05
          },
          "xaxis": {
           "automargin": true,
           "gridcolor": "white",
           "linecolor": "white",
           "ticks": "",
           "title": {
            "standoff": 15
           },
           "zerolinecolor": "white",
           "zerolinewidth": 2
          },
          "yaxis": {
           "automargin": true,
           "gridcolor": "white",
           "linecolor": "white",
           "ticks": "",
           "title": {
            "standoff": 15
           },
           "zerolinecolor": "white",
           "zerolinewidth": 2
          }
         }
        },
        "xaxis": {
         "anchor": "y",
         "categoryarray": [
          "ultra fast fashion / discount",
          "entrée de gamme / mass market",
          "milieu de gamme",
          "premium / luxe abordable",
          "luxe & création"
         ],
         "categoryorder": "array",
         "domain": [
          0,
          1
         ],
         "title": {
          "text": "Segment de marché"
         }
        },
        "yaxis": {
         "anchor": "x",
         "domain": [
          0,
          1
         ],
         "title": {
          "text": "Prix"
         }
        }
       }
      }
     },
     "metadata": {},
     "output_type": "display_data"
    }
   ],
   "source": [
    "px.box(filtered_df_shirt, x='Segment de marché', y='Prix', category_orders=category_orders)"
   ]
  },
  {
   "cell_type": "code",
   "execution_count": 101,
   "metadata": {},
   "outputs": [
    {
     "data": {
      "application/vnd.plotly.v1+json": {
       "config": {
        "plotlyServerURL": "https://plot.ly"
       },
       "data": [
        {
         "alignmentgroup": "True",
         "box": {
          "visible": false
         },
         "hovertemplate": "État=BON ÉTAT<br>Segment de marché=%{x}<extra></extra>",
         "legendgroup": "BON ÉTAT",
         "marker": {
          "color": "#636efa"
         },
         "name": "BON ÉTAT",
         "offsetgroup": "BON ÉTAT",
         "orientation": "h",
         "scalegroup": "True",
         "showlegend": true,
         "type": "violin",
         "x": [
          "luxe & création",
          "luxe & création",
          "luxe & création",
          "luxe & création",
          "ultra fast fashion / discount",
          "ultra fast fashion / discount",
          "ultra fast fashion / discount",
          "ultra fast fashion / discount",
          "ultra fast fashion / discount",
          "milieu de gamme",
          "ultra fast fashion / discount",
          "milieu de gamme",
          "ultra fast fashion / discount",
          "ultra fast fashion / discount",
          "ultra fast fashion / discount",
          "ultra fast fashion / discount",
          "ultra fast fashion / discount",
          "entrée de gamme / mass market",
          "entrée de gamme / mass market",
          "entrée de gamme / mass market",
          "entrée de gamme / mass market",
          "entrée de gamme / mass market",
          "entrée de gamme / mass market",
          "entrée de gamme / mass market",
          "entrée de gamme / mass market",
          "entrée de gamme / mass market",
          "premium / luxe abordable",
          "premium / luxe abordable",
          "premium / luxe abordable",
          "premium / luxe abordable",
          "premium / luxe abordable",
          "premium / luxe abordable",
          "premium / luxe abordable",
          "premium / luxe abordable",
          "premium / luxe abordable",
          "premium / luxe abordable",
          "premium / luxe abordable",
          "milieu de gamme",
          "milieu de gamme",
          "milieu de gamme",
          "milieu de gamme",
          "milieu de gamme",
          "milieu de gamme",
          "milieu de gamme",
          "milieu de gamme",
          "milieu de gamme",
          "milieu de gamme",
          "milieu de gamme",
          "milieu de gamme",
          "milieu de gamme",
          "milieu de gamme",
          "milieu de gamme",
          "milieu de gamme",
          "milieu de gamme",
          "luxe & création",
          "premium / luxe abordable",
          "luxe & création",
          "premium / luxe abordable",
          "premium / luxe abordable",
          "luxe & création",
          "luxe & création",
          "luxe & création",
          "luxe & création",
          "luxe & création",
          "luxe & création",
          "luxe & création",
          "luxe & création",
          "luxe & création",
          "luxe & création"
         ],
         "x0": " ",
         "xaxis": "x",
         "y0": " ",
         "yaxis": "y"
        },
        {
         "alignmentgroup": "True",
         "box": {
          "visible": false
         },
         "hovertemplate": "État=NEUF AVEC ÉTIQUETTE<br>Segment de marché=%{x}<extra></extra>",
         "legendgroup": "NEUF AVEC ÉTIQUETTE",
         "marker": {
          "color": "#EF553B"
         },
         "name": "NEUF AVEC ÉTIQUETTE",
         "offsetgroup": "NEUF AVEC ÉTIQUETTE",
         "orientation": "h",
         "scalegroup": "True",
         "showlegend": true,
         "type": "violin",
         "x": [
          "entrée de gamme / mass market",
          "milieu de gamme",
          "luxe & création",
          "premium / luxe abordable",
          "premium / luxe abordable",
          "premium / luxe abordable",
          "luxe & création",
          "luxe & création",
          "luxe & création",
          "milieu de gamme",
          "milieu de gamme",
          "milieu de gamme",
          "premium / luxe abordable",
          "milieu de gamme",
          "milieu de gamme",
          "milieu de gamme",
          "milieu de gamme",
          "milieu de gamme",
          "milieu de gamme",
          "milieu de gamme",
          "milieu de gamme",
          "milieu de gamme",
          "entrée de gamme / mass market",
          "premium / luxe abordable",
          "entrée de gamme / mass market",
          "milieu de gamme",
          "milieu de gamme",
          "milieu de gamme",
          "premium / luxe abordable",
          "ultra fast fashion / discount",
          "ultra fast fashion / discount",
          "ultra fast fashion / discount",
          "ultra fast fashion / discount",
          "ultra fast fashion / discount",
          "entrée de gamme / mass market",
          "entrée de gamme / mass market",
          "ultra fast fashion / discount",
          "premium / luxe abordable",
          "ultra fast fashion / discount",
          "ultra fast fashion / discount",
          "ultra fast fashion / discount",
          "ultra fast fashion / discount",
          "ultra fast fashion / discount",
          "entrée de gamme / mass market",
          "entrée de gamme / mass market",
          "entrée de gamme / mass market",
          "entrée de gamme / mass market",
          "entrée de gamme / mass market",
          "entrée de gamme / mass market",
          "premium / luxe abordable",
          "premium / luxe abordable",
          "premium / luxe abordable",
          "premium / luxe abordable",
          "premium / luxe abordable",
          "premium / luxe abordable",
          "premium / luxe abordable",
          "premium / luxe abordable",
          "premium / luxe abordable",
          "premium / luxe abordable",
          "milieu de gamme",
          "milieu de gamme",
          "milieu de gamme",
          "luxe & création",
          "premium / luxe abordable",
          "luxe & création",
          "luxe & création",
          "luxe & création",
          "luxe & création",
          "luxe & création",
          "luxe & création",
          "milieu de gamme",
          "luxe & création",
          "premium / luxe abordable",
          "milieu de gamme",
          "milieu de gamme",
          "luxe & création",
          "luxe & création",
          "luxe & création",
          "luxe & création"
         ],
         "x0": " ",
         "xaxis": "x",
         "y0": " ",
         "yaxis": "y"
        },
        {
         "alignmentgroup": "True",
         "box": {
          "visible": false
         },
         "hovertemplate": "État=NEUF SANS ÉTIQUETTE<br>Segment de marché=%{x}<extra></extra>",
         "legendgroup": "NEUF SANS ÉTIQUETTE",
         "marker": {
          "color": "#00cc96"
         },
         "name": "NEUF SANS ÉTIQUETTE",
         "offsetgroup": "NEUF SANS ÉTIQUETTE",
         "orientation": "h",
         "scalegroup": "True",
         "showlegend": true,
         "type": "violin",
         "x": [
          "milieu de gamme",
          "ultra fast fashion / discount",
          "milieu de gamme",
          "entrée de gamme / mass market",
          "entrée de gamme / mass market",
          "entrée de gamme / mass market",
          "premium / luxe abordable",
          "milieu de gamme",
          "milieu de gamme",
          "milieu de gamme",
          "entrée de gamme / mass market",
          "premium / luxe abordable",
          "milieu de gamme",
          "premium / luxe abordable",
          "entrée de gamme / mass market",
          "entrée de gamme / mass market",
          "milieu de gamme",
          "milieu de gamme",
          "premium / luxe abordable",
          "milieu de gamme",
          "milieu de gamme",
          "ultra fast fashion / discount",
          "ultra fast fashion / discount",
          "ultra fast fashion / discount",
          "ultra fast fashion / discount",
          "ultra fast fashion / discount",
          "ultra fast fashion / discount",
          "ultra fast fashion / discount",
          "ultra fast fashion / discount",
          "ultra fast fashion / discount",
          "ultra fast fashion / discount",
          "ultra fast fashion / discount",
          "ultra fast fashion / discount",
          "ultra fast fashion / discount",
          "ultra fast fashion / discount",
          "ultra fast fashion / discount",
          "ultra fast fashion / discount",
          "ultra fast fashion / discount",
          "ultra fast fashion / discount",
          "ultra fast fashion / discount",
          "ultra fast fashion / discount",
          "ultra fast fashion / discount",
          "ultra fast fashion / discount",
          "ultra fast fashion / discount",
          "ultra fast fashion / discount",
          "ultra fast fashion / discount",
          "ultra fast fashion / discount",
          "ultra fast fashion / discount",
          "ultra fast fashion / discount",
          "ultra fast fashion / discount",
          "ultra fast fashion / discount",
          "ultra fast fashion / discount",
          "ultra fast fashion / discount",
          "ultra fast fashion / discount",
          "ultra fast fashion / discount",
          "ultra fast fashion / discount",
          "ultra fast fashion / discount",
          "ultra fast fashion / discount",
          "ultra fast fashion / discount",
          "ultra fast fashion / discount",
          "ultra fast fashion / discount",
          "ultra fast fashion / discount",
          "ultra fast fashion / discount",
          "ultra fast fashion / discount",
          "ultra fast fashion / discount",
          "ultra fast fashion / discount",
          "entrée de gamme / mass market",
          "entrée de gamme / mass market",
          "entrée de gamme / mass market",
          "entrée de gamme / mass market",
          "entrée de gamme / mass market",
          "entrée de gamme / mass market",
          "entrée de gamme / mass market",
          "entrée de gamme / mass market",
          "entrée de gamme / mass market",
          "entrée de gamme / mass market",
          "entrée de gamme / mass market",
          "entrée de gamme / mass market",
          "entrée de gamme / mass market",
          "entrée de gamme / mass market",
          "entrée de gamme / mass market",
          "entrée de gamme / mass market",
          "entrée de gamme / mass market",
          "premium / luxe abordable",
          "premium / luxe abordable",
          "premium / luxe abordable",
          "premium / luxe abordable",
          "premium / luxe abordable",
          "premium / luxe abordable",
          "premium / luxe abordable",
          "premium / luxe abordable",
          "premium / luxe abordable",
          "premium / luxe abordable",
          "premium / luxe abordable",
          "premium / luxe abordable",
          "premium / luxe abordable",
          "premium / luxe abordable",
          "premium / luxe abordable",
          "milieu de gamme",
          "milieu de gamme",
          "milieu de gamme",
          "milieu de gamme",
          "milieu de gamme",
          "milieu de gamme",
          "milieu de gamme",
          "milieu de gamme",
          "milieu de gamme",
          "milieu de gamme",
          "milieu de gamme",
          "luxe & création",
          "luxe & création",
          "milieu de gamme",
          "milieu de gamme",
          "milieu de gamme",
          "luxe & création",
          "luxe & création",
          "entrée de gamme / mass market",
          "milieu de gamme",
          "milieu de gamme",
          "luxe & création",
          "luxe & création",
          "luxe & création",
          "luxe & création",
          "luxe & création",
          "luxe & création",
          "luxe & création",
          "luxe & création",
          "luxe & création",
          "luxe & création",
          "luxe & création",
          "luxe & création",
          "luxe & création",
          "luxe & création",
          "luxe & création",
          "luxe & création",
          "luxe & création",
          "milieu de gamme",
          "luxe & création",
          "milieu de gamme",
          "luxe & création",
          "luxe & création",
          "luxe & création",
          "luxe & création",
          "luxe & création",
          "milieu de gamme",
          "luxe & création",
          "luxe & création",
          "luxe & création"
         ],
         "x0": " ",
         "xaxis": "x",
         "y0": " ",
         "yaxis": "y"
        },
        {
         "alignmentgroup": "True",
         "box": {
          "visible": false
         },
         "hovertemplate": "État=SATISFAISANT<br>Segment de marché=%{x}<extra></extra>",
         "legendgroup": "SATISFAISANT",
         "marker": {
          "color": "#ab63fa"
         },
         "name": "SATISFAISANT",
         "offsetgroup": "SATISFAISANT",
         "orientation": "h",
         "scalegroup": "True",
         "showlegend": true,
         "type": "violin",
         "x": [
          "ultra fast fashion / discount",
          "entrée de gamme / mass market",
          "entrée de gamme / mass market",
          "premium / luxe abordable",
          "milieu de gamme",
          "milieu de gamme",
          "milieu de gamme",
          "milieu de gamme",
          "luxe & création"
         ],
         "x0": " ",
         "xaxis": "x",
         "y0": " ",
         "yaxis": "y"
        },
        {
         "alignmentgroup": "True",
         "box": {
          "visible": false
         },
         "hovertemplate": "État=TRÈS BON ÉTAT<br>Segment de marché=%{x}<extra></extra>",
         "legendgroup": "TRÈS BON ÉTAT",
         "marker": {
          "color": "#FFA15A"
         },
         "name": "TRÈS BON ÉTAT",
         "offsetgroup": "TRÈS BON ÉTAT",
         "orientation": "h",
         "scalegroup": "True",
         "showlegend": true,
         "type": "violin",
         "x": [
          "entrée de gamme / mass market",
          "premium / luxe abordable",
          "premium / luxe abordable",
          "premium / luxe abordable",
          "premium / luxe abordable",
          "entrée de gamme / mass market",
          "entrée de gamme / mass market",
          "entrée de gamme / mass market",
          "milieu de gamme",
          "milieu de gamme",
          "milieu de gamme",
          "entrée de gamme / mass market",
          "luxe & création",
          "milieu de gamme",
          "milieu de gamme",
          "milieu de gamme",
          "premium / luxe abordable",
          "premium / luxe abordable",
          "entrée de gamme / mass market",
          "premium / luxe abordable",
          "premium / luxe abordable",
          "premium / luxe abordable",
          "milieu de gamme",
          "premium / luxe abordable",
          "milieu de gamme",
          "milieu de gamme",
          "premium / luxe abordable",
          "premium / luxe abordable",
          "milieu de gamme",
          "premium / luxe abordable",
          "premium / luxe abordable",
          "entrée de gamme / mass market",
          "milieu de gamme",
          "premium / luxe abordable",
          "milieu de gamme",
          "milieu de gamme",
          "premium / luxe abordable",
          "premium / luxe abordable",
          "milieu de gamme",
          "milieu de gamme",
          "milieu de gamme",
          "entrée de gamme / mass market",
          "entrée de gamme / mass market",
          "premium / luxe abordable",
          "entrée de gamme / mass market",
          "milieu de gamme",
          "milieu de gamme",
          "milieu de gamme",
          "milieu de gamme",
          "milieu de gamme",
          "premium / luxe abordable",
          "milieu de gamme",
          "entrée de gamme / mass market",
          "milieu de gamme",
          "entrée de gamme / mass market",
          "milieu de gamme",
          "entrée de gamme / mass market",
          "premium / luxe abordable",
          "milieu de gamme",
          "premium / luxe abordable",
          "entrée de gamme / mass market",
          "luxe & création",
          "milieu de gamme",
          "premium / luxe abordable",
          "milieu de gamme",
          "milieu de gamme",
          "milieu de gamme",
          "premium / luxe abordable",
          "milieu de gamme",
          "milieu de gamme",
          "milieu de gamme",
          "entrée de gamme / mass market",
          "entrée de gamme / mass market",
          "milieu de gamme",
          "entrée de gamme / mass market",
          "entrée de gamme / mass market",
          "entrée de gamme / mass market",
          "entrée de gamme / mass market",
          "premium / luxe abordable",
          "milieu de gamme",
          "luxe & création",
          "luxe & création",
          "ultra fast fashion / discount",
          "ultra fast fashion / discount",
          "ultra fast fashion / discount",
          "ultra fast fashion / discount",
          "ultra fast fashion / discount",
          "ultra fast fashion / discount",
          "ultra fast fashion / discount",
          "ultra fast fashion / discount",
          "ultra fast fashion / discount",
          "ultra fast fashion / discount",
          "ultra fast fashion / discount",
          "ultra fast fashion / discount",
          "ultra fast fashion / discount",
          "ultra fast fashion / discount",
          "ultra fast fashion / discount",
          "ultra fast fashion / discount",
          "ultra fast fashion / discount",
          "ultra fast fashion / discount",
          "ultra fast fashion / discount",
          "ultra fast fashion / discount",
          "ultra fast fashion / discount",
          "ultra fast fashion / discount",
          "entrée de gamme / mass market",
          "ultra fast fashion / discount",
          "ultra fast fashion / discount",
          "ultra fast fashion / discount",
          "ultra fast fashion / discount",
          "ultra fast fashion / discount",
          "ultra fast fashion / discount",
          "ultra fast fashion / discount",
          "ultra fast fashion / discount",
          "ultra fast fashion / discount",
          "ultra fast fashion / discount",
          "ultra fast fashion / discount",
          "ultra fast fashion / discount",
          "ultra fast fashion / discount",
          "ultra fast fashion / discount",
          "ultra fast fashion / discount",
          "ultra fast fashion / discount",
          "ultra fast fashion / discount",
          "ultra fast fashion / discount",
          "ultra fast fashion / discount",
          "ultra fast fashion / discount",
          "ultra fast fashion / discount",
          "ultra fast fashion / discount",
          "ultra fast fashion / discount",
          "ultra fast fashion / discount",
          "ultra fast fashion / discount",
          "ultra fast fashion / discount",
          "ultra fast fashion / discount",
          "ultra fast fashion / discount",
          "ultra fast fashion / discount",
          "ultra fast fashion / discount",
          "entrée de gamme / mass market",
          "entrée de gamme / mass market",
          "entrée de gamme / mass market",
          "entrée de gamme / mass market",
          "entrée de gamme / mass market",
          "entrée de gamme / mass market",
          "entrée de gamme / mass market",
          "entrée de gamme / mass market",
          "entrée de gamme / mass market",
          "entrée de gamme / mass market",
          "entrée de gamme / mass market",
          "entrée de gamme / mass market",
          "entrée de gamme / mass market",
          "entrée de gamme / mass market",
          "entrée de gamme / mass market",
          "entrée de gamme / mass market",
          "entrée de gamme / mass market",
          "entrée de gamme / mass market",
          "entrée de gamme / mass market",
          "entrée de gamme / mass market",
          "entrée de gamme / mass market",
          "entrée de gamme / mass market",
          "entrée de gamme / mass market",
          "entrée de gamme / mass market",
          "entrée de gamme / mass market",
          "entrée de gamme / mass market",
          "entrée de gamme / mass market",
          "entrée de gamme / mass market",
          "entrée de gamme / mass market",
          "entrée de gamme / mass market",
          "entrée de gamme / mass market",
          "entrée de gamme / mass market",
          "entrée de gamme / mass market",
          "entrée de gamme / mass market",
          "entrée de gamme / mass market",
          "entrée de gamme / mass market",
          "entrée de gamme / mass market",
          "entrée de gamme / mass market",
          "entrée de gamme / mass market",
          "entrée de gamme / mass market",
          "entrée de gamme / mass market",
          "entrée de gamme / mass market",
          "entrée de gamme / mass market",
          "entrée de gamme / mass market",
          "entrée de gamme / mass market",
          "entrée de gamme / mass market",
          "entrée de gamme / mass market",
          "entrée de gamme / mass market",
          "entrée de gamme / mass market",
          "entrée de gamme / mass market",
          "premium / luxe abordable",
          "premium / luxe abordable",
          "premium / luxe abordable",
          "premium / luxe abordable",
          "premium / luxe abordable",
          "premium / luxe abordable",
          "premium / luxe abordable",
          "premium / luxe abordable",
          "premium / luxe abordable",
          "premium / luxe abordable",
          "premium / luxe abordable",
          "premium / luxe abordable",
          "premium / luxe abordable",
          "premium / luxe abordable",
          "premium / luxe abordable",
          "premium / luxe abordable",
          "premium / luxe abordable",
          "premium / luxe abordable",
          "premium / luxe abordable",
          "premium / luxe abordable",
          "premium / luxe abordable",
          "premium / luxe abordable",
          "premium / luxe abordable",
          "premium / luxe abordable",
          "premium / luxe abordable",
          "premium / luxe abordable",
          "premium / luxe abordable",
          "premium / luxe abordable",
          "premium / luxe abordable",
          "premium / luxe abordable",
          "premium / luxe abordable",
          "premium / luxe abordable",
          "premium / luxe abordable",
          "premium / luxe abordable",
          "premium / luxe abordable",
          "premium / luxe abordable",
          "premium / luxe abordable",
          "premium / luxe abordable",
          "premium / luxe abordable",
          "premium / luxe abordable",
          "premium / luxe abordable",
          "premium / luxe abordable",
          "premium / luxe abordable",
          "premium / luxe abordable",
          "premium / luxe abordable",
          "premium / luxe abordable",
          "premium / luxe abordable",
          "premium / luxe abordable",
          "milieu de gamme",
          "milieu de gamme",
          "milieu de gamme",
          "milieu de gamme",
          "milieu de gamme",
          "milieu de gamme",
          "milieu de gamme",
          "milieu de gamme",
          "milieu de gamme",
          "milieu de gamme",
          "milieu de gamme",
          "milieu de gamme",
          "milieu de gamme",
          "milieu de gamme",
          "milieu de gamme",
          "milieu de gamme",
          "milieu de gamme",
          "milieu de gamme",
          "milieu de gamme",
          "milieu de gamme",
          "milieu de gamme",
          "milieu de gamme",
          "milieu de gamme",
          "milieu de gamme",
          "milieu de gamme",
          "milieu de gamme",
          "milieu de gamme",
          "milieu de gamme",
          "milieu de gamme",
          "milieu de gamme",
          "milieu de gamme",
          "luxe & création",
          "luxe & création",
          "premium / luxe abordable",
          "luxe & création",
          "luxe & création",
          "luxe & création",
          "luxe & création",
          "luxe & création",
          "milieu de gamme",
          "premium / luxe abordable",
          "luxe & création",
          "luxe & création",
          "luxe & création",
          "luxe & création",
          "luxe & création",
          "luxe & création",
          "luxe & création",
          "premium / luxe abordable",
          "milieu de gamme",
          "milieu de gamme",
          "luxe & création",
          "premium / luxe abordable",
          "luxe & création",
          "milieu de gamme",
          "luxe & création",
          "premium / luxe abordable",
          "luxe & création",
          "milieu de gamme",
          "entrée de gamme / mass market",
          "premium / luxe abordable",
          "premium / luxe abordable",
          "luxe & création",
          "entrée de gamme / mass market",
          "premium / luxe abordable",
          "premium / luxe abordable",
          "luxe & création",
          "entrée de gamme / mass market",
          "premium / luxe abordable",
          "entrée de gamme / mass market",
          "luxe & création",
          "luxe & création",
          "luxe & création",
          "luxe & création",
          "luxe & création",
          "luxe & création",
          "luxe & création",
          "luxe & création",
          "luxe & création",
          "milieu de gamme",
          "luxe & création",
          "luxe & création",
          "luxe & création",
          "luxe & création",
          "luxe & création",
          "luxe & création",
          "luxe & création",
          "milieu de gamme",
          "luxe & création",
          "luxe & création",
          "luxe & création",
          "luxe & création",
          "luxe & création",
          "luxe & création",
          "luxe & création",
          "luxe & création",
          "luxe & création",
          "luxe & création",
          "luxe & création",
          "luxe & création",
          "luxe & création",
          "luxe & création",
          "luxe & création",
          "luxe & création",
          "luxe & création",
          "luxe & création",
          "luxe & création",
          "luxe & création",
          "luxe & création",
          "luxe & création",
          "luxe & création",
          "luxe & création",
          "luxe & création",
          "premium / luxe abordable",
          "luxe & création",
          "luxe & création",
          "premium / luxe abordable",
          "luxe & création",
          "luxe & création",
          "luxe & création",
          "luxe & création",
          "luxe & création",
          "luxe & création"
         ],
         "x0": " ",
         "xaxis": "x",
         "y0": " ",
         "yaxis": "y"
        }
       ],
       "layout": {
        "legend": {
         "title": {
          "text": "État"
         },
         "tracegroupgap": 0
        },
        "margin": {
         "t": 60
        },
        "template": {
         "data": {
          "bar": [
           {
            "error_x": {
             "color": "#2a3f5f"
            },
            "error_y": {
             "color": "#2a3f5f"
            },
            "marker": {
             "line": {
              "color": "#E5ECF6",
              "width": 0.5
             },
             "pattern": {
              "fillmode": "overlay",
              "size": 10,
              "solidity": 0.2
             }
            },
            "type": "bar"
           }
          ],
          "barpolar": [
           {
            "marker": {
             "line": {
              "color": "#E5ECF6",
              "width": 0.5
             },
             "pattern": {
              "fillmode": "overlay",
              "size": 10,
              "solidity": 0.2
             }
            },
            "type": "barpolar"
           }
          ],
          "carpet": [
           {
            "aaxis": {
             "endlinecolor": "#2a3f5f",
             "gridcolor": "white",
             "linecolor": "white",
             "minorgridcolor": "white",
             "startlinecolor": "#2a3f5f"
            },
            "baxis": {
             "endlinecolor": "#2a3f5f",
             "gridcolor": "white",
             "linecolor": "white",
             "minorgridcolor": "white",
             "startlinecolor": "#2a3f5f"
            },
            "type": "carpet"
           }
          ],
          "choropleth": [
           {
            "colorbar": {
             "outlinewidth": 0,
             "ticks": ""
            },
            "type": "choropleth"
           }
          ],
          "contour": [
           {
            "colorbar": {
             "outlinewidth": 0,
             "ticks": ""
            },
            "colorscale": [
             [
              0,
              "#0d0887"
             ],
             [
              0.1111111111111111,
              "#46039f"
             ],
             [
              0.2222222222222222,
              "#7201a8"
             ],
             [
              0.3333333333333333,
              "#9c179e"
             ],
             [
              0.4444444444444444,
              "#bd3786"
             ],
             [
              0.5555555555555556,
              "#d8576b"
             ],
             [
              0.6666666666666666,
              "#ed7953"
             ],
             [
              0.7777777777777778,
              "#fb9f3a"
             ],
             [
              0.8888888888888888,
              "#fdca26"
             ],
             [
              1,
              "#f0f921"
             ]
            ],
            "type": "contour"
           }
          ],
          "contourcarpet": [
           {
            "colorbar": {
             "outlinewidth": 0,
             "ticks": ""
            },
            "type": "contourcarpet"
           }
          ],
          "heatmap": [
           {
            "colorbar": {
             "outlinewidth": 0,
             "ticks": ""
            },
            "colorscale": [
             [
              0,
              "#0d0887"
             ],
             [
              0.1111111111111111,
              "#46039f"
             ],
             [
              0.2222222222222222,
              "#7201a8"
             ],
             [
              0.3333333333333333,
              "#9c179e"
             ],
             [
              0.4444444444444444,
              "#bd3786"
             ],
             [
              0.5555555555555556,
              "#d8576b"
             ],
             [
              0.6666666666666666,
              "#ed7953"
             ],
             [
              0.7777777777777778,
              "#fb9f3a"
             ],
             [
              0.8888888888888888,
              "#fdca26"
             ],
             [
              1,
              "#f0f921"
             ]
            ],
            "type": "heatmap"
           }
          ],
          "heatmapgl": [
           {
            "colorbar": {
             "outlinewidth": 0,
             "ticks": ""
            },
            "colorscale": [
             [
              0,
              "#0d0887"
             ],
             [
              0.1111111111111111,
              "#46039f"
             ],
             [
              0.2222222222222222,
              "#7201a8"
             ],
             [
              0.3333333333333333,
              "#9c179e"
             ],
             [
              0.4444444444444444,
              "#bd3786"
             ],
             [
              0.5555555555555556,
              "#d8576b"
             ],
             [
              0.6666666666666666,
              "#ed7953"
             ],
             [
              0.7777777777777778,
              "#fb9f3a"
             ],
             [
              0.8888888888888888,
              "#fdca26"
             ],
             [
              1,
              "#f0f921"
             ]
            ],
            "type": "heatmapgl"
           }
          ],
          "histogram": [
           {
            "marker": {
             "pattern": {
              "fillmode": "overlay",
              "size": 10,
              "solidity": 0.2
             }
            },
            "type": "histogram"
           }
          ],
          "histogram2d": [
           {
            "colorbar": {
             "outlinewidth": 0,
             "ticks": ""
            },
            "colorscale": [
             [
              0,
              "#0d0887"
             ],
             [
              0.1111111111111111,
              "#46039f"
             ],
             [
              0.2222222222222222,
              "#7201a8"
             ],
             [
              0.3333333333333333,
              "#9c179e"
             ],
             [
              0.4444444444444444,
              "#bd3786"
             ],
             [
              0.5555555555555556,
              "#d8576b"
             ],
             [
              0.6666666666666666,
              "#ed7953"
             ],
             [
              0.7777777777777778,
              "#fb9f3a"
             ],
             [
              0.8888888888888888,
              "#fdca26"
             ],
             [
              1,
              "#f0f921"
             ]
            ],
            "type": "histogram2d"
           }
          ],
          "histogram2dcontour": [
           {
            "colorbar": {
             "outlinewidth": 0,
             "ticks": ""
            },
            "colorscale": [
             [
              0,
              "#0d0887"
             ],
             [
              0.1111111111111111,
              "#46039f"
             ],
             [
              0.2222222222222222,
              "#7201a8"
             ],
             [
              0.3333333333333333,
              "#9c179e"
             ],
             [
              0.4444444444444444,
              "#bd3786"
             ],
             [
              0.5555555555555556,
              "#d8576b"
             ],
             [
              0.6666666666666666,
              "#ed7953"
             ],
             [
              0.7777777777777778,
              "#fb9f3a"
             ],
             [
              0.8888888888888888,
              "#fdca26"
             ],
             [
              1,
              "#f0f921"
             ]
            ],
            "type": "histogram2dcontour"
           }
          ],
          "mesh3d": [
           {
            "colorbar": {
             "outlinewidth": 0,
             "ticks": ""
            },
            "type": "mesh3d"
           }
          ],
          "parcoords": [
           {
            "line": {
             "colorbar": {
              "outlinewidth": 0,
              "ticks": ""
             }
            },
            "type": "parcoords"
           }
          ],
          "pie": [
           {
            "automargin": true,
            "type": "pie"
           }
          ],
          "scatter": [
           {
            "fillpattern": {
             "fillmode": "overlay",
             "size": 10,
             "solidity": 0.2
            },
            "type": "scatter"
           }
          ],
          "scatter3d": [
           {
            "line": {
             "colorbar": {
              "outlinewidth": 0,
              "ticks": ""
             }
            },
            "marker": {
             "colorbar": {
              "outlinewidth": 0,
              "ticks": ""
             }
            },
            "type": "scatter3d"
           }
          ],
          "scattercarpet": [
           {
            "marker": {
             "colorbar": {
              "outlinewidth": 0,
              "ticks": ""
             }
            },
            "type": "scattercarpet"
           }
          ],
          "scattergeo": [
           {
            "marker": {
             "colorbar": {
              "outlinewidth": 0,
              "ticks": ""
             }
            },
            "type": "scattergeo"
           }
          ],
          "scattergl": [
           {
            "marker": {
             "colorbar": {
              "outlinewidth": 0,
              "ticks": ""
             }
            },
            "type": "scattergl"
           }
          ],
          "scattermapbox": [
           {
            "marker": {
             "colorbar": {
              "outlinewidth": 0,
              "ticks": ""
             }
            },
            "type": "scattermapbox"
           }
          ],
          "scatterpolar": [
           {
            "marker": {
             "colorbar": {
              "outlinewidth": 0,
              "ticks": ""
             }
            },
            "type": "scatterpolar"
           }
          ],
          "scatterpolargl": [
           {
            "marker": {
             "colorbar": {
              "outlinewidth": 0,
              "ticks": ""
             }
            },
            "type": "scatterpolargl"
           }
          ],
          "scatterternary": [
           {
            "marker": {
             "colorbar": {
              "outlinewidth": 0,
              "ticks": ""
             }
            },
            "type": "scatterternary"
           }
          ],
          "surface": [
           {
            "colorbar": {
             "outlinewidth": 0,
             "ticks": ""
            },
            "colorscale": [
             [
              0,
              "#0d0887"
             ],
             [
              0.1111111111111111,
              "#46039f"
             ],
             [
              0.2222222222222222,
              "#7201a8"
             ],
             [
              0.3333333333333333,
              "#9c179e"
             ],
             [
              0.4444444444444444,
              "#bd3786"
             ],
             [
              0.5555555555555556,
              "#d8576b"
             ],
             [
              0.6666666666666666,
              "#ed7953"
             ],
             [
              0.7777777777777778,
              "#fb9f3a"
             ],
             [
              0.8888888888888888,
              "#fdca26"
             ],
             [
              1,
              "#f0f921"
             ]
            ],
            "type": "surface"
           }
          ],
          "table": [
           {
            "cells": {
             "fill": {
              "color": "#EBF0F8"
             },
             "line": {
              "color": "white"
             }
            },
            "header": {
             "fill": {
              "color": "#C8D4E3"
             },
             "line": {
              "color": "white"
             }
            },
            "type": "table"
           }
          ]
         },
         "layout": {
          "annotationdefaults": {
           "arrowcolor": "#2a3f5f",
           "arrowhead": 0,
           "arrowwidth": 1
          },
          "autotypenumbers": "strict",
          "coloraxis": {
           "colorbar": {
            "outlinewidth": 0,
            "ticks": ""
           }
          },
          "colorscale": {
           "diverging": [
            [
             0,
             "#8e0152"
            ],
            [
             0.1,
             "#c51b7d"
            ],
            [
             0.2,
             "#de77ae"
            ],
            [
             0.3,
             "#f1b6da"
            ],
            [
             0.4,
             "#fde0ef"
            ],
            [
             0.5,
             "#f7f7f7"
            ],
            [
             0.6,
             "#e6f5d0"
            ],
            [
             0.7,
             "#b8e186"
            ],
            [
             0.8,
             "#7fbc41"
            ],
            [
             0.9,
             "#4d9221"
            ],
            [
             1,
             "#276419"
            ]
           ],
           "sequential": [
            [
             0,
             "#0d0887"
            ],
            [
             0.1111111111111111,
             "#46039f"
            ],
            [
             0.2222222222222222,
             "#7201a8"
            ],
            [
             0.3333333333333333,
             "#9c179e"
            ],
            [
             0.4444444444444444,
             "#bd3786"
            ],
            [
             0.5555555555555556,
             "#d8576b"
            ],
            [
             0.6666666666666666,
             "#ed7953"
            ],
            [
             0.7777777777777778,
             "#fb9f3a"
            ],
            [
             0.8888888888888888,
             "#fdca26"
            ],
            [
             1,
             "#f0f921"
            ]
           ],
           "sequentialminus": [
            [
             0,
             "#0d0887"
            ],
            [
             0.1111111111111111,
             "#46039f"
            ],
            [
             0.2222222222222222,
             "#7201a8"
            ],
            [
             0.3333333333333333,
             "#9c179e"
            ],
            [
             0.4444444444444444,
             "#bd3786"
            ],
            [
             0.5555555555555556,
             "#d8576b"
            ],
            [
             0.6666666666666666,
             "#ed7953"
            ],
            [
             0.7777777777777778,
             "#fb9f3a"
            ],
            [
             0.8888888888888888,
             "#fdca26"
            ],
            [
             1,
             "#f0f921"
            ]
           ]
          },
          "colorway": [
           "#636efa",
           "#EF553B",
           "#00cc96",
           "#ab63fa",
           "#FFA15A",
           "#19d3f3",
           "#FF6692",
           "#B6E880",
           "#FF97FF",
           "#FECB52"
          ],
          "font": {
           "color": "#2a3f5f"
          },
          "geo": {
           "bgcolor": "white",
           "lakecolor": "white",
           "landcolor": "#E5ECF6",
           "showlakes": true,
           "showland": true,
           "subunitcolor": "white"
          },
          "hoverlabel": {
           "align": "left"
          },
          "hovermode": "closest",
          "mapbox": {
           "style": "light"
          },
          "paper_bgcolor": "white",
          "plot_bgcolor": "#E5ECF6",
          "polar": {
           "angularaxis": {
            "gridcolor": "white",
            "linecolor": "white",
            "ticks": ""
           },
           "bgcolor": "#E5ECF6",
           "radialaxis": {
            "gridcolor": "white",
            "linecolor": "white",
            "ticks": ""
           }
          },
          "scene": {
           "xaxis": {
            "backgroundcolor": "#E5ECF6",
            "gridcolor": "white",
            "gridwidth": 2,
            "linecolor": "white",
            "showbackground": true,
            "ticks": "",
            "zerolinecolor": "white"
           },
           "yaxis": {
            "backgroundcolor": "#E5ECF6",
            "gridcolor": "white",
            "gridwidth": 2,
            "linecolor": "white",
            "showbackground": true,
            "ticks": "",
            "zerolinecolor": "white"
           },
           "zaxis": {
            "backgroundcolor": "#E5ECF6",
            "gridcolor": "white",
            "gridwidth": 2,
            "linecolor": "white",
            "showbackground": true,
            "ticks": "",
            "zerolinecolor": "white"
           }
          },
          "shapedefaults": {
           "line": {
            "color": "#2a3f5f"
           }
          },
          "ternary": {
           "aaxis": {
            "gridcolor": "white",
            "linecolor": "white",
            "ticks": ""
           },
           "baxis": {
            "gridcolor": "white",
            "linecolor": "white",
            "ticks": ""
           },
           "bgcolor": "#E5ECF6",
           "caxis": {
            "gridcolor": "white",
            "linecolor": "white",
            "ticks": ""
           }
          },
          "title": {
           "x": 0.05
          },
          "xaxis": {
           "automargin": true,
           "gridcolor": "white",
           "linecolor": "white",
           "ticks": "",
           "title": {
            "standoff": 15
           },
           "zerolinecolor": "white",
           "zerolinewidth": 2
          },
          "yaxis": {
           "automargin": true,
           "gridcolor": "white",
           "linecolor": "white",
           "ticks": "",
           "title": {
            "standoff": 15
           },
           "zerolinecolor": "white",
           "zerolinewidth": 2
          }
         }
        },
        "violinmode": "group",
        "xaxis": {
         "anchor": "y",
         "categoryarray": [
          "ultra fast fashion / discount",
          "entrée de gamme / mass market",
          "milieu de gamme",
          "premium / luxe abordable",
          "luxe & création"
         ],
         "categoryorder": "array",
         "domain": [
          0,
          1
         ],
         "title": {
          "text": "Segment de marché"
         }
        },
        "yaxis": {
         "anchor": "x",
         "domain": [
          0,
          1
         ]
        }
       }
      }
     },
     "metadata": {},
     "output_type": "display_data"
    }
   ],
   "source": [
    "px.violin(filtered_df_shirt, x='Segment de marché', color='État', category_orders=category_orders)"
   ]
  },
  {
   "cell_type": "code",
   "execution_count": 102,
   "metadata": {},
   "outputs": [
    {
     "data": {
      "application/vnd.plotly.v1+json": {
       "config": {
        "plotlyServerURL": "https://plot.ly"
       },
       "data": [
        {
         "alignmentgroup": "True",
         "box": {
          "visible": false
         },
         "hovertemplate": "État=BON ÉTAT<br>Niveau de prix=%{x}<extra></extra>",
         "legendgroup": "BON ÉTAT",
         "marker": {
          "color": "#636efa"
         },
         "name": "BON ÉTAT",
         "offsetgroup": "BON ÉTAT",
         "orientation": "h",
         "scalegroup": "True",
         "showlegend": true,
         "type": "violin",
         "x": [
          "Luxe",
          "Luxe",
          "Luxe",
          "Luxe",
          "Discount",
          "Discount",
          "Discount",
          "Discount",
          "Discount",
          "Moyen-Haut",
          "Discount",
          "Moyen-Haut",
          "Discount",
          "Discount",
          "Discount",
          "Discount",
          "Discount",
          "Moyen",
          "Moyen",
          "Moyen",
          "Moyen",
          "Moyen-Bas",
          "Moyen-Bas",
          "Moyen-Bas",
          "Moyen-Bas",
          "Moyen-Bas",
          "Haut",
          "Haut",
          "Haut",
          "Haut",
          "Haut",
          "Haut",
          "Haut",
          "Haut",
          "Haut",
          "Haut",
          "Haut",
          "Moyen-Haut",
          "Moyen-Haut",
          "Moyen-Haut",
          "Moyen-Haut",
          "Moyen-Haut",
          "Moyen-Haut",
          "Moyen-Haut",
          "Moyen-Haut",
          "Moyen-Haut",
          "Moyen-Haut",
          "Moyen-Haut",
          "Moyen-Haut",
          "Moyen-Haut",
          "Moyen-Haut",
          "Moyen-Haut",
          "Moyen-Haut",
          "Moyen-Haut",
          "Luxe",
          "Haut",
          "Luxe",
          "Haut",
          "Haut",
          "Luxe",
          "Luxe",
          "Luxe",
          "Luxe",
          "Luxe",
          "Luxe",
          "Luxe",
          "Luxe",
          "Luxe",
          "Luxe"
         ],
         "x0": " ",
         "xaxis": "x",
         "y0": " ",
         "yaxis": "y"
        },
        {
         "alignmentgroup": "True",
         "box": {
          "visible": false
         },
         "hovertemplate": "État=NEUF AVEC ÉTIQUETTE<br>Niveau de prix=%{x}<extra></extra>",
         "legendgroup": "NEUF AVEC ÉTIQUETTE",
         "marker": {
          "color": "#EF553B"
         },
         "name": "NEUF AVEC ÉTIQUETTE",
         "offsetgroup": "NEUF AVEC ÉTIQUETTE",
         "orientation": "h",
         "scalegroup": "True",
         "showlegend": true,
         "type": "violin",
         "x": [
          "Moyen",
          "Moyen-Haut",
          "Luxe",
          "Haut",
          "Haut",
          "Haut",
          "Luxe",
          "Luxe",
          "Luxe",
          "Moyen-Haut",
          "Moyen-Haut",
          "Moyen-Haut",
          "Haut",
          "Moyen-Haut",
          "Moyen-Haut",
          "Moyen-Haut",
          "Moyen-Haut",
          "Moyen-Haut",
          "Moyen-Haut",
          "Moyen-Haut",
          "Moyen-Haut",
          "Moyen-Haut",
          "Moyen-Bas",
          "Haut",
          "Moyen-Bas",
          "Moyen-Haut",
          "Moyen-Haut",
          "Moyen-Haut",
          "Haut",
          "Discount",
          "Discount",
          "Discount",
          "Discount",
          "Discount",
          "Bas",
          "Bas",
          "Discount",
          "Haut",
          "Discount",
          "Discount",
          "Discount",
          "Discount",
          "Discount",
          "Moyen",
          "Moyen",
          "Moyen",
          "Moyen",
          "Moyen-Bas",
          "Moyen-Bas",
          "Haut",
          "Haut",
          "Haut",
          "Haut",
          "Haut",
          "Haut",
          "Haut",
          "Haut",
          "Haut",
          "Haut",
          "Moyen-Haut",
          "Moyen-Haut",
          "Moyen-Haut",
          "Luxe",
          "Haut",
          "Luxe",
          "Luxe",
          "Luxe",
          "Luxe",
          "Luxe",
          "Luxe",
          "Moyen-Haut",
          "Luxe",
          "Haut",
          "Moyen-Haut",
          "Moyen-Haut",
          "Luxe",
          "Premium Luxury",
          "Luxe",
          "Luxe"
         ],
         "x0": " ",
         "xaxis": "x",
         "y0": " ",
         "yaxis": "y"
        },
        {
         "alignmentgroup": "True",
         "box": {
          "visible": false
         },
         "hovertemplate": "État=NEUF SANS ÉTIQUETTE<br>Niveau de prix=%{x}<extra></extra>",
         "legendgroup": "NEUF SANS ÉTIQUETTE",
         "marker": {
          "color": "#00cc96"
         },
         "name": "NEUF SANS ÉTIQUETTE",
         "offsetgroup": "NEUF SANS ÉTIQUETTE",
         "orientation": "h",
         "scalegroup": "True",
         "showlegend": true,
         "type": "violin",
         "x": [
          "Moyen-Haut",
          "Discount",
          "Moyen-Haut",
          "Bas",
          "Bas",
          "Bas",
          "Haut",
          "Moyen-Haut",
          "Moyen-Haut",
          "Moyen-Haut",
          "Moyen",
          "Haut",
          "Moyen-Haut",
          "Haut",
          "Bas",
          "Bas",
          "Moyen-Haut",
          "Moyen-Haut",
          "Haut",
          "Moyen-Haut",
          "Moyen-Haut",
          "Discount",
          "Discount",
          "Discount",
          "Discount",
          "Discount",
          "Discount",
          "Discount",
          "Discount",
          "Discount",
          "Discount",
          "Discount",
          "Discount",
          "Discount",
          "Discount",
          "Discount",
          "Discount",
          "Discount",
          "Discount",
          "Discount",
          "Discount",
          "Discount",
          "Discount",
          "Discount",
          "Discount",
          "Discount",
          "Discount",
          "Discount",
          "Discount",
          "Discount",
          "Discount",
          "Discount",
          "Discount",
          "Discount",
          "Discount",
          "Discount",
          "Discount",
          "Discount",
          "Discount",
          "Discount",
          "Discount",
          "Discount",
          "Discount",
          "Discount",
          "Discount",
          "Discount",
          "Moyen",
          "Moyen",
          "Moyen",
          "Moyen",
          "Moyen",
          "Moyen",
          "Moyen",
          "Moyen",
          "Moyen",
          "Moyen",
          "Moyen",
          "Moyen",
          "Moyen",
          "Moyen-Bas",
          "Moyen-Bas",
          "Moyen-Bas",
          "Moyen-Bas",
          "Haut",
          "Haut",
          "Haut",
          "Haut",
          "Haut",
          "Haut",
          "Haut",
          "Haut",
          "Haut",
          "Haut",
          "Haut",
          "Haut",
          "Haut",
          "Haut",
          "Haut",
          "Moyen-Haut",
          "Moyen-Haut",
          "Moyen-Haut",
          "Moyen-Haut",
          "Moyen-Haut",
          "Moyen-Haut",
          "Moyen-Haut",
          "Moyen-Haut",
          "Moyen-Haut",
          "Moyen-Haut",
          "Moyen-Haut",
          "Luxe",
          "Luxe",
          "Moyen-Haut",
          "Moyen-Haut",
          "Moyen-Haut",
          "Luxe",
          "Luxe",
          "Moyen",
          "Moyen-Haut",
          "Moyen-Haut",
          "Luxe",
          "Luxe",
          "Luxe",
          "Luxe",
          "Luxe",
          "Luxe",
          "Luxe",
          "Luxe",
          "Luxe",
          "Luxe",
          "Luxe",
          "Luxe",
          "Luxe",
          "Luxe",
          "Luxe",
          "Luxe",
          "Luxe",
          "Moyen-Haut",
          "Luxe",
          "Moyen-Haut",
          "Luxe",
          "Luxe",
          "Luxe",
          "Luxe",
          "Luxe",
          "Moyen-Haut",
          "Luxe",
          "Luxe",
          "Luxe"
         ],
         "x0": " ",
         "xaxis": "x",
         "y0": " ",
         "yaxis": "y"
        },
        {
         "alignmentgroup": "True",
         "box": {
          "visible": false
         },
         "hovertemplate": "État=SATISFAISANT<br>Niveau de prix=%{x}<extra></extra>",
         "legendgroup": "SATISFAISANT",
         "marker": {
          "color": "#ab63fa"
         },
         "name": "SATISFAISANT",
         "offsetgroup": "SATISFAISANT",
         "orientation": "h",
         "scalegroup": "True",
         "showlegend": true,
         "type": "violin",
         "x": [
          "Discount",
          "Bas",
          "Moyen-Bas",
          "Haut",
          "Moyen-Haut",
          "Moyen-Haut",
          "Moyen-Haut",
          "Moyen-Haut",
          "Luxe"
         ],
         "x0": " ",
         "xaxis": "x",
         "y0": " ",
         "yaxis": "y"
        },
        {
         "alignmentgroup": "True",
         "box": {
          "visible": false
         },
         "hovertemplate": "État=TRÈS BON ÉTAT<br>Niveau de prix=%{x}<extra></extra>",
         "legendgroup": "TRÈS BON ÉTAT",
         "marker": {
          "color": "#FFA15A"
         },
         "name": "TRÈS BON ÉTAT",
         "offsetgroup": "TRÈS BON ÉTAT",
         "orientation": "h",
         "scalegroup": "True",
         "showlegend": true,
         "type": "violin",
         "x": [
          "Moyen",
          "Haut",
          "Haut",
          "Haut",
          "Haut",
          "Moyen",
          "Moyen",
          "Bas",
          "Moyen",
          "Moyen",
          "Moyen-Haut",
          "Bas",
          "Luxe",
          "Moyen-Haut",
          "Moyen-Haut",
          "Moyen-Haut",
          "Haut",
          "Haut",
          "Moyen",
          "Haut",
          "Haut",
          "Haut",
          "Moyen-Haut",
          "Haut",
          "Moyen-Haut",
          "Moyen-Haut",
          "Haut",
          "Haut",
          "Moyen-Haut",
          "Haut",
          "Haut",
          "Moyen",
          "Moyen-Haut",
          "Haut",
          "Moyen-Haut",
          "Moyen-Haut",
          "Haut",
          "Haut",
          "Moyen-Haut",
          "Moyen-Haut",
          "Moyen-Haut",
          "Bas",
          "Bas",
          "Haut",
          "Bas",
          "Moyen-Haut",
          "Moyen-Haut",
          "Moyen-Haut",
          "Moyen-Haut",
          "Moyen-Haut",
          "Haut",
          "Moyen-Haut",
          "Moyen",
          "Moyen-Haut",
          "Moyen",
          "Moyen-Haut",
          "Bas",
          "Haut",
          "Moyen-Haut",
          "Haut",
          "Moyen",
          "Luxe",
          "Moyen-Haut",
          "Haut",
          "Moyen-Haut",
          "Moyen-Haut",
          "Moyen-Haut",
          "Haut",
          "Moyen-Haut",
          "Moyen-Haut",
          "Moyen-Haut",
          "Bas",
          "Moyen",
          "Moyen-Haut",
          "Moyen",
          "Bas",
          "Bas",
          "Bas",
          "Haut",
          "Moyen-Haut",
          "Luxe",
          "Luxe",
          "Discount",
          "Discount",
          "Discount",
          "Discount",
          "Discount",
          "Discount",
          "Discount",
          "Discount",
          "Discount",
          "Discount",
          "Discount",
          "Discount",
          "Discount",
          "Discount",
          "Discount",
          "Discount",
          "Discount",
          "Discount",
          "Discount",
          "Discount",
          "Discount",
          "Discount",
          "Moyen",
          "Discount",
          "Discount",
          "Discount",
          "Discount",
          "Discount",
          "Discount",
          "Discount",
          "Discount",
          "Discount",
          "Discount",
          "Discount",
          "Discount",
          "Discount",
          "Discount",
          "Discount",
          "Discount",
          "Discount",
          "Discount",
          "Discount",
          "Discount",
          "Discount",
          "Discount",
          "Discount",
          "Discount",
          "Discount",
          "Discount",
          "Discount",
          "Discount",
          "Discount",
          "Discount",
          "Moyen",
          "Moyen",
          "Moyen",
          "Moyen",
          "Moyen",
          "Moyen",
          "Moyen",
          "Moyen",
          "Moyen",
          "Moyen",
          "Moyen",
          "Moyen",
          "Moyen",
          "Moyen",
          "Moyen",
          "Moyen",
          "Moyen",
          "Moyen",
          "Moyen",
          "Moyen",
          "Moyen",
          "Moyen",
          "Moyen",
          "Moyen",
          "Moyen",
          "Moyen",
          "Moyen",
          "Moyen",
          "Moyen",
          "Moyen",
          "Moyen",
          "Moyen",
          "Moyen",
          "Moyen",
          "Moyen",
          "Moyen",
          "Moyen-Bas",
          "Moyen-Bas",
          "Moyen-Bas",
          "Moyen-Bas",
          "Moyen-Bas",
          "Moyen-Bas",
          "Moyen-Bas",
          "Moyen-Bas",
          "Moyen-Bas",
          "Moyen-Bas",
          "Moyen-Bas",
          "Moyen-Bas",
          "Moyen-Bas",
          "Moyen-Bas",
          "Haut",
          "Haut",
          "Haut",
          "Haut",
          "Haut",
          "Haut",
          "Haut",
          "Haut",
          "Haut",
          "Haut",
          "Haut",
          "Haut",
          "Haut",
          "Haut",
          "Haut",
          "Haut",
          "Haut",
          "Haut",
          "Haut",
          "Haut",
          "Haut",
          "Haut",
          "Haut",
          "Haut",
          "Haut",
          "Haut",
          "Haut",
          "Haut",
          "Haut",
          "Haut",
          "Haut",
          "Haut",
          "Haut",
          "Haut",
          "Haut",
          "Haut",
          "Haut",
          "Haut",
          "Haut",
          "Haut",
          "Haut",
          "Haut",
          "Haut",
          "Haut",
          "Haut",
          "Haut",
          "Haut",
          "Haut",
          "Moyen-Haut",
          "Moyen-Haut",
          "Moyen-Haut",
          "Moyen-Haut",
          "Moyen-Haut",
          "Moyen-Haut",
          "Moyen-Haut",
          "Moyen-Haut",
          "Moyen-Haut",
          "Moyen-Haut",
          "Moyen-Haut",
          "Moyen-Haut",
          "Moyen-Haut",
          "Moyen-Haut",
          "Moyen-Haut",
          "Moyen-Haut",
          "Moyen-Haut",
          "Moyen-Haut",
          "Moyen-Haut",
          "Moyen-Haut",
          "Moyen-Haut",
          "Moyen-Haut",
          "Moyen-Haut",
          "Moyen-Haut",
          "Moyen-Haut",
          "Moyen-Haut",
          "Moyen-Haut",
          "Moyen-Haut",
          "Moyen-Haut",
          "Moyen-Haut",
          "Moyen-Haut",
          "Luxe",
          "Luxe",
          "Haut",
          "Luxe",
          "Luxe",
          "Luxe",
          "Luxe",
          "Luxe",
          "Moyen-Haut",
          "Haut",
          "Luxe",
          "Luxe",
          "Luxe",
          "Luxe",
          "Luxe",
          "Luxe",
          "Luxe",
          "Haut",
          "Moyen-Haut",
          "Moyen-Haut",
          "Luxe",
          "Haut",
          "Luxe",
          "Moyen-Haut",
          "Luxe",
          "Haut",
          "Luxe",
          "Moyen-Haut",
          "Moyen",
          "Haut",
          "Haut",
          "Luxe",
          "Moyen",
          "Haut",
          "Haut",
          "Luxe",
          "Moyen-Bas",
          "Haut",
          "Moyen-Bas",
          "Luxe",
          "Luxe",
          "Luxe",
          "Luxe",
          "Luxe",
          "Luxe",
          "Luxe",
          "Luxe",
          "Luxe",
          "Moyen-Haut",
          "Luxe",
          "Luxe",
          "Luxe",
          "Luxe",
          "Luxe",
          "Luxe",
          "Luxe",
          "Moyen-Haut",
          "Luxe",
          "Luxe",
          "Luxe",
          "Luxe",
          "Luxe",
          "Luxe",
          "Luxe",
          "Luxe",
          "Luxe",
          "Luxe",
          "Luxe",
          "Luxe",
          "Luxe",
          "Luxe",
          "Luxe",
          "Luxe",
          "Luxe",
          "Luxe",
          "Luxe",
          "Luxe",
          "Luxe",
          "Luxe",
          "Luxe",
          "Luxe",
          "Luxe",
          "Haut",
          "Luxe",
          "Luxe",
          "Haut",
          "Luxe",
          "Luxe",
          "Luxe",
          "Luxe",
          "Luxe",
          "Luxe"
         ],
         "x0": " ",
         "xaxis": "x",
         "y0": " ",
         "yaxis": "y"
        }
       ],
       "layout": {
        "legend": {
         "title": {
          "text": "État"
         },
         "tracegroupgap": 0
        },
        "margin": {
         "t": 60
        },
        "template": {
         "data": {
          "bar": [
           {
            "error_x": {
             "color": "#2a3f5f"
            },
            "error_y": {
             "color": "#2a3f5f"
            },
            "marker": {
             "line": {
              "color": "#E5ECF6",
              "width": 0.5
             },
             "pattern": {
              "fillmode": "overlay",
              "size": 10,
              "solidity": 0.2
             }
            },
            "type": "bar"
           }
          ],
          "barpolar": [
           {
            "marker": {
             "line": {
              "color": "#E5ECF6",
              "width": 0.5
             },
             "pattern": {
              "fillmode": "overlay",
              "size": 10,
              "solidity": 0.2
             }
            },
            "type": "barpolar"
           }
          ],
          "carpet": [
           {
            "aaxis": {
             "endlinecolor": "#2a3f5f",
             "gridcolor": "white",
             "linecolor": "white",
             "minorgridcolor": "white",
             "startlinecolor": "#2a3f5f"
            },
            "baxis": {
             "endlinecolor": "#2a3f5f",
             "gridcolor": "white",
             "linecolor": "white",
             "minorgridcolor": "white",
             "startlinecolor": "#2a3f5f"
            },
            "type": "carpet"
           }
          ],
          "choropleth": [
           {
            "colorbar": {
             "outlinewidth": 0,
             "ticks": ""
            },
            "type": "choropleth"
           }
          ],
          "contour": [
           {
            "colorbar": {
             "outlinewidth": 0,
             "ticks": ""
            },
            "colorscale": [
             [
              0,
              "#0d0887"
             ],
             [
              0.1111111111111111,
              "#46039f"
             ],
             [
              0.2222222222222222,
              "#7201a8"
             ],
             [
              0.3333333333333333,
              "#9c179e"
             ],
             [
              0.4444444444444444,
              "#bd3786"
             ],
             [
              0.5555555555555556,
              "#d8576b"
             ],
             [
              0.6666666666666666,
              "#ed7953"
             ],
             [
              0.7777777777777778,
              "#fb9f3a"
             ],
             [
              0.8888888888888888,
              "#fdca26"
             ],
             [
              1,
              "#f0f921"
             ]
            ],
            "type": "contour"
           }
          ],
          "contourcarpet": [
           {
            "colorbar": {
             "outlinewidth": 0,
             "ticks": ""
            },
            "type": "contourcarpet"
           }
          ],
          "heatmap": [
           {
            "colorbar": {
             "outlinewidth": 0,
             "ticks": ""
            },
            "colorscale": [
             [
              0,
              "#0d0887"
             ],
             [
              0.1111111111111111,
              "#46039f"
             ],
             [
              0.2222222222222222,
              "#7201a8"
             ],
             [
              0.3333333333333333,
              "#9c179e"
             ],
             [
              0.4444444444444444,
              "#bd3786"
             ],
             [
              0.5555555555555556,
              "#d8576b"
             ],
             [
              0.6666666666666666,
              "#ed7953"
             ],
             [
              0.7777777777777778,
              "#fb9f3a"
             ],
             [
              0.8888888888888888,
              "#fdca26"
             ],
             [
              1,
              "#f0f921"
             ]
            ],
            "type": "heatmap"
           }
          ],
          "heatmapgl": [
           {
            "colorbar": {
             "outlinewidth": 0,
             "ticks": ""
            },
            "colorscale": [
             [
              0,
              "#0d0887"
             ],
             [
              0.1111111111111111,
              "#46039f"
             ],
             [
              0.2222222222222222,
              "#7201a8"
             ],
             [
              0.3333333333333333,
              "#9c179e"
             ],
             [
              0.4444444444444444,
              "#bd3786"
             ],
             [
              0.5555555555555556,
              "#d8576b"
             ],
             [
              0.6666666666666666,
              "#ed7953"
             ],
             [
              0.7777777777777778,
              "#fb9f3a"
             ],
             [
              0.8888888888888888,
              "#fdca26"
             ],
             [
              1,
              "#f0f921"
             ]
            ],
            "type": "heatmapgl"
           }
          ],
          "histogram": [
           {
            "marker": {
             "pattern": {
              "fillmode": "overlay",
              "size": 10,
              "solidity": 0.2
             }
            },
            "type": "histogram"
           }
          ],
          "histogram2d": [
           {
            "colorbar": {
             "outlinewidth": 0,
             "ticks": ""
            },
            "colorscale": [
             [
              0,
              "#0d0887"
             ],
             [
              0.1111111111111111,
              "#46039f"
             ],
             [
              0.2222222222222222,
              "#7201a8"
             ],
             [
              0.3333333333333333,
              "#9c179e"
             ],
             [
              0.4444444444444444,
              "#bd3786"
             ],
             [
              0.5555555555555556,
              "#d8576b"
             ],
             [
              0.6666666666666666,
              "#ed7953"
             ],
             [
              0.7777777777777778,
              "#fb9f3a"
             ],
             [
              0.8888888888888888,
              "#fdca26"
             ],
             [
              1,
              "#f0f921"
             ]
            ],
            "type": "histogram2d"
           }
          ],
          "histogram2dcontour": [
           {
            "colorbar": {
             "outlinewidth": 0,
             "ticks": ""
            },
            "colorscale": [
             [
              0,
              "#0d0887"
             ],
             [
              0.1111111111111111,
              "#46039f"
             ],
             [
              0.2222222222222222,
              "#7201a8"
             ],
             [
              0.3333333333333333,
              "#9c179e"
             ],
             [
              0.4444444444444444,
              "#bd3786"
             ],
             [
              0.5555555555555556,
              "#d8576b"
             ],
             [
              0.6666666666666666,
              "#ed7953"
             ],
             [
              0.7777777777777778,
              "#fb9f3a"
             ],
             [
              0.8888888888888888,
              "#fdca26"
             ],
             [
              1,
              "#f0f921"
             ]
            ],
            "type": "histogram2dcontour"
           }
          ],
          "mesh3d": [
           {
            "colorbar": {
             "outlinewidth": 0,
             "ticks": ""
            },
            "type": "mesh3d"
           }
          ],
          "parcoords": [
           {
            "line": {
             "colorbar": {
              "outlinewidth": 0,
              "ticks": ""
             }
            },
            "type": "parcoords"
           }
          ],
          "pie": [
           {
            "automargin": true,
            "type": "pie"
           }
          ],
          "scatter": [
           {
            "fillpattern": {
             "fillmode": "overlay",
             "size": 10,
             "solidity": 0.2
            },
            "type": "scatter"
           }
          ],
          "scatter3d": [
           {
            "line": {
             "colorbar": {
              "outlinewidth": 0,
              "ticks": ""
             }
            },
            "marker": {
             "colorbar": {
              "outlinewidth": 0,
              "ticks": ""
             }
            },
            "type": "scatter3d"
           }
          ],
          "scattercarpet": [
           {
            "marker": {
             "colorbar": {
              "outlinewidth": 0,
              "ticks": ""
             }
            },
            "type": "scattercarpet"
           }
          ],
          "scattergeo": [
           {
            "marker": {
             "colorbar": {
              "outlinewidth": 0,
              "ticks": ""
             }
            },
            "type": "scattergeo"
           }
          ],
          "scattergl": [
           {
            "marker": {
             "colorbar": {
              "outlinewidth": 0,
              "ticks": ""
             }
            },
            "type": "scattergl"
           }
          ],
          "scattermapbox": [
           {
            "marker": {
             "colorbar": {
              "outlinewidth": 0,
              "ticks": ""
             }
            },
            "type": "scattermapbox"
           }
          ],
          "scatterpolar": [
           {
            "marker": {
             "colorbar": {
              "outlinewidth": 0,
              "ticks": ""
             }
            },
            "type": "scatterpolar"
           }
          ],
          "scatterpolargl": [
           {
            "marker": {
             "colorbar": {
              "outlinewidth": 0,
              "ticks": ""
             }
            },
            "type": "scatterpolargl"
           }
          ],
          "scatterternary": [
           {
            "marker": {
             "colorbar": {
              "outlinewidth": 0,
              "ticks": ""
             }
            },
            "type": "scatterternary"
           }
          ],
          "surface": [
           {
            "colorbar": {
             "outlinewidth": 0,
             "ticks": ""
            },
            "colorscale": [
             [
              0,
              "#0d0887"
             ],
             [
              0.1111111111111111,
              "#46039f"
             ],
             [
              0.2222222222222222,
              "#7201a8"
             ],
             [
              0.3333333333333333,
              "#9c179e"
             ],
             [
              0.4444444444444444,
              "#bd3786"
             ],
             [
              0.5555555555555556,
              "#d8576b"
             ],
             [
              0.6666666666666666,
              "#ed7953"
             ],
             [
              0.7777777777777778,
              "#fb9f3a"
             ],
             [
              0.8888888888888888,
              "#fdca26"
             ],
             [
              1,
              "#f0f921"
             ]
            ],
            "type": "surface"
           }
          ],
          "table": [
           {
            "cells": {
             "fill": {
              "color": "#EBF0F8"
             },
             "line": {
              "color": "white"
             }
            },
            "header": {
             "fill": {
              "color": "#C8D4E3"
             },
             "line": {
              "color": "white"
             }
            },
            "type": "table"
           }
          ]
         },
         "layout": {
          "annotationdefaults": {
           "arrowcolor": "#2a3f5f",
           "arrowhead": 0,
           "arrowwidth": 1
          },
          "autotypenumbers": "strict",
          "coloraxis": {
           "colorbar": {
            "outlinewidth": 0,
            "ticks": ""
           }
          },
          "colorscale": {
           "diverging": [
            [
             0,
             "#8e0152"
            ],
            [
             0.1,
             "#c51b7d"
            ],
            [
             0.2,
             "#de77ae"
            ],
            [
             0.3,
             "#f1b6da"
            ],
            [
             0.4,
             "#fde0ef"
            ],
            [
             0.5,
             "#f7f7f7"
            ],
            [
             0.6,
             "#e6f5d0"
            ],
            [
             0.7,
             "#b8e186"
            ],
            [
             0.8,
             "#7fbc41"
            ],
            [
             0.9,
             "#4d9221"
            ],
            [
             1,
             "#276419"
            ]
           ],
           "sequential": [
            [
             0,
             "#0d0887"
            ],
            [
             0.1111111111111111,
             "#46039f"
            ],
            [
             0.2222222222222222,
             "#7201a8"
            ],
            [
             0.3333333333333333,
             "#9c179e"
            ],
            [
             0.4444444444444444,
             "#bd3786"
            ],
            [
             0.5555555555555556,
             "#d8576b"
            ],
            [
             0.6666666666666666,
             "#ed7953"
            ],
            [
             0.7777777777777778,
             "#fb9f3a"
            ],
            [
             0.8888888888888888,
             "#fdca26"
            ],
            [
             1,
             "#f0f921"
            ]
           ],
           "sequentialminus": [
            [
             0,
             "#0d0887"
            ],
            [
             0.1111111111111111,
             "#46039f"
            ],
            [
             0.2222222222222222,
             "#7201a8"
            ],
            [
             0.3333333333333333,
             "#9c179e"
            ],
            [
             0.4444444444444444,
             "#bd3786"
            ],
            [
             0.5555555555555556,
             "#d8576b"
            ],
            [
             0.6666666666666666,
             "#ed7953"
            ],
            [
             0.7777777777777778,
             "#fb9f3a"
            ],
            [
             0.8888888888888888,
             "#fdca26"
            ],
            [
             1,
             "#f0f921"
            ]
           ]
          },
          "colorway": [
           "#636efa",
           "#EF553B",
           "#00cc96",
           "#ab63fa",
           "#FFA15A",
           "#19d3f3",
           "#FF6692",
           "#B6E880",
           "#FF97FF",
           "#FECB52"
          ],
          "font": {
           "color": "#2a3f5f"
          },
          "geo": {
           "bgcolor": "white",
           "lakecolor": "white",
           "landcolor": "#E5ECF6",
           "showlakes": true,
           "showland": true,
           "subunitcolor": "white"
          },
          "hoverlabel": {
           "align": "left"
          },
          "hovermode": "closest",
          "mapbox": {
           "style": "light"
          },
          "paper_bgcolor": "white",
          "plot_bgcolor": "#E5ECF6",
          "polar": {
           "angularaxis": {
            "gridcolor": "white",
            "linecolor": "white",
            "ticks": ""
           },
           "bgcolor": "#E5ECF6",
           "radialaxis": {
            "gridcolor": "white",
            "linecolor": "white",
            "ticks": ""
           }
          },
          "scene": {
           "xaxis": {
            "backgroundcolor": "#E5ECF6",
            "gridcolor": "white",
            "gridwidth": 2,
            "linecolor": "white",
            "showbackground": true,
            "ticks": "",
            "zerolinecolor": "white"
           },
           "yaxis": {
            "backgroundcolor": "#E5ECF6",
            "gridcolor": "white",
            "gridwidth": 2,
            "linecolor": "white",
            "showbackground": true,
            "ticks": "",
            "zerolinecolor": "white"
           },
           "zaxis": {
            "backgroundcolor": "#E5ECF6",
            "gridcolor": "white",
            "gridwidth": 2,
            "linecolor": "white",
            "showbackground": true,
            "ticks": "",
            "zerolinecolor": "white"
           }
          },
          "shapedefaults": {
           "line": {
            "color": "#2a3f5f"
           }
          },
          "ternary": {
           "aaxis": {
            "gridcolor": "white",
            "linecolor": "white",
            "ticks": ""
           },
           "baxis": {
            "gridcolor": "white",
            "linecolor": "white",
            "ticks": ""
           },
           "bgcolor": "#E5ECF6",
           "caxis": {
            "gridcolor": "white",
            "linecolor": "white",
            "ticks": ""
           }
          },
          "title": {
           "x": 0.05
          },
          "xaxis": {
           "automargin": true,
           "gridcolor": "white",
           "linecolor": "white",
           "ticks": "",
           "title": {
            "standoff": 15
           },
           "zerolinecolor": "white",
           "zerolinewidth": 2
          },
          "yaxis": {
           "automargin": true,
           "gridcolor": "white",
           "linecolor": "white",
           "ticks": "",
           "title": {
            "standoff": 15
           },
           "zerolinecolor": "white",
           "zerolinewidth": 2
          }
         }
        },
        "violinmode": "group",
        "xaxis": {
         "anchor": "y",
         "categoryarray": [
          "Discount",
          "Bas",
          "Moyen-Bas",
          "Moyen",
          "Moyen-Haut",
          "Haut",
          "Premium Luxury",
          "Luxe"
         ],
         "categoryorder": "array",
         "domain": [
          0,
          1
         ],
         "title": {
          "text": "Niveau de prix"
         }
        },
        "yaxis": {
         "anchor": "x",
         "domain": [
          0,
          1
         ]
        }
       }
      }
     },
     "metadata": {},
     "output_type": "display_data"
    }
   ],
   "source": [
    "px.violin(filtered_df_shirt, x='Niveau de prix', color='État', category_orders=category_orders)"
   ]
  },
  {
   "cell_type": "code",
   "execution_count": 103,
   "metadata": {},
   "outputs": [
    {
     "data": {
      "application/vnd.plotly.v1+json": {
       "config": {
        "plotlyServerURL": "https://plot.ly"
       },
       "data": [
        {
         "contours": {
          "coloring": "none"
         },
         "hovertemplate": "Niveau de prix=%{x}<br>Prix=%{y}<br>count=%{z}<extra></extra>",
         "legendgroup": "",
         "line": {
          "color": "#636efa"
         },
         "name": "",
         "showlegend": false,
         "type": "histogram2dcontour",
         "x": [
          "Moyen",
          "Moyen",
          "Haut",
          "Haut",
          "Moyen-Haut",
          "Haut",
          "Moyen-Haut",
          "Haut",
          "Discount",
          "Moyen",
          "Luxe",
          "Haut",
          "Moyen",
          "Haut",
          "Bas",
          "Moyen",
          "Moyen",
          "Haut",
          "Moyen-Haut",
          "Luxe",
          "Moyen-Haut",
          "Bas",
          "Luxe",
          "Luxe",
          "Moyen-Haut",
          "Bas",
          "Luxe",
          "Luxe",
          "Bas",
          "Luxe",
          "Moyen-Haut",
          "Bas",
          "Moyen-Haut",
          "Haut",
          "Haut",
          "Moyen",
          "Haut",
          "Haut",
          "Haut",
          "Haut",
          "Moyen-Haut",
          "Moyen-Haut",
          "Haut",
          "Moyen-Haut",
          "Moyen-Haut",
          "Haut",
          "Haut",
          "Moyen-Haut",
          "Moyen-Haut",
          "Moyen-Haut",
          "Moyen-Haut",
          "Haut",
          "Haut",
          "Moyen",
          "Moyen-Haut",
          "Moyen-Haut",
          "Haut",
          "Moyen-Haut",
          "Moyen-Haut",
          "Haut",
          "Haut",
          "Moyen-Haut",
          "Moyen-Haut",
          "Moyen",
          "Moyen-Haut",
          "Bas",
          "Bas",
          "Haut",
          "Moyen-Haut",
          "Haut",
          "Bas",
          "Haut",
          "Moyen-Haut",
          "Moyen-Haut",
          "Moyen-Haut",
          "Moyen-Haut",
          "Moyen-Haut",
          "Moyen-Haut",
          "Moyen-Haut",
          "Haut",
          "Moyen-Haut",
          "Moyen-Haut",
          "Moyen-Haut",
          "Haut",
          "Moyen",
          "Moyen-Haut",
          "Moyen",
          "Moyen-Haut",
          "Bas",
          "Haut",
          "Moyen-Haut",
          "Bas",
          "Bas",
          "Haut",
          "Moyen-Haut",
          "Moyen",
          "Luxe",
          "Moyen-Haut",
          "Moyen-Haut",
          "Moyen-Haut",
          "Haut",
          "Moyen-Haut",
          "Moyen-Haut",
          "Moyen-Haut",
          "Moyen-Haut",
          "Moyen-Haut",
          "Moyen-Haut",
          "Moyen-Haut",
          "Moyen-Haut",
          "Haut",
          "Moyen-Bas",
          "Moyen-Haut",
          "Haut",
          "Moyen-Haut",
          "Moyen-Haut",
          "Bas",
          "Moyen",
          "Moyen-Haut",
          "Moyen-Bas",
          "Moyen",
          "Luxe",
          "Moyen-Haut",
          "Moyen-Haut",
          "Bas",
          "Bas",
          "Bas",
          "Luxe",
          "Haut",
          "Haut",
          "Moyen-Haut",
          "Moyen-Haut",
          "Moyen-Haut",
          "Haut",
          "Luxe",
          "Moyen-Haut",
          "Luxe",
          "Discount",
          "Discount",
          "Discount",
          "Discount",
          "Discount",
          "Discount",
          "Discount",
          "Discount",
          "Discount",
          "Discount",
          "Discount",
          "Discount",
          "Discount",
          "Discount",
          "Discount",
          "Discount",
          "Discount",
          "Discount",
          "Discount",
          "Discount",
          "Discount",
          "Discount",
          "Discount",
          "Discount",
          "Discount",
          "Discount",
          "Discount",
          "Discount",
          "Discount",
          "Discount",
          "Discount",
          "Discount",
          "Discount",
          "Discount",
          "Discount",
          "Discount",
          "Discount",
          "Discount",
          "Discount",
          "Discount",
          "Discount",
          "Discount",
          "Discount",
          "Discount",
          "Discount",
          "Discount",
          "Bas",
          "Bas",
          "Discount",
          "Discount",
          "Discount",
          "Discount",
          "Discount",
          "Discount",
          "Discount",
          "Discount",
          "Moyen-Haut",
          "Bas",
          "Moyen",
          "Discount",
          "Discount",
          "Discount",
          "Discount",
          "Discount",
          "Discount",
          "Discount",
          "Discount",
          "Haut",
          "Moyen-Haut",
          "Discount",
          "Discount",
          "Discount",
          "Discount",
          "Discount",
          "Discount",
          "Discount",
          "Discount",
          "Discount",
          "Discount",
          "Discount",
          "Discount",
          "Discount",
          "Discount",
          "Discount",
          "Discount",
          "Discount",
          "Discount",
          "Discount",
          "Discount",
          "Discount",
          "Discount",
          "Discount",
          "Discount",
          "Discount",
          "Discount",
          "Discount",
          "Discount",
          "Discount",
          "Discount",
          "Discount",
          "Discount",
          "Discount",
          "Discount",
          "Discount",
          "Discount",
          "Discount",
          "Discount",
          "Discount",
          "Discount",
          "Discount",
          "Discount",
          "Discount",
          "Discount",
          "Discount",
          "Discount",
          "Discount",
          "Discount",
          "Discount",
          "Discount",
          "Discount",
          "Discount",
          "Discount",
          "Discount",
          "Discount",
          "Discount",
          "Discount",
          "Discount",
          "Moyen",
          "Moyen",
          "Moyen",
          "Moyen",
          "Moyen",
          "Moyen",
          "Moyen",
          "Moyen",
          "Moyen",
          "Moyen",
          "Moyen",
          "Moyen",
          "Moyen",
          "Moyen",
          "Moyen",
          "Moyen",
          "Moyen",
          "Moyen",
          "Moyen",
          "Moyen",
          "Moyen",
          "Moyen",
          "Moyen",
          "Moyen",
          "Moyen",
          "Moyen",
          "Moyen",
          "Moyen",
          "Moyen",
          "Moyen",
          "Moyen",
          "Moyen",
          "Moyen",
          "Moyen",
          "Moyen",
          "Moyen",
          "Moyen",
          "Moyen",
          "Moyen",
          "Moyen",
          "Moyen",
          "Moyen",
          "Moyen",
          "Moyen",
          "Moyen",
          "Moyen",
          "Moyen",
          "Moyen",
          "Moyen",
          "Moyen",
          "Moyen",
          "Moyen",
          "Moyen",
          "Moyen",
          "Moyen",
          "Moyen",
          "Moyen",
          "Moyen-Bas",
          "Moyen-Bas",
          "Moyen-Bas",
          "Moyen-Bas",
          "Moyen-Bas",
          "Moyen-Bas",
          "Moyen-Bas",
          "Moyen-Bas",
          "Moyen-Bas",
          "Moyen-Bas",
          "Moyen-Bas",
          "Moyen-Bas",
          "Moyen-Bas",
          "Moyen-Bas",
          "Moyen-Bas",
          "Moyen-Bas",
          "Moyen-Bas",
          "Moyen-Bas",
          "Moyen-Bas",
          "Moyen-Bas",
          "Moyen-Bas",
          "Moyen-Bas",
          "Moyen-Bas",
          "Moyen-Bas",
          "Moyen-Bas",
          "Moyen-Bas",
          "Haut",
          "Haut",
          "Haut",
          "Haut",
          "Haut",
          "Haut",
          "Haut",
          "Haut",
          "Haut",
          "Haut",
          "Haut",
          "Haut",
          "Haut",
          "Haut",
          "Haut",
          "Haut",
          "Haut",
          "Haut",
          "Haut",
          "Haut",
          "Haut",
          "Haut",
          "Haut",
          "Haut",
          "Haut",
          "Haut",
          "Haut",
          "Haut",
          "Haut",
          "Haut",
          "Haut",
          "Haut",
          "Haut",
          "Haut",
          "Haut",
          "Haut",
          "Haut",
          "Haut",
          "Haut",
          "Haut",
          "Haut",
          "Haut",
          "Haut",
          "Haut",
          "Haut",
          "Haut",
          "Haut",
          "Haut",
          "Haut",
          "Haut",
          "Haut",
          "Haut",
          "Haut",
          "Haut",
          "Haut",
          "Haut",
          "Haut",
          "Haut",
          "Haut",
          "Haut",
          "Haut",
          "Haut",
          "Haut",
          "Haut",
          "Haut",
          "Haut",
          "Haut",
          "Haut",
          "Haut",
          "Haut",
          "Haut",
          "Haut",
          "Haut",
          "Haut",
          "Haut",
          "Haut",
          "Haut",
          "Haut",
          "Haut",
          "Haut",
          "Haut",
          "Haut",
          "Haut",
          "Haut",
          "Haut",
          "Moyen-Haut",
          "Moyen-Haut",
          "Moyen-Haut",
          "Moyen-Haut",
          "Moyen-Haut",
          "Moyen-Haut",
          "Moyen-Haut",
          "Moyen-Haut",
          "Moyen-Haut",
          "Moyen-Haut",
          "Moyen-Haut",
          "Moyen-Haut",
          "Moyen-Haut",
          "Moyen-Haut",
          "Moyen-Haut",
          "Moyen-Haut",
          "Moyen-Haut",
          "Moyen-Haut",
          "Moyen-Haut",
          "Moyen-Haut",
          "Moyen-Haut",
          "Moyen-Haut",
          "Moyen-Haut",
          "Moyen-Haut",
          "Moyen-Haut",
          "Moyen-Haut",
          "Moyen-Haut",
          "Moyen-Haut",
          "Moyen-Haut",
          "Moyen-Haut",
          "Moyen-Haut",
          "Moyen-Haut",
          "Moyen-Haut",
          "Moyen-Haut",
          "Moyen-Haut",
          "Moyen-Haut",
          "Moyen-Haut",
          "Moyen-Haut",
          "Moyen-Haut",
          "Moyen-Haut",
          "Moyen-Haut",
          "Moyen-Haut",
          "Moyen-Haut",
          "Moyen-Haut",
          "Moyen-Haut",
          "Moyen-Haut",
          "Moyen-Haut",
          "Moyen-Haut",
          "Moyen-Haut",
          "Moyen-Haut",
          "Moyen-Haut",
          "Moyen-Haut",
          "Moyen-Haut",
          "Moyen-Haut",
          "Moyen-Haut",
          "Moyen-Haut",
          "Moyen-Haut",
          "Moyen-Haut",
          "Moyen-Haut",
          "Moyen-Haut",
          "Moyen-Haut",
          "Moyen-Haut",
          "Moyen-Haut",
          "Moyen-Haut",
          "Moyen-Haut",
          "Luxe",
          "Luxe",
          "Haut",
          "Luxe",
          "Luxe",
          "Luxe",
          "Luxe",
          "Luxe",
          "Luxe",
          "Moyen-Haut",
          "Haut",
          "Luxe",
          "Luxe",
          "Luxe",
          "Luxe",
          "Luxe",
          "Luxe",
          "Luxe",
          "Haut",
          "Haut",
          "Moyen-Haut",
          "Moyen-Haut",
          "Luxe",
          "Luxe",
          "Luxe",
          "Luxe",
          "Haut",
          "Haut",
          "Luxe",
          "Haut",
          "Moyen-Haut",
          "Moyen-Haut",
          "Luxe",
          "Moyen-Haut",
          "Moyen-Haut",
          "Luxe",
          "Haut",
          "Luxe",
          "Moyen-Haut",
          "Luxe",
          "Moyen-Haut",
          "Moyen",
          "Haut",
          "Luxe",
          "Haut",
          "Luxe",
          "Moyen",
          "Haut",
          "Luxe",
          "Haut",
          "Luxe",
          "Haut",
          "Moyen",
          "Moyen-Bas",
          "Haut",
          "Moyen-Bas",
          "Luxe",
          "Moyen-Haut",
          "Moyen-Haut",
          "Luxe",
          "Luxe",
          "Luxe",
          "Luxe",
          "Luxe",
          "Luxe",
          "Luxe",
          "Luxe",
          "Luxe",
          "Luxe",
          "Luxe",
          "Luxe",
          "Luxe",
          "Luxe",
          "Luxe",
          "Luxe",
          "Moyen-Haut",
          "Luxe",
          "Luxe",
          "Luxe",
          "Luxe",
          "Luxe",
          "Luxe",
          "Luxe",
          "Luxe",
          "Luxe",
          "Luxe",
          "Luxe",
          "Luxe",
          "Moyen-Haut",
          "Luxe",
          "Luxe",
          "Luxe",
          "Luxe",
          "Luxe",
          "Luxe",
          "Luxe",
          "Luxe",
          "Luxe",
          "Luxe",
          "Luxe",
          "Luxe",
          "Luxe",
          "Luxe",
          "Luxe",
          "Luxe",
          "Luxe",
          "Luxe",
          "Luxe",
          "Luxe",
          "Luxe",
          "Luxe",
          "Luxe",
          "Luxe",
          "Luxe",
          "Moyen-Haut",
          "Luxe",
          "Luxe",
          "Luxe",
          "Haut",
          "Luxe",
          "Luxe",
          "Moyen-Haut",
          "Luxe",
          "Luxe",
          "Luxe",
          "Luxe",
          "Luxe",
          "Moyen-Haut",
          "Luxe",
          "Luxe",
          "Luxe",
          "Moyen-Haut",
          "Luxe",
          "Luxe",
          "Luxe",
          "Luxe",
          "Luxe",
          "Moyen-Haut",
          "Luxe",
          "Luxe",
          "Luxe",
          "Premium Luxury",
          "Luxe",
          "Luxe",
          "Luxe",
          "Haut",
          "Luxe",
          "Luxe",
          "Luxe",
          "Luxe",
          "Luxe",
          "Moyen-Haut",
          "Luxe",
          "Luxe",
          "Haut",
          "Luxe",
          "Luxe",
          "Luxe",
          "Luxe",
          "Luxe",
          "Luxe",
          "Luxe",
          "Luxe",
          "Luxe",
          "Luxe"
         ],
         "xaxis": "x",
         "xbingroup": "x",
         "y": [
          5,
          28,
          45,
          18,
          17,
          24.9,
          25,
          45,
          5,
          11.5,
          130,
          30,
          10,
          30,
          7,
          20,
          20,
          80,
          10,
          130,
          25,
          3,
          149,
          230,
          10,
          4,
          65,
          140,
          3,
          170,
          13,
          3,
          43,
          28,
          28,
          28,
          28,
          28,
          35,
          28,
          30,
          3,
          28,
          7.5,
          12,
          15,
          28,
          28,
          25,
          25,
          10,
          28,
          29,
          2,
          24.99,
          35,
          28,
          29.99,
          28,
          28,
          28,
          28,
          28,
          8,
          5,
          3.99,
          3.99,
          28,
          34.5,
          39,
          1,
          15,
          25,
          19.99,
          12,
          10,
          18,
          12,
          35,
          27,
          22,
          29.9,
          25,
          30,
          15,
          20,
          2,
          2,
          2,
          24,
          10,
          3.5,
          16,
          28,
          16,
          8.5,
          20,
          13,
          29.99,
          13,
          35,
          13,
          18,
          9,
          20,
          8,
          20,
          15,
          32.5,
          45,
          19.99,
          8,
          40,
          38,
          10,
          2,
          22,
          12,
          12,
          13,
          20,
          35,
          32.5,
          5,
          1,
          4,
          30,
          30,
          35,
          15,
          10,
          13,
          30,
          110,
          10,
          75,
          5,
          5,
          15,
          2,
          2,
          15,
          4,
          4,
          2,
          4,
          3,
          10,
          2,
          5,
          3,
          3,
          5,
          4,
          5,
          2,
          5,
          3,
          3,
          3,
          2,
          3,
          5,
          1,
          1,
          3.5,
          2,
          3.5,
          2,
          6.5,
          15,
          3,
          2,
          4.5,
          8,
          10,
          5,
          1,
          2,
          8,
          3,
          7,
          3.5,
          4.5,
          3,
          5,
          5,
          8,
          2,
          8,
          8,
          7.5,
          16,
          3,
          2,
          1,
          3,
          5,
          9,
          7,
          9,
          5,
          9,
          30,
          15,
          2,
          2,
          4,
          2.5,
          4,
          4,
          3,
          4.99,
          5,
          7,
          12,
          11,
          5,
          16,
          8,
          7,
          10,
          7,
          5,
          5,
          5,
          6,
          5,
          5,
          4,
          5,
          4,
          3,
          4,
          5,
          3.5,
          5,
          10,
          5,
          10,
          4,
          5,
          5,
          4,
          6,
          10,
          4,
          7,
          5,
          3,
          3,
          6,
          4,
          9,
          8.5,
          1,
          5,
          4,
          6.5,
          7,
          5,
          10,
          8,
          2,
          15,
          5,
          10,
          5,
          3.5,
          2.5,
          2.5,
          2,
          10,
          3,
          5.99,
          5,
          4,
          5,
          4,
          6,
          5,
          2.5,
          6,
          3,
          8,
          8,
          7,
          5,
          8,
          6.5,
          20,
          1,
          39.99,
          1,
          3,
          5,
          10,
          6,
          60,
          25,
          6,
          6,
          19,
          15,
          5,
          5,
          3.99,
          3.49,
          6,
          47.5,
          1,
          9,
          4,
          9,
          4,
          9,
          8,
          2.5,
          10,
          5,
          2,
          8,
          7,
          12,
          9,
          4,
          3.5,
          8,
          5,
          2.5,
          5,
          8,
          3,
          5,
          2,
          4,
          3,
          5,
          3,
          3,
          9,
          2,
          3,
          3,
          2,
          4,
          25,
          35,
          45,
          4,
          55,
          50,
          55,
          15,
          10,
          20,
          17,
          24,
          55,
          45,
          55,
          55,
          18,
          45,
          18,
          60,
          30,
          35,
          40,
          10,
          25,
          95,
          8,
          12,
          20,
          30,
          20,
          30,
          60,
          40,
          20,
          12,
          15,
          25,
          15,
          20,
          12,
          15,
          15,
          20,
          38,
          18,
          40,
          15,
          15,
          20,
          38,
          18,
          40,
          15,
          30,
          20,
          13,
          25,
          25,
          15,
          25,
          6,
          30,
          5,
          5,
          5,
          5,
          5,
          10,
          2,
          33,
          10,
          59,
          5,
          33,
          5,
          55,
          9,
          10,
          5,
          5,
          12,
          10,
          2,
          15,
          5,
          12.5,
          10,
          4,
          4,
          15,
          8,
          9,
          17,
          15,
          15,
          17,
          15,
          10,
          15,
          5,
          5,
          7.5,
          15,
          11,
          10,
          17,
          15,
          7,
          4,
          2,
          4,
          10,
          18,
          15,
          8,
          8,
          1,
          4,
          13,
          6,
          20,
          28,
          20,
          12,
          12,
          12,
          7,
          7,
          10,
          10,
          10,
          6,
          7,
          6,
          20,
          15,
          5,
          20,
          20,
          35,
          2,
          5,
          30,
          10,
          4,
          25,
          7,
          20,
          12,
          57,
          26,
          29,
          55,
          68,
          44,
          200,
          92.94,
          30,
          26,
          35,
          348.53,
          240,
          220.33,
          214.12,
          79,
          120,
          24,
          57,
          120,
          47,
          32,
          230,
          160,
          45,
          200,
          59,
          30,
          232.57,
          27,
          25,
          25,
          115,
          20,
          20,
          59,
          36,
          55,
          22,
          44,
          35,
          20,
          35,
          240,
          16,
          290,
          20,
          35,
          240,
          16,
          290,
          25,
          25,
          17,
          24,
          17,
          215,
          37,
          28,
          154,
          99,
          264,
          135,
          130,
          170,
          71,
          67,
          135,
          118,
          125,
          42,
          180,
          125,
          115,
          199,
          25,
          90,
          200,
          96.91,
          90,
          96.91,
          90,
          99,
          67.19,
          100,
          234,
          47,
          360,
          20,
          160,
          350,
          40,
          258.41,
          83.98,
          45,
          122,
          150,
          148.59,
          300,
          110,
          110,
          96.91,
          240,
          63,
          96,
          270,
          240,
          199,
          72,
          72,
          77,
          65,
          153,
          72,
          28,
          133.51,
          170,
          91.74,
          50,
          90,
          72,
          20,
          231.28,
          155.05,
          116.29,
          60,
          72,
          20,
          60,
          90,
          72,
          20,
          231.28,
          155.05,
          116.29,
          60,
          72,
          20,
          60,
          236,
          90.44,
          99,
          250,
          321.72,
          108,
          28,
          45,
          90,
          170,
          130,
          195,
          20,
          180.89,
          45,
          30,
          49,
          180.89,
          210,
          50.56,
          129.21,
          115,
          70,
          45,
          88,
          380
         ],
         "yaxis": "y",
         "ybingroup": "y"
        }
       ],
       "layout": {
        "legend": {
         "tracegroupgap": 0
        },
        "margin": {
         "t": 60
        },
        "template": {
         "data": {
          "bar": [
           {
            "error_x": {
             "color": "#2a3f5f"
            },
            "error_y": {
             "color": "#2a3f5f"
            },
            "marker": {
             "line": {
              "color": "#E5ECF6",
              "width": 0.5
             },
             "pattern": {
              "fillmode": "overlay",
              "size": 10,
              "solidity": 0.2
             }
            },
            "type": "bar"
           }
          ],
          "barpolar": [
           {
            "marker": {
             "line": {
              "color": "#E5ECF6",
              "width": 0.5
             },
             "pattern": {
              "fillmode": "overlay",
              "size": 10,
              "solidity": 0.2
             }
            },
            "type": "barpolar"
           }
          ],
          "carpet": [
           {
            "aaxis": {
             "endlinecolor": "#2a3f5f",
             "gridcolor": "white",
             "linecolor": "white",
             "minorgridcolor": "white",
             "startlinecolor": "#2a3f5f"
            },
            "baxis": {
             "endlinecolor": "#2a3f5f",
             "gridcolor": "white",
             "linecolor": "white",
             "minorgridcolor": "white",
             "startlinecolor": "#2a3f5f"
            },
            "type": "carpet"
           }
          ],
          "choropleth": [
           {
            "colorbar": {
             "outlinewidth": 0,
             "ticks": ""
            },
            "type": "choropleth"
           }
          ],
          "contour": [
           {
            "colorbar": {
             "outlinewidth": 0,
             "ticks": ""
            },
            "colorscale": [
             [
              0,
              "#0d0887"
             ],
             [
              0.1111111111111111,
              "#46039f"
             ],
             [
              0.2222222222222222,
              "#7201a8"
             ],
             [
              0.3333333333333333,
              "#9c179e"
             ],
             [
              0.4444444444444444,
              "#bd3786"
             ],
             [
              0.5555555555555556,
              "#d8576b"
             ],
             [
              0.6666666666666666,
              "#ed7953"
             ],
             [
              0.7777777777777778,
              "#fb9f3a"
             ],
             [
              0.8888888888888888,
              "#fdca26"
             ],
             [
              1,
              "#f0f921"
             ]
            ],
            "type": "contour"
           }
          ],
          "contourcarpet": [
           {
            "colorbar": {
             "outlinewidth": 0,
             "ticks": ""
            },
            "type": "contourcarpet"
           }
          ],
          "heatmap": [
           {
            "colorbar": {
             "outlinewidth": 0,
             "ticks": ""
            },
            "colorscale": [
             [
              0,
              "#0d0887"
             ],
             [
              0.1111111111111111,
              "#46039f"
             ],
             [
              0.2222222222222222,
              "#7201a8"
             ],
             [
              0.3333333333333333,
              "#9c179e"
             ],
             [
              0.4444444444444444,
              "#bd3786"
             ],
             [
              0.5555555555555556,
              "#d8576b"
             ],
             [
              0.6666666666666666,
              "#ed7953"
             ],
             [
              0.7777777777777778,
              "#fb9f3a"
             ],
             [
              0.8888888888888888,
              "#fdca26"
             ],
             [
              1,
              "#f0f921"
             ]
            ],
            "type": "heatmap"
           }
          ],
          "heatmapgl": [
           {
            "colorbar": {
             "outlinewidth": 0,
             "ticks": ""
            },
            "colorscale": [
             [
              0,
              "#0d0887"
             ],
             [
              0.1111111111111111,
              "#46039f"
             ],
             [
              0.2222222222222222,
              "#7201a8"
             ],
             [
              0.3333333333333333,
              "#9c179e"
             ],
             [
              0.4444444444444444,
              "#bd3786"
             ],
             [
              0.5555555555555556,
              "#d8576b"
             ],
             [
              0.6666666666666666,
              "#ed7953"
             ],
             [
              0.7777777777777778,
              "#fb9f3a"
             ],
             [
              0.8888888888888888,
              "#fdca26"
             ],
             [
              1,
              "#f0f921"
             ]
            ],
            "type": "heatmapgl"
           }
          ],
          "histogram": [
           {
            "marker": {
             "pattern": {
              "fillmode": "overlay",
              "size": 10,
              "solidity": 0.2
             }
            },
            "type": "histogram"
           }
          ],
          "histogram2d": [
           {
            "colorbar": {
             "outlinewidth": 0,
             "ticks": ""
            },
            "colorscale": [
             [
              0,
              "#0d0887"
             ],
             [
              0.1111111111111111,
              "#46039f"
             ],
             [
              0.2222222222222222,
              "#7201a8"
             ],
             [
              0.3333333333333333,
              "#9c179e"
             ],
             [
              0.4444444444444444,
              "#bd3786"
             ],
             [
              0.5555555555555556,
              "#d8576b"
             ],
             [
              0.6666666666666666,
              "#ed7953"
             ],
             [
              0.7777777777777778,
              "#fb9f3a"
             ],
             [
              0.8888888888888888,
              "#fdca26"
             ],
             [
              1,
              "#f0f921"
             ]
            ],
            "type": "histogram2d"
           }
          ],
          "histogram2dcontour": [
           {
            "colorbar": {
             "outlinewidth": 0,
             "ticks": ""
            },
            "colorscale": [
             [
              0,
              "#0d0887"
             ],
             [
              0.1111111111111111,
              "#46039f"
             ],
             [
              0.2222222222222222,
              "#7201a8"
             ],
             [
              0.3333333333333333,
              "#9c179e"
             ],
             [
              0.4444444444444444,
              "#bd3786"
             ],
             [
              0.5555555555555556,
              "#d8576b"
             ],
             [
              0.6666666666666666,
              "#ed7953"
             ],
             [
              0.7777777777777778,
              "#fb9f3a"
             ],
             [
              0.8888888888888888,
              "#fdca26"
             ],
             [
              1,
              "#f0f921"
             ]
            ],
            "type": "histogram2dcontour"
           }
          ],
          "mesh3d": [
           {
            "colorbar": {
             "outlinewidth": 0,
             "ticks": ""
            },
            "type": "mesh3d"
           }
          ],
          "parcoords": [
           {
            "line": {
             "colorbar": {
              "outlinewidth": 0,
              "ticks": ""
             }
            },
            "type": "parcoords"
           }
          ],
          "pie": [
           {
            "automargin": true,
            "type": "pie"
           }
          ],
          "scatter": [
           {
            "fillpattern": {
             "fillmode": "overlay",
             "size": 10,
             "solidity": 0.2
            },
            "type": "scatter"
           }
          ],
          "scatter3d": [
           {
            "line": {
             "colorbar": {
              "outlinewidth": 0,
              "ticks": ""
             }
            },
            "marker": {
             "colorbar": {
              "outlinewidth": 0,
              "ticks": ""
             }
            },
            "type": "scatter3d"
           }
          ],
          "scattercarpet": [
           {
            "marker": {
             "colorbar": {
              "outlinewidth": 0,
              "ticks": ""
             }
            },
            "type": "scattercarpet"
           }
          ],
          "scattergeo": [
           {
            "marker": {
             "colorbar": {
              "outlinewidth": 0,
              "ticks": ""
             }
            },
            "type": "scattergeo"
           }
          ],
          "scattergl": [
           {
            "marker": {
             "colorbar": {
              "outlinewidth": 0,
              "ticks": ""
             }
            },
            "type": "scattergl"
           }
          ],
          "scattermapbox": [
           {
            "marker": {
             "colorbar": {
              "outlinewidth": 0,
              "ticks": ""
             }
            },
            "type": "scattermapbox"
           }
          ],
          "scatterpolar": [
           {
            "marker": {
             "colorbar": {
              "outlinewidth": 0,
              "ticks": ""
             }
            },
            "type": "scatterpolar"
           }
          ],
          "scatterpolargl": [
           {
            "marker": {
             "colorbar": {
              "outlinewidth": 0,
              "ticks": ""
             }
            },
            "type": "scatterpolargl"
           }
          ],
          "scatterternary": [
           {
            "marker": {
             "colorbar": {
              "outlinewidth": 0,
              "ticks": ""
             }
            },
            "type": "scatterternary"
           }
          ],
          "surface": [
           {
            "colorbar": {
             "outlinewidth": 0,
             "ticks": ""
            },
            "colorscale": [
             [
              0,
              "#0d0887"
             ],
             [
              0.1111111111111111,
              "#46039f"
             ],
             [
              0.2222222222222222,
              "#7201a8"
             ],
             [
              0.3333333333333333,
              "#9c179e"
             ],
             [
              0.4444444444444444,
              "#bd3786"
             ],
             [
              0.5555555555555556,
              "#d8576b"
             ],
             [
              0.6666666666666666,
              "#ed7953"
             ],
             [
              0.7777777777777778,
              "#fb9f3a"
             ],
             [
              0.8888888888888888,
              "#fdca26"
             ],
             [
              1,
              "#f0f921"
             ]
            ],
            "type": "surface"
           }
          ],
          "table": [
           {
            "cells": {
             "fill": {
              "color": "#EBF0F8"
             },
             "line": {
              "color": "white"
             }
            },
            "header": {
             "fill": {
              "color": "#C8D4E3"
             },
             "line": {
              "color": "white"
             }
            },
            "type": "table"
           }
          ]
         },
         "layout": {
          "annotationdefaults": {
           "arrowcolor": "#2a3f5f",
           "arrowhead": 0,
           "arrowwidth": 1
          },
          "autotypenumbers": "strict",
          "coloraxis": {
           "colorbar": {
            "outlinewidth": 0,
            "ticks": ""
           }
          },
          "colorscale": {
           "diverging": [
            [
             0,
             "#8e0152"
            ],
            [
             0.1,
             "#c51b7d"
            ],
            [
             0.2,
             "#de77ae"
            ],
            [
             0.3,
             "#f1b6da"
            ],
            [
             0.4,
             "#fde0ef"
            ],
            [
             0.5,
             "#f7f7f7"
            ],
            [
             0.6,
             "#e6f5d0"
            ],
            [
             0.7,
             "#b8e186"
            ],
            [
             0.8,
             "#7fbc41"
            ],
            [
             0.9,
             "#4d9221"
            ],
            [
             1,
             "#276419"
            ]
           ],
           "sequential": [
            [
             0,
             "#0d0887"
            ],
            [
             0.1111111111111111,
             "#46039f"
            ],
            [
             0.2222222222222222,
             "#7201a8"
            ],
            [
             0.3333333333333333,
             "#9c179e"
            ],
            [
             0.4444444444444444,
             "#bd3786"
            ],
            [
             0.5555555555555556,
             "#d8576b"
            ],
            [
             0.6666666666666666,
             "#ed7953"
            ],
            [
             0.7777777777777778,
             "#fb9f3a"
            ],
            [
             0.8888888888888888,
             "#fdca26"
            ],
            [
             1,
             "#f0f921"
            ]
           ],
           "sequentialminus": [
            [
             0,
             "#0d0887"
            ],
            [
             0.1111111111111111,
             "#46039f"
            ],
            [
             0.2222222222222222,
             "#7201a8"
            ],
            [
             0.3333333333333333,
             "#9c179e"
            ],
            [
             0.4444444444444444,
             "#bd3786"
            ],
            [
             0.5555555555555556,
             "#d8576b"
            ],
            [
             0.6666666666666666,
             "#ed7953"
            ],
            [
             0.7777777777777778,
             "#fb9f3a"
            ],
            [
             0.8888888888888888,
             "#fdca26"
            ],
            [
             1,
             "#f0f921"
            ]
           ]
          },
          "colorway": [
           "#636efa",
           "#EF553B",
           "#00cc96",
           "#ab63fa",
           "#FFA15A",
           "#19d3f3",
           "#FF6692",
           "#B6E880",
           "#FF97FF",
           "#FECB52"
          ],
          "font": {
           "color": "#2a3f5f"
          },
          "geo": {
           "bgcolor": "white",
           "lakecolor": "white",
           "landcolor": "#E5ECF6",
           "showlakes": true,
           "showland": true,
           "subunitcolor": "white"
          },
          "hoverlabel": {
           "align": "left"
          },
          "hovermode": "closest",
          "mapbox": {
           "style": "light"
          },
          "paper_bgcolor": "white",
          "plot_bgcolor": "#E5ECF6",
          "polar": {
           "angularaxis": {
            "gridcolor": "white",
            "linecolor": "white",
            "ticks": ""
           },
           "bgcolor": "#E5ECF6",
           "radialaxis": {
            "gridcolor": "white",
            "linecolor": "white",
            "ticks": ""
           }
          },
          "scene": {
           "xaxis": {
            "backgroundcolor": "#E5ECF6",
            "gridcolor": "white",
            "gridwidth": 2,
            "linecolor": "white",
            "showbackground": true,
            "ticks": "",
            "zerolinecolor": "white"
           },
           "yaxis": {
            "backgroundcolor": "#E5ECF6",
            "gridcolor": "white",
            "gridwidth": 2,
            "linecolor": "white",
            "showbackground": true,
            "ticks": "",
            "zerolinecolor": "white"
           },
           "zaxis": {
            "backgroundcolor": "#E5ECF6",
            "gridcolor": "white",
            "gridwidth": 2,
            "linecolor": "white",
            "showbackground": true,
            "ticks": "",
            "zerolinecolor": "white"
           }
          },
          "shapedefaults": {
           "line": {
            "color": "#2a3f5f"
           }
          },
          "ternary": {
           "aaxis": {
            "gridcolor": "white",
            "linecolor": "white",
            "ticks": ""
           },
           "baxis": {
            "gridcolor": "white",
            "linecolor": "white",
            "ticks": ""
           },
           "bgcolor": "#E5ECF6",
           "caxis": {
            "gridcolor": "white",
            "linecolor": "white",
            "ticks": ""
           }
          },
          "title": {
           "x": 0.05
          },
          "xaxis": {
           "automargin": true,
           "gridcolor": "white",
           "linecolor": "white",
           "ticks": "",
           "title": {
            "standoff": 15
           },
           "zerolinecolor": "white",
           "zerolinewidth": 2
          },
          "yaxis": {
           "automargin": true,
           "gridcolor": "white",
           "linecolor": "white",
           "ticks": "",
           "title": {
            "standoff": 15
           },
           "zerolinecolor": "white",
           "zerolinewidth": 2
          }
         }
        },
        "xaxis": {
         "anchor": "y",
         "categoryarray": [
          "Discount",
          "Bas",
          "Moyen-Bas",
          "Moyen",
          "Moyen-Haut",
          "Haut",
          "Premium Luxury",
          "Luxe"
         ],
         "categoryorder": "array",
         "domain": [
          0,
          1
         ],
         "title": {
          "text": "Niveau de prix"
         }
        },
        "yaxis": {
         "anchor": "x",
         "domain": [
          0,
          1
         ],
         "title": {
          "text": "Prix"
         }
        }
       }
      }
     },
     "metadata": {},
     "output_type": "display_data"
    }
   ],
   "source": [
    "px.density_contour(filtered_df_shirt, x='Niveau de prix', y='Prix', category_orders=category_orders)"
   ]
  },
  {
   "cell_type": "code",
   "execution_count": 105,
   "metadata": {},
   "outputs": [
    {
     "data": {
      "application/vnd.plotly.v1+json": {
       "config": {
        "plotlyServerURL": "https://plot.ly"
       },
       "data": [
        {
         "alignmentgroup": "True",
         "bingroup": "x",
         "histfunc": "avg",
         "hovertemplate": "Niveau de prix=%{x}<br>avg of Prix=%{y}<extra></extra>",
         "legendgroup": "",
         "marker": {
          "color": "#636efa",
          "pattern": {
           "shape": ""
          }
         },
         "name": "",
         "offsetgroup": "",
         "orientation": "v",
         "showlegend": false,
         "type": "histogram",
         "x": [
          "Moyen",
          "Moyen",
          "Haut",
          "Haut",
          "Moyen-Haut",
          "Haut",
          "Moyen-Haut",
          "Haut",
          "Discount",
          "Moyen",
          "Luxe",
          "Haut",
          "Moyen",
          "Haut",
          "Bas",
          "Moyen",
          "Moyen",
          "Haut",
          "Moyen-Haut",
          "Luxe",
          "Moyen-Haut",
          "Bas",
          "Luxe",
          "Luxe",
          "Moyen-Haut",
          "Bas",
          "Luxe",
          "Luxe",
          "Bas",
          "Luxe",
          "Moyen-Haut",
          "Bas",
          "Moyen-Haut",
          "Haut",
          "Haut",
          "Moyen",
          "Haut",
          "Haut",
          "Haut",
          "Haut",
          "Moyen-Haut",
          "Moyen-Haut",
          "Haut",
          "Moyen-Haut",
          "Moyen-Haut",
          "Haut",
          "Haut",
          "Moyen-Haut",
          "Moyen-Haut",
          "Moyen-Haut",
          "Moyen-Haut",
          "Haut",
          "Haut",
          "Moyen",
          "Moyen-Haut",
          "Moyen-Haut",
          "Haut",
          "Moyen-Haut",
          "Moyen-Haut",
          "Haut",
          "Haut",
          "Moyen-Haut",
          "Moyen-Haut",
          "Moyen",
          "Moyen-Haut",
          "Bas",
          "Bas",
          "Haut",
          "Moyen-Haut",
          "Haut",
          "Bas",
          "Haut",
          "Moyen-Haut",
          "Moyen-Haut",
          "Moyen-Haut",
          "Moyen-Haut",
          "Moyen-Haut",
          "Moyen-Haut",
          "Moyen-Haut",
          "Haut",
          "Moyen-Haut",
          "Moyen-Haut",
          "Moyen-Haut",
          "Haut",
          "Moyen",
          "Moyen-Haut",
          "Moyen",
          "Moyen-Haut",
          "Bas",
          "Haut",
          "Moyen-Haut",
          "Bas",
          "Bas",
          "Haut",
          "Moyen-Haut",
          "Moyen",
          "Luxe",
          "Moyen-Haut",
          "Moyen-Haut",
          "Moyen-Haut",
          "Haut",
          "Moyen-Haut",
          "Moyen-Haut",
          "Moyen-Haut",
          "Moyen-Haut",
          "Moyen-Haut",
          "Moyen-Haut",
          "Moyen-Haut",
          "Moyen-Haut",
          "Haut",
          "Moyen-Bas",
          "Moyen-Haut",
          "Haut",
          "Moyen-Haut",
          "Moyen-Haut",
          "Bas",
          "Moyen",
          "Moyen-Haut",
          "Moyen-Bas",
          "Moyen",
          "Luxe",
          "Moyen-Haut",
          "Moyen-Haut",
          "Bas",
          "Bas",
          "Bas",
          "Luxe",
          "Haut",
          "Haut",
          "Moyen-Haut",
          "Moyen-Haut",
          "Moyen-Haut",
          "Haut",
          "Luxe",
          "Moyen-Haut",
          "Luxe",
          "Discount",
          "Discount",
          "Discount",
          "Discount",
          "Discount",
          "Discount",
          "Discount",
          "Discount",
          "Discount",
          "Discount",
          "Discount",
          "Discount",
          "Discount",
          "Discount",
          "Discount",
          "Discount",
          "Discount",
          "Discount",
          "Discount",
          "Discount",
          "Discount",
          "Discount",
          "Discount",
          "Discount",
          "Discount",
          "Discount",
          "Discount",
          "Discount",
          "Discount",
          "Discount",
          "Discount",
          "Discount",
          "Discount",
          "Discount",
          "Discount",
          "Discount",
          "Discount",
          "Discount",
          "Discount",
          "Discount",
          "Discount",
          "Discount",
          "Discount",
          "Discount",
          "Discount",
          "Discount",
          "Bas",
          "Bas",
          "Discount",
          "Discount",
          "Discount",
          "Discount",
          "Discount",
          "Discount",
          "Discount",
          "Discount",
          "Moyen-Haut",
          "Bas",
          "Moyen",
          "Discount",
          "Discount",
          "Discount",
          "Discount",
          "Discount",
          "Discount",
          "Discount",
          "Discount",
          "Haut",
          "Moyen-Haut",
          "Discount",
          "Discount",
          "Discount",
          "Discount",
          "Discount",
          "Discount",
          "Discount",
          "Discount",
          "Discount",
          "Discount",
          "Discount",
          "Discount",
          "Discount",
          "Discount",
          "Discount",
          "Discount",
          "Discount",
          "Discount",
          "Discount",
          "Discount",
          "Discount",
          "Discount",
          "Discount",
          "Discount",
          "Discount",
          "Discount",
          "Discount",
          "Discount",
          "Discount",
          "Discount",
          "Discount",
          "Discount",
          "Discount",
          "Discount",
          "Discount",
          "Discount",
          "Discount",
          "Discount",
          "Discount",
          "Discount",
          "Discount",
          "Discount",
          "Discount",
          "Discount",
          "Discount",
          "Discount",
          "Discount",
          "Discount",
          "Discount",
          "Discount",
          "Discount",
          "Discount",
          "Discount",
          "Discount",
          "Discount",
          "Discount",
          "Discount",
          "Discount",
          "Moyen",
          "Moyen",
          "Moyen",
          "Moyen",
          "Moyen",
          "Moyen",
          "Moyen",
          "Moyen",
          "Moyen",
          "Moyen",
          "Moyen",
          "Moyen",
          "Moyen",
          "Moyen",
          "Moyen",
          "Moyen",
          "Moyen",
          "Moyen",
          "Moyen",
          "Moyen",
          "Moyen",
          "Moyen",
          "Moyen",
          "Moyen",
          "Moyen",
          "Moyen",
          "Moyen",
          "Moyen",
          "Moyen",
          "Moyen",
          "Moyen",
          "Moyen",
          "Moyen",
          "Moyen",
          "Moyen",
          "Moyen",
          "Moyen",
          "Moyen",
          "Moyen",
          "Moyen",
          "Moyen",
          "Moyen",
          "Moyen",
          "Moyen",
          "Moyen",
          "Moyen",
          "Moyen",
          "Moyen",
          "Moyen",
          "Moyen",
          "Moyen",
          "Moyen",
          "Moyen",
          "Moyen",
          "Moyen",
          "Moyen",
          "Moyen",
          "Moyen-Bas",
          "Moyen-Bas",
          "Moyen-Bas",
          "Moyen-Bas",
          "Moyen-Bas",
          "Moyen-Bas",
          "Moyen-Bas",
          "Moyen-Bas",
          "Moyen-Bas",
          "Moyen-Bas",
          "Moyen-Bas",
          "Moyen-Bas",
          "Moyen-Bas",
          "Moyen-Bas",
          "Moyen-Bas",
          "Moyen-Bas",
          "Moyen-Bas",
          "Moyen-Bas",
          "Moyen-Bas",
          "Moyen-Bas",
          "Moyen-Bas",
          "Moyen-Bas",
          "Moyen-Bas",
          "Moyen-Bas",
          "Moyen-Bas",
          "Moyen-Bas",
          "Haut",
          "Haut",
          "Haut",
          "Haut",
          "Haut",
          "Haut",
          "Haut",
          "Haut",
          "Haut",
          "Haut",
          "Haut",
          "Haut",
          "Haut",
          "Haut",
          "Haut",
          "Haut",
          "Haut",
          "Haut",
          "Haut",
          "Haut",
          "Haut",
          "Haut",
          "Haut",
          "Haut",
          "Haut",
          "Haut",
          "Haut",
          "Haut",
          "Haut",
          "Haut",
          "Haut",
          "Haut",
          "Haut",
          "Haut",
          "Haut",
          "Haut",
          "Haut",
          "Haut",
          "Haut",
          "Haut",
          "Haut",
          "Haut",
          "Haut",
          "Haut",
          "Haut",
          "Haut",
          "Haut",
          "Haut",
          "Haut",
          "Haut",
          "Haut",
          "Haut",
          "Haut",
          "Haut",
          "Haut",
          "Haut",
          "Haut",
          "Haut",
          "Haut",
          "Haut",
          "Haut",
          "Haut",
          "Haut",
          "Haut",
          "Haut",
          "Haut",
          "Haut",
          "Haut",
          "Haut",
          "Haut",
          "Haut",
          "Haut",
          "Haut",
          "Haut",
          "Haut",
          "Haut",
          "Haut",
          "Haut",
          "Haut",
          "Haut",
          "Haut",
          "Haut",
          "Haut",
          "Haut",
          "Haut",
          "Moyen-Haut",
          "Moyen-Haut",
          "Moyen-Haut",
          "Moyen-Haut",
          "Moyen-Haut",
          "Moyen-Haut",
          "Moyen-Haut",
          "Moyen-Haut",
          "Moyen-Haut",
          "Moyen-Haut",
          "Moyen-Haut",
          "Moyen-Haut",
          "Moyen-Haut",
          "Moyen-Haut",
          "Moyen-Haut",
          "Moyen-Haut",
          "Moyen-Haut",
          "Moyen-Haut",
          "Moyen-Haut",
          "Moyen-Haut",
          "Moyen-Haut",
          "Moyen-Haut",
          "Moyen-Haut",
          "Moyen-Haut",
          "Moyen-Haut",
          "Moyen-Haut",
          "Moyen-Haut",
          "Moyen-Haut",
          "Moyen-Haut",
          "Moyen-Haut",
          "Moyen-Haut",
          "Moyen-Haut",
          "Moyen-Haut",
          "Moyen-Haut",
          "Moyen-Haut",
          "Moyen-Haut",
          "Moyen-Haut",
          "Moyen-Haut",
          "Moyen-Haut",
          "Moyen-Haut",
          "Moyen-Haut",
          "Moyen-Haut",
          "Moyen-Haut",
          "Moyen-Haut",
          "Moyen-Haut",
          "Moyen-Haut",
          "Moyen-Haut",
          "Moyen-Haut",
          "Moyen-Haut",
          "Moyen-Haut",
          "Moyen-Haut",
          "Moyen-Haut",
          "Moyen-Haut",
          "Moyen-Haut",
          "Moyen-Haut",
          "Moyen-Haut",
          "Moyen-Haut",
          "Moyen-Haut",
          "Moyen-Haut",
          "Moyen-Haut",
          "Moyen-Haut",
          "Moyen-Haut",
          "Moyen-Haut",
          "Moyen-Haut",
          "Moyen-Haut",
          "Luxe",
          "Luxe",
          "Haut",
          "Luxe",
          "Luxe",
          "Luxe",
          "Luxe",
          "Luxe",
          "Luxe",
          "Moyen-Haut",
          "Haut",
          "Luxe",
          "Luxe",
          "Luxe",
          "Luxe",
          "Luxe",
          "Luxe",
          "Luxe",
          "Haut",
          "Haut",
          "Moyen-Haut",
          "Moyen-Haut",
          "Luxe",
          "Luxe",
          "Luxe",
          "Luxe",
          "Haut",
          "Haut",
          "Luxe",
          "Haut",
          "Moyen-Haut",
          "Moyen-Haut",
          "Luxe",
          "Moyen-Haut",
          "Moyen-Haut",
          "Luxe",
          "Haut",
          "Luxe",
          "Moyen-Haut",
          "Luxe",
          "Moyen-Haut",
          "Moyen",
          "Haut",
          "Luxe",
          "Haut",
          "Luxe",
          "Moyen",
          "Haut",
          "Luxe",
          "Haut",
          "Luxe",
          "Haut",
          "Moyen",
          "Moyen-Bas",
          "Haut",
          "Moyen-Bas",
          "Luxe",
          "Moyen-Haut",
          "Moyen-Haut",
          "Luxe",
          "Luxe",
          "Luxe",
          "Luxe",
          "Luxe",
          "Luxe",
          "Luxe",
          "Luxe",
          "Luxe",
          "Luxe",
          "Luxe",
          "Luxe",
          "Luxe",
          "Luxe",
          "Luxe",
          "Luxe",
          "Moyen-Haut",
          "Luxe",
          "Luxe",
          "Luxe",
          "Luxe",
          "Luxe",
          "Luxe",
          "Luxe",
          "Luxe",
          "Luxe",
          "Luxe",
          "Luxe",
          "Luxe",
          "Moyen-Haut",
          "Luxe",
          "Luxe",
          "Luxe",
          "Luxe",
          "Luxe",
          "Luxe",
          "Luxe",
          "Luxe",
          "Luxe",
          "Luxe",
          "Luxe",
          "Luxe",
          "Luxe",
          "Luxe",
          "Luxe",
          "Luxe",
          "Luxe",
          "Luxe",
          "Luxe",
          "Luxe",
          "Luxe",
          "Luxe",
          "Luxe",
          "Luxe",
          "Luxe",
          "Moyen-Haut",
          "Luxe",
          "Luxe",
          "Luxe",
          "Haut",
          "Luxe",
          "Luxe",
          "Moyen-Haut",
          "Luxe",
          "Luxe",
          "Luxe",
          "Luxe",
          "Luxe",
          "Moyen-Haut",
          "Luxe",
          "Luxe",
          "Luxe",
          "Moyen-Haut",
          "Luxe",
          "Luxe",
          "Luxe",
          "Luxe",
          "Luxe",
          "Moyen-Haut",
          "Luxe",
          "Luxe",
          "Luxe",
          "Premium Luxury",
          "Luxe",
          "Luxe",
          "Luxe",
          "Haut",
          "Luxe",
          "Luxe",
          "Luxe",
          "Luxe",
          "Luxe",
          "Moyen-Haut",
          "Luxe",
          "Luxe",
          "Haut",
          "Luxe",
          "Luxe",
          "Luxe",
          "Luxe",
          "Luxe",
          "Luxe",
          "Luxe",
          "Luxe",
          "Luxe",
          "Luxe"
         ],
         "xaxis": "x",
         "y": [
          5,
          28,
          45,
          18,
          17,
          24.9,
          25,
          45,
          5,
          11.5,
          130,
          30,
          10,
          30,
          7,
          20,
          20,
          80,
          10,
          130,
          25,
          3,
          149,
          230,
          10,
          4,
          65,
          140,
          3,
          170,
          13,
          3,
          43,
          28,
          28,
          28,
          28,
          28,
          35,
          28,
          30,
          3,
          28,
          7.5,
          12,
          15,
          28,
          28,
          25,
          25,
          10,
          28,
          29,
          2,
          24.99,
          35,
          28,
          29.99,
          28,
          28,
          28,
          28,
          28,
          8,
          5,
          3.99,
          3.99,
          28,
          34.5,
          39,
          1,
          15,
          25,
          19.99,
          12,
          10,
          18,
          12,
          35,
          27,
          22,
          29.9,
          25,
          30,
          15,
          20,
          2,
          2,
          2,
          24,
          10,
          3.5,
          16,
          28,
          16,
          8.5,
          20,
          13,
          29.99,
          13,
          35,
          13,
          18,
          9,
          20,
          8,
          20,
          15,
          32.5,
          45,
          19.99,
          8,
          40,
          38,
          10,
          2,
          22,
          12,
          12,
          13,
          20,
          35,
          32.5,
          5,
          1,
          4,
          30,
          30,
          35,
          15,
          10,
          13,
          30,
          110,
          10,
          75,
          5,
          5,
          15,
          2,
          2,
          15,
          4,
          4,
          2,
          4,
          3,
          10,
          2,
          5,
          3,
          3,
          5,
          4,
          5,
          2,
          5,
          3,
          3,
          3,
          2,
          3,
          5,
          1,
          1,
          3.5,
          2,
          3.5,
          2,
          6.5,
          15,
          3,
          2,
          4.5,
          8,
          10,
          5,
          1,
          2,
          8,
          3,
          7,
          3.5,
          4.5,
          3,
          5,
          5,
          8,
          2,
          8,
          8,
          7.5,
          16,
          3,
          2,
          1,
          3,
          5,
          9,
          7,
          9,
          5,
          9,
          30,
          15,
          2,
          2,
          4,
          2.5,
          4,
          4,
          3,
          4.99,
          5,
          7,
          12,
          11,
          5,
          16,
          8,
          7,
          10,
          7,
          5,
          5,
          5,
          6,
          5,
          5,
          4,
          5,
          4,
          3,
          4,
          5,
          3.5,
          5,
          10,
          5,
          10,
          4,
          5,
          5,
          4,
          6,
          10,
          4,
          7,
          5,
          3,
          3,
          6,
          4,
          9,
          8.5,
          1,
          5,
          4,
          6.5,
          7,
          5,
          10,
          8,
          2,
          15,
          5,
          10,
          5,
          3.5,
          2.5,
          2.5,
          2,
          10,
          3,
          5.99,
          5,
          4,
          5,
          4,
          6,
          5,
          2.5,
          6,
          3,
          8,
          8,
          7,
          5,
          8,
          6.5,
          20,
          1,
          39.99,
          1,
          3,
          5,
          10,
          6,
          60,
          25,
          6,
          6,
          19,
          15,
          5,
          5,
          3.99,
          3.49,
          6,
          47.5,
          1,
          9,
          4,
          9,
          4,
          9,
          8,
          2.5,
          10,
          5,
          2,
          8,
          7,
          12,
          9,
          4,
          3.5,
          8,
          5,
          2.5,
          5,
          8,
          3,
          5,
          2,
          4,
          3,
          5,
          3,
          3,
          9,
          2,
          3,
          3,
          2,
          4,
          25,
          35,
          45,
          4,
          55,
          50,
          55,
          15,
          10,
          20,
          17,
          24,
          55,
          45,
          55,
          55,
          18,
          45,
          18,
          60,
          30,
          35,
          40,
          10,
          25,
          95,
          8,
          12,
          20,
          30,
          20,
          30,
          60,
          40,
          20,
          12,
          15,
          25,
          15,
          20,
          12,
          15,
          15,
          20,
          38,
          18,
          40,
          15,
          15,
          20,
          38,
          18,
          40,
          15,
          30,
          20,
          13,
          25,
          25,
          15,
          25,
          6,
          30,
          5,
          5,
          5,
          5,
          5,
          10,
          2,
          33,
          10,
          59,
          5,
          33,
          5,
          55,
          9,
          10,
          5,
          5,
          12,
          10,
          2,
          15,
          5,
          12.5,
          10,
          4,
          4,
          15,
          8,
          9,
          17,
          15,
          15,
          17,
          15,
          10,
          15,
          5,
          5,
          7.5,
          15,
          11,
          10,
          17,
          15,
          7,
          4,
          2,
          4,
          10,
          18,
          15,
          8,
          8,
          1,
          4,
          13,
          6,
          20,
          28,
          20,
          12,
          12,
          12,
          7,
          7,
          10,
          10,
          10,
          6,
          7,
          6,
          20,
          15,
          5,
          20,
          20,
          35,
          2,
          5,
          30,
          10,
          4,
          25,
          7,
          20,
          12,
          57,
          26,
          29,
          55,
          68,
          44,
          200,
          92.94,
          30,
          26,
          35,
          348.53,
          240,
          220.33,
          214.12,
          79,
          120,
          24,
          57,
          120,
          47,
          32,
          230,
          160,
          45,
          200,
          59,
          30,
          232.57,
          27,
          25,
          25,
          115,
          20,
          20,
          59,
          36,
          55,
          22,
          44,
          35,
          20,
          35,
          240,
          16,
          290,
          20,
          35,
          240,
          16,
          290,
          25,
          25,
          17,
          24,
          17,
          215,
          37,
          28,
          154,
          99,
          264,
          135,
          130,
          170,
          71,
          67,
          135,
          118,
          125,
          42,
          180,
          125,
          115,
          199,
          25,
          90,
          200,
          96.91,
          90,
          96.91,
          90,
          99,
          67.19,
          100,
          234,
          47,
          360,
          20,
          160,
          350,
          40,
          258.41,
          83.98,
          45,
          122,
          150,
          148.59,
          300,
          110,
          110,
          96.91,
          240,
          63,
          96,
          270,
          240,
          199,
          72,
          72,
          77,
          65,
          153,
          72,
          28,
          133.51,
          170,
          91.74,
          50,
          90,
          72,
          20,
          231.28,
          155.05,
          116.29,
          60,
          72,
          20,
          60,
          90,
          72,
          20,
          231.28,
          155.05,
          116.29,
          60,
          72,
          20,
          60,
          236,
          90.44,
          99,
          250,
          321.72,
          108,
          28,
          45,
          90,
          170,
          130,
          195,
          20,
          180.89,
          45,
          30,
          49,
          180.89,
          210,
          50.56,
          129.21,
          115,
          70,
          45,
          88,
          380
         ],
         "yaxis": "y"
        }
       ],
       "layout": {
        "barmode": "relative",
        "legend": {
         "tracegroupgap": 0
        },
        "margin": {
         "t": 60
        },
        "template": {
         "data": {
          "bar": [
           {
            "error_x": {
             "color": "#2a3f5f"
            },
            "error_y": {
             "color": "#2a3f5f"
            },
            "marker": {
             "line": {
              "color": "#E5ECF6",
              "width": 0.5
             },
             "pattern": {
              "fillmode": "overlay",
              "size": 10,
              "solidity": 0.2
             }
            },
            "type": "bar"
           }
          ],
          "barpolar": [
           {
            "marker": {
             "line": {
              "color": "#E5ECF6",
              "width": 0.5
             },
             "pattern": {
              "fillmode": "overlay",
              "size": 10,
              "solidity": 0.2
             }
            },
            "type": "barpolar"
           }
          ],
          "carpet": [
           {
            "aaxis": {
             "endlinecolor": "#2a3f5f",
             "gridcolor": "white",
             "linecolor": "white",
             "minorgridcolor": "white",
             "startlinecolor": "#2a3f5f"
            },
            "baxis": {
             "endlinecolor": "#2a3f5f",
             "gridcolor": "white",
             "linecolor": "white",
             "minorgridcolor": "white",
             "startlinecolor": "#2a3f5f"
            },
            "type": "carpet"
           }
          ],
          "choropleth": [
           {
            "colorbar": {
             "outlinewidth": 0,
             "ticks": ""
            },
            "type": "choropleth"
           }
          ],
          "contour": [
           {
            "colorbar": {
             "outlinewidth": 0,
             "ticks": ""
            },
            "colorscale": [
             [
              0,
              "#0d0887"
             ],
             [
              0.1111111111111111,
              "#46039f"
             ],
             [
              0.2222222222222222,
              "#7201a8"
             ],
             [
              0.3333333333333333,
              "#9c179e"
             ],
             [
              0.4444444444444444,
              "#bd3786"
             ],
             [
              0.5555555555555556,
              "#d8576b"
             ],
             [
              0.6666666666666666,
              "#ed7953"
             ],
             [
              0.7777777777777778,
              "#fb9f3a"
             ],
             [
              0.8888888888888888,
              "#fdca26"
             ],
             [
              1,
              "#f0f921"
             ]
            ],
            "type": "contour"
           }
          ],
          "contourcarpet": [
           {
            "colorbar": {
             "outlinewidth": 0,
             "ticks": ""
            },
            "type": "contourcarpet"
           }
          ],
          "heatmap": [
           {
            "colorbar": {
             "outlinewidth": 0,
             "ticks": ""
            },
            "colorscale": [
             [
              0,
              "#0d0887"
             ],
             [
              0.1111111111111111,
              "#46039f"
             ],
             [
              0.2222222222222222,
              "#7201a8"
             ],
             [
              0.3333333333333333,
              "#9c179e"
             ],
             [
              0.4444444444444444,
              "#bd3786"
             ],
             [
              0.5555555555555556,
              "#d8576b"
             ],
             [
              0.6666666666666666,
              "#ed7953"
             ],
             [
              0.7777777777777778,
              "#fb9f3a"
             ],
             [
              0.8888888888888888,
              "#fdca26"
             ],
             [
              1,
              "#f0f921"
             ]
            ],
            "type": "heatmap"
           }
          ],
          "heatmapgl": [
           {
            "colorbar": {
             "outlinewidth": 0,
             "ticks": ""
            },
            "colorscale": [
             [
              0,
              "#0d0887"
             ],
             [
              0.1111111111111111,
              "#46039f"
             ],
             [
              0.2222222222222222,
              "#7201a8"
             ],
             [
              0.3333333333333333,
              "#9c179e"
             ],
             [
              0.4444444444444444,
              "#bd3786"
             ],
             [
              0.5555555555555556,
              "#d8576b"
             ],
             [
              0.6666666666666666,
              "#ed7953"
             ],
             [
              0.7777777777777778,
              "#fb9f3a"
             ],
             [
              0.8888888888888888,
              "#fdca26"
             ],
             [
              1,
              "#f0f921"
             ]
            ],
            "type": "heatmapgl"
           }
          ],
          "histogram": [
           {
            "marker": {
             "pattern": {
              "fillmode": "overlay",
              "size": 10,
              "solidity": 0.2
             }
            },
            "type": "histogram"
           }
          ],
          "histogram2d": [
           {
            "colorbar": {
             "outlinewidth": 0,
             "ticks": ""
            },
            "colorscale": [
             [
              0,
              "#0d0887"
             ],
             [
              0.1111111111111111,
              "#46039f"
             ],
             [
              0.2222222222222222,
              "#7201a8"
             ],
             [
              0.3333333333333333,
              "#9c179e"
             ],
             [
              0.4444444444444444,
              "#bd3786"
             ],
             [
              0.5555555555555556,
              "#d8576b"
             ],
             [
              0.6666666666666666,
              "#ed7953"
             ],
             [
              0.7777777777777778,
              "#fb9f3a"
             ],
             [
              0.8888888888888888,
              "#fdca26"
             ],
             [
              1,
              "#f0f921"
             ]
            ],
            "type": "histogram2d"
           }
          ],
          "histogram2dcontour": [
           {
            "colorbar": {
             "outlinewidth": 0,
             "ticks": ""
            },
            "colorscale": [
             [
              0,
              "#0d0887"
             ],
             [
              0.1111111111111111,
              "#46039f"
             ],
             [
              0.2222222222222222,
              "#7201a8"
             ],
             [
              0.3333333333333333,
              "#9c179e"
             ],
             [
              0.4444444444444444,
              "#bd3786"
             ],
             [
              0.5555555555555556,
              "#d8576b"
             ],
             [
              0.6666666666666666,
              "#ed7953"
             ],
             [
              0.7777777777777778,
              "#fb9f3a"
             ],
             [
              0.8888888888888888,
              "#fdca26"
             ],
             [
              1,
              "#f0f921"
             ]
            ],
            "type": "histogram2dcontour"
           }
          ],
          "mesh3d": [
           {
            "colorbar": {
             "outlinewidth": 0,
             "ticks": ""
            },
            "type": "mesh3d"
           }
          ],
          "parcoords": [
           {
            "line": {
             "colorbar": {
              "outlinewidth": 0,
              "ticks": ""
             }
            },
            "type": "parcoords"
           }
          ],
          "pie": [
           {
            "automargin": true,
            "type": "pie"
           }
          ],
          "scatter": [
           {
            "fillpattern": {
             "fillmode": "overlay",
             "size": 10,
             "solidity": 0.2
            },
            "type": "scatter"
           }
          ],
          "scatter3d": [
           {
            "line": {
             "colorbar": {
              "outlinewidth": 0,
              "ticks": ""
             }
            },
            "marker": {
             "colorbar": {
              "outlinewidth": 0,
              "ticks": ""
             }
            },
            "type": "scatter3d"
           }
          ],
          "scattercarpet": [
           {
            "marker": {
             "colorbar": {
              "outlinewidth": 0,
              "ticks": ""
             }
            },
            "type": "scattercarpet"
           }
          ],
          "scattergeo": [
           {
            "marker": {
             "colorbar": {
              "outlinewidth": 0,
              "ticks": ""
             }
            },
            "type": "scattergeo"
           }
          ],
          "scattergl": [
           {
            "marker": {
             "colorbar": {
              "outlinewidth": 0,
              "ticks": ""
             }
            },
            "type": "scattergl"
           }
          ],
          "scattermapbox": [
           {
            "marker": {
             "colorbar": {
              "outlinewidth": 0,
              "ticks": ""
             }
            },
            "type": "scattermapbox"
           }
          ],
          "scatterpolar": [
           {
            "marker": {
             "colorbar": {
              "outlinewidth": 0,
              "ticks": ""
             }
            },
            "type": "scatterpolar"
           }
          ],
          "scatterpolargl": [
           {
            "marker": {
             "colorbar": {
              "outlinewidth": 0,
              "ticks": ""
             }
            },
            "type": "scatterpolargl"
           }
          ],
          "scatterternary": [
           {
            "marker": {
             "colorbar": {
              "outlinewidth": 0,
              "ticks": ""
             }
            },
            "type": "scatterternary"
           }
          ],
          "surface": [
           {
            "colorbar": {
             "outlinewidth": 0,
             "ticks": ""
            },
            "colorscale": [
             [
              0,
              "#0d0887"
             ],
             [
              0.1111111111111111,
              "#46039f"
             ],
             [
              0.2222222222222222,
              "#7201a8"
             ],
             [
              0.3333333333333333,
              "#9c179e"
             ],
             [
              0.4444444444444444,
              "#bd3786"
             ],
             [
              0.5555555555555556,
              "#d8576b"
             ],
             [
              0.6666666666666666,
              "#ed7953"
             ],
             [
              0.7777777777777778,
              "#fb9f3a"
             ],
             [
              0.8888888888888888,
              "#fdca26"
             ],
             [
              1,
              "#f0f921"
             ]
            ],
            "type": "surface"
           }
          ],
          "table": [
           {
            "cells": {
             "fill": {
              "color": "#EBF0F8"
             },
             "line": {
              "color": "white"
             }
            },
            "header": {
             "fill": {
              "color": "#C8D4E3"
             },
             "line": {
              "color": "white"
             }
            },
            "type": "table"
           }
          ]
         },
         "layout": {
          "annotationdefaults": {
           "arrowcolor": "#2a3f5f",
           "arrowhead": 0,
           "arrowwidth": 1
          },
          "autotypenumbers": "strict",
          "coloraxis": {
           "colorbar": {
            "outlinewidth": 0,
            "ticks": ""
           }
          },
          "colorscale": {
           "diverging": [
            [
             0,
             "#8e0152"
            ],
            [
             0.1,
             "#c51b7d"
            ],
            [
             0.2,
             "#de77ae"
            ],
            [
             0.3,
             "#f1b6da"
            ],
            [
             0.4,
             "#fde0ef"
            ],
            [
             0.5,
             "#f7f7f7"
            ],
            [
             0.6,
             "#e6f5d0"
            ],
            [
             0.7,
             "#b8e186"
            ],
            [
             0.8,
             "#7fbc41"
            ],
            [
             0.9,
             "#4d9221"
            ],
            [
             1,
             "#276419"
            ]
           ],
           "sequential": [
            [
             0,
             "#0d0887"
            ],
            [
             0.1111111111111111,
             "#46039f"
            ],
            [
             0.2222222222222222,
             "#7201a8"
            ],
            [
             0.3333333333333333,
             "#9c179e"
            ],
            [
             0.4444444444444444,
             "#bd3786"
            ],
            [
             0.5555555555555556,
             "#d8576b"
            ],
            [
             0.6666666666666666,
             "#ed7953"
            ],
            [
             0.7777777777777778,
             "#fb9f3a"
            ],
            [
             0.8888888888888888,
             "#fdca26"
            ],
            [
             1,
             "#f0f921"
            ]
           ],
           "sequentialminus": [
            [
             0,
             "#0d0887"
            ],
            [
             0.1111111111111111,
             "#46039f"
            ],
            [
             0.2222222222222222,
             "#7201a8"
            ],
            [
             0.3333333333333333,
             "#9c179e"
            ],
            [
             0.4444444444444444,
             "#bd3786"
            ],
            [
             0.5555555555555556,
             "#d8576b"
            ],
            [
             0.6666666666666666,
             "#ed7953"
            ],
            [
             0.7777777777777778,
             "#fb9f3a"
            ],
            [
             0.8888888888888888,
             "#fdca26"
            ],
            [
             1,
             "#f0f921"
            ]
           ]
          },
          "colorway": [
           "#636efa",
           "#EF553B",
           "#00cc96",
           "#ab63fa",
           "#FFA15A",
           "#19d3f3",
           "#FF6692",
           "#B6E880",
           "#FF97FF",
           "#FECB52"
          ],
          "font": {
           "color": "#2a3f5f"
          },
          "geo": {
           "bgcolor": "white",
           "lakecolor": "white",
           "landcolor": "#E5ECF6",
           "showlakes": true,
           "showland": true,
           "subunitcolor": "white"
          },
          "hoverlabel": {
           "align": "left"
          },
          "hovermode": "closest",
          "mapbox": {
           "style": "light"
          },
          "paper_bgcolor": "white",
          "plot_bgcolor": "#E5ECF6",
          "polar": {
           "angularaxis": {
            "gridcolor": "white",
            "linecolor": "white",
            "ticks": ""
           },
           "bgcolor": "#E5ECF6",
           "radialaxis": {
            "gridcolor": "white",
            "linecolor": "white",
            "ticks": ""
           }
          },
          "scene": {
           "xaxis": {
            "backgroundcolor": "#E5ECF6",
            "gridcolor": "white",
            "gridwidth": 2,
            "linecolor": "white",
            "showbackground": true,
            "ticks": "",
            "zerolinecolor": "white"
           },
           "yaxis": {
            "backgroundcolor": "#E5ECF6",
            "gridcolor": "white",
            "gridwidth": 2,
            "linecolor": "white",
            "showbackground": true,
            "ticks": "",
            "zerolinecolor": "white"
           },
           "zaxis": {
            "backgroundcolor": "#E5ECF6",
            "gridcolor": "white",
            "gridwidth": 2,
            "linecolor": "white",
            "showbackground": true,
            "ticks": "",
            "zerolinecolor": "white"
           }
          },
          "shapedefaults": {
           "line": {
            "color": "#2a3f5f"
           }
          },
          "ternary": {
           "aaxis": {
            "gridcolor": "white",
            "linecolor": "white",
            "ticks": ""
           },
           "baxis": {
            "gridcolor": "white",
            "linecolor": "white",
            "ticks": ""
           },
           "bgcolor": "#E5ECF6",
           "caxis": {
            "gridcolor": "white",
            "linecolor": "white",
            "ticks": ""
           }
          },
          "title": {
           "x": 0.05
          },
          "xaxis": {
           "automargin": true,
           "gridcolor": "white",
           "linecolor": "white",
           "ticks": "",
           "title": {
            "standoff": 15
           },
           "zerolinecolor": "white",
           "zerolinewidth": 2
          },
          "yaxis": {
           "automargin": true,
           "gridcolor": "white",
           "linecolor": "white",
           "ticks": "",
           "title": {
            "standoff": 15
           },
           "zerolinecolor": "white",
           "zerolinewidth": 2
          }
         }
        },
        "xaxis": {
         "anchor": "y",
         "categoryarray": [
          "Discount",
          "Bas",
          "Moyen-Bas",
          "Moyen",
          "Moyen-Haut",
          "Haut",
          "Premium Luxury",
          "Luxe"
         ],
         "categoryorder": "array",
         "domain": [
          0,
          1
         ],
         "title": {
          "text": "Niveau de prix"
         }
        },
        "yaxis": {
         "anchor": "x",
         "domain": [
          0,
          1
         ],
         "title": {
          "text": "avg of Prix"
         }
        }
       }
      }
     },
     "metadata": {},
     "output_type": "display_data"
    }
   ],
   "source": [
    "import plotly.graph_objects as go\n",
    "\n",
    "fig = px.histogram(filtered_df_shirt, x='Niveau de prix', y='Prix',histfunc='avg', category_orders=category_orders)\n",
    "fig.show()"
   ]
  },
  {
   "cell_type": "code",
   "execution_count": 123,
   "metadata": {},
   "outputs": [
    {
     "data": {
      "application/vnd.plotly.v1+json": {
       "config": {
        "plotlyServerURL": "https://plot.ly"
       },
       "data": [
        {
         "hovertemplate": "Segment de marché=%{x}<br>Prix=%{y}<extra></extra>",
         "legendgroup": "",
         "marker": {
          "color": "#636efa",
          "symbol": "circle"
         },
         "mode": "lines+markers",
         "name": "",
         "orientation": "v",
         "showlegend": false,
         "type": "scatter",
         "x": [
          "ultra fast fashion / discount",
          "entrée de gamme / mass market",
          "milieu de gamme",
          "premium / luxe abordable",
          "luxe & création"
         ],
         "xaxis": "x",
         "y": [
          5.334628099173554,
          8.127520661157025,
          16.738767123287673,
          27.94817518248175,
          133.7102205882353
         ],
         "yaxis": "y"
        }
       ],
       "layout": {
        "legend": {
         "tracegroupgap": 0
        },
        "margin": {
         "t": 60
        },
        "template": {
         "data": {
          "bar": [
           {
            "error_x": {
             "color": "#2a3f5f"
            },
            "error_y": {
             "color": "#2a3f5f"
            },
            "marker": {
             "line": {
              "color": "#E5ECF6",
              "width": 0.5
             },
             "pattern": {
              "fillmode": "overlay",
              "size": 10,
              "solidity": 0.2
             }
            },
            "type": "bar"
           }
          ],
          "barpolar": [
           {
            "marker": {
             "line": {
              "color": "#E5ECF6",
              "width": 0.5
             },
             "pattern": {
              "fillmode": "overlay",
              "size": 10,
              "solidity": 0.2
             }
            },
            "type": "barpolar"
           }
          ],
          "carpet": [
           {
            "aaxis": {
             "endlinecolor": "#2a3f5f",
             "gridcolor": "white",
             "linecolor": "white",
             "minorgridcolor": "white",
             "startlinecolor": "#2a3f5f"
            },
            "baxis": {
             "endlinecolor": "#2a3f5f",
             "gridcolor": "white",
             "linecolor": "white",
             "minorgridcolor": "white",
             "startlinecolor": "#2a3f5f"
            },
            "type": "carpet"
           }
          ],
          "choropleth": [
           {
            "colorbar": {
             "outlinewidth": 0,
             "ticks": ""
            },
            "type": "choropleth"
           }
          ],
          "contour": [
           {
            "colorbar": {
             "outlinewidth": 0,
             "ticks": ""
            },
            "colorscale": [
             [
              0,
              "#0d0887"
             ],
             [
              0.1111111111111111,
              "#46039f"
             ],
             [
              0.2222222222222222,
              "#7201a8"
             ],
             [
              0.3333333333333333,
              "#9c179e"
             ],
             [
              0.4444444444444444,
              "#bd3786"
             ],
             [
              0.5555555555555556,
              "#d8576b"
             ],
             [
              0.6666666666666666,
              "#ed7953"
             ],
             [
              0.7777777777777778,
              "#fb9f3a"
             ],
             [
              0.8888888888888888,
              "#fdca26"
             ],
             [
              1,
              "#f0f921"
             ]
            ],
            "type": "contour"
           }
          ],
          "contourcarpet": [
           {
            "colorbar": {
             "outlinewidth": 0,
             "ticks": ""
            },
            "type": "contourcarpet"
           }
          ],
          "heatmap": [
           {
            "colorbar": {
             "outlinewidth": 0,
             "ticks": ""
            },
            "colorscale": [
             [
              0,
              "#0d0887"
             ],
             [
              0.1111111111111111,
              "#46039f"
             ],
             [
              0.2222222222222222,
              "#7201a8"
             ],
             [
              0.3333333333333333,
              "#9c179e"
             ],
             [
              0.4444444444444444,
              "#bd3786"
             ],
             [
              0.5555555555555556,
              "#d8576b"
             ],
             [
              0.6666666666666666,
              "#ed7953"
             ],
             [
              0.7777777777777778,
              "#fb9f3a"
             ],
             [
              0.8888888888888888,
              "#fdca26"
             ],
             [
              1,
              "#f0f921"
             ]
            ],
            "type": "heatmap"
           }
          ],
          "heatmapgl": [
           {
            "colorbar": {
             "outlinewidth": 0,
             "ticks": ""
            },
            "colorscale": [
             [
              0,
              "#0d0887"
             ],
             [
              0.1111111111111111,
              "#46039f"
             ],
             [
              0.2222222222222222,
              "#7201a8"
             ],
             [
              0.3333333333333333,
              "#9c179e"
             ],
             [
              0.4444444444444444,
              "#bd3786"
             ],
             [
              0.5555555555555556,
              "#d8576b"
             ],
             [
              0.6666666666666666,
              "#ed7953"
             ],
             [
              0.7777777777777778,
              "#fb9f3a"
             ],
             [
              0.8888888888888888,
              "#fdca26"
             ],
             [
              1,
              "#f0f921"
             ]
            ],
            "type": "heatmapgl"
           }
          ],
          "histogram": [
           {
            "marker": {
             "pattern": {
              "fillmode": "overlay",
              "size": 10,
              "solidity": 0.2
             }
            },
            "type": "histogram"
           }
          ],
          "histogram2d": [
           {
            "colorbar": {
             "outlinewidth": 0,
             "ticks": ""
            },
            "colorscale": [
             [
              0,
              "#0d0887"
             ],
             [
              0.1111111111111111,
              "#46039f"
             ],
             [
              0.2222222222222222,
              "#7201a8"
             ],
             [
              0.3333333333333333,
              "#9c179e"
             ],
             [
              0.4444444444444444,
              "#bd3786"
             ],
             [
              0.5555555555555556,
              "#d8576b"
             ],
             [
              0.6666666666666666,
              "#ed7953"
             ],
             [
              0.7777777777777778,
              "#fb9f3a"
             ],
             [
              0.8888888888888888,
              "#fdca26"
             ],
             [
              1,
              "#f0f921"
             ]
            ],
            "type": "histogram2d"
           }
          ],
          "histogram2dcontour": [
           {
            "colorbar": {
             "outlinewidth": 0,
             "ticks": ""
            },
            "colorscale": [
             [
              0,
              "#0d0887"
             ],
             [
              0.1111111111111111,
              "#46039f"
             ],
             [
              0.2222222222222222,
              "#7201a8"
             ],
             [
              0.3333333333333333,
              "#9c179e"
             ],
             [
              0.4444444444444444,
              "#bd3786"
             ],
             [
              0.5555555555555556,
              "#d8576b"
             ],
             [
              0.6666666666666666,
              "#ed7953"
             ],
             [
              0.7777777777777778,
              "#fb9f3a"
             ],
             [
              0.8888888888888888,
              "#fdca26"
             ],
             [
              1,
              "#f0f921"
             ]
            ],
            "type": "histogram2dcontour"
           }
          ],
          "mesh3d": [
           {
            "colorbar": {
             "outlinewidth": 0,
             "ticks": ""
            },
            "type": "mesh3d"
           }
          ],
          "parcoords": [
           {
            "line": {
             "colorbar": {
              "outlinewidth": 0,
              "ticks": ""
             }
            },
            "type": "parcoords"
           }
          ],
          "pie": [
           {
            "automargin": true,
            "type": "pie"
           }
          ],
          "scatter": [
           {
            "fillpattern": {
             "fillmode": "overlay",
             "size": 10,
             "solidity": 0.2
            },
            "type": "scatter"
           }
          ],
          "scatter3d": [
           {
            "line": {
             "colorbar": {
              "outlinewidth": 0,
              "ticks": ""
             }
            },
            "marker": {
             "colorbar": {
              "outlinewidth": 0,
              "ticks": ""
             }
            },
            "type": "scatter3d"
           }
          ],
          "scattercarpet": [
           {
            "marker": {
             "colorbar": {
              "outlinewidth": 0,
              "ticks": ""
             }
            },
            "type": "scattercarpet"
           }
          ],
          "scattergeo": [
           {
            "marker": {
             "colorbar": {
              "outlinewidth": 0,
              "ticks": ""
             }
            },
            "type": "scattergeo"
           }
          ],
          "scattergl": [
           {
            "marker": {
             "colorbar": {
              "outlinewidth": 0,
              "ticks": ""
             }
            },
            "type": "scattergl"
           }
          ],
          "scattermapbox": [
           {
            "marker": {
             "colorbar": {
              "outlinewidth": 0,
              "ticks": ""
             }
            },
            "type": "scattermapbox"
           }
          ],
          "scatterpolar": [
           {
            "marker": {
             "colorbar": {
              "outlinewidth": 0,
              "ticks": ""
             }
            },
            "type": "scatterpolar"
           }
          ],
          "scatterpolargl": [
           {
            "marker": {
             "colorbar": {
              "outlinewidth": 0,
              "ticks": ""
             }
            },
            "type": "scatterpolargl"
           }
          ],
          "scatterternary": [
           {
            "marker": {
             "colorbar": {
              "outlinewidth": 0,
              "ticks": ""
             }
            },
            "type": "scatterternary"
           }
          ],
          "surface": [
           {
            "colorbar": {
             "outlinewidth": 0,
             "ticks": ""
            },
            "colorscale": [
             [
              0,
              "#0d0887"
             ],
             [
              0.1111111111111111,
              "#46039f"
             ],
             [
              0.2222222222222222,
              "#7201a8"
             ],
             [
              0.3333333333333333,
              "#9c179e"
             ],
             [
              0.4444444444444444,
              "#bd3786"
             ],
             [
              0.5555555555555556,
              "#d8576b"
             ],
             [
              0.6666666666666666,
              "#ed7953"
             ],
             [
              0.7777777777777778,
              "#fb9f3a"
             ],
             [
              0.8888888888888888,
              "#fdca26"
             ],
             [
              1,
              "#f0f921"
             ]
            ],
            "type": "surface"
           }
          ],
          "table": [
           {
            "cells": {
             "fill": {
              "color": "#EBF0F8"
             },
             "line": {
              "color": "white"
             }
            },
            "header": {
             "fill": {
              "color": "#C8D4E3"
             },
             "line": {
              "color": "white"
             }
            },
            "type": "table"
           }
          ]
         },
         "layout": {
          "annotationdefaults": {
           "arrowcolor": "#2a3f5f",
           "arrowhead": 0,
           "arrowwidth": 1
          },
          "autotypenumbers": "strict",
          "coloraxis": {
           "colorbar": {
            "outlinewidth": 0,
            "ticks": ""
           }
          },
          "colorscale": {
           "diverging": [
            [
             0,
             "#8e0152"
            ],
            [
             0.1,
             "#c51b7d"
            ],
            [
             0.2,
             "#de77ae"
            ],
            [
             0.3,
             "#f1b6da"
            ],
            [
             0.4,
             "#fde0ef"
            ],
            [
             0.5,
             "#f7f7f7"
            ],
            [
             0.6,
             "#e6f5d0"
            ],
            [
             0.7,
             "#b8e186"
            ],
            [
             0.8,
             "#7fbc41"
            ],
            [
             0.9,
             "#4d9221"
            ],
            [
             1,
             "#276419"
            ]
           ],
           "sequential": [
            [
             0,
             "#0d0887"
            ],
            [
             0.1111111111111111,
             "#46039f"
            ],
            [
             0.2222222222222222,
             "#7201a8"
            ],
            [
             0.3333333333333333,
             "#9c179e"
            ],
            [
             0.4444444444444444,
             "#bd3786"
            ],
            [
             0.5555555555555556,
             "#d8576b"
            ],
            [
             0.6666666666666666,
             "#ed7953"
            ],
            [
             0.7777777777777778,
             "#fb9f3a"
            ],
            [
             0.8888888888888888,
             "#fdca26"
            ],
            [
             1,
             "#f0f921"
            ]
           ],
           "sequentialminus": [
            [
             0,
             "#0d0887"
            ],
            [
             0.1111111111111111,
             "#46039f"
            ],
            [
             0.2222222222222222,
             "#7201a8"
            ],
            [
             0.3333333333333333,
             "#9c179e"
            ],
            [
             0.4444444444444444,
             "#bd3786"
            ],
            [
             0.5555555555555556,
             "#d8576b"
            ],
            [
             0.6666666666666666,
             "#ed7953"
            ],
            [
             0.7777777777777778,
             "#fb9f3a"
            ],
            [
             0.8888888888888888,
             "#fdca26"
            ],
            [
             1,
             "#f0f921"
            ]
           ]
          },
          "colorway": [
           "#636efa",
           "#EF553B",
           "#00cc96",
           "#ab63fa",
           "#FFA15A",
           "#19d3f3",
           "#FF6692",
           "#B6E880",
           "#FF97FF",
           "#FECB52"
          ],
          "font": {
           "color": "#2a3f5f"
          },
          "geo": {
           "bgcolor": "white",
           "lakecolor": "white",
           "landcolor": "#E5ECF6",
           "showlakes": true,
           "showland": true,
           "subunitcolor": "white"
          },
          "hoverlabel": {
           "align": "left"
          },
          "hovermode": "closest",
          "mapbox": {
           "style": "light"
          },
          "paper_bgcolor": "white",
          "plot_bgcolor": "#E5ECF6",
          "polar": {
           "angularaxis": {
            "gridcolor": "white",
            "linecolor": "white",
            "ticks": ""
           },
           "bgcolor": "#E5ECF6",
           "radialaxis": {
            "gridcolor": "white",
            "linecolor": "white",
            "ticks": ""
           }
          },
          "scene": {
           "xaxis": {
            "backgroundcolor": "#E5ECF6",
            "gridcolor": "white",
            "gridwidth": 2,
            "linecolor": "white",
            "showbackground": true,
            "ticks": "",
            "zerolinecolor": "white"
           },
           "yaxis": {
            "backgroundcolor": "#E5ECF6",
            "gridcolor": "white",
            "gridwidth": 2,
            "linecolor": "white",
            "showbackground": true,
            "ticks": "",
            "zerolinecolor": "white"
           },
           "zaxis": {
            "backgroundcolor": "#E5ECF6",
            "gridcolor": "white",
            "gridwidth": 2,
            "linecolor": "white",
            "showbackground": true,
            "ticks": "",
            "zerolinecolor": "white"
           }
          },
          "shapedefaults": {
           "line": {
            "color": "#2a3f5f"
           }
          },
          "ternary": {
           "aaxis": {
            "gridcolor": "white",
            "linecolor": "white",
            "ticks": ""
           },
           "baxis": {
            "gridcolor": "white",
            "linecolor": "white",
            "ticks": ""
           },
           "bgcolor": "#E5ECF6",
           "caxis": {
            "gridcolor": "white",
            "linecolor": "white",
            "ticks": ""
           }
          },
          "title": {
           "x": 0.05
          },
          "xaxis": {
           "automargin": true,
           "gridcolor": "white",
           "linecolor": "white",
           "ticks": "",
           "title": {
            "standoff": 15
           },
           "zerolinecolor": "white",
           "zerolinewidth": 2
          },
          "yaxis": {
           "automargin": true,
           "gridcolor": "white",
           "linecolor": "white",
           "ticks": "",
           "title": {
            "standoff": 15
           },
           "zerolinecolor": "white",
           "zerolinewidth": 2
          }
         }
        },
        "xaxis": {
         "anchor": "y",
         "categoryarray": [
          "ultra fast fashion / discount",
          "entrée de gamme / mass market",
          "milieu de gamme",
          "premium / luxe abordable",
          "luxe & création"
         ],
         "categoryorder": "array",
         "domain": [
          0,
          1
         ],
         "title": {
          "text": "Segment de marché"
         }
        },
        "yaxis": {
         "anchor": "x",
         "domain": [
          0,
          1
         ],
         "title": {
          "text": "Prix"
         }
        }
       }
      }
     },
     "metadata": {},
     "output_type": "display_data"
    }
   ],
   "source": [
    "px.scatter(filtered_df_shirt.groupby(by='Segment de marché').mean().sort_values(by='Prix'), y='Prix', category_orders=category_orders).update_traces(mode='lines+markers')"
   ]
  },
  {
   "cell_type": "code",
   "execution_count": null,
   "metadata": {},
   "outputs": [],
   "source": []
  }
 ],
 "metadata": {
  "interpreter": {
   "hash": "2ef5e293defde336e18effedfb280f0d11005b401f1b516e6e8aa19f195a036f"
  },
  "kernelspec": {
   "display_name": "Python 3.9.12 ('.scrapped-env': venv)",
   "language": "python",
   "name": "python3"
  },
  "language_info": {
   "codemirror_mode": {
    "name": "ipython",
    "version": 3
   },
   "file_extension": ".py",
   "mimetype": "text/x-python",
   "name": "python",
   "nbconvert_exporter": "python",
   "pygments_lexer": "ipython3",
   "version": "3.9.12"
  },
  "orig_nbformat": 4
 },
 "nbformat": 4,
 "nbformat_minor": 2
}

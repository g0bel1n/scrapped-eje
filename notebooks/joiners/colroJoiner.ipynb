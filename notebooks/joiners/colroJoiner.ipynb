{
 "cells": [
  {
   "cell_type": "code",
   "execution_count": 3,
   "metadata": {},
   "outputs": [],
   "source": [
    "import pandas as pd\n",
    "import seaborn as sns\n",
    "import matplotlib.pyplot as plt\n",
    "import itertools\n",
    "import os\n",
    "from pathlib import Path\n",
    "\n",
    "\n",
    "\n",
    "import numpy as np\n",
    "\n",
    "if \"root\" not in locals():\n",
    "    current_path = Path(os.getcwd())\n",
    "    root = current_path.parent.absolute()\n",
    "os.chdir(root)\n",
    "\n",
    "from src.preprocessing import preprocessVesCoDf, preprocessVintedDf, dropWrongArticles, categoriseMarque\n",
    "sns.set_style('whitegrid')\n",
    "\n",
    "import matplotlib.pyplot as plt\n",
    "sns.set(rc={'figure.figsize':(10,5)})"
   ]
  },
  {
   "cell_type": "code",
   "execution_count": 14,
   "metadata": {},
   "outputs": [],
   "source": [
    "df_vinted = pd.read_csv('src/data/raw/VintedColRoulé.csv').drop(['Unnamed: 0'], axis=1, inplace=False)\n",
    "df_vesco = pd.read_csv('src/data/raw/VestCoColRoulé.csv').drop(['Unnamed: 0'], axis=1, inplace=False)"
   ]
  },
  {
   "cell_type": "code",
   "execution_count": 15,
   "metadata": {},
   "outputs": [],
   "source": [
    "df_vesco = preprocessVesCoDf(df_vesco)\n",
    "df_vinted = preprocessVintedDf(df_vinted)"
   ]
  },
  {
   "cell_type": "code",
   "execution_count": 35,
   "metadata": {},
   "outputs": [],
   "source": [
    "df_vinted = dropWrongArticles(['COL ROULÉ', 'COL ROULE', 'PULL-OVER LAINE', 'PULL-OVER EN LAINE'], ['Description', 'nom'], df_vinted)\n",
    "df_vesco = dropWrongArticles(['COL ROULÉ', 'COL ROULE'], ['Description'], df_vesco)"
   ]
  },
  {
   "cell_type": "code",
   "execution_count": 36,
   "metadata": {},
   "outputs": [],
   "source": [
    "df = pd.concat([df_vinted , df_vesco])"
   ]
  },
  {
   "cell_type": "code",
   "execution_count": 37,
   "metadata": {},
   "outputs": [],
   "source": [
    "df.Marque = df.Marque.apply(lambda x: str(x)[:-1] if str(x)[-1]==' ' else str(x))"
   ]
  },
  {
   "cell_type": "code",
   "execution_count": 38,
   "metadata": {},
   "outputs": [
    {
     "data": {
      "text/plain": [
       "array(['AMI', 'SMOG', 'C.P. COMPANY', 'COODRONY', 'CELIO PRESTIGE',\n",
       "       'NEW YORKER', 'ARTE', 'CARHARTT', 'DEFACTO', 'EDEN PARK', 'HUGO',\n",
       "       'nan', 'FIREFLY', 'RALPH LAUREN', 'SELECTED HOMME', 'LACOSTE',\n",
       "       'DEVRED', 'BERSHKA', 'CKH', 'THE KOOPLES', 'CHAPS', 'MANOUKIAN',\n",
       "       'JACK & JONES', 'JULES', 'ERIC BOMPARD', 'BRICE', 'STONE ISLAND',\n",
       "       'SANDRO', 'NA-KD', 'AMERICAN VINTAGE', 'UNIQLO', 'PRIMO EMPORIO',\n",
       "       'KIABI', 'HUGO BOSS', 'ZARA', 'TERANCE KOLE', 'C&A', 'CELIO',\n",
       "       'ESPRIT', 'COLLUSION', 'YOURTURN', 'SISLEY', 'TRUSSARDI',\n",
       "       'HARTFORD', 'DOLCE & GABBANA', 'BALENCIAGA',\n",
       "       'ISABEL MARANT ETOILE', 'CARAMEL', 'CALVIN KLEIN COLLECTION',\n",
       "       'BALMAIN', 'LORO PIANA', 'ROBERTO CAVALLI', 'AQUASCUTUM',\n",
       "       'YOHJI YAMAMOTO', 'JUUNJ', 'BAUM UND PFERDGARTEN', 'ALL SAINTS',\n",
       "       'MAX MARA', 'ROBERTO COLLINA', 'TOTÊME', 'NON SIGNÉ / UNSIGNED',\n",
       "       'WHISTLES', 'KAREN MILLEN', 'JEAN PAUL GAULTIER', 'WOLFORD',\n",
       "       'PINKO', 'ALEXANDER MCQUEEN', 'LEMAIRE', 'MAISON MARTIN MARGIELA',\n",
       "       'LOEWE', 'FABIANA FILIPPI', 'RICK OWENS',\n",
       "       'RALPH LAUREN COLLECTION', 'BRUNELLO CUCINELLI', 'ARMANI EXCHANGE',\n",
       "       'AMEN PAPA', 'KHAITE', 'JOSEPH'], dtype=object)"
      ]
     },
     "execution_count": 38,
     "metadata": {},
     "output_type": "execute_result"
    }
   ],
   "source": [
    "df.Marque.unique()"
   ]
  },
  {
   "cell_type": "code",
   "execution_count": 39,
   "metadata": {},
   "outputs": [],
   "source": [
    "df['cat'] = df.apply(categoriseMarque, axis=1)"
   ]
  },
  {
   "cell_type": "code",
   "execution_count": 40,
   "metadata": {},
   "outputs": [
    {
     "data": {
      "text/plain": [
       "État           103\n",
       "Marque         103\n",
       "Date           103\n",
       "nom             66\n",
       "Prix           103\n",
       "Description    103\n",
       "cat            103\n",
       "dtype: int64"
      ]
     },
     "execution_count": 40,
     "metadata": {},
     "output_type": "execute_result"
    }
   ],
   "source": [
    "df[df.cat != 'Undefined'].count()"
   ]
  },
  {
   "cell_type": "code",
   "execution_count": 24,
   "metadata": {},
   "outputs": [
    {
     "data": {
      "text/plain": [
       "26.333333333333314"
      ]
     },
     "execution_count": 24,
     "metadata": {},
     "output_type": "execute_result"
    }
   ],
   "source": [
    "df.Prix.quantile(1/3)"
   ]
  },
  {
   "cell_type": "code",
   "execution_count": 25,
   "metadata": {},
   "outputs": [
    {
     "data": {
      "text/plain": [
       "97.99999999999994"
      ]
     },
     "execution_count": 25,
     "metadata": {},
     "output_type": "execute_result"
    }
   ],
   "source": [
    "df.Prix.quantile(2/3)"
   ]
  },
  {
   "cell_type": "code",
   "execution_count": 26,
   "metadata": {},
   "outputs": [
    {
     "data": {
      "text/plain": [
       "144.9504"
      ]
     },
     "execution_count": 26,
     "metadata": {},
     "output_type": "execute_result"
    }
   ],
   "source": [
    "df.Prix.quantile(0.84)"
   ]
  },
  {
   "cell_type": "code",
   "execution_count": 28,
   "metadata": {},
   "outputs": [],
   "source": [
    "df.to_csv('src/data/treated/colroule.csv')"
   ]
  },
  {
   "cell_type": "code",
   "execution_count": null,
   "metadata": {},
   "outputs": [],
   "source": []
  },
  {
   "cell_type": "code",
   "execution_count": null,
   "metadata": {},
   "outputs": [],
   "source": []
  }
 ],
 "metadata": {
  "interpreter": {
   "hash": "2ef5e293defde336e18effedfb280f0d11005b401f1b516e6e8aa19f195a036f"
  },
  "kernelspec": {
   "display_name": "Python 3.9.12 ('.scrapped-env': venv)",
   "language": "python",
   "name": "python3"
  },
  "language_info": {
   "codemirror_mode": {
    "name": "ipython",
    "version": 3
   },
   "file_extension": ".py",
   "mimetype": "text/x-python",
   "name": "python",
   "nbconvert_exporter": "python",
   "pygments_lexer": "ipython3",
   "version": "3.9.12"
  },
  "orig_nbformat": 4
 },
 "nbformat": 4,
 "nbformat_minor": 2
}

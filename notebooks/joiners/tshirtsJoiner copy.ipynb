{
 "cells": [
  {
   "cell_type": "code",
   "execution_count": 13,
   "metadata": {},
   "outputs": [],
   "source": [
    "import pandas as pd\n",
    "import seaborn as sns\n",
    "import matplotlib.pyplot as plt\n",
    "import os\n",
    "from pathlib import Path\n",
    "\n",
    "\n",
    "\n",
    "import numpy as np\n",
    "\n",
    "if \"root\" not in locals():\n",
    "    current_path = Path(os.getcwd())\n",
    "    root = current_path.parent.absolute()\n",
    "os.chdir(root)\n",
    "\n",
    "from src.preprocessing import preprocessVesCoDf, preprocessVintedDf, dropWrongArticles, categoriseMarque\n",
    "sns.set_style('whitegrid')\n",
    "\n",
    "import matplotlib.pyplot as plt\n",
    "sns.set(rc={'figure.figsize':(10,5)})"
   ]
  },
  {
   "cell_type": "code",
   "execution_count": 14,
   "metadata": {},
   "outputs": [],
   "source": [
    "df_vinted = pd.read_csv('data/raw/vintedShirt400.csv').drop(['Unnamed: 0'], axis=1, inplace=False)\n",
    "df_vesco = pd.read_csv('data/raw/vestCoShirt400.csv').drop(['Unnamed: 0'], axis=1, inplace=False)\n",
    "df_shein = pd.read_csv(\"data/raw/t%20shirt%20shein.csv\").drop(['Unnamed: 0'], axis=1, inplace=False)\n",
    "df_plt = pd.read_csv('data/raw/t_20shirt_20PrettyLittleThings.csv').drop(['Unnamed: 0'], axis=1, inplace=False)\n",
    "df_miss = pd.read_csv('data/raw/t_20shirt_20Missguided.csv').drop(['Unnamed: 0'], axis=1, inplace=False)\n",
    "df_mango = pd.read_csv('data/raw/t_20shirt_20mango.csv').drop(['Unnamed: 0'], axis=1, inplace=False)\n",
    "df_uniqlo = pd.read_csv('data/raw/t_20shirt_20uniqlo.csv').drop(['Unnamed: 0'], axis=1, inplace=False)\n",
    "df_zara = pd.read_csv('data/raw/t_20shirt_20zara.csv').drop(['Unnamed: 0'], axis=1, inplace=False)\n",
    "df_kenzo = pd.read_csv('data/raw/t_shirt_kenzo.csv').drop(['Unnamed: 0'], axis=1, inplace=False)\n",
    "df_lacoste = pd.read_csv('data/raw/t_shirt_lacoste.csv').drop(['Unnamed: 0'], axis=1, inplace=False)\n",
    "df_ps = pd.read_csv('data/raw/t_shirt_paul_smith.csv').drop(['Unnamed: 0'], axis=1, inplace=False)\n",
    "df_adidas = pd.read_csv('data/raw/t_shirt_adidas.csv').drop(['Unnamed: 0'], axis=1, inplace=False)\n",
    "df_guess = pd.read_csv('data/raw/t_shirtGuess.csv').drop(['Unnamed: 0'], axis=1, inplace=False)\n",
    "df_tf = pd.read_csv('data/raw/t_shirtTommy_Hilfiger.csv').drop(['Unnamed: 0'], axis=1, inplace=False)"
   ]
  },
  {
   "cell_type": "code",
   "execution_count": 15,
   "metadata": {},
   "outputs": [],
   "source": [
    "df_vinted = pd.concat([df_vinted, df_shein,df_plt,df_miss,df_zara,df_uniqlo,df_mango, df_kenzo, df_lacoste, df_ps, df_adidas, df_guess, df_tf], ignore_index = True, axis = 0)"
   ]
  },
  {
   "cell_type": "code",
   "execution_count": 16,
   "metadata": {},
   "outputs": [],
   "source": [
    "df_vesco = preprocessVesCoDf(df_vesco)\n",
    "df_vinted = preprocessVintedDf(df_vinted)"
   ]
  },
  {
   "cell_type": "code",
   "execution_count": null,
   "metadata": {},
   "outputs": [],
   "source": []
  },
  {
   "cell_type": "code",
   "execution_count": 17,
   "metadata": {},
   "outputs": [
    {
     "name": "stdout",
     "output_type": "stream",
     "text": [
      "401 1118\n"
     ]
    }
   ],
   "source": [
    "print(df_vesco.shape[0],df_vinted.shape[0])"
   ]
  },
  {
   "cell_type": "code",
   "execution_count": 18,
   "metadata": {},
   "outputs": [],
   "source": [
    "df_vinted = dropWrongArticles(['TSHIRT', 'T-SHIRT', 'T SHIRT'], ['Description', 'nom'], df_vinted, ['LONGUES', 'LONGUE'])\n",
    "df_vesco = dropWrongArticles(['TSHIRT', 'T-SHIRT', 'T SHIRT'], ['Description'], df_vesco, ['LONGUES', 'LONGUE'])"
   ]
  },
  {
   "cell_type": "code",
   "execution_count": 19,
   "metadata": {},
   "outputs": [
    {
     "name": "stdout",
     "output_type": "stream",
     "text": [
      "325 668\n"
     ]
    }
   ],
   "source": [
    "print(df_vesco.shape[0],df_vinted.shape[0])"
   ]
  },
  {
   "cell_type": "code",
   "execution_count": 20,
   "metadata": {},
   "outputs": [
    {
     "data": {
      "text/html": [
       "<div>\n",
       "<style scoped>\n",
       "    .dataframe tbody tr th:only-of-type {\n",
       "        vertical-align: middle;\n",
       "    }\n",
       "\n",
       "    .dataframe tbody tr th {\n",
       "        vertical-align: top;\n",
       "    }\n",
       "\n",
       "    .dataframe thead th {\n",
       "        text-align: right;\n",
       "    }\n",
       "</style>\n",
       "<table border=\"1\" class=\"dataframe\">\n",
       "  <thead>\n",
       "    <tr style=\"text-align: right;\">\n",
       "      <th></th>\n",
       "      <th>État</th>\n",
       "      <th>Marque</th>\n",
       "      <th>TAILLE</th>\n",
       "      <th>Date</th>\n",
       "      <th>nom</th>\n",
       "      <th>Prix</th>\n",
       "      <th>Description</th>\n",
       "    </tr>\n",
       "  </thead>\n",
       "  <tbody>\n",
       "    <tr>\n",
       "      <th>0</th>\n",
       "      <td>NEUF AVEC ÉTIQUETTE</td>\n",
       "      <td>VETEMENTS</td>\n",
       "      <td>M</td>\n",
       "      <td>2022-04-09</td>\n",
       "      <td>T-SHIRT VETEMENTS ÉDITION LIMITÉE</td>\n",
       "      <td>160.0</td>\n",
       "      <td>T-SHIRT NEUF AVEC ÉTIQUETTES \\nONESIZE CORRESP...</td>\n",
       "    </tr>\n",
       "    <tr>\n",
       "      <th>1</th>\n",
       "      <td>NEUF AVEC ÉTIQUETTE</td>\n",
       "      <td>TWIGGY CREATIVE UNIVERSE</td>\n",
       "      <td>M</td>\n",
       "      <td>2022-04-09</td>\n",
       "      <td>T SHIRT TWIGGY CREATIVE UNIVERSE</td>\n",
       "      <td>25.0</td>\n",
       "      <td>T SHIRT 100% COTON NOIR DÉLAVÉ DE LA MARQUE FR...</td>\n",
       "    </tr>\n",
       "    <tr>\n",
       "      <th>2</th>\n",
       "      <td>BON ÉTAT</td>\n",
       "      <td>ARC'TERYX</td>\n",
       "      <td>S</td>\n",
       "      <td>2022-04-09</td>\n",
       "      <td>PREFORMANCE T-SHIRT</td>\n",
       "      <td>15.0</td>\n",
       "      <td>100% KATOEN WEL GEDERAGEN ZIET ER NETJES UIT</td>\n",
       "    </tr>\n",
       "    <tr>\n",
       "      <th>3</th>\n",
       "      <td>TRÈS BON ÉTAT</td>\n",
       "      <td>ZARA</td>\n",
       "      <td>L</td>\n",
       "      <td>2022-04-09</td>\n",
       "      <td>T-SHIRT ZARA</td>\n",
       "      <td>5.0</td>\n",
       "      <td>QUASI NEUF ( PORTÉ QUE QUELQUES FOIS )</td>\n",
       "    </tr>\n",
       "    <tr>\n",
       "      <th>4</th>\n",
       "      <td>TRÈS BON ÉTAT</td>\n",
       "      <td>ACNE STUDIOS</td>\n",
       "      <td>M</td>\n",
       "      <td>2022-04-09</td>\n",
       "      <td>ACNE STUDIOS NECK T SHIRT (XS)</td>\n",
       "      <td>70.0</td>\n",
       "      <td>VALT HEEL OVERSIZED (ALS EEN M/L NORMALE SHIRT...</td>\n",
       "    </tr>\n",
       "    <tr>\n",
       "      <th>...</th>\n",
       "      <td>...</td>\n",
       "      <td>...</td>\n",
       "      <td>...</td>\n",
       "      <td>...</td>\n",
       "      <td>...</td>\n",
       "      <td>...</td>\n",
       "      <td>...</td>\n",
       "    </tr>\n",
       "    <tr>\n",
       "      <th>1110</th>\n",
       "      <td>TRÈS BON ÉTAT</td>\n",
       "      <td>TOMMY HILFIGER</td>\n",
       "      <td>XS / 34 / 6</td>\n",
       "      <td>2022-05-12</td>\n",
       "      <td>T-SHIRT TOMMY-HILFIGER</td>\n",
       "      <td>4.0</td>\n",
       "      <td>T-SHIRTTOMMY HILFIGER \\nTRÈS PEU PORTÉ \\nTAILL...</td>\n",
       "    </tr>\n",
       "    <tr>\n",
       "      <th>1112</th>\n",
       "      <td>TRÈS BON ÉTAT</td>\n",
       "      <td>TOMMY HILFIGER</td>\n",
       "      <td>L</td>\n",
       "      <td>2022-05-12</td>\n",
       "      <td>SWEAT-SHIRTTOMMY HILFIGER</td>\n",
       "      <td>25.0</td>\n",
       "      <td>TRÈS BON ÉTAT.</td>\n",
       "    </tr>\n",
       "    <tr>\n",
       "      <th>1114</th>\n",
       "      <td>TRÈS BON ÉTAT</td>\n",
       "      <td>TOMMY HILFIGER</td>\n",
       "      <td>M</td>\n",
       "      <td>2022-05-12</td>\n",
       "      <td>T-SHIRTTOMMY HILFIGER VIOLET CLAIR</td>\n",
       "      <td>7.0</td>\n",
       "      <td>EN TRÈS BON ÉTAT</td>\n",
       "    </tr>\n",
       "    <tr>\n",
       "      <th>1115</th>\n",
       "      <td>BON ÉTAT</td>\n",
       "      <td>TOMMY HILFIGER</td>\n",
       "      <td>L</td>\n",
       "      <td>2022-05-12</td>\n",
       "      <td>T-SHIRT TOMMY</td>\n",
       "      <td>20.0</td>\n",
       "      <td>T-SHIRTTOMMY BLANC A ÉCRITURE COLORER</td>\n",
       "    </tr>\n",
       "    <tr>\n",
       "      <th>1117</th>\n",
       "      <td>TRÈS BON ÉTAT</td>\n",
       "      <td>TOMMY HILFIGER</td>\n",
       "      <td>M</td>\n",
       "      <td>2022-05-12</td>\n",
       "      <td>T-SHIRTTOMMY JEANS NOIR</td>\n",
       "      <td>12.0</td>\n",
       "      <td>PORTE QUELQUE FOIS, EXCELLENT ÉTAT TSHIRT TOMM...</td>\n",
       "    </tr>\n",
       "  </tbody>\n",
       "</table>\n",
       "<p>668 rows × 7 columns</p>\n",
       "</div>"
      ],
      "text/plain": [
       "                     État                    Marque       TAILLE        Date  \\\n",
       "0     NEUF AVEC ÉTIQUETTE                 VETEMENTS            M  2022-04-09   \n",
       "1     NEUF AVEC ÉTIQUETTE  TWIGGY CREATIVE UNIVERSE            M  2022-04-09   \n",
       "2                BON ÉTAT                 ARC'TERYX            S  2022-04-09   \n",
       "3           TRÈS BON ÉTAT                      ZARA            L  2022-04-09   \n",
       "4           TRÈS BON ÉTAT              ACNE STUDIOS            M  2022-04-09   \n",
       "...                   ...                       ...          ...         ...   \n",
       "1110        TRÈS BON ÉTAT            TOMMY HILFIGER  XS / 34 / 6  2022-05-12   \n",
       "1112        TRÈS BON ÉTAT            TOMMY HILFIGER            L  2022-05-12   \n",
       "1114        TRÈS BON ÉTAT            TOMMY HILFIGER            M  2022-05-12   \n",
       "1115             BON ÉTAT            TOMMY HILFIGER            L  2022-05-12   \n",
       "1117        TRÈS BON ÉTAT            TOMMY HILFIGER            M  2022-05-12   \n",
       "\n",
       "                                     nom   Prix  \\\n",
       "0      T-SHIRT VETEMENTS ÉDITION LIMITÉE  160.0   \n",
       "1       T SHIRT TWIGGY CREATIVE UNIVERSE   25.0   \n",
       "2                    PREFORMANCE T-SHIRT   15.0   \n",
       "3                           T-SHIRT ZARA    5.0   \n",
       "4         ACNE STUDIOS NECK T SHIRT (XS)   70.0   \n",
       "...                                  ...    ...   \n",
       "1110              T-SHIRT TOMMY-HILFIGER    4.0   \n",
       "1112           SWEAT-SHIRTTOMMY HILFIGER   25.0   \n",
       "1114  T-SHIRTTOMMY HILFIGER VIOLET CLAIR    7.0   \n",
       "1115                       T-SHIRT TOMMY   20.0   \n",
       "1117             T-SHIRTTOMMY JEANS NOIR   12.0   \n",
       "\n",
       "                                            Description  \n",
       "0     T-SHIRT NEUF AVEC ÉTIQUETTES \\nONESIZE CORRESP...  \n",
       "1     T SHIRT 100% COTON NOIR DÉLAVÉ DE LA MARQUE FR...  \n",
       "2          100% KATOEN WEL GEDERAGEN ZIET ER NETJES UIT  \n",
       "3                QUASI NEUF ( PORTÉ QUE QUELQUES FOIS )  \n",
       "4     VALT HEEL OVERSIZED (ALS EEN M/L NORMALE SHIRT...  \n",
       "...                                                 ...  \n",
       "1110  T-SHIRTTOMMY HILFIGER \\nTRÈS PEU PORTÉ \\nTAILL...  \n",
       "1112                                     TRÈS BON ÉTAT.  \n",
       "1114                                   EN TRÈS BON ÉTAT  \n",
       "1115              T-SHIRTTOMMY BLANC A ÉCRITURE COLORER  \n",
       "1117  PORTE QUELQUE FOIS, EXCELLENT ÉTAT TSHIRT TOMM...  \n",
       "\n",
       "[668 rows x 7 columns]"
      ]
     },
     "execution_count": 20,
     "metadata": {},
     "output_type": "execute_result"
    }
   ],
   "source": [
    "df_vinted"
   ]
  },
  {
   "cell_type": "code",
   "execution_count": 21,
   "metadata": {},
   "outputs": [],
   "source": [
    "df = pd.concat([df_vinted , df_vesco], ignore_index=True)"
   ]
  },
  {
   "cell_type": "code",
   "execution_count": 22,
   "metadata": {},
   "outputs": [],
   "source": [
    "df.to_csv('data/treated/tshirts.csv')"
   ]
  },
  {
   "cell_type": "code",
   "execution_count": null,
   "metadata": {},
   "outputs": [],
   "source": []
  }
 ],
 "metadata": {
  "interpreter": {
   "hash": "2ef5e293defde336e18effedfb280f0d11005b401f1b516e6e8aa19f195a036f"
  },
  "kernelspec": {
   "display_name": "Python 3.9.12 ('.scrapped-env': venv)",
   "language": "python",
   "name": "python3"
  },
  "language_info": {
   "codemirror_mode": {
    "name": "ipython",
    "version": 3
   },
   "file_extension": ".py",
   "mimetype": "text/x-python",
   "name": "python",
   "nbconvert_exporter": "python",
   "pygments_lexer": "ipython3",
   "version": "3.9.12"
  },
  "orig_nbformat": 4
 },
 "nbformat": 4,
 "nbformat_minor": 2
}

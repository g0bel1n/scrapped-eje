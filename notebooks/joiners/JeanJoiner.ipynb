{
 "cells": [
  {
   "cell_type": "code",
   "execution_count": 1,
   "metadata": {},
   "outputs": [],
   "source": [
    "import pandas as pd\n",
    "import seaborn as sns\n",
    "import matplotlib.pyplot as plt\n",
    "import itertools\n",
    "import os\n",
    "from pathlib import Path\n",
    "\n",
    "\n",
    "import numpy as np\n",
    "\n",
    "if \"root\" not in locals():\n",
    "    current_path = Path(os.getcwd())\n",
    "    root = current_path.parent.absolute()\n",
    "os.chdir(root)\n",
    "\n",
    "from src.preprocessing import preprocessVesCoDf, preprocessVintedDf, dropWrongArticles, categoriseMarque\n",
    "sns.set_style('whitegrid')\n",
    "\n",
    "import matplotlib.pyplot as plt\n",
    "sns.set(rc={'figure.figsize':(10,5)})"
   ]
  },
  {
   "cell_type": "code",
   "execution_count": 2,
   "metadata": {},
   "outputs": [],
   "source": [
    "df_vinted = pd.read_csv('src/data/raw/vintedJean.csv').drop(['Unnamed: 0'], axis=1, inplace=False)\n",
    "df_vesco = pd.read_csv('src/data/raw/VestCoJean.csv').drop(['Unnamed: 0'], axis=1, inplace=False)"
   ]
  },
  {
   "cell_type": "code",
   "execution_count": 3,
   "metadata": {},
   "outputs": [
    {
     "data": {
      "text/html": [
       "<div>\n",
       "<style scoped>\n",
       "    .dataframe tbody tr th:only-of-type {\n",
       "        vertical-align: middle;\n",
       "    }\n",
       "\n",
       "    .dataframe tbody tr th {\n",
       "        vertical-align: top;\n",
       "    }\n",
       "\n",
       "    .dataframe thead th {\n",
       "        text-align: right;\n",
       "    }\n",
       "</style>\n",
       "<table border=\"1\" class=\"dataframe\">\n",
       "  <thead>\n",
       "    <tr style=\"text-align: right;\">\n",
       "      <th></th>\n",
       "      <th>État</th>\n",
       "      <th>Designer</th>\n",
       "      <th>Taille</th>\n",
       "      <th>En ligne depuis le</th>\n",
       "      <th>nom</th>\n",
       "      <th>prix</th>\n",
       "    </tr>\n",
       "  </thead>\n",
       "  <tbody>\n",
       "    <tr>\n",
       "      <th>0</th>\n",
       "      <td>Très bon état</td>\n",
       "      <td>Levi's</td>\n",
       "      <td>32 US</td>\n",
       "      <td>2022-04-01</td>\n",
       "      <td>Jean's Levi's 510 32x32Traduire</td>\n",
       "      <td>25 €</td>\n",
       "    </tr>\n",
       "    <tr>\n",
       "      <th>1</th>\n",
       "      <td>Très bon état</td>\n",
       "      <td>Amiri</td>\n",
       "      <td>32 US</td>\n",
       "      <td>2022-04-04</td>\n",
       "      <td>Jean Amiri Bleu Taille 32 (look usé)Traduire</td>\n",
       "      <td>240 €\\n+15 € Contrôle et authentification</td>\n",
       "    </tr>\n",
       "    <tr>\n",
       "      <th>2</th>\n",
       "      <td>Très bon état</td>\n",
       "      <td>Amiri</td>\n",
       "      <td>32 US</td>\n",
       "      <td>2022-04-04</td>\n",
       "      <td>Jeans amiri bleu taille 32 look kariertTraduire</td>\n",
       "      <td>240 €\\n+15 € Contrôle et authentification</td>\n",
       "    </tr>\n",
       "    <tr>\n",
       "      <th>3</th>\n",
       "      <td>Très bon état</td>\n",
       "      <td>Amiri</td>\n",
       "      <td>32 US</td>\n",
       "      <td>2022-04-04</td>\n",
       "      <td>Jean Amiri Bleu Taille 32 (look usé)Traduire</td>\n",
       "      <td>240 €\\n+15 € Contrôle et authentification</td>\n",
       "    </tr>\n",
       "    <tr>\n",
       "      <th>4</th>\n",
       "      <td>Très bon état</td>\n",
       "      <td>Amiri</td>\n",
       "      <td>32 US</td>\n",
       "      <td>2022-04-04</td>\n",
       "      <td>Jean AMIRI noir à rayures blanches Taille 32Tr...</td>\n",
       "      <td>300 €\\n+15 € Contrôle et authentification</td>\n",
       "    </tr>\n",
       "    <tr>\n",
       "      <th>...</th>\n",
       "      <td>...</td>\n",
       "      <td>...</td>\n",
       "      <td>...</td>\n",
       "      <td>...</td>\n",
       "      <td>...</td>\n",
       "      <td>...</td>\n",
       "    </tr>\n",
       "    <tr>\n",
       "      <th>96</th>\n",
       "      <td>Très bon état</td>\n",
       "      <td>JACOB COHEN</td>\n",
       "      <td>32 US</td>\n",
       "      <td>2022-03-30</td>\n",
       "      <td>Jean Jacob Cohen pour homme tg. 32 en tissu d'...</td>\n",
       "      <td>60 €\\n+15 € Contrôle et authentification</td>\n",
       "    </tr>\n",
       "    <tr>\n",
       "      <th>97</th>\n",
       "      <td>Jamais porté</td>\n",
       "      <td>Dsquared2</td>\n",
       "      <td>46 FR</td>\n",
       "      <td>2022-03-29</td>\n",
       "      <td>Ces jeans DSQUARED super rares proviennent de ...</td>\n",
       "      <td>77,88 €</td>\n",
       "    </tr>\n",
       "    <tr>\n",
       "      <th>98</th>\n",
       "      <td>Très bon état</td>\n",
       "      <td>GUESS</td>\n",
       "      <td>28 US</td>\n",
       "      <td>2022-04-02</td>\n",
       "      <td>Jean stretch taille basseTraduire</td>\n",
       "      <td>21 €\\n+15 € Contrôle et authentification</td>\n",
       "    </tr>\n",
       "    <tr>\n",
       "      <th>99</th>\n",
       "      <td>Très bon état</td>\n",
       "      <td>Gucci</td>\n",
       "      <td>29 US</td>\n",
       "      <td>2022-03-30</td>\n",
       "      <td>Jean déchiré Gucci taille 29 (environ 42) tail...</td>\n",
       "      <td>86 €</td>\n",
       "    </tr>\n",
       "    <tr>\n",
       "      <th>100</th>\n",
       "      <td>Jamais porté</td>\n",
       "      <td>PULL &amp; BEAR</td>\n",
       "      <td>34 FR</td>\n",
       "      <td>2022-04-03</td>\n",
       "      <td>Jean en parfait état, couleur noir délavé. tai...</td>\n",
       "      <td>16 €\\n+15 € Contrôle et authentification</td>\n",
       "    </tr>\n",
       "  </tbody>\n",
       "</table>\n",
       "<p>101 rows × 6 columns</p>\n",
       "</div>"
      ],
      "text/plain": [
       "              État     Designer Taille En ligne depuis le  \\\n",
       "0    Très bon état       Levi's  32 US         2022-04-01   \n",
       "1    Très bon état        Amiri  32 US         2022-04-04   \n",
       "2    Très bon état        Amiri  32 US         2022-04-04   \n",
       "3    Très bon état        Amiri  32 US         2022-04-04   \n",
       "4    Très bon état        Amiri  32 US         2022-04-04   \n",
       "..             ...          ...    ...                ...   \n",
       "96   Très bon état  JACOB COHEN  32 US         2022-03-30   \n",
       "97    Jamais porté    Dsquared2  46 FR         2022-03-29   \n",
       "98   Très bon état        GUESS  28 US         2022-04-02   \n",
       "99   Très bon état        Gucci  29 US         2022-03-30   \n",
       "100   Jamais porté  PULL & BEAR  34 FR         2022-04-03   \n",
       "\n",
       "                                                   nom  \\\n",
       "0                      Jean's Levi's 510 32x32Traduire   \n",
       "1         Jean Amiri Bleu Taille 32 (look usé)Traduire   \n",
       "2      Jeans amiri bleu taille 32 look kariertTraduire   \n",
       "3         Jean Amiri Bleu Taille 32 (look usé)Traduire   \n",
       "4    Jean AMIRI noir à rayures blanches Taille 32Tr...   \n",
       "..                                                 ...   \n",
       "96   Jean Jacob Cohen pour homme tg. 32 en tissu d'...   \n",
       "97   Ces jeans DSQUARED super rares proviennent de ...   \n",
       "98                   Jean stretch taille basseTraduire   \n",
       "99   Jean déchiré Gucci taille 29 (environ 42) tail...   \n",
       "100  Jean en parfait état, couleur noir délavé. tai...   \n",
       "\n",
       "                                          prix  \n",
       "0                                         25 €  \n",
       "1    240 €\\n+15 € Contrôle et authentification  \n",
       "2    240 €\\n+15 € Contrôle et authentification  \n",
       "3    240 €\\n+15 € Contrôle et authentification  \n",
       "4    300 €\\n+15 € Contrôle et authentification  \n",
       "..                                         ...  \n",
       "96    60 €\\n+15 € Contrôle et authentification  \n",
       "97                                     77,88 €  \n",
       "98    21 €\\n+15 € Contrôle et authentification  \n",
       "99                                        86 €  \n",
       "100   16 €\\n+15 € Contrôle et authentification  \n",
       "\n",
       "[101 rows x 6 columns]"
      ]
     },
     "execution_count": 3,
     "metadata": {},
     "output_type": "execute_result"
    }
   ],
   "source": [
    "df_vesco"
   ]
  },
  {
   "cell_type": "code",
   "execution_count": 4,
   "metadata": {},
   "outputs": [],
   "source": [
    "df_vesco = preprocessVesCoDf(df_vesco)\n",
    "df_vinted = preprocessVintedDf(df_vinted)"
   ]
  },
  {
   "cell_type": "code",
   "execution_count": 5,
   "metadata": {},
   "outputs": [
    {
     "name": "stderr",
     "output_type": "stream",
     "text": [
      "/Users/g0bel1n/scrapped/src/preprocessing.py:19: SettingWithCopyWarning: \n",
      "A value is trying to be set on a copy of a slice from a DataFrame\n",
      "\n",
      "See the caveats in the documentation: https://pandas.pydata.org/pandas-docs/stable/user_guide/indexing.html#returning-a-view-versus-a-copy\n",
      "  df[df.keep>0].drop(['keep'], axis=1, inplace=True)\n",
      "/Users/g0bel1n/scrapped/src/preprocessing.py:19: SettingWithCopyWarning: \n",
      "A value is trying to be set on a copy of a slice from a DataFrame\n",
      "\n",
      "See the caveats in the documentation: https://pandas.pydata.org/pandas-docs/stable/user_guide/indexing.html#returning-a-view-versus-a-copy\n",
      "  df[df.keep>0].drop(['keep'], axis=1, inplace=True)\n"
     ]
    }
   ],
   "source": [
    "df_vinted = dropWrongArticles(['jean', 'Jean'], ['Description', 'nom'], df_vinted)\n",
    "df_vesco = dropWrongArticles(['jean', 'Jean'], ['Description'], df_vesco)"
   ]
  },
  {
   "cell_type": "code",
   "execution_count": 6,
   "metadata": {},
   "outputs": [],
   "source": [
    "df = pd.concat([df_vinted , df_vesco])"
   ]
  },
  {
   "cell_type": "code",
   "execution_count": 7,
   "metadata": {},
   "outputs": [
    {
     "data": {
      "text/html": [
       "<div>\n",
       "<style scoped>\n",
       "    .dataframe tbody tr th:only-of-type {\n",
       "        vertical-align: middle;\n",
       "    }\n",
       "\n",
       "    .dataframe tbody tr th {\n",
       "        vertical-align: top;\n",
       "    }\n",
       "\n",
       "    .dataframe thead th {\n",
       "        text-align: right;\n",
       "    }\n",
       "</style>\n",
       "<table border=\"1\" class=\"dataframe\">\n",
       "  <thead>\n",
       "    <tr style=\"text-align: right;\">\n",
       "      <th></th>\n",
       "      <th>État</th>\n",
       "      <th>Marque</th>\n",
       "      <th>Date</th>\n",
       "      <th>Description</th>\n",
       "      <th>Prix</th>\n",
       "      <th>keep</th>\n",
       "    </tr>\n",
       "  </thead>\n",
       "  <tbody>\n",
       "    <tr>\n",
       "      <th>0</th>\n",
       "      <td>TRÈS BON ÉTAT</td>\n",
       "      <td>LEVI'S</td>\n",
       "      <td>2022-04-01</td>\n",
       "      <td>JEAN'S LEVI'S 510 32X32TRADUIRE</td>\n",
       "      <td>25.00</td>\n",
       "      <td>False</td>\n",
       "    </tr>\n",
       "    <tr>\n",
       "      <th>1</th>\n",
       "      <td>TRÈS BON ÉTAT</td>\n",
       "      <td>AMIRI</td>\n",
       "      <td>2022-04-04</td>\n",
       "      <td>JEAN AMIRI BLEU TAILLE 32 (LOOK USÉ)TRADUIRE</td>\n",
       "      <td>240.00</td>\n",
       "      <td>False</td>\n",
       "    </tr>\n",
       "    <tr>\n",
       "      <th>2</th>\n",
       "      <td>TRÈS BON ÉTAT</td>\n",
       "      <td>AMIRI</td>\n",
       "      <td>2022-04-04</td>\n",
       "      <td>JEANS AMIRI BLEU TAILLE 32 LOOK KARIERTTRADUIRE</td>\n",
       "      <td>240.00</td>\n",
       "      <td>False</td>\n",
       "    </tr>\n",
       "    <tr>\n",
       "      <th>3</th>\n",
       "      <td>TRÈS BON ÉTAT</td>\n",
       "      <td>AMIRI</td>\n",
       "      <td>2022-04-04</td>\n",
       "      <td>JEAN AMIRI BLEU TAILLE 32 (LOOK USÉ)TRADUIRE</td>\n",
       "      <td>240.00</td>\n",
       "      <td>False</td>\n",
       "    </tr>\n",
       "    <tr>\n",
       "      <th>4</th>\n",
       "      <td>TRÈS BON ÉTAT</td>\n",
       "      <td>AMIRI</td>\n",
       "      <td>2022-04-04</td>\n",
       "      <td>JEAN AMIRI NOIR À RAYURES BLANCHES TAILLE 32TR...</td>\n",
       "      <td>300.00</td>\n",
       "      <td>False</td>\n",
       "    </tr>\n",
       "    <tr>\n",
       "      <th>...</th>\n",
       "      <td>...</td>\n",
       "      <td>...</td>\n",
       "      <td>...</td>\n",
       "      <td>...</td>\n",
       "      <td>...</td>\n",
       "      <td>...</td>\n",
       "    </tr>\n",
       "    <tr>\n",
       "      <th>96</th>\n",
       "      <td>TRÈS BON ÉTAT</td>\n",
       "      <td>JACOB COHEN</td>\n",
       "      <td>2022-03-30</td>\n",
       "      <td>JEAN JACOB COHEN POUR HOMME TG. 32 EN TISSU D'...</td>\n",
       "      <td>60.00</td>\n",
       "      <td>False</td>\n",
       "    </tr>\n",
       "    <tr>\n",
       "      <th>97</th>\n",
       "      <td>NEUF SANS ÉTIQUETTE</td>\n",
       "      <td>DSQUARED2</td>\n",
       "      <td>2022-03-29</td>\n",
       "      <td>CES JEANS DSQUARED SUPER RARES PROVIENNENT DE ...</td>\n",
       "      <td>77.88</td>\n",
       "      <td>False</td>\n",
       "    </tr>\n",
       "    <tr>\n",
       "      <th>98</th>\n",
       "      <td>TRÈS BON ÉTAT</td>\n",
       "      <td>GUESS</td>\n",
       "      <td>2022-04-02</td>\n",
       "      <td>JEAN STRETCH TAILLE BASSETRADUIRE</td>\n",
       "      <td>21.00</td>\n",
       "      <td>False</td>\n",
       "    </tr>\n",
       "    <tr>\n",
       "      <th>99</th>\n",
       "      <td>TRÈS BON ÉTAT</td>\n",
       "      <td>GUCCI</td>\n",
       "      <td>2022-03-30</td>\n",
       "      <td>JEAN DÉCHIRÉ GUCCI TAILLE 29 (ENVIRON 42) TAIL...</td>\n",
       "      <td>86.00</td>\n",
       "      <td>False</td>\n",
       "    </tr>\n",
       "    <tr>\n",
       "      <th>100</th>\n",
       "      <td>NEUF SANS ÉTIQUETTE</td>\n",
       "      <td>PULL &amp; BEAR</td>\n",
       "      <td>2022-04-03</td>\n",
       "      <td>JEAN EN PARFAIT ÉTAT, COULEUR NOIR DÉLAVÉ. TAI...</td>\n",
       "      <td>16.00</td>\n",
       "      <td>False</td>\n",
       "    </tr>\n",
       "  </tbody>\n",
       "</table>\n",
       "<p>101 rows × 6 columns</p>\n",
       "</div>"
      ],
      "text/plain": [
       "                    État       Marque        Date  \\\n",
       "0          TRÈS BON ÉTAT       LEVI'S  2022-04-01   \n",
       "1          TRÈS BON ÉTAT        AMIRI  2022-04-04   \n",
       "2          TRÈS BON ÉTAT        AMIRI  2022-04-04   \n",
       "3          TRÈS BON ÉTAT        AMIRI  2022-04-04   \n",
       "4          TRÈS BON ÉTAT        AMIRI  2022-04-04   \n",
       "..                   ...          ...         ...   \n",
       "96         TRÈS BON ÉTAT  JACOB COHEN  2022-03-30   \n",
       "97   NEUF SANS ÉTIQUETTE    DSQUARED2  2022-03-29   \n",
       "98         TRÈS BON ÉTAT        GUESS  2022-04-02   \n",
       "99         TRÈS BON ÉTAT        GUCCI  2022-03-30   \n",
       "100  NEUF SANS ÉTIQUETTE  PULL & BEAR  2022-04-03   \n",
       "\n",
       "                                           Description    Prix   keep  \n",
       "0                      JEAN'S LEVI'S 510 32X32TRADUIRE   25.00  False  \n",
       "1         JEAN AMIRI BLEU TAILLE 32 (LOOK USÉ)TRADUIRE  240.00  False  \n",
       "2      JEANS AMIRI BLEU TAILLE 32 LOOK KARIERTTRADUIRE  240.00  False  \n",
       "3         JEAN AMIRI BLEU TAILLE 32 (LOOK USÉ)TRADUIRE  240.00  False  \n",
       "4    JEAN AMIRI NOIR À RAYURES BLANCHES TAILLE 32TR...  300.00  False  \n",
       "..                                                 ...     ...    ...  \n",
       "96   JEAN JACOB COHEN POUR HOMME TG. 32 EN TISSU D'...   60.00  False  \n",
       "97   CES JEANS DSQUARED SUPER RARES PROVIENNENT DE ...   77.88  False  \n",
       "98                   JEAN STRETCH TAILLE BASSETRADUIRE   21.00  False  \n",
       "99   JEAN DÉCHIRÉ GUCCI TAILLE 29 (ENVIRON 42) TAIL...   86.00  False  \n",
       "100  JEAN EN PARFAIT ÉTAT, COULEUR NOIR DÉLAVÉ. TAI...   16.00  False  \n",
       "\n",
       "[101 rows x 6 columns]"
      ]
     },
     "execution_count": 7,
     "metadata": {},
     "output_type": "execute_result"
    }
   ],
   "source": [
    "df_vesco"
   ]
  },
  {
   "cell_type": "code",
   "execution_count": 15,
   "metadata": {},
   "outputs": [
    {
     "data": {
      "text/plain": [
       "array(['BURBERRY', 'FEAR OF GOD ESSENTIALS', 'Y/PROJECT', 'AMIRI', 'R13',\n",
       "       'LOEWE', 'BALMAIN', 'TRUE RELIGION', 'DOLCE & GABBANA',\n",
       "       'DSQUARED2', 'JUNYA WATANABE', 'DIOR HOMME', 'JACQUEMUS',\n",
       "       'ISABEL MARANT', 'PHILIPP PLEIN', 'GUCCI', 'JACOB COHEN',\n",
       "       'SIMON MILLER', 'AGOLDE', 'ISABEL MARANT ETOILE', 'ACNE STUDIOS',\n",
       "       'TOTÊME', 'VERSACE', 'VICTORIA BECKHAM', 'SANDRO', \"LEVI'S\",\n",
       "       'ÉTUDES STUDIO', 'CURRENT ELLIOTT', 'JADED LONDON',\n",
       "       'YVES SAINT LAURENT', 'STAUD', 'LACOSTE', 'PRADA',\n",
       "       'STELLA MCCARTNEY', '& OTHER STORIES', 'ELISABETTA FRANCHI',\n",
       "       'DIESEL', 'JUST CAVALLI', 'FIORUCCI', 'PEPE JEANS', 'SALSA',\n",
       "       'FREEMAN T. PORTER', 'D&G', 'LEE', 'ZEHOOD', 'MISE AU GREEN',\n",
       "       'MET', 'NON SIGNÉ / UNSIGNED', 'ZARA', 'FRACOMINA', 'BERSHKA',\n",
       "       '7 FOR ALL MANKIND', 'LA PETITE FRANCAISE', 'LIU.JO', 'SUPERDRY',\n",
       "       'MANGO', 'KAPORAL', 'GUESS', 'MORGAN', 'PATRIZIA PEPE', 'H&M',\n",
       "       'nan', 'MIH JEANS', 'PRETTYLITTLETHING', 'PLEASE', 'STRADIVARIUS',\n",
       "       'UNIQLO', 'VINTAGE', 'PULL & BEAR', 'CASA', 'MONKI', 'ZELYS PARIS',\n",
       "       'HP', 'ÉTÉ ROSE', 'ZNJ', 'JEWELLY', 'X-MAX', 'GOLD SK',\n",
       "       'BLANCHEPORTE', 'KIABI', 'LTB', 'SHEIN', 'RICA LEWIS',\n",
       "       'WALK AND TALK', 'BOUTIQUE INDÉPENDANTE', 'NINA CARTER',\n",
       "       'MONDAY DENIM', 'NAF NAF', 'PROMOD', 'OKAÏDI', 'GAPKIDS',\n",
       "       'POCOPIANO'], dtype=object)"
      ]
     },
     "execution_count": 15,
     "metadata": {},
     "output_type": "execute_result"
    }
   ],
   "source": [
    "df.sort_values(by= 'Prix', ascending=False).Marque.unique()"
   ]
  },
  {
   "cell_type": "code",
   "execution_count": 16,
   "metadata": {},
   "outputs": [
    {
     "data": {
      "text/plain": [
       "0      MONDAY DENIM\n",
       "1             SALSA\n",
       "2             MANGO\n",
       "3            LEVI'S\n",
       "4              ZARA\n",
       "           ...     \n",
       "96      JACOB COHEN\n",
       "97        DSQUARED2\n",
       "98            GUESS\n",
       "99            GUCCI\n",
       "100     PULL & BEAR\n",
       "Name: Marque, Length: 202, dtype: object"
      ]
     },
     "execution_count": 16,
     "metadata": {},
     "output_type": "execute_result"
    }
   ],
   "source": [
    "df.Marque.str.upper()"
   ]
  },
  {
   "cell_type": "code",
   "execution_count": 17,
   "metadata": {},
   "outputs": [],
   "source": [
    "df.Marque = df.Marque.apply(lambda x: str(x)[:-1] if str(x)[-1]==' ' else str(x))"
   ]
  },
  {
   "cell_type": "code",
   "execution_count": 27,
   "metadata": {},
   "outputs": [
    {
     "data": {
      "text/plain": [
       "<AxesSubplot:>"
      ]
     },
     "execution_count": 27,
     "metadata": {},
     "output_type": "execute_result"
    },
    {
     "data": {
      "image/png": "[encoded data removed]",
      "text/plain": [
       "<Figure size 720x360 with 1 Axes>"
      ]
     },
     "metadata": {},
     "output_type": "display_data"
    }
   ],
   "source": [
    "df.Prix.hist()"
   ]
  },
  {
   "cell_type": "code",
   "execution_count": 28,
   "metadata": {},
   "outputs": [],
   "source": [
    "df['cat'] = df.apply(categoriseMarque, axis=1)"
   ]
  },
  {
   "cell_type": "code",
   "execution_count": 29,
   "metadata": {},
   "outputs": [
    {
     "data": {
      "text/plain": [
       "État           186\n",
       "Marque         186\n",
       "Date           186\n",
       "nom            101\n",
       "Prix           186\n",
       "Description    186\n",
       "keep           186\n",
       "cat            186\n",
       "dtype: int64"
      ]
     },
     "execution_count": 29,
     "metadata": {},
     "output_type": "execute_result"
    }
   ],
   "source": [
    "df[df.cat != 'Undefined'].count()"
   ]
  },
  {
   "cell_type": "code",
   "execution_count": 30,
   "metadata": {},
   "outputs": [
    {
     "data": {
      "text/plain": [
       "17.86999999999999"
      ]
     },
     "execution_count": 30,
     "metadata": {},
     "output_type": "execute_result"
    }
   ],
   "source": [
    "df.Prix.quantile(1/3)"
   ]
  },
  {
   "cell_type": "code",
   "execution_count": 31,
   "metadata": {},
   "outputs": [
    {
     "data": {
      "text/plain": [
       "39.99999999999997"
      ]
     },
     "execution_count": 31,
     "metadata": {},
     "output_type": "execute_result"
    }
   ],
   "source": [
    "df.Prix.quantile(2/3)"
   ]
  },
  {
   "cell_type": "code",
   "execution_count": 32,
   "metadata": {},
   "outputs": [
    {
     "data": {
      "text/plain": [
       "117.70000000000002"
      ]
     },
     "execution_count": 32,
     "metadata": {},
     "output_type": "execute_result"
    }
   ],
   "source": [
    "df.Prix.quantile(0.9)"
   ]
  },
  {
   "cell_type": "code",
   "execution_count": 33,
   "metadata": {},
   "outputs": [],
   "source": [
    "df.to_csv('src/data/treated/jeans.csv')"
   ]
  },
  {
   "cell_type": "code",
   "execution_count": 34,
   "metadata": {},
   "outputs": [],
   "source": [
    "l ={'1':1, '2':2, 'Test': 'etst'}"
   ]
  },
  {
   "cell_type": "code",
   "execution_count": null,
   "metadata": {},
   "outputs": [],
   "source": []
  },
  {
   "cell_type": "code",
   "execution_count": 35,
   "metadata": {},
   "outputs": [
    {
     "ename": "NameError",
     "evalue": "name 'b' is not defined",
     "output_type": "error",
     "traceback": [
      "\u001b[0;31m---------------------------------------------------------------------------\u001b[0m",
      "\u001b[0;31mNameError\u001b[0m                                 Traceback (most recent call last)",
      "\u001b[1;32m/Users/g0bel1n/scrapped/notebooks/JeanJoiner.ipynb Cell 20'\u001b[0m in \u001b[0;36m<cell line: 1>\u001b[0;34m()\u001b[0m\n\u001b[0;32m----> <a href='vscode-notebook-cell:/Users/g0bel1n/scrapped/notebooks/JeanJoiner.ipynb#ch0000017?line=0'>1</a>\u001b[0m b\n",
      "\u001b[0;31mNameError\u001b[0m: name 'b' is not defined"
     ]
    }
   ],
   "source": [
    "b"
   ]
  },
  {
   "cell_type": "code",
   "execution_count": 11,
   "metadata": {},
   "outputs": [
    {
     "data": {
      "text/plain": [
       "'1'"
      ]
     },
     "execution_count": 11,
     "metadata": {},
     "output_type": "execute_result"
    }
   ],
   "source": [
    "a"
   ]
  },
  {
   "cell_type": "code",
   "execution_count": null,
   "metadata": {},
   "outputs": [],
   "source": []
  }
 ],
 "metadata": {
  "interpreter": {
   "hash": "2ef5e293defde336e18effedfb280f0d11005b401f1b516e6e8aa19f195a036f"
  },
  "kernelspec": {
   "display_name": "Python 3.9.12 ('.scrapped-env': venv)",
   "language": "python",
   "name": "python3"
  },
  "language_info": {
   "codemirror_mode": {
    "name": "ipython",
    "version": 3
   },
   "file_extension": ".py",
   "mimetype": "text/x-python",
   "name": "python",
   "nbconvert_exporter": "python",
   "pygments_lexer": "ipython3",
   "version": "3.9.12"
  },
  "orig_nbformat": 4
 },
 "nbformat": 4,
 "nbformat_minor": 2
}

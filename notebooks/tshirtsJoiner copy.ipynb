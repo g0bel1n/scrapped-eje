{
 "cells": [
  {
   "cell_type": "code",
   "execution_count": 1,
   "metadata": {},
   "outputs": [],
   "source": [
    "import pandas as pd\n",
    "import seaborn as sns\n",
    "import matplotlib.pyplot as plt\n",
    "import itertools\n",
    "import os\n",
    "from pathlib import Path\n",
    "\n",
    "\n",
    "\n",
    "import numpy as np\n",
    "\n",
    "if \"root\" not in locals():\n",
    "    current_path = Path(os.getcwd())\n",
    "    root = current_path.parent.absolute()\n",
    "os.chdir(root)\n",
    "\n",
    "from src.preprocessing import preprocessVesCoDf, preprocessVintedDf, dropWrongArticles, categoriseMarque\n",
    "sns.set_style('whitegrid')\n",
    "\n",
    "import matplotlib.pyplot as plt\n",
    "sns.set(rc={'figure.figsize':(10,5)})"
   ]
  },
  {
   "cell_type": "code",
   "execution_count": 2,
   "metadata": {},
   "outputs": [],
   "source": [
    "df_vinted = pd.read_csv('src/data/raw/vintedShirt400.csv').drop(['Unnamed: 0'], axis=1, inplace=False)\n",
    "df_vesco = pd.read_csv('src/data/raw/vestCoShirt400.csv').drop(['Unnamed: 0'], axis=1, inplace=False)"
   ]
  },
  {
   "cell_type": "code",
   "execution_count": 3,
   "metadata": {},
   "outputs": [],
   "source": [
    "df_vesco = preprocessVesCoDf(df_vesco)\n",
    "df_vinted = preprocessVintedDf(df_vinted)"
   ]
  },
  {
   "cell_type": "code",
   "execution_count": 4,
   "metadata": {},
   "outputs": [],
   "source": [
    "df_vinted = dropWrongArticles(['TSHIRT', 'T-SHIRT', 'T SHIRT'], ['Description', 'nom'], df_vinted)\n",
    "df_vesco = dropWrongArticles(['TSHIRT', 'T-SHIRT', 'T SHIRT'], ['Description'], df_vesco)"
   ]
  },
  {
   "cell_type": "code",
   "execution_count": 5,
   "metadata": {},
   "outputs": [],
   "source": [
    "df = pd.concat([df_vinted , df_vesco])"
   ]
  },
  {
   "cell_type": "code",
   "execution_count": 6,
   "metadata": {},
   "outputs": [],
   "source": [
    "df.Marque = df.Marque.apply(lambda x: str(x)[:-1] if str(x)[-1]==' ' else str(x))"
   ]
  },
  {
   "cell_type": "code",
   "execution_count": 7,
   "metadata": {},
   "outputs": [
    {
     "data": {
      "text/plain": [
       "array(['THE KOOPLES', 'RALPH LAUREN', 'DSQUARED2', 'KARL LAGERFELD',\n",
       "       'SUPREME', 'HUGO', 'ELEMENT', 'JACADI', 'DU PAREIL AU MÊME', 'LH',\n",
       "       'ELLESSE', 'CHEVIGNON', 'THE NORTH FACE', 'LACOSTE',\n",
       "       'CALVIN KLEIN', 'ESSENTIALS', \"TAPE À L'OEIL\", 'A.P.C.',\n",
       "       'TEDDY SMITH', 'KENZO', 'LACOSTE SPORT', 'CAMAÏEU', 'STRADIVARIUS',\n",
       "       'nan', 'H&M', 'TIMBERLAND', 'NEW YORKER', 'DIM', 'CELIO',\n",
       "       'TOMMY HILFIGER', 'NAF NAF', 'NIKE', 'ZARA', 'TISSAIA', 'C&A',\n",
       "       'LA HALLE', 'STONE ISLAND', 'DIESEL', 'ETAM', 'DEUS', 'DOMYOS',\n",
       "       'INTERSPORT', 'NIKE AIR', 'HOLLISTER', 'BURBERRY', 'SANDRO',\n",
       "       'PETROL INDUSTRIES', 'KIABI', 'GAP', \"LEVI'S\", 'PIERRE CARDIN',\n",
       "       'DIVERS', 'MIM', 'ETRO', 'THE NORTH FACE X KAWS', 'ANTONY MORATO',\n",
       "       'ZY', 'ISABEL MARANT', 'NOCTA', 'ADIDAS', 'CROSSFIRE', 'ARMANI',\n",
       "       'JHK', 'LISA ROSE', 'DISNEY', 'PROPRE', 'OBAÏBI', 'ASOS',\n",
       "       'ASTON MARTIN', 'ETUDES', 'BRICE', 'GUESS', 'UNIQLO', 'INCONNU',\n",
       "       'BABY CLUB', 'LBO', 'TOPSHOP', 'SNIPES', 'TISAIA', 'COS',\n",
       "       'CEDAR WOOD STATE', 'GANNI', 'BALMAIN', 'DOLCE & GABBANA',\n",
       "       'MOTHER', 'FILIPPA K', 'BOTTEGA VENETA', 'KITON', 'MCQ',\n",
       "       'MARIMEKKO', 'VERSACE JEANS COUTURE', 'PAUL SMITH', 'KOOKAI',\n",
       "       'ZADIG & VOLTAIRE', 'ACNE STUDIOS', 'MOSCHINO LOVE', 'BLUMARINE',\n",
       "       'JENNYFER', 'CAROLL', 'VERSACE', 'MICHAEL KORS', 'KAPPA', 'GANT',\n",
       "       'EMPORIO ARMANI', 'WRANGLER', 'HUGO BOSS', 'VETEMENTS', 'CELINE',\n",
       "       'GUCCI', 'VIVIENNE WESTWOOD', 'ALEXANDER WANG',\n",
       "       'NON SIGNÉ / UNSIGNED', 'STELLA MCCARTNEY', 'ABERCROMBIE & FITCH',\n",
       "       'OFF-WHITE', 'SAINT LAURENT', 'PHILIPP PLEIN', 'MONCLER', 'BARROW',\n",
       "       'ARMANI JEANS', 'HELMUT LANG', 'BOSS', 'JUST CAVALLI',\n",
       "       'QUICKSILVER', 'MSGM', 'VIVIENNE WESTWOOD ANGLOMANIA', 'SYSTEM',\n",
       "       'TRUSSARDI', 'UNDERCOVER', 'ICEBERG', 'JOHN GALLIANO',\n",
       "       'HOUSE OF HOLLAND', 'GCDS', 'LES ARTISTS', 'UMBRO', 'GIVENCHY',\n",
       "       'MISSONI', 'DKNY'], dtype=object)"
      ]
     },
     "execution_count": 7,
     "metadata": {},
     "output_type": "execute_result"
    }
   ],
   "source": [
    "df.Marque.unique()"
   ]
  },
  {
   "cell_type": "code",
   "execution_count": 8,
   "metadata": {},
   "outputs": [],
   "source": [
    "df['cat'] = df.apply(categoriseMarque, axis=1)"
   ]
  },
  {
   "cell_type": "code",
   "execution_count": 9,
   "metadata": {},
   "outputs": [
    {
     "data": {
      "text/plain": [
       "État           203\n",
       "Marque         203\n",
       "Date           203\n",
       "nom            130\n",
       "Prix           203\n",
       "Description    203\n",
       "cat            203\n",
       "dtype: int64"
      ]
     },
     "execution_count": 9,
     "metadata": {},
     "output_type": "execute_result"
    }
   ],
   "source": [
    "df[df.cat != 'Undefined'].count()"
   ]
  },
  {
   "cell_type": "code",
   "execution_count": 10,
   "metadata": {},
   "outputs": [
    {
     "data": {
      "text/plain": [
       "18.0"
      ]
     },
     "execution_count": 10,
     "metadata": {},
     "output_type": "execute_result"
    }
   ],
   "source": [
    "df.Prix.quantile(1/3)"
   ]
  },
  {
   "cell_type": "code",
   "execution_count": 11,
   "metadata": {},
   "outputs": [
    {
     "data": {
      "text/plain": [
       "39.66666666666663"
      ]
     },
     "execution_count": 11,
     "metadata": {},
     "output_type": "execute_result"
    }
   ],
   "source": [
    "df.Prix.quantile(2/3)"
   ]
  },
  {
   "cell_type": "code",
   "execution_count": 12,
   "metadata": {},
   "outputs": [
    {
     "data": {
      "text/plain": [
       "60.0"
      ]
     },
     "execution_count": 12,
     "metadata": {},
     "output_type": "execute_result"
    }
   ],
   "source": [
    "df.Prix.quantile(0.84)"
   ]
  },
  {
   "cell_type": "code",
   "execution_count": 13,
   "metadata": {},
   "outputs": [],
   "source": [
    "df.to_csv('src/data/treated/tshirts.csv')"
   ]
  },
  {
   "cell_type": "code",
   "execution_count": null,
   "metadata": {},
   "outputs": [],
   "source": []
  },
  {
   "cell_type": "code",
   "execution_count": null,
   "metadata": {},
   "outputs": [],
   "source": []
  }
 ],
 "metadata": {
  "interpreter": {
   "hash": "2ef5e293defde336e18effedfb280f0d11005b401f1b516e6e8aa19f195a036f"
  },
  "kernelspec": {
   "display_name": "Python 3.9.12 ('.scrapped-env': venv)",
   "language": "python",
   "name": "python3"
  },
  "language_info": {
   "codemirror_mode": {
    "name": "ipython",
    "version": 3
   },
   "file_extension": ".py",
   "mimetype": "text/x-python",
   "name": "python",
   "nbconvert_exporter": "python",
   "pygments_lexer": "ipython3",
   "version": "3.9.12"
  },
  "orig_nbformat": 4
 },
 "nbformat": 4,
 "nbformat_minor": 2
}

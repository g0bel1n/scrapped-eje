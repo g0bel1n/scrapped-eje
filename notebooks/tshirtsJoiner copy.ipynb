{
 "cells": [
  {
   "cell_type": "code",
   "execution_count": 1,
   "metadata": {},
   "outputs": [],
   "source": [
    "import pandas as pd\n",
    "import seaborn as sns\n",
    "import matplotlib.pyplot as plt\n",
    "import itertools\n",
    "import os\n",
    "from pathlib import Path\n",
    "\n",
    "\n",
    "\n",
    "import numpy as np\n",
    "\n",
    "if \"root\" not in locals():\n",
    "    current_path = Path(os.getcwd())\n",
    "    root = current_path.parent.absolute()\n",
    "os.chdir(root)\n",
    "\n",
    "from src.preprocessing import preprocessVesCoDf, preprocessVintedDf, dropWrongArticles, categoriseMarque\n",
    "sns.set_style('whitegrid')\n",
    "\n",
    "import matplotlib.pyplot as plt\n",
    "sns.set(rc={'figure.figsize':(10,5)})"
   ]
  },
  {
   "cell_type": "code",
   "execution_count": 2,
   "metadata": {},
   "outputs": [],
   "source": [
    "df_vinted = pd.read_csv('src/data/raw/vintedShirt400.csv').drop(['Unnamed: 0'], axis=1, inplace=False)\n",
    "df_vesco = pd.read_csv('src/data/raw/vestCoShirt400.csv').drop(['Unnamed: 0'], axis=1, inplace=False)"
   ]
  },
  {
   "cell_type": "code",
   "execution_count": 3,
   "metadata": {},
   "outputs": [],
   "source": [
    "df_vesco = preprocessVesCoDf(df_vesco)\n",
    "df_vinted = preprocessVintedDf(df_vinted)"
   ]
  },
  {
   "cell_type": "code",
   "execution_count": 4,
   "metadata": {},
   "outputs": [
    {
     "name": "stderr",
     "output_type": "stream",
     "text": [
      "/Users/g0bel1n/scrapped/src/preprocessing.py:19: SettingWithCopyWarning: \n",
      "A value is trying to be set on a copy of a slice from a DataFrame\n",
      "\n",
      "See the caveats in the documentation: https://pandas.pydata.org/pandas-docs/stable/user_guide/indexing.html#returning-a-view-versus-a-copy\n",
      "  df[df.keep>0].drop(['keep'], axis=1, inplace=True)\n",
      "/Users/g0bel1n/scrapped/src/preprocessing.py:19: SettingWithCopyWarning: \n",
      "A value is trying to be set on a copy of a slice from a DataFrame\n",
      "\n",
      "See the caveats in the documentation: https://pandas.pydata.org/pandas-docs/stable/user_guide/indexing.html#returning-a-view-versus-a-copy\n",
      "  df[df.keep>0].drop(['keep'], axis=1, inplace=True)\n"
     ]
    }
   ],
   "source": [
    "df_vinted = dropWrongArticles(['TSHIRT', 'T-SHIRT', 'T SHIRT'], ['Description', 'nom'], df_vinted)\n",
    "df_vesco = dropWrongArticles(['TSHIRT', 'T-SHIRT', 'T SHIRT'], ['Description'], df_vesco)"
   ]
  },
  {
   "cell_type": "code",
   "execution_count": 5,
   "metadata": {},
   "outputs": [],
   "source": [
    "df = pd.concat([df_vinted , df_vesco])"
   ]
  },
  {
   "cell_type": "code",
   "execution_count": 6,
   "metadata": {},
   "outputs": [],
   "source": [
    "df.Marque = df.Marque.apply(lambda x: str(x)[:-1] if str(x)[-1]==' ' else str(x))"
   ]
  },
  {
   "cell_type": "code",
   "execution_count": 7,
   "metadata": {},
   "outputs": [
    {
     "data": {
      "text/plain": [
       "array(['VETEMENTS', 'TWIGGY CREATIVE UNIVERSE', \"ARC'TERYX\", 'ZARA',\n",
       "       'ACNE STUDIOS', 'PHILIPP PLEIN', 'LACOSTE', 'MARCELO BURLON',\n",
       "       'REEBOK', 'GAASTRA', 'ESPRIT', 'FREEQUENT', 'ROXY', 'RALPH LAUREN',\n",
       "       'CHEVIGNON', 'MANO', 'THE KOOPLES', 'nan', 'NIKE', 'PATRIZIA PEPE',\n",
       "       'VERSACE', \"LEVI'S\", 'EMPORIO ARMANI', 'SHEIN', 'NOBRAND',\n",
       "       'SUBDUED', 'SUPERDRY', 'GUCCI', 'PULL & BEAR', 'AMIRI', 'MOSCHINO',\n",
       "       '& OTHER STORIES', 'IDEXE', 'MICHAEL KORS', 'ADIDAS',\n",
       "       'CHIARA FERRAGNI', 'MEGA X', 'BALENCIAGA', 'MISBHV', 'APESHIT',\n",
       "       'ONLY', 'MERKLOOS', 'OFF-WHITE', 'H&M', 'GIVENCHY', 'MY T-SHIRT',\n",
       "       'VALENTINO', 'PIMKIE', 'BALMAIN', \"TAPE À L'ŒIL\", 'SUPREME',\n",
       "       'WARREN WEBBER', 'YES MISS', 'FRED PERRY', 'PALM ANGELS',\n",
       "       'JACK & JONES', 'CHARHARTT', 'AGATHA RUIZ DE LA PRADA',\n",
       "       'SAINT LAURENT', 'OLYMPIQUE MARSEILLE', 'KIABI', 'DSQUARED2',\n",
       "       'TOMMY HILFIGER', 'JUST CAVALLI', 'APRIL VINTAGE', 'JBC',\n",
       "       'LOLALIZA', 'C&A', 'FILOU & FRIENDS', 'CHAMPION', 'CAMBODGE',\n",
       "       'ZADIG & VOLTAIRE', 'PETIT BATEAU', 'KTM', 'NIKE AIR', 'CARHARTT',\n",
       "       'BOUTIQUE INDÉPENDANTE', 'VINTAGE', 'FILA', 'EASY WEAR', 'BERSHKA',\n",
       "       'STRADIVARIUS', 'NAKETANO', 'EDWIN', 'MKT STUDIO', 'CALVIN KLEIN',\n",
       "       'ELLESSE', 'SET', 'RAINBOW', 'GUESS JEANS', 'MARC JACOBS',\n",
       "       'TOMMY JEANS', 'INCONNUE', 'THE ROLLING STONES', 'LEE',\n",
       "       'ERIC FAVRE', 'NAPAPIJRI', 'VANS', 'NIKKIE', 'JENNYFER',\n",
       "       'NINTENDO', 'PLAYSTATION', 'UNITED BY BLUE', 'KENZO',\n",
       "       'ORIGINAL MARINES', 'ADIDAS ORIGINALS', 'DESIGUAL', 'DISNEY',\n",
       "       'PEPE JEANS', 'BALR.', 'GUESS', 'DOLCE & GABBANA', 'SCOTCH & SODA',\n",
       "       'BLEU BONHEUR', 'STAR WARS', 'HARD ROCK CAFÉ', 'DECATHLON',\n",
       "       'KAPORAL', 'LEE COOPER', 'AIRNESS', 'JORDAN', 'GALERIES LAFAYETTE',\n",
       "       'ZEILLO PARIS', 'COLOURFUL REBEL', 'EA7 EMPORIO ARMANI',\n",
       "       'WOOLRICH', 'STÜSSY', 'WEEKEND MAX MARA', 'INTIMISSIMI', 'GOLA',\n",
       "       'GEOX', 'MANDARINA DUCK', 'AKÈ', 'CAMAÏEU', 'CLASSIQUE',\n",
       "       'BLUE SEVEN', 'IZAC', 'MONCLER', 'IKKS', '2Y PREMIUM',\n",
       "       'DIECI TEERS', 'STEFANO MORTARI', 'IT HIPPIE', 'JACADI',\n",
       "       'GUESS BY MARCIANO', 'NEW ERA', 'OPENING CEREMONY',\n",
       "       'SERGIO TACCHINI', 'STYLE', 'MANGO', 'MTV', 'FRUIT OF THE LOOM',\n",
       "       'MONTEGO', 'ORCHESTRA', 'BONPRIX', 'LONGBOARD', 'TAO',\n",
       "       'AMERICAN EAGLE', 'ROCQUER', 'LONDON LOOK', 'CACHE CACHE', 'NKY',\n",
       "       'GÉMO', 'MISS CAPTAIN', 'VOLCOM', 'BUTTER GOODS', 'AUCHAN',\n",
       "       'SALSA', 'NEW BALANCE', 'ICEBERG', 'AZZARO', 'POLO RALPH LAUREN',\n",
       "       'TUNSECHY', 'MAJE', 'SANDRO', 'MY LITTLE COZMO', 'PRIMARK',\n",
       "       'FIGA.SHOP', 'FIGASHOP MILANO', 'NEW GIRL ORDER', 'HERON PRESTON',\n",
       "       'DU PAREIL AU MÊME', 'SAW', 'MAISON KITSUNÉ', 'HUGO BOSS',\n",
       "       'MARVEL', 'TWIGGY', 'BOTTEGA VENETA', 'BLANCO', 'LIMA LIMON',\n",
       "       'EDC BY ESPRIT', 'S.OLIVER', 'KARL MARC JOHN', 'BABY CLUB',\n",
       "       'ROBERTO CAVALLI', 'CHROME HEARTS', 'UNDIZ', 'BURBERRY',\n",
       "       'MARQUES ALMEIDA', 'NON SIGNÉ / UNSIGNED', 'CARVEN',\n",
       "       'YVES SAINT LAURENT', 'SEE BY CHLOÉ', 'CHRISTOPHER KANE', 'IRO',\n",
       "       'DIANE VON FURSTENBERG', 'JONATHAN SAUNDERS', 'BONPOINT', 'WOWO',\n",
       "       'RICK OWENS LILIES', 'LILI GAUFRETTE', 'SONIA RYKIEL', 'MIU MIU',\n",
       "       'EMANUEL UNGARO', 'CLAUDIE PIERLOT', 'DKNY',\n",
       "       'STELLA MCCARTNEY KIDS', 'SOEUR', 'N°21', 'GERARD DAREL', 'CHLOÉ',\n",
       "       'VELVET', 'TARTINE ET CHOCOLAT', 'COMPTOIR DES COTONNIERS',\n",
       "       'ESCADA', 'PRINGLE OF SCOTLAND', 'MOSCHINO LOVE', 'PINKO',\n",
       "       'LANVIN', 'MARC BY MARC JACOBS', 'IMPS & ELFS', 'VANESSA BRUNO',\n",
       "       'SUPREME X THE NORTH FACE', 'DIOR', 'FENDI', 'CASABLANCA',\n",
       "       'UNDERCOVER', 'BALMAIN FOR H&M', 'JOHN ELLIOT', 'DONNA KARAN',\n",
       "       'OTTOLINGER', 'RAF SIMONS', 'MAISON MARTIN MARGIELA',\n",
       "       'CALVIN KLEIN JEANS', 'JC DE CASTELBAJAC', 'MORGAN', 'QUICKSILVER',\n",
       "       'JUICY COUTURE', 'FEAR OF GOD ESSENTIALS', 'ALEXANDER MCQUEEN',\n",
       "       'RVCA', 'GCDS MINI', 'CHINATOWN MARKET', 'REVELATION WOMAN',\n",
       "       'CUSTO BARCELONA', 'ARMAND THIERY', 'MAYORAL', 'KARL LAGERFELD',\n",
       "       'MET', 'JACQUEMUS', 'ISABEL MARANT ETOILE', 'ANINE BING',\n",
       "       'DIOR HOMME', 'ROUJE', 'VIVIENNE WESTWOOD', 'LACOSTE LIVE',\n",
       "       'RABENS SALONER', 'LOEWE', 'GANNI', 'PRADA', 'NIKE X OFF-WHITE',\n",
       "       'ETRO', 'MARNI', 'LOUIS VUITTON', 'JEAN PAUL GAULTIER', 'PYREX',\n",
       "       'HELMUT LANG', 'APC', 'STONE ISLAND', 'MARTINE ROSE',\n",
       "       'COMME DES GARCONS', 'NO COLLECTION', 'VICTORIA BECKHAM', 'CHANEL',\n",
       "       'YEEZY', 'PARAJUMPERS', 'SALVATORE FERRAGAMO', 'ISABEL MARANT',\n",
       "       'LIU.JO', 'JUNYA WATANABE', 'BRUNELLO CUCINELLI'], dtype=object)"
      ]
     },
     "execution_count": 7,
     "metadata": {},
     "output_type": "execute_result"
    }
   ],
   "source": [
    "df.Marque.unique()"
   ]
  },
  {
   "cell_type": "code",
   "execution_count": 8,
   "metadata": {},
   "outputs": [],
   "source": [
    "df['cat'] = df.apply(categoriseMarque, axis=1)"
   ]
  },
  {
   "cell_type": "code",
   "execution_count": 9,
   "metadata": {},
   "outputs": [
    {
     "data": {
      "text/plain": [
       "array(['VETEMENTS', 'TWIGGY CREATIVE UNIVERSE', \"ARC'TERYX\",\n",
       "       'MARCELO BURLON', 'GAASTRA', 'ESPRIT', 'FREEQUENT', 'ROXY',\n",
       "       'CHEVIGNON', 'MANO', 'THE KOOPLES', 'nan', 'PATRIZIA PEPE',\n",
       "       'EMPORIO ARMANI', 'NOBRAND', 'SUBDUED', 'AMIRI', '& OTHER STORIES',\n",
       "       'IDEXE', 'MICHAEL KORS', 'CHIARA FERRAGNI', 'MEGA X', 'MISBHV',\n",
       "       'APESHIT', 'ONLY', 'MERKLOOS', 'MY T-SHIRT', 'BALMAIN',\n",
       "       \"TAPE À L'ŒIL\", 'WARREN WEBBER', 'YES MISS', 'FRED PERRY',\n",
       "       'JACK & JONES', 'CHARHARTT', 'OLYMPIQUE MARSEILLE', 'JUST CAVALLI',\n",
       "       'APRIL VINTAGE', 'JBC', 'LOLALIZA', 'C&A', 'FILOU & FRIENDS',\n",
       "       'CHAMPION', 'CAMBODGE', 'ZADIG & VOLTAIRE', 'PETIT BATEAU', 'KTM',\n",
       "       'BOUTIQUE INDÉPENDANTE', 'VINTAGE', 'EASY WEAR', 'STRADIVARIUS',\n",
       "       'NAKETANO', 'EDWIN', 'MKT STUDIO', 'CALVIN KLEIN', 'SET',\n",
       "       'RAINBOW', 'GUESS JEANS', 'MARC JACOBS', 'INCONNUE',\n",
       "       'THE ROLLING STONES', 'LEE', 'ERIC FAVRE', 'NAPAPIJRI', 'NIKKIE',\n",
       "       'NINTENDO', 'PLAYSTATION', 'UNITED BY BLUE', 'ORIGINAL MARINES',\n",
       "       'DESIGUAL', 'DISNEY', 'BALR.', 'GUESS', 'SCOTCH & SODA',\n",
       "       'BLEU BONHEUR', 'STAR WARS', 'HARD ROCK CAFÉ', 'DECATHLON',\n",
       "       'LEE COOPER', 'GALERIES LAFAYETTE', 'ZEILLO PARIS',\n",
       "       'COLOURFUL REBEL', 'EA7 EMPORIO ARMANI', 'WOOLRICH', 'STÜSSY',\n",
       "       'WEEKEND MAX MARA', 'INTIMISSIMI', 'GOLA', 'MANDARINA DUCK', 'AKÈ',\n",
       "       'CLASSIQUE', 'BLUE SEVEN', 'IZAC', 'MONCLER', 'IKKS', '2Y PREMIUM',\n",
       "       'DIECI TEERS', 'STEFANO MORTARI', 'IT HIPPIE', 'JACADI',\n",
       "       'GUESS BY MARCIANO', 'NEW ERA', 'OPENING CEREMONY', 'STYLE', 'MTV',\n",
       "       'FRUIT OF THE LOOM', 'MONTEGO', 'ORCHESTRA', 'BONPRIX',\n",
       "       'LONGBOARD', 'TAO', 'AMERICAN EAGLE', 'ROCQUER', 'LONDON LOOK',\n",
       "       'CACHE CACHE', 'NKY', 'MISS CAPTAIN', 'VOLCOM', 'BUTTER GOODS',\n",
       "       'AUCHAN', 'SALSA', 'ICEBERG', 'AZZARO', 'TUNSECHY', 'MAJE',\n",
       "       'MY LITTLE COZMO', 'PRIMARK', 'FIGA.SHOP', 'FIGASHOP MILANO',\n",
       "       'NEW GIRL ORDER', 'HERON PRESTON', 'DU PAREIL AU MÊME', 'SAW',\n",
       "       'MAISON KITSUNÉ', 'HUGO BOSS', 'MARVEL', 'TWIGGY',\n",
       "       'BOTTEGA VENETA', 'BLANCO', 'LIMA LIMON', 'S.OLIVER',\n",
       "       'KARL MARC JOHN', 'BABY CLUB', 'ROBERTO CAVALLI', 'CHROME HEARTS',\n",
       "       'UNDIZ', 'MARQUES ALMEIDA', 'NON SIGNÉ / UNSIGNED', 'SEE BY CHLOÉ',\n",
       "       'CHRISTOPHER KANE', 'IRO', 'DIANE VON FURSTENBERG',\n",
       "       'JONATHAN SAUNDERS', 'BONPOINT', 'WOWO', 'RICK OWENS LILIES',\n",
       "       'LILI GAUFRETTE', 'SONIA RYKIEL', 'MIU MIU', 'EMANUEL UNGARO',\n",
       "       'CLAUDIE PIERLOT', 'DKNY', 'STELLA MCCARTNEY KIDS', 'SOEUR',\n",
       "       'N°21', 'GERARD DAREL', 'CHLOÉ', 'VELVET', 'TARTINE ET CHOCOLAT',\n",
       "       'COMPTOIR DES COTONNIERS', 'ESCADA', 'PRINGLE OF SCOTLAND',\n",
       "       'PINKO', 'LANVIN', 'MARC BY MARC JACOBS', 'IMPS & ELFS',\n",
       "       'VANESSA BRUNO', 'CASABLANCA', 'UNDERCOVER', 'JOHN ELLIOT',\n",
       "       'DONNA KARAN', 'OTTOLINGER', 'RAF SIMONS',\n",
       "       'MAISON MARTIN MARGIELA', 'CALVIN KLEIN JEANS',\n",
       "       'JC DE CASTELBAJAC', 'MORGAN', 'QUICKSILVER', 'JUICY COUTURE',\n",
       "       'ALEXANDER MCQUEEN', 'RVCA', 'GCDS MINI', 'CHINATOWN MARKET',\n",
       "       'REVELATION WOMAN', 'CUSTO BARCELONA', 'ARMAND THIERY', 'MAYORAL',\n",
       "       'MET', 'ROUJE', 'RABENS SALONER', 'LOEWE', 'GANNI', 'ETRO',\n",
       "       'MARNI', 'PYREX', 'HELMUT LANG', 'APC', 'MARTINE ROSE',\n",
       "       'COMME DES GARCONS', 'NO COLLECTION', 'VICTORIA BECKHAM',\n",
       "       'PARAJUMPERS', 'SALVATORE FERRAGAMO', 'LIU.JO', 'JUNYA WATANABE',\n",
       "       'BRUNELLO CUCINELLI'], dtype=object)"
      ]
     },
     "execution_count": 9,
     "metadata": {},
     "output_type": "execute_result"
    }
   ],
   "source": [
    "df[df.cat == 'Undefined']['Marque'].unique()"
   ]
  },
  {
   "cell_type": "code",
   "execution_count": 10,
   "metadata": {},
   "outputs": [
    {
     "data": {
      "text/html": [
       "<div>\n",
       "<style scoped>\n",
       "    .dataframe tbody tr th:only-of-type {\n",
       "        vertical-align: middle;\n",
       "    }\n",
       "\n",
       "    .dataframe tbody tr th {\n",
       "        vertical-align: top;\n",
       "    }\n",
       "\n",
       "    .dataframe thead th {\n",
       "        text-align: right;\n",
       "    }\n",
       "</style>\n",
       "<table border=\"1\" class=\"dataframe\">\n",
       "  <thead>\n",
       "    <tr style=\"text-align: right;\">\n",
       "      <th></th>\n",
       "      <th>État</th>\n",
       "      <th>Marque</th>\n",
       "      <th>Date</th>\n",
       "      <th>nom</th>\n",
       "      <th>Prix</th>\n",
       "      <th>Description</th>\n",
       "      <th>keep</th>\n",
       "      <th>cat</th>\n",
       "    </tr>\n",
       "  </thead>\n",
       "  <tbody>\n",
       "    <tr>\n",
       "      <th>0</th>\n",
       "      <td>NEUF AVEC ÉTIQUETTE</td>\n",
       "      <td>VETEMENTS</td>\n",
       "      <td>2022-04-09</td>\n",
       "      <td>T-SHIRT VETEMENTS ÉDITION LIMITÉE</td>\n",
       "      <td>160.0</td>\n",
       "      <td>T-SHIRT NEUF AVEC ÉTIQUETTES \\nONESIZE CORRESP...</td>\n",
       "      <td>True</td>\n",
       "      <td>Undefined</td>\n",
       "    </tr>\n",
       "    <tr>\n",
       "      <th>1</th>\n",
       "      <td>NEUF AVEC ÉTIQUETTE</td>\n",
       "      <td>TWIGGY CREATIVE UNIVERSE</td>\n",
       "      <td>2022-04-09</td>\n",
       "      <td>T SHIRT TWIGGY CREATIVE UNIVERSE</td>\n",
       "      <td>25.0</td>\n",
       "      <td>T SHIRT 100% COTON NOIR DÉLAVÉ DE LA MARQUE FR...</td>\n",
       "      <td>True</td>\n",
       "      <td>Undefined</td>\n",
       "    </tr>\n",
       "    <tr>\n",
       "      <th>2</th>\n",
       "      <td>BON ÉTAT</td>\n",
       "      <td>ARC'TERYX</td>\n",
       "      <td>2022-04-09</td>\n",
       "      <td>PREFORMANCE T-SHIRT</td>\n",
       "      <td>15.0</td>\n",
       "      <td>100% KATOEN WEL GEDERAGEN ZIET ER NETJES UIT</td>\n",
       "      <td>True</td>\n",
       "      <td>Undefined</td>\n",
       "    </tr>\n",
       "    <tr>\n",
       "      <th>3</th>\n",
       "      <td>TRÈS BON ÉTAT</td>\n",
       "      <td>ZARA</td>\n",
       "      <td>2022-04-09</td>\n",
       "      <td>T-SHIRT ZARA</td>\n",
       "      <td>5.0</td>\n",
       "      <td>QUASI NEUF ( PORTÉ QUE QUELQUES FOIS )</td>\n",
       "      <td>True</td>\n",
       "      <td>FastFashion</td>\n",
       "    </tr>\n",
       "    <tr>\n",
       "      <th>4</th>\n",
       "      <td>TRÈS BON ÉTAT</td>\n",
       "      <td>ACNE STUDIOS</td>\n",
       "      <td>2022-04-09</td>\n",
       "      <td>ACNE STUDIOS NECK T SHIRT (XS)</td>\n",
       "      <td>70.0</td>\n",
       "      <td>VALT HEEL OVERSIZED (ALS EEN M/L NORMALE SHIRT...</td>\n",
       "      <td>True</td>\n",
       "      <td>Fashion</td>\n",
       "    </tr>\n",
       "    <tr>\n",
       "      <th>...</th>\n",
       "      <td>...</td>\n",
       "      <td>...</td>\n",
       "      <td>...</td>\n",
       "      <td>...</td>\n",
       "      <td>...</td>\n",
       "      <td>...</td>\n",
       "      <td>...</td>\n",
       "      <td>...</td>\n",
       "    </tr>\n",
       "    <tr>\n",
       "      <th>396</th>\n",
       "      <td>BON ÉTAT</td>\n",
       "      <td>BALENCIAGA</td>\n",
       "      <td>2022-03-17</td>\n",
       "      <td>NaN</td>\n",
       "      <td>70.0</td>\n",
       "      <td>T-SHIRT LONG IMPRIMÉ BLANC \\nTAILLE ET POIGNET...</td>\n",
       "      <td>True</td>\n",
       "      <td>UltraFashion</td>\n",
       "    </tr>\n",
       "    <tr>\n",
       "      <th>397</th>\n",
       "      <td>TRÈS BON ÉTAT</td>\n",
       "      <td>BURBERRY</td>\n",
       "      <td>2022-03-10</td>\n",
       "      <td>NaN</td>\n",
       "      <td>45.0</td>\n",
       "      <td>T SHIRT BURBERRY TAILLE XS EN TISSU STRETCH EN...</td>\n",
       "      <td>True</td>\n",
       "      <td>UltraFashion</td>\n",
       "    </tr>\n",
       "    <tr>\n",
       "      <th>398</th>\n",
       "      <td>TRÈS BON ÉTAT</td>\n",
       "      <td>GIVENCHY</td>\n",
       "      <td>2022-03-16</td>\n",
       "      <td>NaN</td>\n",
       "      <td>88.0</td>\n",
       "      <td>T-SHIRT. COUPE TRÈS DOUCE \\n EN EXCELLENT ÉTAT...</td>\n",
       "      <td>True</td>\n",
       "      <td>UltraFashion</td>\n",
       "    </tr>\n",
       "    <tr>\n",
       "      <th>399</th>\n",
       "      <td>NEUF AVEC ÉTIQUETTE</td>\n",
       "      <td>SUPREME X THE NORTH FACE</td>\n",
       "      <td>2022-04-04</td>\n",
       "      <td>NaN</td>\n",
       "      <td>80.0</td>\n",
       "      <td>T-SHIRT CROQUIS SUPREME X NORTH FACETRADUIRE</td>\n",
       "      <td>True</td>\n",
       "      <td>UltraFashion</td>\n",
       "    </tr>\n",
       "    <tr>\n",
       "      <th>400</th>\n",
       "      <td>NEUF SANS ÉTIQUETTE</td>\n",
       "      <td>BALENCIAGA</td>\n",
       "      <td>2022-04-08</td>\n",
       "      <td>NaN</td>\n",
       "      <td>380.0</td>\n",
       "      <td>T-SHIRT BOXY COUTURE BEIGETRADUIRE</td>\n",
       "      <td>True</td>\n",
       "      <td>UltraFashion</td>\n",
       "    </tr>\n",
       "  </tbody>\n",
       "</table>\n",
       "<p>802 rows × 8 columns</p>\n",
       "</div>"
      ],
      "text/plain": [
       "                    État                    Marque        Date  \\\n",
       "0    NEUF AVEC ÉTIQUETTE                 VETEMENTS  2022-04-09   \n",
       "1    NEUF AVEC ÉTIQUETTE  TWIGGY CREATIVE UNIVERSE  2022-04-09   \n",
       "2               BON ÉTAT                 ARC'TERYX  2022-04-09   \n",
       "3          TRÈS BON ÉTAT                      ZARA  2022-04-09   \n",
       "4          TRÈS BON ÉTAT              ACNE STUDIOS  2022-04-09   \n",
       "..                   ...                       ...         ...   \n",
       "396             BON ÉTAT                BALENCIAGA  2022-03-17   \n",
       "397        TRÈS BON ÉTAT                  BURBERRY  2022-03-10   \n",
       "398        TRÈS BON ÉTAT                  GIVENCHY  2022-03-16   \n",
       "399  NEUF AVEC ÉTIQUETTE  SUPREME X THE NORTH FACE  2022-04-04   \n",
       "400  NEUF SANS ÉTIQUETTE                BALENCIAGA  2022-04-08   \n",
       "\n",
       "                                   nom   Prix  \\\n",
       "0    T-SHIRT VETEMENTS ÉDITION LIMITÉE  160.0   \n",
       "1     T SHIRT TWIGGY CREATIVE UNIVERSE   25.0   \n",
       "2                  PREFORMANCE T-SHIRT   15.0   \n",
       "3                         T-SHIRT ZARA    5.0   \n",
       "4       ACNE STUDIOS NECK T SHIRT (XS)   70.0   \n",
       "..                                 ...    ...   \n",
       "396                                NaN   70.0   \n",
       "397                                NaN   45.0   \n",
       "398                                NaN   88.0   \n",
       "399                                NaN   80.0   \n",
       "400                                NaN  380.0   \n",
       "\n",
       "                                           Description  keep           cat  \n",
       "0    T-SHIRT NEUF AVEC ÉTIQUETTES \\nONESIZE CORRESP...  True     Undefined  \n",
       "1    T SHIRT 100% COTON NOIR DÉLAVÉ DE LA MARQUE FR...  True     Undefined  \n",
       "2         100% KATOEN WEL GEDERAGEN ZIET ER NETJES UIT  True     Undefined  \n",
       "3               QUASI NEUF ( PORTÉ QUE QUELQUES FOIS )  True   FastFashion  \n",
       "4    VALT HEEL OVERSIZED (ALS EEN M/L NORMALE SHIRT...  True       Fashion  \n",
       "..                                                 ...   ...           ...  \n",
       "396  T-SHIRT LONG IMPRIMÉ BLANC \\nTAILLE ET POIGNET...  True  UltraFashion  \n",
       "397  T SHIRT BURBERRY TAILLE XS EN TISSU STRETCH EN...  True  UltraFashion  \n",
       "398  T-SHIRT. COUPE TRÈS DOUCE \\n EN EXCELLENT ÉTAT...  True  UltraFashion  \n",
       "399       T-SHIRT CROQUIS SUPREME X NORTH FACETRADUIRE  True  UltraFashion  \n",
       "400                 T-SHIRT BOXY COUTURE BEIGETRADUIRE  True  UltraFashion  \n",
       "\n",
       "[802 rows x 8 columns]"
      ]
     },
     "execution_count": 10,
     "metadata": {},
     "output_type": "execute_result"
    }
   ],
   "source": [
    "df"
   ]
  },
  {
   "cell_type": "code",
   "execution_count": 11,
   "metadata": {},
   "outputs": [
    {
     "data": {
      "text/plain": [
       "60.0"
      ]
     },
     "execution_count": 11,
     "metadata": {},
     "output_type": "execute_result"
    }
   ],
   "source": [
    "df.Prix.quantile(2/3)"
   ]
  },
  {
   "cell_type": "code",
   "execution_count": 12,
   "metadata": {},
   "outputs": [
    {
     "data": {
      "text/plain": [
       "119.0"
      ]
     },
     "execution_count": 12,
     "metadata": {},
     "output_type": "execute_result"
    }
   ],
   "source": [
    "df.Prix.quantile(0.84)"
   ]
  },
  {
   "cell_type": "code",
   "execution_count": 13,
   "metadata": {},
   "outputs": [],
   "source": [
    "df.to_csv('src/data/treated/tshirts.csv')"
   ]
  },
  {
   "cell_type": "code",
   "execution_count": null,
   "metadata": {},
   "outputs": [],
   "source": []
  },
  {
   "cell_type": "code",
   "execution_count": null,
   "metadata": {},
   "outputs": [],
   "source": []
  }
 ],
 "metadata": {
  "interpreter": {
   "hash": "2ef5e293defde336e18effedfb280f0d11005b401f1b516e6e8aa19f195a036f"
  },
  "kernelspec": {
   "display_name": "Python 3.9.12 ('.scrapped-env': venv)",
   "language": "python",
   "name": "python3"
  },
  "language_info": {
   "codemirror_mode": {
    "name": "ipython",
    "version": 3
   },
   "file_extension": ".py",
   "mimetype": "text/x-python",
   "name": "python",
   "nbconvert_exporter": "python",
   "pygments_lexer": "ipython3",
   "version": "3.9.12"
  },
  "orig_nbformat": 4
 },
 "nbformat": 4,
 "nbformat_minor": 2
}

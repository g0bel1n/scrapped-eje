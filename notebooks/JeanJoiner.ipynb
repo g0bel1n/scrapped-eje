{
 "cells": [
  {
   "cell_type": "code",
   "execution_count": 2,
   "metadata": {},
   "outputs": [],
   "source": [
    "import pandas as pd\n",
    "import seaborn as sns\n",
    "import matplotlib.pyplot as plt\n",
    "import itertools\n",
    "import os\n",
    "from pathlib import Path\n",
    "\n",
    "\n",
    "import numpy as np\n",
    "\n",
    "if \"root\" not in locals():\n",
    "    current_path = Path(os.getcwd())\n",
    "    root = current_path.parent.absolute()\n",
    "os.chdir(root)\n",
    "\n",
    "from src.preprocessing import preprocessVesCoDf, preprocessVintedDf, dropWrongArticles\n",
    "sns.set_style('whitegrid')\n",
    "\n",
    "import matplotlib.pyplot as plt\n",
    "sns.set(rc={'figure.figsize':(10,5)})"
   ]
  },
  {
   "cell_type": "code",
   "execution_count": 3,
   "metadata": {},
   "outputs": [],
   "source": [
    "df_vinted = pd.read_csv('src/data/raw/vintedJean.csv').drop(['Unnamed: 0'], axis=1, inplace=False)\n",
    "df_vesco = pd.read_csv('src/data/raw/VestCoJean.csv').drop(['Unnamed: 0'], axis=1, inplace=False)"
   ]
  },
  {
   "cell_type": "code",
   "execution_count": 4,
   "metadata": {},
   "outputs": [],
   "source": [
    "df_vesco = preprocessVesCoDf(df_vesco)\n",
    "df_vinted = preprocessVintedDf(df_vinted)"
   ]
  },
  {
   "cell_type": "code",
   "execution_count": 5,
   "metadata": {},
   "outputs": [],
   "source": [
    "df_vinted = dropWrongArticles(['jean', 'Jean'], ['Description', 'nom'], df_vinted)\n",
    "df_vesco = dropWrongArticles(['jean', 'Jean'], ['Description'], df_vesco)"
   ]
  },
  {
   "cell_type": "code",
   "execution_count": 14,
   "metadata": {},
   "outputs": [],
   "source": [
    "df = pd.concat([df_vinted , df_vesco])"
   ]
  },
  {
   "cell_type": "code",
   "execution_count": 7,
   "metadata": {},
   "outputs": [],
   "source": [
    "df.to_csv('src/data/treated/jeans.csv')"
   ]
  },
  {
   "cell_type": "code",
   "execution_count": 22,
   "metadata": {},
   "outputs": [
    {
     "data": {
      "text/plain": [
       "array(['BURBERRY', 'FEAR OF GOD ESSENTIALS', 'Y/PROJECT', 'AMIRI', 'R13',\n",
       "       'LOEWE', 'DSQUARED2', 'TRUE RELIGION ', 'DOLCE & GABBANA',\n",
       "       'DIOR HOMME', 'ISABEL MARANT', 'PHILIPP PLEIN', 'GUCCI',\n",
       "       'ISABEL MARANT ETOILE', 'TOTÊME', 'VERSACE', 'JACOB COHEN',\n",
       "       'ÉTUDES STUDIO', 'CURRENT ELLIOTT', 'JADED LONDON', 'STAUD',\n",
       "       'LACOSTE ', \"LEVI'S \", '& OTHER STORIES ', 'STELLA MCCARTNEY',\n",
       "       'PRADA', 'ELISABETTA FRANCHI', \"LEVI'S\", 'DIESEL ', 'JUST CAVALLI',\n",
       "       'FIORUCCI', 'PEPE JEANS ', 'FREEMAN T. PORTER ', 'SALSA ', 'D&G',\n",
       "       'DIESEL', 'LEE ', 'ZEHOOD ', 'LA PETITE FRANCAISE ', 'FRACOMINA',\n",
       "       'NON SIGNÉ / UNSIGNED', 'MISE AU GREEN', '7 FOR ALL MANKIND',\n",
       "       'BERSHKA ', 'KAPORAL ', 'LEE', 'LIU.JO', 'ZARA', 'MANGO ',\n",
       "       'SUPERDRY ', 'GUESS', 'MORGAN', 'MIH JEANS', nan,\n",
       "       'PRETTYLITTLETHING ', 'PLEASE', 'ZARA ', 'PATRIZIA PEPE',\n",
       "       'STRADIVARIUS ', 'UNIQLO', 'MANGO', 'VINTAGE ', 'PULL & BEAR',\n",
       "       'MONKI ', 'ZELYS PARIS ', 'ÉTÉ ROSE ', 'GOLD SK ', 'JEWELLY ',\n",
       "       'BLANCHEPORTE ', 'X-MAX ', 'KIABI ', 'SHEIN ', 'LTB ',\n",
       "       'WALK AND TALK ', 'RICA LEWIS ', 'BOUTIQUE INDÉPENDANTE ',\n",
       "       'NINA CARTER ', 'MONDAY DENIM ', 'PULL & BEAR ', 'PROMOD ',\n",
       "       'NAF NAF ', 'OKAÏDI ', 'GAPKIDS ', 'MORGAN ', 'POCOPIANO '],\n",
       "      dtype=object)"
      ]
     },
     "execution_count": 22,
     "metadata": {},
     "output_type": "execute_result"
    }
   ],
   "source": [
    "df.sort_values(by= 'Prix', ascending=False).Marque.unique()"
   ]
  },
  {
   "cell_type": "code",
   "execution_count": null,
   "metadata": {},
   "outputs": [],
   "source": []
  }
 ],
 "metadata": {
  "interpreter": {
   "hash": "2ef5e293defde336e18effedfb280f0d11005b401f1b516e6e8aa19f195a036f"
  },
  "kernelspec": {
   "display_name": "Python 3.9.12 ('.scrapped-env': venv)",
   "language": "python",
   "name": "python3"
  },
  "language_info": {
   "codemirror_mode": {
    "name": "ipython",
    "version": 3
   },
   "file_extension": ".py",
   "mimetype": "text/x-python",
   "name": "python",
   "nbconvert_exporter": "python",
   "pygments_lexer": "ipython3",
   "version": "3.9.12"
  },
  "orig_nbformat": 4
 },
 "nbformat": 4,
 "nbformat_minor": 2
}
